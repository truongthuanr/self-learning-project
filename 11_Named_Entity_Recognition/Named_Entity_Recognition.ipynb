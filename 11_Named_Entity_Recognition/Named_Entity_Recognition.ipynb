{
  "nbformat": 4,
  "nbformat_minor": 0,
  "metadata": {
    "colab": {
      "provenance": [],
      "gpuType": "T4",
      "authorship_tag": "ABX9TyNj3cwhCGswAnkqg0d5d1bD",
      "include_colab_link": true
    },
    "kernelspec": {
      "name": "python3",
      "display_name": "Python 3"
    },
    "language_info": {
      "name": "python"
    },
    "accelerator": "GPU"
  },
  "cells": [
    {
      "cell_type": "markdown",
      "metadata": {
        "id": "view-in-github",
        "colab_type": "text"
      },
      "source": [
        "<a href=\"https://colab.research.google.com/github/truongthuanr/self-project/blob/dev/11_Named_Entity_Recognition/Named_Entity_Recognition.ipynb\" target=\"_parent\"><img src=\"https://colab.research.google.com/assets/colab-badge.svg\" alt=\"Open In Colab\"/></a>"
      ]
    },
    {
      "cell_type": "markdown",
      "source": [
        "# Initialize notebook"
      ],
      "metadata": {
        "id": "Bzny5QBaqxEV"
      }
    },
    {
      "cell_type": "code",
      "execution_count": 1,
      "metadata": {
        "id": "GQ4EHIZSuKoy"
      },
      "outputs": [],
      "source": [
        "%%capture\n",
        "!pip3 install datasets"
      ]
    },
    {
      "cell_type": "code",
      "source": [
        "import numpy as np\n",
        "import pandas as pd\n",
        "import matplotlib.pyplot as plt\n",
        "import tensorflow as tf\n",
        "from keras.preprocessing.sequence import pad_sequences\n",
        "from datasets import load_dataset\n",
        "import os"
      ],
      "metadata": {
        "id": "77nCH9814O5t"
      },
      "execution_count": 2,
      "outputs": []
    },
    {
      "cell_type": "code",
      "source": [
        "from keras.models import Model,load_model\n",
        "from keras.layers import Input,Embedding,TimeDistributed,\\\n",
        "                         Dropout,Conv1D,MaxPooling1D,\\\n",
        "                         Flatten,Bidirectional,LSTM,Dense,\\\n",
        "                         concatenate\n",
        "\n",
        "from keras.initializers import RandomUniform\n",
        "\n",
        "from keras.optimizers import Adam"
      ],
      "metadata": {
        "id": "RiTU7d_YHfc9"
      },
      "execution_count": 3,
      "outputs": []
    },
    {
      "cell_type": "code",
      "source": [
        "# Configuration parameters\n",
        "max_word_tokens = 24000\n",
        "max_sentence_length = 50\n",
        "max_word_len = 20"
      ],
      "metadata": {
        "id": "xjhrsmahYN2x"
      },
      "execution_count": 4,
      "outputs": []
    },
    {
      "cell_type": "markdown",
      "source": [
        "# Dataset"
      ],
      "metadata": {
        "id": "sxvsybnTHfi4"
      }
    },
    {
      "cell_type": "markdown",
      "source": [
        "Used dataset:\n",
        "\n",
        "https://huggingface.co/datasets/conll2003"
      ],
      "metadata": {
        "id": "jV1nsHAAHo_L"
      }
    },
    {
      "cell_type": "code",
      "source": [
        "%%capture\n",
        "conll_data = load_dataset(\"conll2003\")"
      ],
      "metadata": {
        "id": "MSK4n-lEHfsw"
      },
      "execution_count": 5,
      "outputs": []
    },
    {
      "cell_type": "markdown",
      "source": [
        "**TOKENS**\n",
        "\n",
        "List of sentences, each sentence is list of words.\n",
        "\n",
        "Example:\n",
        "```\n",
        "conll_data['train']['tokens'][0]\n",
        "['EU', 'rejects', 'German', 'call', 'to', 'boycott', 'British', 'lamb', '.']\n",
        "```"
      ],
      "metadata": {
        "id": "COyMbAq6hbJh"
      }
    },
    {
      "cell_type": "markdown",
      "source": [
        "**NER TAG**\n",
        "\n",
        "```\n",
        "'O': 0,\n",
        "'B-PER': 1,\n",
        "'I-PER': 2,\n",
        "'B-ORG': 3,\n",
        "'I-ORG': 4,\n",
        "'B-LOC': 5,\n",
        "'I-LOC': 6,\n",
        "'B-MISC': 7,\n",
        "'I-MISC': 8\n",
        "```\n",
        "\n",
        "\n",
        "\n",
        "\n",
        "\n"
      ],
      "metadata": {
        "id": "G027VoSTrHND"
      }
    },
    {
      "cell_type": "markdown",
      "source": [
        "# Data preprocessing\n"
      ],
      "metadata": {
        "id": "XGNsJro-pu9E"
      }
    },
    {
      "cell_type": "markdown",
      "source": [
        "## Character processing"
      ],
      "metadata": {
        "id": "Nz0msAOcCEzr"
      }
    },
    {
      "cell_type": "markdown",
      "source": [
        "Embedding with character level:\n",
        "\n",
        "If len of word < `max_work_len`: pading with `PADDING`\n",
        "\n",
        "If len of word > `max_work_len`: truncating post characters\n",
        "\n",
        "And do the vectorization.\n",
        "\n",
        "![](https://github.com/truongthuanr/self-project/raw/main/11_Named_Entity_Recognition/2.png)\n"
      ],
      "metadata": {
        "id": "Jkrns2F3fo1R"
      }
    },
    {
      "cell_type": "code",
      "source": [
        "char2Idx = {\"PADDING\":0, \"UNKNOWN\":1}\n",
        "for c in \" 0123456789abcdefghijklmnopqrstuvwxyzABCDEFGHIJKLMNOPQRSTUVWXYZ.,-_()[]{}!?:;#'\\\"/\\\\%$`&=*+@^~|\":\n",
        "    char2Idx[c] = len(char2Idx)\n",
        "len(char2Idx)"
      ],
      "metadata": {
        "id": "NgJ97l1FCKxt",
        "outputId": "5af861f4-5b40-425e-c87d-26d44a2ba2b5",
        "colab": {
          "base_uri": "https://localhost:8080/"
        }
      },
      "execution_count": 6,
      "outputs": [
        {
          "output_type": "execute_result",
          "data": {
            "text/plain": [
              "95"
            ]
          },
          "metadata": {},
          "execution_count": 6
        }
      ]
    },
    {
      "cell_type": "code",
      "source": [
        "def character_vectorize(X):\n",
        "  data_vec = []\n",
        "  for sentence in X:\n",
        "    # print(f\"Sentence: {sentence}\")\n",
        "    padchar = char2Idx['PADDING']\n",
        "    sentence_vec=[]\n",
        "    for word in sentence:\n",
        "      # print(word)\n",
        "      chars = []\n",
        "      if len(word) >= max_word_len:\n",
        "\n",
        "        chars=[char2Idx[c] for c in word[:max_word_len]]\n",
        "      else:\n",
        "        prepad=int((max_word_len-len(word))/2)\n",
        "        postpad=max_word_len-(len(word)+prepad)\n",
        "        chars.extend([padchar]*prepad)\n",
        "        chars.extend([char2Idx[c] for c in word])\n",
        "        chars.extend([padchar]*postpad)\n",
        "      sentence_vec.append(chars)\n",
        "\n",
        "    data_vec.append(sentence_vec)\n",
        "  data_vec = np.asarray(data_vec, dtype=object)\n",
        "  return data_vec\n",
        "\n",
        "\n",
        "\n",
        "def char_preprocessing(char_input):\n",
        "  '''\n",
        "  input:: char_input: list of words\n",
        "  output: vecterized array of character\n",
        "  with shape(sentences, max_sentence_len, max_word_len)\n",
        "  '''\n",
        "  X_chars = character_vectorize(char_input)\n",
        "  X_chars = pad_sequences(sequences = X_chars,\n",
        "                          maxlen=max_sentence_length,\n",
        "                          dtype=object,\n",
        "                          padding=\"post\",\n",
        "                          truncating=\"post\",\n",
        "                          value=0)\n",
        "\n",
        "  X_chars = np.asarray(X_chars,\n",
        "                       dtype=np.float32)\n",
        "\n",
        "  return X_chars"
      ],
      "metadata": {
        "id": "cAxOgd3o_Qev"
      },
      "execution_count": 28,
      "outputs": []
    },
    {
      "cell_type": "code",
      "source": [
        "\n",
        "X_train_char = char_preprocessing(conll_data['train']['tokens'])\n",
        "\n",
        "X_test_char = char_preprocessing(conll_data['test']['tokens'])\n",
        "X_val_char = char_preprocessing(conll_data['validation']['tokens'])"
      ],
      "metadata": {
        "id": "xBniP-LcEiPy"
      },
      "execution_count": 29,
      "outputs": []
    },
    {
      "cell_type": "markdown",
      "source": [
        "## Word preprocessing"
      ],
      "metadata": {
        "id": "kQ4au8k9_Qoh"
      }
    },
    {
      "cell_type": "markdown",
      "source": [
        "For each sentences, turn list of work to a full sentence.\n",
        "\n",
        "Example:\n",
        "```\n",
        "['EU', 'rejects', 'German', 'call', 'to', 'boycott', 'British', 'lamb', '.']\n",
        "```\n",
        "**to**\n",
        "```\n",
        "EU rejects German call to boycott British lamb .\n",
        "```"
      ],
      "metadata": {
        "id": "M4d5l9briQau"
      }
    },
    {
      "cell_type": "code",
      "source": [
        "def word_preprocessing(word_input):\n",
        "  return np.array([ \" \".join(row) for row in word_input])"
      ],
      "metadata": {
        "id": "koLZZUqEpuuW"
      },
      "execution_count": 30,
      "outputs": []
    },
    {
      "cell_type": "code",
      "source": [
        "X_train_word = word_preprocessing(conll_data['train']['tokens'])\n",
        "X_test_word = word_preprocessing(conll_data['test']['tokens'])\n",
        "X_val_word = word_preprocessing(conll_data['validation']['tokens'])"
      ],
      "metadata": {
        "id": "QTCyXGFpnxsz"
      },
      "execution_count": 31,
      "outputs": []
    },
    {
      "cell_type": "markdown",
      "source": [
        "## Caps preprocessing"
      ],
      "metadata": {
        "id": "lk_PdEUZnyA7"
      }
    },
    {
      "cell_type": "markdown",
      "source": [
        "For each words, extract case feature with 5 category:\n",
        "\n",
        "* `allcaps`\n",
        "* `upperinitial`\n",
        "* `lower`\n",
        "* `mixedcaps`\n",
        "* `noinfo`\n",
        "\n",
        "And convert to numeric array. padding with `noinfo` to `max_sentence length`\n",
        "\n",
        "Example:\n",
        "```\n",
        "['EU', 'rejects', 'German', 'call', 'to', 'boycott', 'British', 'lamb', '.']\n",
        "```\n",
        "```\n",
        "array([[1., 0., 0., 0., 0.],\n",
        "       [0., 0., 1., 0., 0.],\n",
        "       [0., 1., 0., 0., 0.],\n",
        "       [0., 0., 1., 0., 0.],\n",
        "       [0., 0., 1., 0., 0.],\n",
        "       [0., 0., 1., 0., 0.],\n",
        "       [0., 1., 0., 0., 0.],\n",
        "       [0., 0., 1., 0., 0.],\n",
        "       [0., 0., 0., 0., 1.],\n",
        "       [0., 0., 0., 0., 1.],\n",
        "       ...\n",
        "       [0., 0., 0., 0., 1.]]\n",
        "```"
      ],
      "metadata": {
        "id": "iFMIXS3ei6N6"
      }
    },
    {
      "cell_type": "code",
      "source": [
        "case2id = {'allcaps':0,\n",
        "           'upperinitial':1,\n",
        "           'lower':2,\n",
        "           'mixedcaps':3,\n",
        "           'noinfo':4}\n",
        "id2case = {v:k for k,v in case2id.items()}"
      ],
      "metadata": {
        "id": "oq2Pb2FeoA5n"
      },
      "execution_count": 32,
      "outputs": []
    },
    {
      "cell_type": "code",
      "source": [
        "def case_vectorize(input):\n",
        "  '''\n",
        "  input: array of sentences, sentencs is list of word\n",
        "  '''\n",
        "  case_vec = []\n",
        "\n",
        "  for sentence in input:\n",
        "    sen_case_type = []\n",
        "    for word in sentence:\n",
        "      temp = [0]*len(case2id)\n",
        "      # if word is Title\n",
        "      if word.istitle():\n",
        "        temp[case2id['upperinitial']] =1\n",
        "        sen_case_type.append(temp)\n",
        "\n",
        "      # if uper, lower, mixed or else\n",
        "      else:\n",
        "        if word.isupper():\n",
        "          temp[case2id['allcaps']] = 1\n",
        "          sen_case_type.append(temp)\n",
        "        elif word.islower():\n",
        "          temp[case2id['lower']]=1\n",
        "          sen_case_type.append(temp)\n",
        "        else:\n",
        "          if word.lower().islower():\n",
        "            temp[case2id['mixedcaps']]=1\n",
        "            sen_case_type.append(temp)\n",
        "          else:\n",
        "            temp[case2id['noinfo']]=1\n",
        "            sen_case_type.append(temp)\n",
        "\n",
        "\n",
        "    case_vec.append(sen_case_type)\n",
        "  return case_vec\n",
        "\n"
      ],
      "metadata": {
        "id": "aWAwHBD4ovVm"
      },
      "execution_count": 33,
      "outputs": []
    },
    {
      "cell_type": "code",
      "source": [
        "def case_preprocesing(X_input):\n",
        "  paddingnoinfo = [0,0,0,0,1]\n",
        "  X_case = case_vectorize(X_input)\n",
        "\n",
        "  X_case = pad_sequences(sequences = X_case,\n",
        "                        maxlen=max_sentence_length,\n",
        "                        dtype=object,\n",
        "                        padding=\"post\",\n",
        "                        truncating=\"post\",\n",
        "                        value=paddingnoinfo)\n",
        "\n",
        "  X_case = np.asarray(X_case,\n",
        "                      dtype=np.float32)\n",
        "\n",
        "  return X_case\n"
      ],
      "metadata": {
        "id": "vyW4fm5bnyJd"
      },
      "execution_count": 34,
      "outputs": []
    },
    {
      "cell_type": "code",
      "source": [
        "\n",
        "X_train_case = case_preprocesing(conll_data['train']['tokens'])\n",
        "X_test_case = case_preprocesing(conll_data['test']['tokens'])\n",
        "X_val_case = case_preprocesing(conll_data['validation']['tokens'])"
      ],
      "metadata": {
        "id": "vrTUp4X0Hpp2"
      },
      "execution_count": 35,
      "outputs": []
    },
    {
      "cell_type": "markdown",
      "source": [
        "## Targer preprocessing"
      ],
      "metadata": {
        "id": "0RCk62pk5XNF"
      }
    },
    {
      "cell_type": "markdown",
      "source": [
        "Convert NER TAG to numeric array."
      ],
      "metadata": {
        "id": "IbfWfO8klk-r"
      }
    },
    {
      "cell_type": "code",
      "source": [
        "label2id = {'O': 0, 'B-PER': 1, 'I-PER': 2, 'B-ORG': 3, 'I-ORG': 4, 'B-LOC': 5, 'I-LOC': 6, 'B-MISC': 7, 'I-MISC': 8}\n",
        "id2label = {v: k for k, v in label2id.items()}\n"
      ],
      "metadata": {
        "id": "Tj3bYTnK5cmF"
      },
      "execution_count": 36,
      "outputs": []
    },
    {
      "cell_type": "code",
      "source": [
        "y_train = pad_sequences(conll_data['train']['ner_tags'],\n",
        "                        dtype='int32',\n",
        "                        maxlen=max_sentence_length,\n",
        "                        padding='post',\n",
        "                        truncating='post',\n",
        "                        value=0,)\n",
        "\n",
        "def encoding_ytrain(y_input):\n",
        "\n",
        "  y_train = pad_sequences(y_input,\n",
        "                        dtype='int32',\n",
        "                        maxlen=max_sentence_length,\n",
        "                        padding='post',\n",
        "                        truncating='post',\n",
        "                        value=0,)\n",
        "  n=len(label2id)\n",
        "  nrow=len(y_train)\n",
        "  encoded = np.zeros(shape=(nrow,max_sentence_length,n))\n",
        "  for iy, y in enumerate(y_train):\n",
        "    senvec = np.zeros(shape=(max_sentence_length,n))\n",
        "    for ichar, char in enumerate(y):\n",
        "      charvec = np.zeros(n)\n",
        "      charvec[char] = 1\n",
        "      # print(f\"{char=}\")\n",
        "      # print(f\"{charvec=}\")\n",
        "      senvec[ichar]=charvec\n",
        "\n",
        "    encoded[iy] = senvec\n",
        "  return encoded\n",
        "\n",
        "\n"
      ],
      "metadata": {
        "id": "RS_SAOoHvOlO"
      },
      "execution_count": 37,
      "outputs": []
    },
    {
      "cell_type": "code",
      "source": [
        "y_train = encoding_ytrain(conll_data['train']['ner_tags'])\n",
        "y_test = encoding_ytrain(conll_data['test']['ner_tags'])\n",
        "y_val = encoding_ytrain(conll_data['validation']['ner_tags'])"
      ],
      "metadata": {
        "id": "1f_tX1VJr8pH"
      },
      "execution_count": 38,
      "outputs": []
    },
    {
      "cell_type": "markdown",
      "source": [
        "# Model"
      ],
      "metadata": {
        "id": "d0235Xcz4fcZ"
      }
    },
    {
      "cell_type": "markdown",
      "source": [
        "Model is created as follow:\n",
        "![](https://github.com/truongthuanr/self-project/raw/main/11_Named_Entity_Recognition/3.png)\n",
        "\n"
      ],
      "metadata": {
        "id": "BAHl9beefWh5"
      }
    },
    {
      "cell_type": "code",
      "source": [
        "from keras.layers import TextVectorization"
      ],
      "metadata": {
        "id": "fD4Ep_Vzigl2"
      },
      "execution_count": 39,
      "outputs": []
    },
    {
      "cell_type": "code",
      "source": [
        "text_vectorizer = TextVectorization(max_tokens=max_word_tokens,   # how many word in the vocab lib\n",
        "                                    standardize='lower_and_strip_punctuation', # process the tab\n",
        "                                    split='whitespace', # split the token\n",
        "                                    ngrams=None,\n",
        "                                    output_mode='int', # map token to number\n",
        "                                    output_sequence_length=max_sentence_length,\n",
        "                                    pad_to_max_tokens=False,\n",
        "                                    vocabulary=None,)\n",
        "text_vectorizer.adapt(np.array([ \" \".join(row) for row in conll_data['train']['tokens']]))"
      ],
      "metadata": {
        "id": "zhWd1_g8Cx4I"
      },
      "execution_count": 40,
      "outputs": []
    },
    {
      "cell_type": "code",
      "source": [
        "# Word level\n",
        "word_input = Input(shape=(1,),dtype=tf.string,name='word_input')\n",
        "# Tokenize\n",
        "\n",
        "words_vectorize = text_vectorizer(word_input)\n",
        "\n",
        "# Embedding\n",
        "embedding = Embedding(input_dim=max_word_tokens,\n",
        "                      output_dim=128,\n",
        "                      embeddings_initializer=\"uniform\",\n",
        "                      input_length=None)\n",
        "words = embedding(words_vectorize)\n"
      ],
      "metadata": {
        "id": "HQQ5xyyOoIcP"
      },
      "execution_count": 41,
      "outputs": []
    },
    {
      "cell_type": "code",
      "source": [
        "# Character level\n",
        "character_input=Input(shape=(None,max_word_len,),\n",
        "                      name='char_input',\n",
        "                      dtype=tf.int32)\n",
        "embed_char_out=TimeDistributed(Embedding(input_dim = len(char2Idx),\n",
        "                                         output_dim=10,\n",
        "                                         embeddings_initializer=RandomUniform(minval=-0.5, maxval=0.5),\n",
        "                                         input_length=max_sentence_length,),\n",
        "                                         name='char_embedding')(character_input)\n",
        "dropout = Dropout(0.5)(embed_char_out)\n",
        "conv1d_out= TimeDistributed(Conv1D(kernel_size=3,\n",
        "                                   filters=10,\n",
        "                                   padding='same',activation='tanh', strides=1))(dropout)\n",
        "maxpool_out=TimeDistributed(MaxPooling1D(max_word_len))(conv1d_out)\n",
        "char = TimeDistributed(Flatten())(maxpool_out)\n",
        "char = Dropout(0.5)(char)"
      ],
      "metadata": {
        "id": "tyRcA1GgCZD7"
      },
      "execution_count": 42,
      "outputs": []
    },
    {
      "cell_type": "code",
      "source": [
        "## Caps feature\n",
        "casing_input = Input(shape=(max_sentence_length,), dtype='int32', name='casing_input')\n",
        "casing_embed = Embedding(input_dim=len(case2id),\n",
        "                        output_dim=len(case2id),\n",
        "                        input_length=max_sentence_length,\n",
        "                        trainable=False)\n",
        "\n",
        "casing = casing_embed(casing_input)"
      ],
      "metadata": {
        "id": "iOBLEbzQHhIK"
      },
      "execution_count": 43,
      "outputs": []
    },
    {
      "cell_type": "code",
      "source": [
        "combined = concatenate([words, char, casing])\n",
        "# combined = words\n",
        "# Bi-LSTM\n",
        "output = Bidirectional(LSTM(200, return_sequences=True, dropout=0.50, recurrent_dropout=0.25))(combined)\n",
        "\n",
        "# # Output -> Tag Scoring -> Tag\n",
        "output = TimeDistributed(Dense(len(label2id), activation='softmax'))(output)\n",
        "model = Model(inputs=[word_input, character_input, casing], outputs=[output])\n"
      ],
      "metadata": {
        "id": "ADNF46AJCc2W",
        "colab": {
          "base_uri": "https://localhost:8080/"
        },
        "outputId": "7a06c271-a473-40e5-ea83-4e8ca89510f7"
      },
      "execution_count": 44,
      "outputs": [
        {
          "output_type": "stream",
          "name": "stderr",
          "text": [
            "WARNING:tensorflow:Layer lstm_1 will not use cuDNN kernels since it doesn't meet the criteria. It will use a generic GPU kernel as fallback when running on GPU.\n",
            "WARNING:tensorflow:Layer lstm_1 will not use cuDNN kernels since it doesn't meet the criteria. It will use a generic GPU kernel as fallback when running on GPU.\n",
            "WARNING:tensorflow:Layer lstm_1 will not use cuDNN kernels since it doesn't meet the criteria. It will use a generic GPU kernel as fallback when running on GPU.\n"
          ]
        }
      ]
    },
    {
      "cell_type": "code",
      "source": [
        "model.compile(loss=\"binary_crossentropy\",\n",
        "              optimizer=Adam(),\n",
        "              metrics=[\"accuracy\"])"
      ],
      "metadata": {
        "id": "sEyUbsyIqdUR"
      },
      "execution_count": 45,
      "outputs": []
    },
    {
      "cell_type": "code",
      "source": [
        "model.summary()"
      ],
      "metadata": {
        "id": "dAbBlYVmrJHr",
        "outputId": "af15d18d-d93d-4c91-8cd8-b0b47dc295b8",
        "colab": {
          "base_uri": "https://localhost:8080/"
        }
      },
      "execution_count": 46,
      "outputs": [
        {
          "output_type": "stream",
          "name": "stdout",
          "text": [
            "Model: \"model_1\"\n",
            "__________________________________________________________________________________________________\n",
            " Layer (type)                Output Shape                 Param #   Connected to                  \n",
            "==================================================================================================\n",
            " char_input (InputLayer)     [(None, None, 20)]           0         []                            \n",
            "                                                                                                  \n",
            " char_embedding (TimeDistri  (None, None, 20, 10)         950       ['char_input[0][0]']          \n",
            " buted)                                                                                           \n",
            "                                                                                                  \n",
            " dropout_2 (Dropout)         (None, None, 20, 10)         0         ['char_embedding[1][0]']      \n",
            "                                                                                                  \n",
            " time_distributed_4 (TimeDi  (None, None, 20, 10)         310       ['dropout_2[1][0]']           \n",
            " stributed)                                                                                       \n",
            "                                                                                                  \n",
            " word_input (InputLayer)     [(None, 1)]                  0         []                            \n",
            "                                                                                                  \n",
            " time_distributed_5 (TimeDi  (None, None, 1, 10)          0         ['time_distributed_4[1][0]']  \n",
            " stributed)                                                                                       \n",
            "                                                                                                  \n",
            " text_vectorization_1 (Text  (None, 50)                   0         ['word_input[0][0]']          \n",
            " Vectorization)                                                                                   \n",
            "                                                                                                  \n",
            " time_distributed_6 (TimeDi  (None, None, 10)             0         ['time_distributed_5[1][0]']  \n",
            " stributed)                                                                                       \n",
            "                                                                                                  \n",
            " embedding_3 (Embedding)     (None, 50, 128)              3072000   ['text_vectorization_1[1][0]']\n",
            "                                                                                                  \n",
            " dropout_3 (Dropout)         (None, None, 10)             0         ['time_distributed_6[1][0]']  \n",
            "                                                                                                  \n",
            " input_2 (InputLayer)        [(None, 50, 5)]              0         []                            \n",
            "                                                                                                  \n",
            " concatenate_1 (Concatenate  (None, 50, 143)              0         ['embedding_3[1][0]',         \n",
            " )                                                                   'dropout_3[1][0]',           \n",
            "                                                                     'input_2[0][0]']             \n",
            "                                                                                                  \n",
            " bidirectional_1 (Bidirecti  (None, 50, 400)              550400    ['concatenate_1[1][0]']       \n",
            " onal)                                                                                            \n",
            "                                                                                                  \n",
            " time_distributed_7 (TimeDi  (None, 50, 9)                3609      ['bidirectional_1[1][0]']     \n",
            " stributed)                                                                                       \n",
            "                                                                                                  \n",
            "==================================================================================================\n",
            "Total params: 3627269 (13.84 MB)\n",
            "Trainable params: 3627269 (13.84 MB)\n",
            "Non-trainable params: 0 (0.00 Byte)\n",
            "__________________________________________________________________________________________________\n"
          ]
        }
      ]
    },
    {
      "cell_type": "code",
      "source": [
        "history = model.fit([X_train_word,X_train_char, X_train_case],\n",
        "                    y_train,\n",
        "                    epochs=100,\n",
        "                    batch_size=64,\n",
        "                    validation_data=([X_val_word,X_val_char,X_val_case], y_val))"
      ],
      "metadata": {
        "id": "iaXHRDfQHOi0",
        "colab": {
          "base_uri": "https://localhost:8080/"
        },
        "outputId": "73679a02-740a-44f1-b170-07dae78f9194"
      },
      "execution_count": 47,
      "outputs": [
        {
          "output_type": "stream",
          "name": "stdout",
          "text": [
            "Epoch 1/100\n",
            "220/220 [==============================] - 104s 392ms/step - loss: 0.0372 - accuracy: 0.9487 - val_loss: 0.0226 - val_accuracy: 0.9543\n",
            "Epoch 2/100\n",
            "220/220 [==============================] - 80s 362ms/step - loss: 0.0187 - accuracy: 0.9643 - val_loss: 0.0153 - val_accuracy: 0.9735\n",
            "Epoch 3/100\n",
            "220/220 [==============================] - 74s 338ms/step - loss: 0.0119 - accuracy: 0.9798 - val_loss: 0.0100 - val_accuracy: 0.9845\n",
            "Epoch 4/100\n",
            "220/220 [==============================] - 76s 346ms/step - loss: 0.0074 - accuracy: 0.9884 - val_loss: 0.0084 - val_accuracy: 0.9873\n",
            "Epoch 5/100\n",
            "220/220 [==============================] - 76s 345ms/step - loss: 0.0052 - accuracy: 0.9921 - val_loss: 0.0078 - val_accuracy: 0.9884\n",
            "Epoch 6/100\n",
            "220/220 [==============================] - 75s 341ms/step - loss: 0.0039 - accuracy: 0.9941 - val_loss: 0.0078 - val_accuracy: 0.9886\n",
            "Epoch 7/100\n",
            "220/220 [==============================] - 73s 330ms/step - loss: 0.0031 - accuracy: 0.9954 - val_loss: 0.0079 - val_accuracy: 0.9889\n",
            "Epoch 8/100\n",
            "220/220 [==============================] - 74s 335ms/step - loss: 0.0026 - accuracy: 0.9961 - val_loss: 0.0078 - val_accuracy: 0.9894\n",
            "Epoch 9/100\n",
            "220/220 [==============================] - 74s 334ms/step - loss: 0.0022 - accuracy: 0.9968 - val_loss: 0.0079 - val_accuracy: 0.9896\n",
            "Epoch 10/100\n",
            "220/220 [==============================] - 73s 331ms/step - loss: 0.0019 - accuracy: 0.9972 - val_loss: 0.0080 - val_accuracy: 0.9895\n",
            "Epoch 11/100\n",
            "220/220 [==============================] - 73s 334ms/step - loss: 0.0016 - accuracy: 0.9976 - val_loss: 0.0082 - val_accuracy: 0.9898\n",
            "Epoch 12/100\n",
            "220/220 [==============================] - 73s 332ms/step - loss: 0.0014 - accuracy: 0.9980 - val_loss: 0.0084 - val_accuracy: 0.9896\n",
            "Epoch 13/100\n",
            "220/220 [==============================] - 73s 332ms/step - loss: 0.0012 - accuracy: 0.9982 - val_loss: 0.0087 - val_accuracy: 0.9890\n",
            "Epoch 14/100\n",
            "220/220 [==============================] - 74s 336ms/step - loss: 0.0011 - accuracy: 0.9984 - val_loss: 0.0088 - val_accuracy: 0.9892\n",
            "Epoch 15/100\n",
            "220/220 [==============================] - 74s 336ms/step - loss: 9.6515e-04 - accuracy: 0.9986 - val_loss: 0.0090 - val_accuracy: 0.9893\n",
            "Epoch 16/100\n",
            "220/220 [==============================] - 72s 327ms/step - loss: 8.6848e-04 - accuracy: 0.9987 - val_loss: 0.0091 - val_accuracy: 0.9895\n",
            "Epoch 17/100\n",
            "220/220 [==============================] - 72s 327ms/step - loss: 7.6264e-04 - accuracy: 0.9989 - val_loss: 0.0098 - val_accuracy: 0.9892\n",
            "Epoch 18/100\n",
            "220/220 [==============================] - 72s 327ms/step - loss: 6.9241e-04 - accuracy: 0.9990 - val_loss: 0.0090 - val_accuracy: 0.9895\n",
            "Epoch 19/100\n",
            "220/220 [==============================] - 72s 328ms/step - loss: 6.2596e-04 - accuracy: 0.9991 - val_loss: 0.0096 - val_accuracy: 0.9895\n",
            "Epoch 20/100\n",
            "220/220 [==============================] - 71s 323ms/step - loss: 5.6891e-04 - accuracy: 0.9992 - val_loss: 0.0094 - val_accuracy: 0.9895\n",
            "Epoch 21/100\n",
            "220/220 [==============================] - 72s 328ms/step - loss: 4.9361e-04 - accuracy: 0.9993 - val_loss: 0.0098 - val_accuracy: 0.9893\n",
            "Epoch 22/100\n",
            "220/220 [==============================] - 72s 329ms/step - loss: 4.8650e-04 - accuracy: 0.9993 - val_loss: 0.0097 - val_accuracy: 0.9898\n",
            "Epoch 23/100\n",
            "220/220 [==============================] - 72s 327ms/step - loss: 4.3357e-04 - accuracy: 0.9994 - val_loss: 0.0100 - val_accuracy: 0.9896\n",
            "Epoch 24/100\n",
            "220/220 [==============================] - 71s 322ms/step - loss: 4.1599e-04 - accuracy: 0.9994 - val_loss: 0.0098 - val_accuracy: 0.9893\n",
            "Epoch 25/100\n",
            "220/220 [==============================] - 73s 331ms/step - loss: 3.4203e-04 - accuracy: 0.9995 - val_loss: 0.0103 - val_accuracy: 0.9893\n",
            "Epoch 26/100\n",
            "220/220 [==============================] - 72s 329ms/step - loss: 3.4091e-04 - accuracy: 0.9995 - val_loss: 0.0100 - val_accuracy: 0.9898\n",
            "Epoch 27/100\n",
            "220/220 [==============================] - 72s 326ms/step - loss: 3.3606e-04 - accuracy: 0.9995 - val_loss: 0.0103 - val_accuracy: 0.9897\n",
            "Epoch 28/100\n",
            "220/220 [==============================] - 71s 324ms/step - loss: 2.9516e-04 - accuracy: 0.9996 - val_loss: 0.0101 - val_accuracy: 0.9897\n",
            "Epoch 29/100\n",
            "220/220 [==============================] - 71s 325ms/step - loss: 2.8580e-04 - accuracy: 0.9996 - val_loss: 0.0108 - val_accuracy: 0.9895\n",
            "Epoch 30/100\n",
            "220/220 [==============================] - 70s 319ms/step - loss: 2.4246e-04 - accuracy: 0.9997 - val_loss: 0.0108 - val_accuracy: 0.9893\n",
            "Epoch 31/100\n",
            "220/220 [==============================] - 71s 323ms/step - loss: 2.8360e-04 - accuracy: 0.9996 - val_loss: 0.0108 - val_accuracy: 0.9895\n",
            "Epoch 32/100\n",
            "220/220 [==============================] - 70s 318ms/step - loss: 2.4562e-04 - accuracy: 0.9996 - val_loss: 0.0110 - val_accuracy: 0.9895\n",
            "Epoch 33/100\n",
            "220/220 [==============================] - 71s 322ms/step - loss: 2.4104e-04 - accuracy: 0.9996 - val_loss: 0.0110 - val_accuracy: 0.9896\n",
            "Epoch 34/100\n",
            "220/220 [==============================] - 72s 329ms/step - loss: 1.9694e-04 - accuracy: 0.9997 - val_loss: 0.0112 - val_accuracy: 0.9896\n",
            "Epoch 35/100\n",
            "220/220 [==============================] - 71s 324ms/step - loss: 1.9058e-04 - accuracy: 0.9997 - val_loss: 0.0109 - val_accuracy: 0.9896\n",
            "Epoch 36/100\n",
            "220/220 [==============================] - 72s 326ms/step - loss: 1.7339e-04 - accuracy: 0.9998 - val_loss: 0.0109 - val_accuracy: 0.9896\n",
            "Epoch 37/100\n",
            "220/220 [==============================] - 72s 330ms/step - loss: 1.8754e-04 - accuracy: 0.9997 - val_loss: 0.0112 - val_accuracy: 0.9894\n",
            "Epoch 38/100\n",
            "220/220 [==============================] - 72s 325ms/step - loss: 1.7323e-04 - accuracy: 0.9997 - val_loss: 0.0116 - val_accuracy: 0.9891\n",
            "Epoch 39/100\n",
            "220/220 [==============================] - 74s 336ms/step - loss: 1.7557e-04 - accuracy: 0.9997 - val_loss: 0.0118 - val_accuracy: 0.9892\n",
            "Epoch 40/100\n",
            "220/220 [==============================] - 73s 334ms/step - loss: 1.5435e-04 - accuracy: 0.9998 - val_loss: 0.0116 - val_accuracy: 0.9892\n",
            "Epoch 41/100\n",
            "220/220 [==============================] - 73s 330ms/step - loss: 1.3153e-04 - accuracy: 0.9998 - val_loss: 0.0117 - val_accuracy: 0.9894\n",
            "Epoch 42/100\n",
            "220/220 [==============================] - 72s 326ms/step - loss: 1.4372e-04 - accuracy: 0.9998 - val_loss: 0.0117 - val_accuracy: 0.9894\n",
            "Epoch 43/100\n",
            "220/220 [==============================] - 72s 328ms/step - loss: 1.6580e-04 - accuracy: 0.9998 - val_loss: 0.0116 - val_accuracy: 0.9895\n",
            "Epoch 44/100\n",
            "220/220 [==============================] - 72s 328ms/step - loss: 1.3298e-04 - accuracy: 0.9998 - val_loss: 0.0116 - val_accuracy: 0.9896\n",
            "Epoch 45/100\n",
            "220/220 [==============================] - 72s 327ms/step - loss: 1.3661e-04 - accuracy: 0.9998 - val_loss: 0.0113 - val_accuracy: 0.9900\n",
            "Epoch 46/100\n",
            "220/220 [==============================] - 72s 329ms/step - loss: 1.1534e-04 - accuracy: 0.9998 - val_loss: 0.0116 - val_accuracy: 0.9897\n",
            "Epoch 47/100\n",
            "220/220 [==============================] - 72s 327ms/step - loss: 1.1059e-04 - accuracy: 0.9998 - val_loss: 0.0118 - val_accuracy: 0.9897\n",
            "Epoch 48/100\n",
            "220/220 [==============================] - 72s 328ms/step - loss: 1.3574e-04 - accuracy: 0.9998 - val_loss: 0.0118 - val_accuracy: 0.9896\n",
            "Epoch 49/100\n",
            "220/220 [==============================] - 73s 332ms/step - loss: 1.4103e-04 - accuracy: 0.9998 - val_loss: 0.0116 - val_accuracy: 0.9899\n",
            "Epoch 50/100\n",
            "220/220 [==============================] - 73s 333ms/step - loss: 1.2627e-04 - accuracy: 0.9998 - val_loss: 0.0114 - val_accuracy: 0.9898\n",
            "Epoch 51/100\n",
            "220/220 [==============================] - 72s 328ms/step - loss: 9.9097e-05 - accuracy: 0.9998 - val_loss: 0.0115 - val_accuracy: 0.9899\n",
            "Epoch 52/100\n",
            "220/220 [==============================] - 72s 329ms/step - loss: 9.8280e-05 - accuracy: 0.9999 - val_loss: 0.0121 - val_accuracy: 0.9895\n",
            "Epoch 53/100\n",
            "220/220 [==============================] - 73s 330ms/step - loss: 9.6391e-05 - accuracy: 0.9999 - val_loss: 0.0119 - val_accuracy: 0.9898\n",
            "Epoch 54/100\n",
            "220/220 [==============================] - 71s 323ms/step - loss: 8.9165e-05 - accuracy: 0.9999 - val_loss: 0.0125 - val_accuracy: 0.9892\n",
            "Epoch 55/100\n",
            "220/220 [==============================] - 71s 324ms/step - loss: 8.7296e-05 - accuracy: 0.9999 - val_loss: 0.0128 - val_accuracy: 0.9887\n",
            "Epoch 56/100\n",
            "220/220 [==============================] - 72s 328ms/step - loss: 7.6847e-05 - accuracy: 0.9999 - val_loss: 0.0126 - val_accuracy: 0.9893\n",
            "Epoch 57/100\n",
            "220/220 [==============================] - 71s 324ms/step - loss: 7.0339e-05 - accuracy: 0.9999 - val_loss: 0.0127 - val_accuracy: 0.9890\n",
            "Epoch 58/100\n",
            "220/220 [==============================] - 72s 328ms/step - loss: 9.0608e-05 - accuracy: 0.9999 - val_loss: 0.0116 - val_accuracy: 0.9898\n",
            "Epoch 59/100\n",
            "220/220 [==============================] - 72s 327ms/step - loss: 7.8888e-05 - accuracy: 0.9999 - val_loss: 0.0123 - val_accuracy: 0.9898\n",
            "Epoch 60/100\n",
            "220/220 [==============================] - 71s 323ms/step - loss: 6.3720e-05 - accuracy: 0.9999 - val_loss: 0.0120 - val_accuracy: 0.9898\n",
            "Epoch 61/100\n",
            "220/220 [==============================] - 72s 329ms/step - loss: 7.9997e-05 - accuracy: 0.9999 - val_loss: 0.0122 - val_accuracy: 0.9895\n",
            "Epoch 62/100\n",
            "220/220 [==============================] - 71s 324ms/step - loss: 8.8447e-05 - accuracy: 0.9999 - val_loss: 0.0132 - val_accuracy: 0.9888\n",
            "Epoch 63/100\n",
            "220/220 [==============================] - 71s 323ms/step - loss: 7.6497e-05 - accuracy: 0.9999 - val_loss: 0.0128 - val_accuracy: 0.9892\n",
            "Epoch 64/100\n",
            "220/220 [==============================] - 72s 327ms/step - loss: 8.3489e-05 - accuracy: 0.9999 - val_loss: 0.0122 - val_accuracy: 0.9898\n",
            "Epoch 65/100\n",
            "220/220 [==============================] - 72s 325ms/step - loss: 8.0786e-05 - accuracy: 0.9999 - val_loss: 0.0132 - val_accuracy: 0.9890\n",
            "Epoch 66/100\n",
            "220/220 [==============================] - 71s 322ms/step - loss: 6.7727e-05 - accuracy: 0.9999 - val_loss: 0.0127 - val_accuracy: 0.9893\n",
            "Epoch 67/100\n",
            "220/220 [==============================] - 72s 327ms/step - loss: 7.1465e-05 - accuracy: 0.9999 - val_loss: 0.0131 - val_accuracy: 0.9894\n",
            "Epoch 68/100\n",
            "220/220 [==============================] - 72s 327ms/step - loss: 6.0444e-05 - accuracy: 0.9999 - val_loss: 0.0131 - val_accuracy: 0.9896\n",
            "Epoch 69/100\n",
            "220/220 [==============================] - 71s 323ms/step - loss: 5.8046e-05 - accuracy: 0.9999 - val_loss: 0.0126 - val_accuracy: 0.9897\n",
            "Epoch 70/100\n",
            "220/220 [==============================] - 70s 320ms/step - loss: 5.4814e-05 - accuracy: 0.9999 - val_loss: 0.0130 - val_accuracy: 0.9891\n",
            "Epoch 71/100\n",
            "220/220 [==============================] - 71s 324ms/step - loss: 4.4108e-05 - accuracy: 0.9999 - val_loss: 0.0127 - val_accuracy: 0.9897\n",
            "Epoch 72/100\n",
            "220/220 [==============================] - 71s 325ms/step - loss: 4.7400e-05 - accuracy: 0.9999 - val_loss: 0.0129 - val_accuracy: 0.9898\n",
            "Epoch 73/100\n",
            "220/220 [==============================] - 70s 320ms/step - loss: 5.6069e-05 - accuracy: 0.9999 - val_loss: 0.0133 - val_accuracy: 0.9896\n",
            "Epoch 74/100\n",
            "220/220 [==============================] - 71s 324ms/step - loss: 5.9406e-05 - accuracy: 0.9999 - val_loss: 0.0133 - val_accuracy: 0.9894\n",
            "Epoch 75/100\n",
            "220/220 [==============================] - 72s 326ms/step - loss: 4.6107e-05 - accuracy: 0.9999 - val_loss: 0.0130 - val_accuracy: 0.9899\n",
            "Epoch 76/100\n",
            "220/220 [==============================] - 69s 315ms/step - loss: 5.6411e-05 - accuracy: 0.9999 - val_loss: 0.0131 - val_accuracy: 0.9895\n",
            "Epoch 77/100\n",
            "220/220 [==============================] - 71s 321ms/step - loss: 6.7719e-05 - accuracy: 0.9999 - val_loss: 0.0131 - val_accuracy: 0.9897\n",
            "Epoch 78/100\n",
            "220/220 [==============================] - 72s 326ms/step - loss: 6.5456e-05 - accuracy: 0.9999 - val_loss: 0.0128 - val_accuracy: 0.9898\n",
            "Epoch 79/100\n",
            "220/220 [==============================] - 70s 321ms/step - loss: 1.0297e-04 - accuracy: 0.9999 - val_loss: 0.0132 - val_accuracy: 0.9896\n",
            "Epoch 80/100\n",
            "220/220 [==============================] - 71s 321ms/step - loss: 5.2003e-05 - accuracy: 0.9999 - val_loss: 0.0128 - val_accuracy: 0.9898\n",
            "Epoch 81/100\n",
            "220/220 [==============================] - 72s 327ms/step - loss: 6.4797e-05 - accuracy: 0.9999 - val_loss: 0.0141 - val_accuracy: 0.9888\n",
            "Epoch 82/100\n",
            "220/220 [==============================] - 70s 320ms/step - loss: 6.2748e-05 - accuracy: 0.9999 - val_loss: 0.0131 - val_accuracy: 0.9898\n",
            "Epoch 83/100\n",
            "220/220 [==============================] - 71s 321ms/step - loss: 4.4806e-05 - accuracy: 0.9999 - val_loss: 0.0136 - val_accuracy: 0.9894\n",
            "Epoch 84/100\n",
            "220/220 [==============================] - 71s 323ms/step - loss: 4.1971e-05 - accuracy: 0.9999 - val_loss: 0.0135 - val_accuracy: 0.9894\n",
            "Epoch 85/100\n",
            "220/220 [==============================] - 72s 325ms/step - loss: 4.4833e-05 - accuracy: 0.9999 - val_loss: 0.0134 - val_accuracy: 0.9898\n",
            "Epoch 86/100\n",
            "220/220 [==============================] - 71s 323ms/step - loss: 4.4050e-05 - accuracy: 0.9999 - val_loss: 0.0134 - val_accuracy: 0.9896\n",
            "Epoch 87/100\n",
            "220/220 [==============================] - 71s 322ms/step - loss: 3.3155e-05 - accuracy: 1.0000 - val_loss: 0.0136 - val_accuracy: 0.9895\n",
            "Epoch 88/100\n",
            "220/220 [==============================] - 72s 326ms/step - loss: 5.1125e-05 - accuracy: 0.9999 - val_loss: 0.0132 - val_accuracy: 0.9899\n",
            "Epoch 89/100\n",
            "220/220 [==============================] - 72s 327ms/step - loss: 4.4770e-05 - accuracy: 0.9999 - val_loss: 0.0131 - val_accuracy: 0.9898\n",
            "Epoch 90/100\n",
            "220/220 [==============================] - 71s 323ms/step - loss: 3.2701e-05 - accuracy: 1.0000 - val_loss: 0.0132 - val_accuracy: 0.9897\n",
            "Epoch 91/100\n",
            "220/220 [==============================] - 71s 325ms/step - loss: 3.9501e-05 - accuracy: 0.9999 - val_loss: 0.0132 - val_accuracy: 0.9900\n",
            "Epoch 92/100\n",
            "220/220 [==============================] - 73s 332ms/step - loss: 4.3432e-05 - accuracy: 0.9999 - val_loss: 0.0141 - val_accuracy: 0.9894\n",
            "Epoch 93/100\n",
            "220/220 [==============================] - 73s 330ms/step - loss: 3.6167e-05 - accuracy: 0.9999 - val_loss: 0.0135 - val_accuracy: 0.9897\n",
            "Epoch 94/100\n",
            "220/220 [==============================] - 72s 328ms/step - loss: 5.5261e-05 - accuracy: 0.9999 - val_loss: 0.0136 - val_accuracy: 0.9896\n",
            "Epoch 95/100\n",
            "220/220 [==============================] - 72s 327ms/step - loss: 5.1448e-05 - accuracy: 0.9999 - val_loss: 0.0136 - val_accuracy: 0.9893\n",
            "Epoch 96/100\n",
            "220/220 [==============================] - 74s 335ms/step - loss: 3.5965e-05 - accuracy: 0.9999 - val_loss: 0.0135 - val_accuracy: 0.9897\n",
            "Epoch 97/100\n",
            "220/220 [==============================] - 72s 329ms/step - loss: 3.6378e-05 - accuracy: 1.0000 - val_loss: 0.0136 - val_accuracy: 0.9899\n",
            "Epoch 98/100\n",
            "220/220 [==============================] - 73s 330ms/step - loss: 4.1990e-05 - accuracy: 0.9999 - val_loss: 0.0141 - val_accuracy: 0.9893\n",
            "Epoch 99/100\n",
            "220/220 [==============================] - 71s 322ms/step - loss: 3.2159e-05 - accuracy: 1.0000 - val_loss: 0.0136 - val_accuracy: 0.9898\n",
            "Epoch 100/100\n",
            "220/220 [==============================] - 72s 328ms/step - loss: 4.8964e-05 - accuracy: 0.9999 - val_loss: 0.0136 - val_accuracy: 0.9900\n"
          ]
        }
      ]
    },
    {
      "cell_type": "code",
      "source": [
        "model.save('bilstm-cnn.keras')"
      ],
      "metadata": {
        "id": "In-MXro5HrHk"
      },
      "execution_count": 75,
      "outputs": []
    },
    {
      "cell_type": "code",
      "source": [
        "# save training history\n",
        "import pickle\n",
        "with open('/content/trainHistoryDict', 'wb') as file_pi:\n",
        "    pickle.dump(history.history, file_pi)"
      ],
      "metadata": {
        "id": "XV73Jgmr1df-"
      },
      "execution_count": 49,
      "outputs": []
    },
    {
      "cell_type": "code",
      "source": [
        "# load training history\n",
        "# with open('/content/trainHistoryDict', \"rb\") as file_pi:\n",
        "#     loaded_history = pickle.load(file_pi)"
      ],
      "metadata": {
        "id": "Fy7-I3Rf1kFS"
      },
      "execution_count": 50,
      "outputs": []
    },
    {
      "cell_type": "code",
      "source": [
        "# summarize history for accuracy\n",
        "plt.plot(history.history['accuracy'])\n",
        "plt.plot(history.history['val_accuracy'])\n",
        "plt.title('model accuracy')\n",
        "plt.ylabel('accuracy')\n",
        "plt.xlabel('epoch')\n",
        "plt.legend(['train', 'validation'], loc='lower right')\n",
        "plt.show()\n",
        "# summarize history for loss\n",
        "plt.plot(history.history['loss'])\n",
        "plt.plot(history.history['val_loss'])\n",
        "plt.title('model loss')\n",
        "plt.ylabel('loss')\n",
        "plt.xlabel('epoch')\n",
        "plt.legend(['train', 'validation'], loc='upper right')\n",
        "plt.show()"
      ],
      "metadata": {
        "colab": {
          "base_uri": "https://localhost:8080/",
          "height": 927
        },
        "id": "C_JQkfmmzrCv",
        "outputId": "8e4427ff-cc4c-46bd-dc85-f371c18a0926"
      },
      "execution_count": 51,
      "outputs": [
        {
          "output_type": "display_data",
          "data": {
            "text/plain": [
              "<Figure size 640x480 with 1 Axes>"
            ],
            "image/png": "[encoded data removed]"
          },
          "metadata": {}
        },
        {
          "output_type": "display_data",
          "data": {
            "text/plain": [
              "<Figure size 640x480 with 1 Axes>"
            ],
            "image/png": "[encoded data removed]"
          },
          "metadata": {}
        }
      ]
    },
    {
      "cell_type": "markdown",
      "source": [
        "# Predictions"
      ],
      "metadata": {
        "id": "NmowfD8zHPh6"
      }
    },
    {
      "cell_type": "markdown",
      "source": [
        "\n",
        "Make a sample prediction, with a sigle sentence.\n",
        "\n"
      ],
      "metadata": {
        "id": "QWuvCLEJlz6o"
      }
    },
    {
      "cell_type": "code",
      "source": [
        "%%capture\n",
        "!wget https://github.com/truongthuanr/self-project/raw/main/11_Named_Entity_Recognition/bilstm-cnn.keras"
      ],
      "metadata": {
        "id": "A9lAPaMlL8nd"
      },
      "execution_count": 53,
      "outputs": []
    },
    {
      "cell_type": "code",
      "source": [
        "loaded_model = load_model('bilstm-cnn.keras')"
      ],
      "metadata": {
        "colab": {
          "base_uri": "https://localhost:8080/"
        },
        "id": "aMi0gMXIIumu",
        "outputId": "d410666d-2262-4040-b144-0a9b2e0ea1db"
      },
      "execution_count": 58,
      "outputs": [
        {
          "output_type": "stream",
          "name": "stderr",
          "text": [
            "WARNING:tensorflow:Layer lstm_1 will not use cuDNN kernels since it doesn't meet the criteria. It will use a generic GPU kernel as fallback when running on GPU.\n",
            "WARNING:tensorflow:Layer lstm_1 will not use cuDNN kernels since it doesn't meet the criteria. It will use a generic GPU kernel as fallback when running on GPU.\n",
            "WARNING:tensorflow:Layer lstm_1 will not use cuDNN kernels since it doesn't meet the criteria. It will use a generic GPU kernel as fallback when running on GPU.\n"
          ]
        }
      ]
    },
    {
      "cell_type": "code",
      "source": [
        "def make_prediction(model, input_string):\n",
        "  X_words = np.asarray([input_string])\n",
        "  X_input_list = [input_string.split()]\n",
        "  X_chars = char_preprocessing(X_input_list)\n",
        "  X_case = case_preprocesing(X_input_list)\n",
        "  predictions = model.predict([X_words,X_chars,X_case])\n",
        "  return predictions"
      ],
      "metadata": {
        "id": "JGFfbP-_HPy8"
      },
      "execution_count": 55,
      "outputs": []
    },
    {
      "cell_type": "code",
      "source": [
        "example = \"Connie Palmer's cat Ralphie was way, way up in a tree in the family's backyard in Ohio\"\n",
        "predictions = make_prediction(loaded_model, example)"
      ],
      "metadata": {
        "id": "YYUZwW6_HP-e",
        "colab": {
          "base_uri": "https://localhost:8080/"
        },
        "outputId": "d912f6b5-49f7-4f23-f145-5cc7db88506d"
      },
      "execution_count": 66,
      "outputs": [
        {
          "output_type": "stream",
          "name": "stdout",
          "text": [
            "1/1 [==============================] - 0s 75ms/step\n"
          ]
        }
      ]
    },
    {
      "cell_type": "code",
      "source": [
        "temp = np.squeeze(np.argmax(predictions,axis=2))\n",
        "temp = [id2label[word] for word in temp]\n",
        "print(\"\".join([f\"{word:10}\" for word in example.split()]))\n",
        "print(\"\".join([f\"{word:10}\" for word in temp[:len(example.split())]]))\n"
      ],
      "metadata": {
        "id": "ySytMGcvO0Ys",
        "colab": {
          "base_uri": "https://localhost:8080/"
        },
        "outputId": "19a268f6-70d7-46cd-94ca-5b4084dd50f2"
      },
      "execution_count": 64,
      "outputs": [
        {
          "output_type": "stream",
          "name": "stdout",
          "text": [
            "Connie    Palmer's  cat       Ralphie   was       way,      way       up        in        a         tree      in        the       family's  backyard  in        Ohio      \n",
            "B-PER     I-PER     O         B-PER     O         O         O         O         O         O         O         O         O         O         O         O         B-LOC     \n"
          ]
        }
      ]
    },
    {
      "cell_type": "markdown",
      "source": [
        "# Test - F1 Score metrics"
      ],
      "metadata": {
        "id": "To3rfptlnBJd"
      }
    },
    {
      "cell_type": "markdown",
      "source": [
        "Make prediction on the test set,\n",
        "\n",
        "then compute f1score for each class"
      ],
      "metadata": {
        "id": "q8-5ChP5mHl9"
      }
    },
    {
      "cell_type": "code",
      "source": [
        "np.set_printoptions(suppress=True,linewidth=90)"
      ],
      "metadata": {
        "id": "T6KCFQEOskIX"
      },
      "execution_count": 67,
      "outputs": []
    },
    {
      "cell_type": "code",
      "source": [
        "test_predictions = loaded_model.predict([X_test_word,X_test_char, X_test_case])"
      ],
      "metadata": {
        "colab": {
          "base_uri": "https://localhost:8080/"
        },
        "id": "3R1vcTXCnBOU",
        "outputId": "6d83b6e2-5ce6-4e8a-cc65-794cadbbe251"
      },
      "execution_count": 68,
      "outputs": [
        {
          "output_type": "stream",
          "name": "stdout",
          "text": [
            "108/108 [==============================] - 3s 30ms/step\n"
          ]
        }
      ]
    },
    {
      "cell_type": "code",
      "source": [
        "def compute_f1score(prediction, actual):\n",
        "  prediction = np.squeeze(np.argmax(prediction,axis=2))\n",
        "  actual = np.squeeze(np.argmax(actual,axis=2))\n",
        "\n",
        "  # count_arr[predict-label][actual-label]\n",
        "  count_arr = np.zeros([len(label2id),len(label2id)])\n",
        "  for rownum in range(actual.shape[0]):\n",
        "    for wordnum in range(actual.shape[1]):\n",
        "      pred_label = prediction[rownum][wordnum]\n",
        "      actual_label = actual[rownum][wordnum]\n",
        "      count_arr[pred_label][actual_label] += 1\n",
        "\n",
        "  precision = [count_arr[i][i]/(np.sum(count_arr,axis=1))[i] for i in range(len(label2id))]\n",
        "  recall = [count_arr[i][i]/(np.sum(count_arr,axis=0))[i] for i in range(len(label2id))]\n",
        "  f1score = [2*recall[i]*precision[i]/(recall[i]+precision[i]) for i in range(len(label2id))]\n",
        "  return count_arr,precision,recall,f1score"
      ],
      "metadata": {
        "id": "QTfy3NYHnatp"
      },
      "execution_count": 69,
      "outputs": []
    },
    {
      "cell_type": "code",
      "source": [
        "countarr,precision,recall,f1score = compute_f1score(test_predictions,y_test)\n",
        "countarr"
      ],
      "metadata": {
        "colab": {
          "base_uri": "https://localhost:8080/"
        },
        "id": "nMe6Pqgkrz77",
        "outputId": "4657e9d0-9c08-4ca5-e86e-515e2a310dff"
      },
      "execution_count": 70,
      "outputs": [
        {
          "output_type": "execute_result",
          "data": {
            "text/plain": [
              "array([[164139.,     79.,     22.,     88.,     77.,     26.,     13.,     50.,     35.],\n",
              "       [    76.,   1187.,     25.,    121.,      7.,     40.,      1.,     33.,      1.],\n",
              "       [    20.,      8.,    918.,      2.,     34.,      2.,      7.,      1.,      4.],\n",
              "       [    98.,    171.,      2.,   1175.,     27.,    125.,      0.,     50.,      2.],\n",
              "       [    60.,      1.,    107.,     25.,    568.,      2.,     28.,      4.,     17.],\n",
              "       [    96.,    104.,      4.,    193.,     17.,   1423.,      8.,     50.,      1.],\n",
              "       [    19.,      2.,     30.,      1.,     71.,      5.,    188.,      0.,      8.],\n",
              "       [    49.,     22.,      0.,     51.,     10.,     33.,      1.,    502.,     12.],\n",
              "       [    89.,      6.,      3.,      2.,     16.,      0.,      9.,     11.,    136.]])"
            ]
          },
          "metadata": {},
          "execution_count": 70
        }
      ]
    },
    {
      "cell_type": "code",
      "source": [
        "f1score"
      ],
      "metadata": {
        "colab": {
          "base_uri": "https://localhost:8080/"
        },
        "id": "hI7Gr81fuvml",
        "outputId": "9b76e0d7-ff58-4ad4-8239-b51730204c3e"
      },
      "execution_count": 71,
      "outputs": [
        {
          "output_type": "execute_result",
          "data": {
            "text/plain": [
              "[0.9972750056960583,\n",
              " 0.7730380983393033,\n",
              " 0.8713811105837684,\n",
              " 0.7103990326481258,\n",
              " 0.6931055521659548,\n",
              " 0.8012387387387387,\n",
              " 0.6493955094991365,\n",
              " 0.7270094134685011,\n",
              " 0.5573770491803278]"
            ]
          },
          "metadata": {},
          "execution_count": 71
        }
      ]
    },
    {
      "cell_type": "code",
      "source": [
        "np.sum(f1score)/9"
      ],
      "metadata": {
        "id": "Z0TRHqaGEfRj",
        "outputId": "2a4d30f2-097c-4ff3-9c28-870a65476cf1",
        "colab": {
          "base_uri": "https://localhost:8080/"
        }
      },
      "execution_count": 76,
      "outputs": [
        {
          "output_type": "execute_result",
          "data": {
            "text/plain": [
              "0.7533577233688794"
            ]
          },
          "metadata": {},
          "execution_count": 76
        }
      ]
    },
    {
      "cell_type": "markdown",
      "source": [
        "# References"
      ],
      "metadata": {
        "id": "EvJmuiIiHQJy"
      }
    },
    {
      "cell_type": "markdown",
      "source": [
        "https://keras.io/examples/nlp/ner_transformers/"
      ],
      "metadata": {
        "id": "by174qhpHT_2"
      }
    },
    {
      "cell_type": "markdown",
      "source": [],
      "metadata": {
        "id": "urASKXuLHZSz"
      }
    }
  ]
}