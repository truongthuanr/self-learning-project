{
  "nbformat": 4,
  "nbformat_minor": 0,
  "metadata": {
    "colab": {
      "name": "04_NLP_Disater_Tweets.ipynb",
      "provenance": [],
      "authorship_tag": "ABX9TyNYmkuKfnk7AUEXifEkrhg8",
      "include_colab_link": true
    },
    "kernelspec": {
      "name": "python3",
      "display_name": "Python 3"
    },
    "language_info": {
      "name": "python"
    }
  },
  "cells": [
    {
      "cell_type": "markdown",
      "metadata": {
        "id": "view-in-github",
        "colab_type": "text"
      },
      "source": [
        "<a href=\"https://colab.research.google.com/github/truongthuanr/self-learning-project/blob/main/04_NLP_Disater_Tweets.ipynb\" target=\"_parent\"><img src=\"https://colab.research.google.com/assets/colab-badge.svg\" alt=\"Open In Colab\"/></a>"
      ]
    },
    {
      "cell_type": "markdown",
      "metadata": {
        "id": "1xLR04I_ldJe"
      },
      "source": [
        "# Information"
      ]
    },
    {
      "cell_type": "markdown",
      "metadata": {
        "id": "vy309PsNnoCc"
      },
      "source": [
        "**Problem:** Predict which Tweets are about real disasters and which ones are not\n",
        "\n",
        "dataset: \n",
        "  * https://www.kaggle.com/c/nlp-getting-started/data\n"
      ]
    },
    {
      "cell_type": "markdown",
      "metadata": {
        "id": "MtV3w55vobdO"
      },
      "source": [
        "# Import data"
      ]
    },
    {
      "cell_type": "code",
      "metadata": {
        "id": "0lfLw3iko3eS"
      },
      "source": [
        "train_url = \"https://raw.githubusercontent.com/truongthuanr/self-learning-project/main/dataset/DisaterTweet/train.csv\""
      ],
      "execution_count": 1,
      "outputs": []
    },
    {
      "cell_type": "code",
      "metadata": {
        "id": "adX_Fip3qMkx"
      },
      "source": [
        "import pandas as pd"
      ],
      "execution_count": 2,
      "outputs": []
    },
    {
      "cell_type": "code",
      "metadata": {
        "id": "D44DyjvfpVPd"
      },
      "source": [
        "df = pd.read_csv(train_url)"
      ],
      "execution_count": 3,
      "outputs": []
    },
    {
      "cell_type": "markdown",
      "metadata": {
        "id": "OVRE9relpZSr"
      },
      "source": [
        "# Explotary Data"
      ]
    },
    {
      "cell_type": "code",
      "metadata": {
        "id": "akAla2DPWWYh"
      },
      "source": [
        "import matplotlib.pyplot as plt\n",
        "import seaborn as sns\n",
        "import numpy as np\n",
        "pd.set_option('display.max_colwidth',1000)"
      ],
      "execution_count": 4,
      "outputs": []
    },
    {
      "cell_type": "code",
      "metadata": {
        "colab": {
          "base_uri": "https://localhost:8080/",
          "height": 294
        },
        "id": "aAu4vjh9peXf",
        "outputId": "6212d7fc-63d9-4e55-e69f-bc715553b5c5"
      },
      "source": [
        "df.describe()"
      ],
      "execution_count": 5,
      "outputs": [
        {
          "output_type": "execute_result",
          "data": {
            "text/html": [
              "<div>\n",
              "<style scoped>\n",
              "    .dataframe tbody tr th:only-of-type {\n",
              "        vertical-align: middle;\n",
              "    }\n",
              "\n",
              "    .dataframe tbody tr th {\n",
              "        vertical-align: top;\n",
              "    }\n",
              "\n",
              "    .dataframe thead th {\n",
              "        text-align: right;\n",
              "    }\n",
              "</style>\n",
              "<table border=\"1\" class=\"dataframe\">\n",
              "  <thead>\n",
              "    <tr style=\"text-align: right;\">\n",
              "      <th></th>\n",
              "      <th>id</th>\n",
              "      <th>target</th>\n",
              "    </tr>\n",
              "  </thead>\n",
              "  <tbody>\n",
              "    <tr>\n",
              "      <th>count</th>\n",
              "      <td>7613.000000</td>\n",
              "      <td>7613.00000</td>\n",
              "    </tr>\n",
              "    <tr>\n",
              "      <th>mean</th>\n",
              "      <td>5441.934848</td>\n",
              "      <td>0.42966</td>\n",
              "    </tr>\n",
              "    <tr>\n",
              "      <th>std</th>\n",
              "      <td>3137.116090</td>\n",
              "      <td>0.49506</td>\n",
              "    </tr>\n",
              "    <tr>\n",
              "      <th>min</th>\n",
              "      <td>1.000000</td>\n",
              "      <td>0.00000</td>\n",
              "    </tr>\n",
              "    <tr>\n",
              "      <th>25%</th>\n",
              "      <td>2734.000000</td>\n",
              "      <td>0.00000</td>\n",
              "    </tr>\n",
              "    <tr>\n",
              "      <th>50%</th>\n",
              "      <td>5408.000000</td>\n",
              "      <td>0.00000</td>\n",
              "    </tr>\n",
              "    <tr>\n",
              "      <th>75%</th>\n",
              "      <td>8146.000000</td>\n",
              "      <td>1.00000</td>\n",
              "    </tr>\n",
              "    <tr>\n",
              "      <th>max</th>\n",
              "      <td>10873.000000</td>\n",
              "      <td>1.00000</td>\n",
              "    </tr>\n",
              "  </tbody>\n",
              "</table>\n",
              "</div>"
            ],
            "text/plain": [
              "                 id      target\n",
              "count   7613.000000  7613.00000\n",
              "mean    5441.934848     0.42966\n",
              "std     3137.116090     0.49506\n",
              "min        1.000000     0.00000\n",
              "25%     2734.000000     0.00000\n",
              "50%     5408.000000     0.00000\n",
              "75%     8146.000000     1.00000\n",
              "max    10873.000000     1.00000"
            ]
          },
          "metadata": {},
          "execution_count": 5
        }
      ]
    },
    {
      "cell_type": "code",
      "metadata": {
        "colab": {
          "base_uri": "https://localhost:8080/"
        },
        "id": "iuPwc3w7px48",
        "outputId": "d45d35ba-1d6a-4bcb-f8d7-8539b483adfd"
      },
      "source": [
        "df.isna().sum()"
      ],
      "execution_count": 6,
      "outputs": [
        {
          "output_type": "execute_result",
          "data": {
            "text/plain": [
              "id             0\n",
              "keyword       61\n",
              "location    2533\n",
              "text           0\n",
              "target         0\n",
              "dtype: int64"
            ]
          },
          "metadata": {},
          "execution_count": 6
        }
      ]
    },
    {
      "cell_type": "markdown",
      "metadata": {
        "id": "gJVraBTMp3GU"
      },
      "source": [
        "length of  data"
      ]
    },
    {
      "cell_type": "code",
      "metadata": {
        "colab": {
          "base_uri": "https://localhost:8080/"
        },
        "id": "r5NLFyP0VLE_",
        "outputId": "24244962-e0c5-4464-cf97-d284a444ad5a"
      },
      "source": [
        "df.shape"
      ],
      "execution_count": 7,
      "outputs": [
        {
          "output_type": "execute_result",
          "data": {
            "text/plain": [
              "(7613, 5)"
            ]
          },
          "metadata": {},
          "execution_count": 7
        }
      ]
    },
    {
      "cell_type": "markdown",
      "metadata": {
        "id": "5ZFr4H0aVM9e"
      },
      "source": [
        "**Description:**\n",
        "\n",
        "`id` - a unique identifier for each tweet\n",
        "\n",
        "`text` - the text of the tweet\n",
        "\n",
        "`location` - the location the tweet was sent from (may be blank)\n",
        "\n",
        "`keyword` - a particular keyword from the tweet (may be blank)\n",
        "\n",
        "`target` - in train.csv only, this denotes whether a tweet is about a real disaster (1) or not (0)"
      ]
    },
    {
      "cell_type": "code",
      "metadata": {
        "colab": {
          "base_uri": "https://localhost:8080/",
          "height": 202
        },
        "id": "ehb1Tww3VtIJ",
        "outputId": "f46219fa-e566-4cc0-cdc7-f944aea6d524"
      },
      "source": [
        "df.head()"
      ],
      "execution_count": 8,
      "outputs": [
        {
          "output_type": "execute_result",
          "data": {
            "text/html": [
              "<div>\n",
              "<style scoped>\n",
              "    .dataframe tbody tr th:only-of-type {\n",
              "        vertical-align: middle;\n",
              "    }\n",
              "\n",
              "    .dataframe tbody tr th {\n",
              "        vertical-align: top;\n",
              "    }\n",
              "\n",
              "    .dataframe thead th {\n",
              "        text-align: right;\n",
              "    }\n",
              "</style>\n",
              "<table border=\"1\" class=\"dataframe\">\n",
              "  <thead>\n",
              "    <tr style=\"text-align: right;\">\n",
              "      <th></th>\n",
              "      <th>id</th>\n",
              "      <th>keyword</th>\n",
              "      <th>location</th>\n",
              "      <th>text</th>\n",
              "      <th>target</th>\n",
              "    </tr>\n",
              "  </thead>\n",
              "  <tbody>\n",
              "    <tr>\n",
              "      <th>0</th>\n",
              "      <td>1</td>\n",
              "      <td>NaN</td>\n",
              "      <td>NaN</td>\n",
              "      <td>Our Deeds are the Reason of this #earthquake May ALLAH Forgive us all</td>\n",
              "      <td>1</td>\n",
              "    </tr>\n",
              "    <tr>\n",
              "      <th>1</th>\n",
              "      <td>4</td>\n",
              "      <td>NaN</td>\n",
              "      <td>NaN</td>\n",
              "      <td>Forest fire near La Ronge Sask. Canada</td>\n",
              "      <td>1</td>\n",
              "    </tr>\n",
              "    <tr>\n",
              "      <th>2</th>\n",
              "      <td>5</td>\n",
              "      <td>NaN</td>\n",
              "      <td>NaN</td>\n",
              "      <td>All residents asked to 'shelter in place' are being notified by officers. No other evacuation or shelter in place orders are expected</td>\n",
              "      <td>1</td>\n",
              "    </tr>\n",
              "    <tr>\n",
              "      <th>3</th>\n",
              "      <td>6</td>\n",
              "      <td>NaN</td>\n",
              "      <td>NaN</td>\n",
              "      <td>13,000 people receive #wildfires evacuation orders in California</td>\n",
              "      <td>1</td>\n",
              "    </tr>\n",
              "    <tr>\n",
              "      <th>4</th>\n",
              "      <td>7</td>\n",
              "      <td>NaN</td>\n",
              "      <td>NaN</td>\n",
              "      <td>Just got sent this photo from Ruby #Alaska as smoke from #wildfires pours into a school</td>\n",
              "      <td>1</td>\n",
              "    </tr>\n",
              "  </tbody>\n",
              "</table>\n",
              "</div>"
            ],
            "text/plain": [
              "   id  ... target\n",
              "0   1  ...      1\n",
              "1   4  ...      1\n",
              "2   5  ...      1\n",
              "3   6  ...      1\n",
              "4   7  ...      1\n",
              "\n",
              "[5 rows x 5 columns]"
            ]
          },
          "metadata": {},
          "execution_count": 8
        }
      ]
    },
    {
      "cell_type": "markdown",
      "metadata": {
        "id": "MsgXxJLPV4_O"
      },
      "source": [
        "take a look on target column"
      ]
    },
    {
      "cell_type": "code",
      "metadata": {
        "colab": {
          "base_uri": "https://localhost:8080/"
        },
        "id": "-inOUConWMXV",
        "outputId": "191821e8-1245-415d-c68d-5d1449547cd1"
      },
      "source": [
        "df.target.value_counts()"
      ],
      "execution_count": 9,
      "outputs": [
        {
          "output_type": "execute_result",
          "data": {
            "text/plain": [
              "0    4342\n",
              "1    3271\n",
              "Name: target, dtype: int64"
            ]
          },
          "metadata": {},
          "execution_count": 9
        }
      ]
    },
    {
      "cell_type": "markdown",
      "metadata": {
        "id": "bxhoyXovWRRJ"
      },
      "source": [
        "check for random data"
      ]
    },
    {
      "cell_type": "code",
      "metadata": {
        "colab": {
          "base_uri": "https://localhost:8080/"
        },
        "id": "UBHA3pKqW82V",
        "outputId": "34d538c4-33d9-4adb-d25c-346f43d9ae39"
      },
      "source": [
        "import random\n",
        "for i in range(0,5):\n",
        "  random_index = random.randint(0,len(df))\n",
        "  text_,target_ = df[[\"text\",\"target\"]].iloc[random_index]\n",
        "  print(f\"target: {target_}\", \"(real disater)\" if target_!=0 else \"(not didater)\")\n",
        "  print(f\"Text:\\n{text_}\\n\")"
      ],
      "execution_count": 10,
      "outputs": [
        {
          "output_type": "stream",
          "text": [
            "target: 1 (real disater)\n",
            "Text:\n",
            "Accident left lane blocked in #Manchester on Rt 293 NB before Eddy Rd stop and go traffic back to NH-3A delay of 4 mins #traffic\n",
            "\n",
            "target: 1 (real disater)\n",
            "Text:\n",
            "SB57 [NEW] Deepwater Horizon Oil Spill distribution of funds from BP settlement road and bridge projects in Bal... http://t.co/dKpsrkG6pc\n",
            "\n",
            "target: 1 (real disater)\n",
            "Text:\n",
            "Don't miss Chris #Appy's detonation of the myths obscuring our crime in #Hiroshima 70 yrs ago this month. @salon http://t.co/DlP8kPkt2k\n",
            "\n",
            "target: 1 (real disater)\n",
            "Text:\n",
            "Some Evansville residents told to limit water usage due to sinkhole construction: Some Evansville residents haveÛ_ http://t.co/SJNyFszCu1\n",
            "\n",
            "target: 1 (real disater)\n",
            "Text:\n",
            "Madhya Pradesh Train Derailment: Village Youth Saved Many Lives: A group of villagers saved over 70 passengers' lives after two train...\n",
            "\n"
          ],
          "name": "stdout"
        }
      ]
    },
    {
      "cell_type": "code",
      "metadata": {
        "colab": {
          "base_uri": "https://localhost:8080/"
        },
        "id": "m6JKmpDodNpq",
        "outputId": "b0de803f-feab-4746-aeab-fe2049eeb67b"
      },
      "source": [
        "print(\"longest text length: \")\n",
        "print(df[\"text\"].apply(len).max())\n",
        "print(df[df[\"text\"].apply(len) == df[\"text\"].apply(len).max()]['text'])\n",
        "\n",
        "print(\"Shortest text length: \")\n",
        "print(df[\"text\"].apply(len).min())\n",
        "print(df[df[\"text\"].apply(len) == df[\"text\"].apply(len).min()]['text'])"
      ],
      "execution_count": 11,
      "outputs": [
        {
          "output_type": "stream",
          "text": [
            "longest text length: \n",
            "157\n",
            "1270    when you're taking a shower and someone flushes the toilet and you have .1 second to GTFO or you get burned??????????????????????????????????????????????????\n",
            "Name: text, dtype: object\n",
            "Shortest text length: \n",
            "7\n",
            "1882    Crushed\n",
            "4890    Bad day\n",
            "5115    Err:509\n",
            "Name: text, dtype: object\n"
          ],
          "name": "stdout"
        }
      ]
    },
    {
      "cell_type": "markdown",
      "metadata": {
        "id": "pkS5fKsnXkvb"
      },
      "source": [
        "# Split data to training set and testing set"
      ]
    },
    {
      "cell_type": "code",
      "metadata": {
        "id": "DNMowYF0YCZi"
      },
      "source": [
        "from sklearn.model_selection import train_test_split"
      ],
      "execution_count": 12,
      "outputs": []
    },
    {
      "cell_type": "code",
      "metadata": {
        "id": "XwGW62s2YxyP"
      },
      "source": [
        "X_train, y_train, X_test, y_test = train_test_split(df[\"text\"],\n",
        "                                                    df[\"target\"],\n",
        "                                                    test_size=0.15,\n",
        "                                                    random_state=40)"
      ],
      "execution_count": 13,
      "outputs": []
    },
    {
      "cell_type": "code",
      "metadata": {
        "colab": {
          "base_uri": "https://localhost:8080/"
        },
        "id": "qYWk-LnHb3Fd",
        "outputId": "698b0b52-d6a7-4cf6-a63d-4bef5baab3ca"
      },
      "source": [
        "X_train[:10]"
      ],
      "execution_count": 14,
      "outputs": [
        {
          "output_type": "execute_result",
          "data": {
            "text/plain": [
              "4599                                                            Jack Wilshere has poor injury recordand his off field behaviors doesn't help.#Arsenal\n",
              "6861    Why #Marijuana Is Critical For Research in Treating #PTSD\\n\\nhttp://t.co/T6fuAhFp7p \\n#hempoil #cannabis #marijuanaÛ_ http://t.co/RhE7dXM7Ey\n",
              "5404                                                                   New post: 'People are finally panicking about cable TV' http://t.co/df9FjonVeP\n",
              "2684                                            Ignition Knock (Detonation) Sensor-Senso Standard KS161 http://t.co/WadPP69LwJ http://t.co/yjTh2nABv5\n",
              "283                                                                                                                         the apocalypse is upon us\n",
              "2374                      Dr. Gridlock: HereÛªs what may have caused a Metro train to derail in downtown D.C. http://t.co/Pm2TNnFDWw #washingtonpost\n",
              "1588              One day I want someone to run for the ferry fall and crack there face open for almost knocking me over just to get on a boat ??????\n",
              "551         YA BOY CLIP VS 4KUS FULL BATTLE\\n\\n@15MofeRadio @Heavybag201 @battle_dom @QOTRING @BattleRapChris @Hughes1128 \\n\\nhttps://t.co/7SPyDy1csc\n",
              "1943                                                                                                 Dont even come if you worried about curfew #BC19\n",
              "2258             Businesses are deluged with invoices. Make yours stand oup with colour or shame and it's likely to rise to the top of the pay' pile.\n",
              "Name: text, dtype: object"
            ]
          },
          "metadata": {},
          "execution_count": 14
        }
      ]
    },
    {
      "cell_type": "markdown",
      "metadata": {
        "id": "k398q2NFb4YK"
      },
      "source": [
        "# Text tokenization"
      ]
    },
    {
      "cell_type": "code",
      "metadata": {
        "id": "0_o9K45qugyY"
      },
      "source": [
        "import tensorflow as tf\n",
        "from tensorflow.keras.layers.experimental.preprocessing import TextVectorization"
      ],
      "execution_count": 15,
      "outputs": []
    },
    {
      "cell_type": "code",
      "metadata": {
        "id": "pNThqNt0JPSc"
      },
      "source": [
        ""
      ],
      "execution_count": null,
      "outputs": []
    },
    {
      "cell_type": "code",
      "metadata": {
        "id": "z6ARTiS4uvn_"
      },
      "source": [
        "# Text vectorization by default\n",
        "text_vectorization = TextVectorization(max_tokens=None,   # how many word in the vocab lib\n",
        "                                       standardize='lower_and_strip_punctuation', # process the tab\n",
        "                                       split='whitespace', # split the token\n",
        "                                       ngrams=None, \n",
        "                                       output_mode='int', # map token to number\n",
        "                                       output_sequence_length=None,\n",
        "                                       pad_to_max_tokens=False, \n",
        "                                       vocabulary=None,)"
      ],
      "execution_count": 17,
      "outputs": []
    },
    {
      "cell_type": "markdown",
      "metadata": {
        "id": "fzGHltSYI9_p"
      },
      "source": [
        "`max_tokens` (the number of words in the vocabulary) common values: multiples of 10,000 (10,000, 20,000, 30,000)"
      ]
    },
    {
      "cell_type": "code",
      "metadata": {
        "colab": {
          "base_uri": "https://localhost:8080/"
        },
        "id": "CRxnq8VcGkoy",
        "outputId": "03f2672f-066e-4eee-e03f-d3a42bf1eae2"
      },
      "source": [
        "# Find average number of tikens (words) in the training Tweets\n",
        "# (total words)/(number of sentences)\n",
        "round(sum([len(sentence.split()) for sentence in X_train])/len(X_train))"
      ],
      "execution_count": 20,
      "outputs": [
        {
          "output_type": "execute_result",
          "data": {
            "text/plain": [
              "15"
            ]
          },
          "metadata": {},
          "execution_count": 20
        }
      ]
    },
    {
      "cell_type": "code",
      "metadata": {
        "colab": {
          "base_uri": "https://localhost:8080/"
        },
        "id": "F31WG7KqJzXl",
        "outputId": "682c9e96-d452-4416-c4d1-db3db8fff410"
      },
      "source": [
        "# max length of sentence (by word), on the training set\n",
        "sentences_length = [len(text.split()) for text in X_train]\n",
        "max(sentences_length)"
      ],
      "execution_count": 34,
      "outputs": [
        {
          "output_type": "execute_result",
          "data": {
            "text/plain": [
              "31"
            ]
          },
          "metadata": {},
          "execution_count": 34
        }
      ]
    },
    {
      "cell_type": "code",
      "metadata": {
        "colab": {
          "base_uri": "https://localhost:8080/",
          "height": 337
        },
        "id": "gsCYnFtuLR2F",
        "outputId": "020f588a-f21f-4894-8af8-7a1d9c9f11cd"
      },
      "source": [
        "fig = plt.figure(figsize=(6,5))\n",
        "sns.set_style('whitegrid')\n",
        "sns.histplot(sentences_length, color=\"#1A5276\")"
      ],
      "execution_count": 50,
      "outputs": [
        {
          "output_type": "execute_result",
          "data": {
            "text/plain": [
              "<matplotlib.axes._subplots.AxesSubplot at 0x7f4a743bbbd0>"
            ]
          },
          "metadata": {},
          "execution_count": 50
        },
        {
          "output_type": "display_data",
          "data": {
            "image/png": "[encoded data removed]",
            "text/plain": [
              "<Figure size 432x360 with 1 Axes>"
            ]
          },
          "metadata": {}
        }
      ]
    },
    {
      "cell_type": "markdown",
      "metadata": {
        "id": "RWCKDlx0IR7U"
      },
      "source": [
        "Custom parameters for text vectorization"
      ]
    },
    {
      "cell_type": "code",
      "metadata": {
        "id": "DEn0HyiAJf9G"
      },
      "source": [
        "# setup text vectorization parameters\n",
        "max_vocab_length = 20000\n",
        "max_length = 25"
      ],
      "execution_count": 71,
      "outputs": []
    },
    {
      "cell_type": "code",
      "metadata": {
        "id": "im2DNuzVJhLv"
      },
      "source": [
        "text_vectorization = TextVectorization(max_tokens=max_vocab_length,\n",
        "                                       output_mode=\"int\",\n",
        "                                       output_sequence_length=max_length)"
      ],
      "execution_count": 72,
      "outputs": []
    },
    {
      "cell_type": "markdown",
      "metadata": {
        "id": "D3C0bFgnOl6U"
      },
      "source": [
        "map the text_vectorization to the training data set"
      ]
    },
    {
      "cell_type": "code",
      "metadata": {
        "id": "cfnFQd7DKK4z"
      },
      "source": [
        "text_vectorization.adapt(X_train)"
      ],
      "execution_count": 73,
      "outputs": []
    },
    {
      "cell_type": "markdown",
      "metadata": {
        "id": "UwAUIaUDRuFy"
      },
      "source": [
        "Check some token"
      ]
    },
    {
      "cell_type": "code",
      "metadata": {
        "id": "Rutt5ASZRuXT"
      },
      "source": [
        "word_in_vocab = text_vectorization.get_vocabulary()"
      ],
      "execution_count": 74,
      "outputs": []
    },
    {
      "cell_type": "code",
      "metadata": {
        "colab": {
          "base_uri": "https://localhost:8080/"
        },
        "id": "QFYZLw1pRudn",
        "outputId": "692c5d0a-22b6-43a9-b176-a261e63e0753"
      },
      "source": [
        ""
      ],
      "execution_count": 76,
      "outputs": [
        {
          "output_type": "execute_result",
          "data": {
            "text/plain": [
              "20000"
            ]
          },
          "metadata": {},
          "execution_count": 76
        }
      ]
    },
    {
      "cell_type": "markdown",
      "metadata": {
        "id": "dZGfuCEkOknw"
      },
      "source": [
        "# Text Embedding Layer"
      ]
    }
  ]
}