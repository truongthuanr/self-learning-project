{
  "nbformat": 4,
  "nbformat_minor": 0,
  "metadata": {
    "colab": {
      "name": "06_QA_ChatBot.ipynb",
      "provenance": [],
      "mount_file_id": "https://github.com/truongthuanr/self-project/blob/main/06_QA_ChatBot.ipynb",
      "authorship_tag": "ABX9TyM4nEZioO/lc5JZzGYDT+Yj",
      "include_colab_link": true
    },
    "kernelspec": {
      "name": "python3",
      "display_name": "Python 3"
    },
    "language_info": {
      "name": "python"
    }
  },
  "cells": [
    {
      "cell_type": "markdown",
      "metadata": {
        "id": "view-in-github",
        "colab_type": "text"
      },
      "source": [
        "<a href=\"https://colab.research.google.com/github/truongthuanr/self-project/blob/main/06_QA_ChatBot.ipynb\" target=\"_parent\"><img src=\"https://colab.research.google.com/assets/colab-badge.svg\" alt=\"Open In Colab\"/></a>"
      ]
    },
    {
      "cell_type": "markdown",
      "metadata": {
        "id": "hmqEJ03IWNW6"
      },
      "source": [
        "# Information"
      ]
    },
    {
      "cell_type": "markdown",
      "metadata": {
        "id": "26q629jLUKIr"
      },
      "source": [
        "Reference: \n",
        "* [End-To-End Memory Networks](https://arxiv.org/pdf/1503.08895.pdf)"
      ]
    },
    {
      "cell_type": "markdown",
      "metadata": {
        "id": "z1Ie4ox6WO1C"
      },
      "source": [
        "# import data"
      ]
    },
    {
      "cell_type": "code",
      "metadata": {
        "id": "MbZ3fB8Eze0q"
      },
      "source": [
        "import numpy as np\n",
        "import pickle"
      ],
      "execution_count": 4,
      "outputs": []
    },
    {
      "cell_type": "code",
      "metadata": {
        "id": "vvLzr8HZy1oO"
      },
      "source": [
        "with open(\"/content/drive/MyDrive/01_Personal/01_Study/01_ML/04_QAChatBot/train_qa.txt\", \"rb\") as f:\n",
        "  train_data = pickle.load(f)"
      ],
      "execution_count": 18,
      "outputs": []
    },
    {
      "cell_type": "code",
      "metadata": {
        "id": "KF42gtM0zbNb"
      },
      "source": [
        ""
      ],
      "execution_count": null,
      "outputs": []
    }
  ]
}