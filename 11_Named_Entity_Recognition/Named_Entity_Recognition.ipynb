{
  "nbformat": 4,
  "nbformat_minor": 0,
  "metadata": {
    "colab": {
      "provenance": [],
      "authorship_tag": "ABX9TyOO5NrLXtrvp3PPoU6xqfg9",
      "include_colab_link": true
    },
    "kernelspec": {
      "name": "python3",
      "display_name": "Python 3"
    },
    "language_info": {
      "name": "python"
    },
    "widgets": {
      "application/vnd.jupyter.widget-state+json": {
        "4a6efee415e94b20821c0740d6fb635f": {
          "model_module": "@jupyter-widgets/controls",
          "model_name": "HBoxModel",
          "model_module_version": "1.5.0",
          "state": {
            "_dom_classes": [],
            "_model_module": "@jupyter-widgets/controls",
            "_model_module_version": "1.5.0",
            "_model_name": "HBoxModel",
            "_view_count": null,
            "_view_module": "@jupyter-widgets/controls",
            "_view_module_version": "1.5.0",
            "_view_name": "HBoxView",
            "box_style": "",
            "children": [
              "IPY_MODEL_aeeef6b1599542b18cbb3e6bb7f1ad88",
              "IPY_MODEL_b8be04b78062476e9fea1a05bc407b30",
              "IPY_MODEL_8b85da8028c249b393621e6039481741"
            ],
            "layout": "IPY_MODEL_bc1c4fce1f5047168fda61b8a82c14bd"
          }
        },
        "aeeef6b1599542b18cbb3e6bb7f1ad88": {
          "model_module": "@jupyter-widgets/controls",
          "model_name": "HTMLModel",
          "model_module_version": "1.5.0",
          "state": {
            "_dom_classes": [],
            "_model_module": "@jupyter-widgets/controls",
            "_model_module_version": "1.5.0",
            "_model_name": "HTMLModel",
            "_view_count": null,
            "_view_module": "@jupyter-widgets/controls",
            "_view_module_version": "1.5.0",
            "_view_name": "HTMLView",
            "description": "",
            "description_tooltip": null,
            "layout": "IPY_MODEL_2be7c5b59d264f3f868228c06dc58547",
            "placeholder": "​",
            "style": "IPY_MODEL_79423b8e463c496c82acbde2e864241a",
            "value": "Downloading data: 100%"
          }
        },
        "b8be04b78062476e9fea1a05bc407b30": {
          "model_module": "@jupyter-widgets/controls",
          "model_name": "FloatProgressModel",
          "model_module_version": "1.5.0",
          "state": {
            "_dom_classes": [],
            "_model_module": "@jupyter-widgets/controls",
            "_model_module_version": "1.5.0",
            "_model_name": "FloatProgressModel",
            "_view_count": null,
            "_view_module": "@jupyter-widgets/controls",
            "_view_module_version": "1.5.0",
            "_view_name": "ProgressView",
            "bar_style": "success",
            "description": "",
            "description_tooltip": null,
            "layout": "IPY_MODEL_23e92ae206bd4afeb4da892c0413f47c",
            "max": 1227788,
            "min": 0,
            "orientation": "horizontal",
            "style": "IPY_MODEL_3e3f0fad8cdc45ba8eaeadee01f877ee",
            "value": 1227788
          }
        },
        "8b85da8028c249b393621e6039481741": {
          "model_module": "@jupyter-widgets/controls",
          "model_name": "HTMLModel",
          "model_module_version": "1.5.0",
          "state": {
            "_dom_classes": [],
            "_model_module": "@jupyter-widgets/controls",
            "_model_module_version": "1.5.0",
            "_model_name": "HTMLModel",
            "_view_count": null,
            "_view_module": "@jupyter-widgets/controls",
            "_view_module_version": "1.5.0",
            "_view_name": "HTMLView",
            "description": "",
            "description_tooltip": null,
            "layout": "IPY_MODEL_cf16b4fe517a4b23bba87b1dcf1da60d",
            "placeholder": "​",
            "style": "IPY_MODEL_0bce372cd82748849843a5883a9f8ec7",
            "value": " 1.23M/1.23M [00:00&lt;00:00, 3.87MB/s]"
          }
        },
        "bc1c4fce1f5047168fda61b8a82c14bd": {
          "model_module": "@jupyter-widgets/base",
          "model_name": "LayoutModel",
          "model_module_version": "1.2.0",
          "state": {
            "_model_module": "@jupyter-widgets/base",
            "_model_module_version": "1.2.0",
            "_model_name": "LayoutModel",
            "_view_count": null,
            "_view_module": "@jupyter-widgets/base",
            "_view_module_version": "1.2.0",
            "_view_name": "LayoutView",
            "align_content": null,
            "align_items": null,
            "align_self": null,
            "border": null,
            "bottom": null,
            "display": null,
            "flex": null,
            "flex_flow": null,
            "grid_area": null,
            "grid_auto_columns": null,
            "grid_auto_flow": null,
            "grid_auto_rows": null,
            "grid_column": null,
            "grid_gap": null,
            "grid_row": null,
            "grid_template_areas": null,
            "grid_template_columns": null,
            "grid_template_rows": null,
            "height": null,
            "justify_content": null,
            "justify_items": null,
            "left": null,
            "margin": null,
            "max_height": null,
            "max_width": null,
            "min_height": null,
            "min_width": null,
            "object_fit": null,
            "object_position": null,
            "order": null,
            "overflow": null,
            "overflow_x": null,
            "overflow_y": null,
            "padding": null,
            "right": null,
            "top": null,
            "visibility": null,
            "width": null
          }
        },
        "2be7c5b59d264f3f868228c06dc58547": {
          "model_module": "@jupyter-widgets/base",
          "model_name": "LayoutModel",
          "model_module_version": "1.2.0",
          "state": {
            "_model_module": "@jupyter-widgets/base",
            "_model_module_version": "1.2.0",
            "_model_name": "LayoutModel",
            "_view_count": null,
            "_view_module": "@jupyter-widgets/base",
            "_view_module_version": "1.2.0",
            "_view_name": "LayoutView",
            "align_content": null,
            "align_items": null,
            "align_self": null,
            "border": null,
            "bottom": null,
            "display": null,
            "flex": null,
            "flex_flow": null,
            "grid_area": null,
            "grid_auto_columns": null,
            "grid_auto_flow": null,
            "grid_auto_rows": null,
            "grid_column": null,
            "grid_gap": null,
            "grid_row": null,
            "grid_template_areas": null,
            "grid_template_columns": null,
            "grid_template_rows": null,
            "height": null,
            "justify_content": null,
            "justify_items": null,
            "left": null,
            "margin": null,
            "max_height": null,
            "max_width": null,
            "min_height": null,
            "min_width": null,
            "object_fit": null,
            "object_position": null,
            "order": null,
            "overflow": null,
            "overflow_x": null,
            "overflow_y": null,
            "padding": null,
            "right": null,
            "top": null,
            "visibility": null,
            "width": null
          }
        },
        "79423b8e463c496c82acbde2e864241a": {
          "model_module": "@jupyter-widgets/controls",
          "model_name": "DescriptionStyleModel",
          "model_module_version": "1.5.0",
          "state": {
            "_model_module": "@jupyter-widgets/controls",
            "_model_module_version": "1.5.0",
            "_model_name": "DescriptionStyleModel",
            "_view_count": null,
            "_view_module": "@jupyter-widgets/base",
            "_view_module_version": "1.2.0",
            "_view_name": "StyleView",
            "description_width": ""
          }
        },
        "23e92ae206bd4afeb4da892c0413f47c": {
          "model_module": "@jupyter-widgets/base",
          "model_name": "LayoutModel",
          "model_module_version": "1.2.0",
          "state": {
            "_model_module": "@jupyter-widgets/base",
            "_model_module_version": "1.2.0",
            "_model_name": "LayoutModel",
            "_view_count": null,
            "_view_module": "@jupyter-widgets/base",
            "_view_module_version": "1.2.0",
            "_view_name": "LayoutView",
            "align_content": null,
            "align_items": null,
            "align_self": null,
            "border": null,
            "bottom": null,
            "display": null,
            "flex": null,
            "flex_flow": null,
            "grid_area": null,
            "grid_auto_columns": null,
            "grid_auto_flow": null,
            "grid_auto_rows": null,
            "grid_column": null,
            "grid_gap": null,
            "grid_row": null,
            "grid_template_areas": null,
            "grid_template_columns": null,
            "grid_template_rows": null,
            "height": null,
            "justify_content": null,
            "justify_items": null,
            "left": null,
            "margin": null,
            "max_height": null,
            "max_width": null,
            "min_height": null,
            "min_width": null,
            "object_fit": null,
            "object_position": null,
            "order": null,
            "overflow": null,
            "overflow_x": null,
            "overflow_y": null,
            "padding": null,
            "right": null,
            "top": null,
            "visibility": null,
            "width": null
          }
        },
        "3e3f0fad8cdc45ba8eaeadee01f877ee": {
          "model_module": "@jupyter-widgets/controls",
          "model_name": "ProgressStyleModel",
          "model_module_version": "1.5.0",
          "state": {
            "_model_module": "@jupyter-widgets/controls",
            "_model_module_version": "1.5.0",
            "_model_name": "ProgressStyleModel",
            "_view_count": null,
            "_view_module": "@jupyter-widgets/base",
            "_view_module_version": "1.2.0",
            "_view_name": "StyleView",
            "bar_color": null,
            "description_width": ""
          }
        },
        "cf16b4fe517a4b23bba87b1dcf1da60d": {
          "model_module": "@jupyter-widgets/base",
          "model_name": "LayoutModel",
          "model_module_version": "1.2.0",
          "state": {
            "_model_module": "@jupyter-widgets/base",
            "_model_module_version": "1.2.0",
            "_model_name": "LayoutModel",
            "_view_count": null,
            "_view_module": "@jupyter-widgets/base",
            "_view_module_version": "1.2.0",
            "_view_name": "LayoutView",
            "align_content": null,
            "align_items": null,
            "align_self": null,
            "border": null,
            "bottom": null,
            "display": null,
            "flex": null,
            "flex_flow": null,
            "grid_area": null,
            "grid_auto_columns": null,
            "grid_auto_flow": null,
            "grid_auto_rows": null,
            "grid_column": null,
            "grid_gap": null,
            "grid_row": null,
            "grid_template_areas": null,
            "grid_template_columns": null,
            "grid_template_rows": null,
            "height": null,
            "justify_content": null,
            "justify_items": null,
            "left": null,
            "margin": null,
            "max_height": null,
            "max_width": null,
            "min_height": null,
            "min_width": null,
            "object_fit": null,
            "object_position": null,
            "order": null,
            "overflow": null,
            "overflow_x": null,
            "overflow_y": null,
            "padding": null,
            "right": null,
            "top": null,
            "visibility": null,
            "width": null
          }
        },
        "0bce372cd82748849843a5883a9f8ec7": {
          "model_module": "@jupyter-widgets/controls",
          "model_name": "DescriptionStyleModel",
          "model_module_version": "1.5.0",
          "state": {
            "_model_module": "@jupyter-widgets/controls",
            "_model_module_version": "1.5.0",
            "_model_name": "DescriptionStyleModel",
            "_view_count": null,
            "_view_module": "@jupyter-widgets/base",
            "_view_module_version": "1.2.0",
            "_view_name": "StyleView",
            "description_width": ""
          }
        },
        "1bbc85f5ed7b4a6681550ab0ab050525": {
          "model_module": "@jupyter-widgets/controls",
          "model_name": "HBoxModel",
          "model_module_version": "1.5.0",
          "state": {
            "_dom_classes": [],
            "_model_module": "@jupyter-widgets/controls",
            "_model_module_version": "1.5.0",
            "_model_name": "HBoxModel",
            "_view_count": null,
            "_view_module": "@jupyter-widgets/controls",
            "_view_module_version": "1.5.0",
            "_view_name": "HBoxView",
            "box_style": "",
            "children": [
              "IPY_MODEL_390bd4a6659a41c4a9e9329318e91334",
              "IPY_MODEL_dc1cac0d562f46298b76ce9cc35a9fde",
              "IPY_MODEL_6a29840c98a34bd08d8396ed7645d488"
            ],
            "layout": "IPY_MODEL_e6b5c2ff76dc4bf297f4c30c9093720f"
          }
        },
        "390bd4a6659a41c4a9e9329318e91334": {
          "model_module": "@jupyter-widgets/controls",
          "model_name": "HTMLModel",
          "model_module_version": "1.5.0",
          "state": {
            "_dom_classes": [],
            "_model_module": "@jupyter-widgets/controls",
            "_model_module_version": "1.5.0",
            "_model_name": "HTMLModel",
            "_view_count": null,
            "_view_module": "@jupyter-widgets/controls",
            "_view_module_version": "1.5.0",
            "_view_name": "HTMLView",
            "description": "",
            "description_tooltip": null,
            "layout": "IPY_MODEL_0ff1adfebc434776bd768cfcabf7c4f3",
            "placeholder": "​",
            "style": "IPY_MODEL_c722cdffb47341aea6016ecd650d97f3",
            "value": "Downloading data: 100%"
          }
        },
        "dc1cac0d562f46298b76ce9cc35a9fde": {
          "model_module": "@jupyter-widgets/controls",
          "model_name": "FloatProgressModel",
          "model_module_version": "1.5.0",
          "state": {
            "_dom_classes": [],
            "_model_module": "@jupyter-widgets/controls",
            "_model_module_version": "1.5.0",
            "_model_name": "FloatProgressModel",
            "_view_count": null,
            "_view_module": "@jupyter-widgets/controls",
            "_view_module_version": "1.5.0",
            "_view_name": "ProgressView",
            "bar_style": "success",
            "description": "",
            "description_tooltip": null,
            "layout": "IPY_MODEL_af36026b7dbb499aa65f35493c47c518",
            "max": 311883,
            "min": 0,
            "orientation": "horizontal",
            "style": "IPY_MODEL_48371795ad7c42bd94017c005c77b0bd",
            "value": 311883
          }
        },
        "6a29840c98a34bd08d8396ed7645d488": {
          "model_module": "@jupyter-widgets/controls",
          "model_name": "HTMLModel",
          "model_module_version": "1.5.0",
          "state": {
            "_dom_classes": [],
            "_model_module": "@jupyter-widgets/controls",
            "_model_module_version": "1.5.0",
            "_model_name": "HTMLModel",
            "_view_count": null,
            "_view_module": "@jupyter-widgets/controls",
            "_view_module_version": "1.5.0",
            "_view_name": "HTMLView",
            "description": "",
            "description_tooltip": null,
            "layout": "IPY_MODEL_5e3083b32d074c1c859834b332f49576",
            "placeholder": "​",
            "style": "IPY_MODEL_1dc33c2fd1d54d259719b227e96e1fc8",
            "value": " 312k/312k [00:00&lt;00:00, 1.44MB/s]"
          }
        },
        "e6b5c2ff76dc4bf297f4c30c9093720f": {
          "model_module": "@jupyter-widgets/base",
          "model_name": "LayoutModel",
          "model_module_version": "1.2.0",
          "state": {
            "_model_module": "@jupyter-widgets/base",
            "_model_module_version": "1.2.0",
            "_model_name": "LayoutModel",
            "_view_count": null,
            "_view_module": "@jupyter-widgets/base",
            "_view_module_version": "1.2.0",
            "_view_name": "LayoutView",
            "align_content": null,
            "align_items": null,
            "align_self": null,
            "border": null,
            "bottom": null,
            "display": null,
            "flex": null,
            "flex_flow": null,
            "grid_area": null,
            "grid_auto_columns": null,
            "grid_auto_flow": null,
            "grid_auto_rows": null,
            "grid_column": null,
            "grid_gap": null,
            "grid_row": null,
            "grid_template_areas": null,
            "grid_template_columns": null,
            "grid_template_rows": null,
            "height": null,
            "justify_content": null,
            "justify_items": null,
            "left": null,
            "margin": null,
            "max_height": null,
            "max_width": null,
            "min_height": null,
            "min_width": null,
            "object_fit": null,
            "object_position": null,
            "order": null,
            "overflow": null,
            "overflow_x": null,
            "overflow_y": null,
            "padding": null,
            "right": null,
            "top": null,
            "visibility": null,
            "width": null
          }
        },
        "0ff1adfebc434776bd768cfcabf7c4f3": {
          "model_module": "@jupyter-widgets/base",
          "model_name": "LayoutModel",
          "model_module_version": "1.2.0",
          "state": {
            "_model_module": "@jupyter-widgets/base",
            "_model_module_version": "1.2.0",
            "_model_name": "LayoutModel",
            "_view_count": null,
            "_view_module": "@jupyter-widgets/base",
            "_view_module_version": "1.2.0",
            "_view_name": "LayoutView",
            "align_content": null,
            "align_items": null,
            "align_self": null,
            "border": null,
            "bottom": null,
            "display": null,
            "flex": null,
            "flex_flow": null,
            "grid_area": null,
            "grid_auto_columns": null,
            "grid_auto_flow": null,
            "grid_auto_rows": null,
            "grid_column": null,
            "grid_gap": null,
            "grid_row": null,
            "grid_template_areas": null,
            "grid_template_columns": null,
            "grid_template_rows": null,
            "height": null,
            "justify_content": null,
            "justify_items": null,
            "left": null,
            "margin": null,
            "max_height": null,
            "max_width": null,
            "min_height": null,
            "min_width": null,
            "object_fit": null,
            "object_position": null,
            "order": null,
            "overflow": null,
            "overflow_x": null,
            "overflow_y": null,
            "padding": null,
            "right": null,
            "top": null,
            "visibility": null,
            "width": null
          }
        },
        "c722cdffb47341aea6016ecd650d97f3": {
          "model_module": "@jupyter-widgets/controls",
          "model_name": "DescriptionStyleModel",
          "model_module_version": "1.5.0",
          "state": {
            "_model_module": "@jupyter-widgets/controls",
            "_model_module_version": "1.5.0",
            "_model_name": "DescriptionStyleModel",
            "_view_count": null,
            "_view_module": "@jupyter-widgets/base",
            "_view_module_version": "1.2.0",
            "_view_name": "StyleView",
            "description_width": ""
          }
        },
        "af36026b7dbb499aa65f35493c47c518": {
          "model_module": "@jupyter-widgets/base",
          "model_name": "LayoutModel",
          "model_module_version": "1.2.0",
          "state": {
            "_model_module": "@jupyter-widgets/base",
            "_model_module_version": "1.2.0",
            "_model_name": "LayoutModel",
            "_view_count": null,
            "_view_module": "@jupyter-widgets/base",
            "_view_module_version": "1.2.0",
            "_view_name": "LayoutView",
            "align_content": null,
            "align_items": null,
            "align_self": null,
            "border": null,
            "bottom": null,
            "display": null,
            "flex": null,
            "flex_flow": null,
            "grid_area": null,
            "grid_auto_columns": null,
            "grid_auto_flow": null,
            "grid_auto_rows": null,
            "grid_column": null,
            "grid_gap": null,
            "grid_row": null,
            "grid_template_areas": null,
            "grid_template_columns": null,
            "grid_template_rows": null,
            "height": null,
            "justify_content": null,
            "justify_items": null,
            "left": null,
            "margin": null,
            "max_height": null,
            "max_width": null,
            "min_height": null,
            "min_width": null,
            "object_fit": null,
            "object_position": null,
            "order": null,
            "overflow": null,
            "overflow_x": null,
            "overflow_y": null,
            "padding": null,
            "right": null,
            "top": null,
            "visibility": null,
            "width": null
          }
        },
        "48371795ad7c42bd94017c005c77b0bd": {
          "model_module": "@jupyter-widgets/controls",
          "model_name": "ProgressStyleModel",
          "model_module_version": "1.5.0",
          "state": {
            "_model_module": "@jupyter-widgets/controls",
            "_model_module_version": "1.5.0",
            "_model_name": "ProgressStyleModel",
            "_view_count": null,
            "_view_module": "@jupyter-widgets/base",
            "_view_module_version": "1.2.0",
            "_view_name": "StyleView",
            "bar_color": null,
            "description_width": ""
          }
        },
        "5e3083b32d074c1c859834b332f49576": {
          "model_module": "@jupyter-widgets/base",
          "model_name": "LayoutModel",
          "model_module_version": "1.2.0",
          "state": {
            "_model_module": "@jupyter-widgets/base",
            "_model_module_version": "1.2.0",
            "_model_name": "LayoutModel",
            "_view_count": null,
            "_view_module": "@jupyter-widgets/base",
            "_view_module_version": "1.2.0",
            "_view_name": "LayoutView",
            "align_content": null,
            "align_items": null,
            "align_self": null,
            "border": null,
            "bottom": null,
            "display": null,
            "flex": null,
            "flex_flow": null,
            "grid_area": null,
            "grid_auto_columns": null,
            "grid_auto_flow": null,
            "grid_auto_rows": null,
            "grid_column": null,
            "grid_gap": null,
            "grid_row": null,
            "grid_template_areas": null,
            "grid_template_columns": null,
            "grid_template_rows": null,
            "height": null,
            "justify_content": null,
            "justify_items": null,
            "left": null,
            "margin": null,
            "max_height": null,
            "max_width": null,
            "min_height": null,
            "min_width": null,
            "object_fit": null,
            "object_position": null,
            "order": null,
            "overflow": null,
            "overflow_x": null,
            "overflow_y": null,
            "padding": null,
            "right": null,
            "top": null,
            "visibility": null,
            "width": null
          }
        },
        "1dc33c2fd1d54d259719b227e96e1fc8": {
          "model_module": "@jupyter-widgets/controls",
          "model_name": "DescriptionStyleModel",
          "model_module_version": "1.5.0",
          "state": {
            "_model_module": "@jupyter-widgets/controls",
            "_model_module_version": "1.5.0",
            "_model_name": "DescriptionStyleModel",
            "_view_count": null,
            "_view_module": "@jupyter-widgets/base",
            "_view_module_version": "1.2.0",
            "_view_name": "StyleView",
            "description_width": ""
          }
        },
        "5080dc400e7c41bba14500acc5bcaef7": {
          "model_module": "@jupyter-widgets/controls",
          "model_name": "HBoxModel",
          "model_module_version": "1.5.0",
          "state": {
            "_dom_classes": [],
            "_model_module": "@jupyter-widgets/controls",
            "_model_module_version": "1.5.0",
            "_model_name": "HBoxModel",
            "_view_count": null,
            "_view_module": "@jupyter-widgets/controls",
            "_view_module_version": "1.5.0",
            "_view_name": "HBoxView",
            "box_style": "",
            "children": [
              "IPY_MODEL_7942024c44894a07a0e914c86c3be30c",
              "IPY_MODEL_b03906e1e0b448ce8705f729dfc3199a",
              "IPY_MODEL_7537c96cadf6457ca2f75564dc0b1f9c"
            ],
            "layout": "IPY_MODEL_db1ef2712eca4e2e90129a756d0e237b"
          }
        },
        "7942024c44894a07a0e914c86c3be30c": {
          "model_module": "@jupyter-widgets/controls",
          "model_name": "HTMLModel",
          "model_module_version": "1.5.0",
          "state": {
            "_dom_classes": [],
            "_model_module": "@jupyter-widgets/controls",
            "_model_module_version": "1.5.0",
            "_model_name": "HTMLModel",
            "_view_count": null,
            "_view_module": "@jupyter-widgets/controls",
            "_view_module_version": "1.5.0",
            "_view_name": "HTMLView",
            "description": "",
            "description_tooltip": null,
            "layout": "IPY_MODEL_82e8511ad5394a9b8bdfa75ed43eb17c",
            "placeholder": "​",
            "style": "IPY_MODEL_ddf485def5864b11b36cd343d745e4bf",
            "value": "Downloading data: 100%"
          }
        },
        "b03906e1e0b448ce8705f729dfc3199a": {
          "model_module": "@jupyter-widgets/controls",
          "model_name": "FloatProgressModel",
          "model_module_version": "1.5.0",
          "state": {
            "_dom_classes": [],
            "_model_module": "@jupyter-widgets/controls",
            "_model_module_version": "1.5.0",
            "_model_name": "FloatProgressModel",
            "_view_count": null,
            "_view_module": "@jupyter-widgets/controls",
            "_view_module_version": "1.5.0",
            "_view_name": "ProgressView",
            "bar_style": "success",
            "description": "",
            "description_tooltip": null,
            "layout": "IPY_MODEL_7f7d774cf1114d0e9c801c423dcdee61",
            "max": 283307,
            "min": 0,
            "orientation": "horizontal",
            "style": "IPY_MODEL_a3887a14715841b7b529c5012f8c9498",
            "value": 283307
          }
        },
        "7537c96cadf6457ca2f75564dc0b1f9c": {
          "model_module": "@jupyter-widgets/controls",
          "model_name": "HTMLModel",
          "model_module_version": "1.5.0",
          "state": {
            "_dom_classes": [],
            "_model_module": "@jupyter-widgets/controls",
            "_model_module_version": "1.5.0",
            "_model_name": "HTMLModel",
            "_view_count": null,
            "_view_module": "@jupyter-widgets/controls",
            "_view_module_version": "1.5.0",
            "_view_name": "HTMLView",
            "description": "",
            "description_tooltip": null,
            "layout": "IPY_MODEL_7daacd252ca240beae7ec4e47c5087df",
            "placeholder": "​",
            "style": "IPY_MODEL_d97eb60db38648338a95fec7e7d4a561",
            "value": " 283k/283k [00:00&lt;00:00, 1.04MB/s]"
          }
        },
        "db1ef2712eca4e2e90129a756d0e237b": {
          "model_module": "@jupyter-widgets/base",
          "model_name": "LayoutModel",
          "model_module_version": "1.2.0",
          "state": {
            "_model_module": "@jupyter-widgets/base",
            "_model_module_version": "1.2.0",
            "_model_name": "LayoutModel",
            "_view_count": null,
            "_view_module": "@jupyter-widgets/base",
            "_view_module_version": "1.2.0",
            "_view_name": "LayoutView",
            "align_content": null,
            "align_items": null,
            "align_self": null,
            "border": null,
            "bottom": null,
            "display": null,
            "flex": null,
            "flex_flow": null,
            "grid_area": null,
            "grid_auto_columns": null,
            "grid_auto_flow": null,
            "grid_auto_rows": null,
            "grid_column": null,
            "grid_gap": null,
            "grid_row": null,
            "grid_template_areas": null,
            "grid_template_columns": null,
            "grid_template_rows": null,
            "height": null,
            "justify_content": null,
            "justify_items": null,
            "left": null,
            "margin": null,
            "max_height": null,
            "max_width": null,
            "min_height": null,
            "min_width": null,
            "object_fit": null,
            "object_position": null,
            "order": null,
            "overflow": null,
            "overflow_x": null,
            "overflow_y": null,
            "padding": null,
            "right": null,
            "top": null,
            "visibility": null,
            "width": null
          }
        },
        "82e8511ad5394a9b8bdfa75ed43eb17c": {
          "model_module": "@jupyter-widgets/base",
          "model_name": "LayoutModel",
          "model_module_version": "1.2.0",
          "state": {
            "_model_module": "@jupyter-widgets/base",
            "_model_module_version": "1.2.0",
            "_model_name": "LayoutModel",
            "_view_count": null,
            "_view_module": "@jupyter-widgets/base",
            "_view_module_version": "1.2.0",
            "_view_name": "LayoutView",
            "align_content": null,
            "align_items": null,
            "align_self": null,
            "border": null,
            "bottom": null,
            "display": null,
            "flex": null,
            "flex_flow": null,
            "grid_area": null,
            "grid_auto_columns": null,
            "grid_auto_flow": null,
            "grid_auto_rows": null,
            "grid_column": null,
            "grid_gap": null,
            "grid_row": null,
            "grid_template_areas": null,
            "grid_template_columns": null,
            "grid_template_rows": null,
            "height": null,
            "justify_content": null,
            "justify_items": null,
            "left": null,
            "margin": null,
            "max_height": null,
            "max_width": null,
            "min_height": null,
            "min_width": null,
            "object_fit": null,
            "object_position": null,
            "order": null,
            "overflow": null,
            "overflow_x": null,
            "overflow_y": null,
            "padding": null,
            "right": null,
            "top": null,
            "visibility": null,
            "width": null
          }
        },
        "ddf485def5864b11b36cd343d745e4bf": {
          "model_module": "@jupyter-widgets/controls",
          "model_name": "DescriptionStyleModel",
          "model_module_version": "1.5.0",
          "state": {
            "_model_module": "@jupyter-widgets/controls",
            "_model_module_version": "1.5.0",
            "_model_name": "DescriptionStyleModel",
            "_view_count": null,
            "_view_module": "@jupyter-widgets/base",
            "_view_module_version": "1.2.0",
            "_view_name": "StyleView",
            "description_width": ""
          }
        },
        "7f7d774cf1114d0e9c801c423dcdee61": {
          "model_module": "@jupyter-widgets/base",
          "model_name": "LayoutModel",
          "model_module_version": "1.2.0",
          "state": {
            "_model_module": "@jupyter-widgets/base",
            "_model_module_version": "1.2.0",
            "_model_name": "LayoutModel",
            "_view_count": null,
            "_view_module": "@jupyter-widgets/base",
            "_view_module_version": "1.2.0",
            "_view_name": "LayoutView",
            "align_content": null,
            "align_items": null,
            "align_self": null,
            "border": null,
            "bottom": null,
            "display": null,
            "flex": null,
            "flex_flow": null,
            "grid_area": null,
            "grid_auto_columns": null,
            "grid_auto_flow": null,
            "grid_auto_rows": null,
            "grid_column": null,
            "grid_gap": null,
            "grid_row": null,
            "grid_template_areas": null,
            "grid_template_columns": null,
            "grid_template_rows": null,
            "height": null,
            "justify_content": null,
            "justify_items": null,
            "left": null,
            "margin": null,
            "max_height": null,
            "max_width": null,
            "min_height": null,
            "min_width": null,
            "object_fit": null,
            "object_position": null,
            "order": null,
            "overflow": null,
            "overflow_x": null,
            "overflow_y": null,
            "padding": null,
            "right": null,
            "top": null,
            "visibility": null,
            "width": null
          }
        },
        "a3887a14715841b7b529c5012f8c9498": {
          "model_module": "@jupyter-widgets/controls",
          "model_name": "ProgressStyleModel",
          "model_module_version": "1.5.0",
          "state": {
            "_model_module": "@jupyter-widgets/controls",
            "_model_module_version": "1.5.0",
            "_model_name": "ProgressStyleModel",
            "_view_count": null,
            "_view_module": "@jupyter-widgets/base",
            "_view_module_version": "1.2.0",
            "_view_name": "StyleView",
            "bar_color": null,
            "description_width": ""
          }
        },
        "7daacd252ca240beae7ec4e47c5087df": {
          "model_module": "@jupyter-widgets/base",
          "model_name": "LayoutModel",
          "model_module_version": "1.2.0",
          "state": {
            "_model_module": "@jupyter-widgets/base",
            "_model_module_version": "1.2.0",
            "_model_name": "LayoutModel",
            "_view_count": null,
            "_view_module": "@jupyter-widgets/base",
            "_view_module_version": "1.2.0",
            "_view_name": "LayoutView",
            "align_content": null,
            "align_items": null,
            "align_self": null,
            "border": null,
            "bottom": null,
            "display": null,
            "flex": null,
            "flex_flow": null,
            "grid_area": null,
            "grid_auto_columns": null,
            "grid_auto_flow": null,
            "grid_auto_rows": null,
            "grid_column": null,
            "grid_gap": null,
            "grid_row": null,
            "grid_template_areas": null,
            "grid_template_columns": null,
            "grid_template_rows": null,
            "height": null,
            "justify_content": null,
            "justify_items": null,
            "left": null,
            "margin": null,
            "max_height": null,
            "max_width": null,
            "min_height": null,
            "min_width": null,
            "object_fit": null,
            "object_position": null,
            "order": null,
            "overflow": null,
            "overflow_x": null,
            "overflow_y": null,
            "padding": null,
            "right": null,
            "top": null,
            "visibility": null,
            "width": null
          }
        },
        "d97eb60db38648338a95fec7e7d4a561": {
          "model_module": "@jupyter-widgets/controls",
          "model_name": "DescriptionStyleModel",
          "model_module_version": "1.5.0",
          "state": {
            "_model_module": "@jupyter-widgets/controls",
            "_model_module_version": "1.5.0",
            "_model_name": "DescriptionStyleModel",
            "_view_count": null,
            "_view_module": "@jupyter-widgets/base",
            "_view_module_version": "1.2.0",
            "_view_name": "StyleView",
            "description_width": ""
          }
        },
        "b5dd8174afca4daba905a99e47b07d7e": {
          "model_module": "@jupyter-widgets/controls",
          "model_name": "HBoxModel",
          "model_module_version": "1.5.0",
          "state": {
            "_dom_classes": [],
            "_model_module": "@jupyter-widgets/controls",
            "_model_module_version": "1.5.0",
            "_model_name": "HBoxModel",
            "_view_count": null,
            "_view_module": "@jupyter-widgets/controls",
            "_view_module_version": "1.5.0",
            "_view_name": "HBoxView",
            "box_style": "",
            "children": [
              "IPY_MODEL_f4dfe98a59d64ce6895cc76bbfc432ec",
              "IPY_MODEL_c5a147b540cb4c40992df5f965672d93",
              "IPY_MODEL_5dc4f5785bed427abdc075bab74c74d6"
            ],
            "layout": "IPY_MODEL_355bc49a1dc445f89fcc2b1c98f0a187"
          }
        },
        "f4dfe98a59d64ce6895cc76bbfc432ec": {
          "model_module": "@jupyter-widgets/controls",
          "model_name": "HTMLModel",
          "model_module_version": "1.5.0",
          "state": {
            "_dom_classes": [],
            "_model_module": "@jupyter-widgets/controls",
            "_model_module_version": "1.5.0",
            "_model_name": "HTMLModel",
            "_view_count": null,
            "_view_module": "@jupyter-widgets/controls",
            "_view_module_version": "1.5.0",
            "_view_name": "HTMLView",
            "description": "",
            "description_tooltip": null,
            "layout": "IPY_MODEL_e894161e36a04620971440034a21074a",
            "placeholder": "​",
            "style": "IPY_MODEL_00506dd1ec84434ab3c8805a0bc3d10f",
            "value": "Generating train split: "
          }
        },
        "c5a147b540cb4c40992df5f965672d93": {
          "model_module": "@jupyter-widgets/controls",
          "model_name": "FloatProgressModel",
          "model_module_version": "1.5.0",
          "state": {
            "_dom_classes": [],
            "_model_module": "@jupyter-widgets/controls",
            "_model_module_version": "1.5.0",
            "_model_name": "FloatProgressModel",
            "_view_count": null,
            "_view_module": "@jupyter-widgets/controls",
            "_view_module_version": "1.5.0",
            "_view_name": "ProgressView",
            "bar_style": "success",
            "description": "",
            "description_tooltip": null,
            "layout": "IPY_MODEL_56f3e078a8cb479b815cbf095c250a3c",
            "max": 1,
            "min": 0,
            "orientation": "horizontal",
            "style": "IPY_MODEL_76293c35ea0c44b698ade0386d064f9f",
            "value": 1
          }
        },
        "5dc4f5785bed427abdc075bab74c74d6": {
          "model_module": "@jupyter-widgets/controls",
          "model_name": "HTMLModel",
          "model_module_version": "1.5.0",
          "state": {
            "_dom_classes": [],
            "_model_module": "@jupyter-widgets/controls",
            "_model_module_version": "1.5.0",
            "_model_name": "HTMLModel",
            "_view_count": null,
            "_view_module": "@jupyter-widgets/controls",
            "_view_module_version": "1.5.0",
            "_view_name": "HTMLView",
            "description": "",
            "description_tooltip": null,
            "layout": "IPY_MODEL_3ffaa145cef9472e99110f1258868a12",
            "placeholder": "​",
            "style": "IPY_MODEL_af6d3787b18b4dc6898358c826517812",
            "value": " 14041/0 [00:00&lt;00:00, 56780.15 examples/s]"
          }
        },
        "355bc49a1dc445f89fcc2b1c98f0a187": {
          "model_module": "@jupyter-widgets/base",
          "model_name": "LayoutModel",
          "model_module_version": "1.2.0",
          "state": {
            "_model_module": "@jupyter-widgets/base",
            "_model_module_version": "1.2.0",
            "_model_name": "LayoutModel",
            "_view_count": null,
            "_view_module": "@jupyter-widgets/base",
            "_view_module_version": "1.2.0",
            "_view_name": "LayoutView",
            "align_content": null,
            "align_items": null,
            "align_self": null,
            "border": null,
            "bottom": null,
            "display": null,
            "flex": null,
            "flex_flow": null,
            "grid_area": null,
            "grid_auto_columns": null,
            "grid_auto_flow": null,
            "grid_auto_rows": null,
            "grid_column": null,
            "grid_gap": null,
            "grid_row": null,
            "grid_template_areas": null,
            "grid_template_columns": null,
            "grid_template_rows": null,
            "height": null,
            "justify_content": null,
            "justify_items": null,
            "left": null,
            "margin": null,
            "max_height": null,
            "max_width": null,
            "min_height": null,
            "min_width": null,
            "object_fit": null,
            "object_position": null,
            "order": null,
            "overflow": null,
            "overflow_x": null,
            "overflow_y": null,
            "padding": null,
            "right": null,
            "top": null,
            "visibility": null,
            "width": null
          }
        },
        "e894161e36a04620971440034a21074a": {
          "model_module": "@jupyter-widgets/base",
          "model_name": "LayoutModel",
          "model_module_version": "1.2.0",
          "state": {
            "_model_module": "@jupyter-widgets/base",
            "_model_module_version": "1.2.0",
            "_model_name": "LayoutModel",
            "_view_count": null,
            "_view_module": "@jupyter-widgets/base",
            "_view_module_version": "1.2.0",
            "_view_name": "LayoutView",
            "align_content": null,
            "align_items": null,
            "align_self": null,
            "border": null,
            "bottom": null,
            "display": null,
            "flex": null,
            "flex_flow": null,
            "grid_area": null,
            "grid_auto_columns": null,
            "grid_auto_flow": null,
            "grid_auto_rows": null,
            "grid_column": null,
            "grid_gap": null,
            "grid_row": null,
            "grid_template_areas": null,
            "grid_template_columns": null,
            "grid_template_rows": null,
            "height": null,
            "justify_content": null,
            "justify_items": null,
            "left": null,
            "margin": null,
            "max_height": null,
            "max_width": null,
            "min_height": null,
            "min_width": null,
            "object_fit": null,
            "object_position": null,
            "order": null,
            "overflow": null,
            "overflow_x": null,
            "overflow_y": null,
            "padding": null,
            "right": null,
            "top": null,
            "visibility": null,
            "width": null
          }
        },
        "00506dd1ec84434ab3c8805a0bc3d10f": {
          "model_module": "@jupyter-widgets/controls",
          "model_name": "DescriptionStyleModel",
          "model_module_version": "1.5.0",
          "state": {
            "_model_module": "@jupyter-widgets/controls",
            "_model_module_version": "1.5.0",
            "_model_name": "DescriptionStyleModel",
            "_view_count": null,
            "_view_module": "@jupyter-widgets/base",
            "_view_module_version": "1.2.0",
            "_view_name": "StyleView",
            "description_width": ""
          }
        },
        "56f3e078a8cb479b815cbf095c250a3c": {
          "model_module": "@jupyter-widgets/base",
          "model_name": "LayoutModel",
          "model_module_version": "1.2.0",
          "state": {
            "_model_module": "@jupyter-widgets/base",
            "_model_module_version": "1.2.0",
            "_model_name": "LayoutModel",
            "_view_count": null,
            "_view_module": "@jupyter-widgets/base",
            "_view_module_version": "1.2.0",
            "_view_name": "LayoutView",
            "align_content": null,
            "align_items": null,
            "align_self": null,
            "border": null,
            "bottom": null,
            "display": null,
            "flex": null,
            "flex_flow": null,
            "grid_area": null,
            "grid_auto_columns": null,
            "grid_auto_flow": null,
            "grid_auto_rows": null,
            "grid_column": null,
            "grid_gap": null,
            "grid_row": null,
            "grid_template_areas": null,
            "grid_template_columns": null,
            "grid_template_rows": null,
            "height": null,
            "justify_content": null,
            "justify_items": null,
            "left": null,
            "margin": null,
            "max_height": null,
            "max_width": null,
            "min_height": null,
            "min_width": null,
            "object_fit": null,
            "object_position": null,
            "order": null,
            "overflow": null,
            "overflow_x": null,
            "overflow_y": null,
            "padding": null,
            "right": null,
            "top": null,
            "visibility": null,
            "width": "20px"
          }
        },
        "76293c35ea0c44b698ade0386d064f9f": {
          "model_module": "@jupyter-widgets/controls",
          "model_name": "ProgressStyleModel",
          "model_module_version": "1.5.0",
          "state": {
            "_model_module": "@jupyter-widgets/controls",
            "_model_module_version": "1.5.0",
            "_model_name": "ProgressStyleModel",
            "_view_count": null,
            "_view_module": "@jupyter-widgets/base",
            "_view_module_version": "1.2.0",
            "_view_name": "StyleView",
            "bar_color": null,
            "description_width": ""
          }
        },
        "3ffaa145cef9472e99110f1258868a12": {
          "model_module": "@jupyter-widgets/base",
          "model_name": "LayoutModel",
          "model_module_version": "1.2.0",
          "state": {
            "_model_module": "@jupyter-widgets/base",
            "_model_module_version": "1.2.0",
            "_model_name": "LayoutModel",
            "_view_count": null,
            "_view_module": "@jupyter-widgets/base",
            "_view_module_version": "1.2.0",
            "_view_name": "LayoutView",
            "align_content": null,
            "align_items": null,
            "align_self": null,
            "border": null,
            "bottom": null,
            "display": null,
            "flex": null,
            "flex_flow": null,
            "grid_area": null,
            "grid_auto_columns": null,
            "grid_auto_flow": null,
            "grid_auto_rows": null,
            "grid_column": null,
            "grid_gap": null,
            "grid_row": null,
            "grid_template_areas": null,
            "grid_template_columns": null,
            "grid_template_rows": null,
            "height": null,
            "justify_content": null,
            "justify_items": null,
            "left": null,
            "margin": null,
            "max_height": null,
            "max_width": null,
            "min_height": null,
            "min_width": null,
            "object_fit": null,
            "object_position": null,
            "order": null,
            "overflow": null,
            "overflow_x": null,
            "overflow_y": null,
            "padding": null,
            "right": null,
            "top": null,
            "visibility": null,
            "width": null
          }
        },
        "af6d3787b18b4dc6898358c826517812": {
          "model_module": "@jupyter-widgets/controls",
          "model_name": "DescriptionStyleModel",
          "model_module_version": "1.5.0",
          "state": {
            "_model_module": "@jupyter-widgets/controls",
            "_model_module_version": "1.5.0",
            "_model_name": "DescriptionStyleModel",
            "_view_count": null,
            "_view_module": "@jupyter-widgets/base",
            "_view_module_version": "1.2.0",
            "_view_name": "StyleView",
            "description_width": ""
          }
        },
        "635363173d3148f980176182b98bc0c6": {
          "model_module": "@jupyter-widgets/controls",
          "model_name": "HBoxModel",
          "model_module_version": "1.5.0",
          "state": {
            "_dom_classes": [],
            "_model_module": "@jupyter-widgets/controls",
            "_model_module_version": "1.5.0",
            "_model_name": "HBoxModel",
            "_view_count": null,
            "_view_module": "@jupyter-widgets/controls",
            "_view_module_version": "1.5.0",
            "_view_name": "HBoxView",
            "box_style": "",
            "children": [
              "IPY_MODEL_6347d28db4284046a0ccd49fd907264c",
              "IPY_MODEL_1ec7f26bf7cf4b6297425e0e3aea6d4c",
              "IPY_MODEL_a8b85e559a2f43e79391254cccf1db87"
            ],
            "layout": "IPY_MODEL_ed2624a0ed88450790a2d76e1833f254"
          }
        },
        "6347d28db4284046a0ccd49fd907264c": {
          "model_module": "@jupyter-widgets/controls",
          "model_name": "HTMLModel",
          "model_module_version": "1.5.0",
          "state": {
            "_dom_classes": [],
            "_model_module": "@jupyter-widgets/controls",
            "_model_module_version": "1.5.0",
            "_model_name": "HTMLModel",
            "_view_count": null,
            "_view_module": "@jupyter-widgets/controls",
            "_view_module_version": "1.5.0",
            "_view_name": "HTMLView",
            "description": "",
            "description_tooltip": null,
            "layout": "IPY_MODEL_7db175fb363448c7b74993b257cf806e",
            "placeholder": "​",
            "style": "IPY_MODEL_3e73fe2c746a4249983cd3fefa33563d",
            "value": "Generating validation split: "
          }
        },
        "1ec7f26bf7cf4b6297425e0e3aea6d4c": {
          "model_module": "@jupyter-widgets/controls",
          "model_name": "FloatProgressModel",
          "model_module_version": "1.5.0",
          "state": {
            "_dom_classes": [],
            "_model_module": "@jupyter-widgets/controls",
            "_model_module_version": "1.5.0",
            "_model_name": "FloatProgressModel",
            "_view_count": null,
            "_view_module": "@jupyter-widgets/controls",
            "_view_module_version": "1.5.0",
            "_view_name": "ProgressView",
            "bar_style": "success",
            "description": "",
            "description_tooltip": null,
            "layout": "IPY_MODEL_c1a52f83fa454bac907d8c48ec5d5fe5",
            "max": 1,
            "min": 0,
            "orientation": "horizontal",
            "style": "IPY_MODEL_5375599e876842eba3f446e2d2780218",
            "value": 1
          }
        },
        "a8b85e559a2f43e79391254cccf1db87": {
          "model_module": "@jupyter-widgets/controls",
          "model_name": "HTMLModel",
          "model_module_version": "1.5.0",
          "state": {
            "_dom_classes": [],
            "_model_module": "@jupyter-widgets/controls",
            "_model_module_version": "1.5.0",
            "_model_name": "HTMLModel",
            "_view_count": null,
            "_view_module": "@jupyter-widgets/controls",
            "_view_module_version": "1.5.0",
            "_view_name": "HTMLView",
            "description": "",
            "description_tooltip": null,
            "layout": "IPY_MODEL_c054664d66584f8ebdffe8c317341a31",
            "placeholder": "​",
            "style": "IPY_MODEL_6686341090424c36a3337725fc16e7c7",
            "value": " 3250/0 [00:00&lt;00:00, 35746.00 examples/s]"
          }
        },
        "ed2624a0ed88450790a2d76e1833f254": {
          "model_module": "@jupyter-widgets/base",
          "model_name": "LayoutModel",
          "model_module_version": "1.2.0",
          "state": {
            "_model_module": "@jupyter-widgets/base",
            "_model_module_version": "1.2.0",
            "_model_name": "LayoutModel",
            "_view_count": null,
            "_view_module": "@jupyter-widgets/base",
            "_view_module_version": "1.2.0",
            "_view_name": "LayoutView",
            "align_content": null,
            "align_items": null,
            "align_self": null,
            "border": null,
            "bottom": null,
            "display": null,
            "flex": null,
            "flex_flow": null,
            "grid_area": null,
            "grid_auto_columns": null,
            "grid_auto_flow": null,
            "grid_auto_rows": null,
            "grid_column": null,
            "grid_gap": null,
            "grid_row": null,
            "grid_template_areas": null,
            "grid_template_columns": null,
            "grid_template_rows": null,
            "height": null,
            "justify_content": null,
            "justify_items": null,
            "left": null,
            "margin": null,
            "max_height": null,
            "max_width": null,
            "min_height": null,
            "min_width": null,
            "object_fit": null,
            "object_position": null,
            "order": null,
            "overflow": null,
            "overflow_x": null,
            "overflow_y": null,
            "padding": null,
            "right": null,
            "top": null,
            "visibility": null,
            "width": null
          }
        },
        "7db175fb363448c7b74993b257cf806e": {
          "model_module": "@jupyter-widgets/base",
          "model_name": "LayoutModel",
          "model_module_version": "1.2.0",
          "state": {
            "_model_module": "@jupyter-widgets/base",
            "_model_module_version": "1.2.0",
            "_model_name": "LayoutModel",
            "_view_count": null,
            "_view_module": "@jupyter-widgets/base",
            "_view_module_version": "1.2.0",
            "_view_name": "LayoutView",
            "align_content": null,
            "align_items": null,
            "align_self": null,
            "border": null,
            "bottom": null,
            "display": null,
            "flex": null,
            "flex_flow": null,
            "grid_area": null,
            "grid_auto_columns": null,
            "grid_auto_flow": null,
            "grid_auto_rows": null,
            "grid_column": null,
            "grid_gap": null,
            "grid_row": null,
            "grid_template_areas": null,
            "grid_template_columns": null,
            "grid_template_rows": null,
            "height": null,
            "justify_content": null,
            "justify_items": null,
            "left": null,
            "margin": null,
            "max_height": null,
            "max_width": null,
            "min_height": null,
            "min_width": null,
            "object_fit": null,
            "object_position": null,
            "order": null,
            "overflow": null,
            "overflow_x": null,
            "overflow_y": null,
            "padding": null,
            "right": null,
            "top": null,
            "visibility": null,
            "width": null
          }
        },
        "3e73fe2c746a4249983cd3fefa33563d": {
          "model_module": "@jupyter-widgets/controls",
          "model_name": "DescriptionStyleModel",
          "model_module_version": "1.5.0",
          "state": {
            "_model_module": "@jupyter-widgets/controls",
            "_model_module_version": "1.5.0",
            "_model_name": "DescriptionStyleModel",
            "_view_count": null,
            "_view_module": "@jupyter-widgets/base",
            "_view_module_version": "1.2.0",
            "_view_name": "StyleView",
            "description_width": ""
          }
        },
        "c1a52f83fa454bac907d8c48ec5d5fe5": {
          "model_module": "@jupyter-widgets/base",
          "model_name": "LayoutModel",
          "model_module_version": "1.2.0",
          "state": {
            "_model_module": "@jupyter-widgets/base",
            "_model_module_version": "1.2.0",
            "_model_name": "LayoutModel",
            "_view_count": null,
            "_view_module": "@jupyter-widgets/base",
            "_view_module_version": "1.2.0",
            "_view_name": "LayoutView",
            "align_content": null,
            "align_items": null,
            "align_self": null,
            "border": null,
            "bottom": null,
            "display": null,
            "flex": null,
            "flex_flow": null,
            "grid_area": null,
            "grid_auto_columns": null,
            "grid_auto_flow": null,
            "grid_auto_rows": null,
            "grid_column": null,
            "grid_gap": null,
            "grid_row": null,
            "grid_template_areas": null,
            "grid_template_columns": null,
            "grid_template_rows": null,
            "height": null,
            "justify_content": null,
            "justify_items": null,
            "left": null,
            "margin": null,
            "max_height": null,
            "max_width": null,
            "min_height": null,
            "min_width": null,
            "object_fit": null,
            "object_position": null,
            "order": null,
            "overflow": null,
            "overflow_x": null,
            "overflow_y": null,
            "padding": null,
            "right": null,
            "top": null,
            "visibility": null,
            "width": "20px"
          }
        },
        "5375599e876842eba3f446e2d2780218": {
          "model_module": "@jupyter-widgets/controls",
          "model_name": "ProgressStyleModel",
          "model_module_version": "1.5.0",
          "state": {
            "_model_module": "@jupyter-widgets/controls",
            "_model_module_version": "1.5.0",
            "_model_name": "ProgressStyleModel",
            "_view_count": null,
            "_view_module": "@jupyter-widgets/base",
            "_view_module_version": "1.2.0",
            "_view_name": "StyleView",
            "bar_color": null,
            "description_width": ""
          }
        },
        "c054664d66584f8ebdffe8c317341a31": {
          "model_module": "@jupyter-widgets/base",
          "model_name": "LayoutModel",
          "model_module_version": "1.2.0",
          "state": {
            "_model_module": "@jupyter-widgets/base",
            "_model_module_version": "1.2.0",
            "_model_name": "LayoutModel",
            "_view_count": null,
            "_view_module": "@jupyter-widgets/base",
            "_view_module_version": "1.2.0",
            "_view_name": "LayoutView",
            "align_content": null,
            "align_items": null,
            "align_self": null,
            "border": null,
            "bottom": null,
            "display": null,
            "flex": null,
            "flex_flow": null,
            "grid_area": null,
            "grid_auto_columns": null,
            "grid_auto_flow": null,
            "grid_auto_rows": null,
            "grid_column": null,
            "grid_gap": null,
            "grid_row": null,
            "grid_template_areas": null,
            "grid_template_columns": null,
            "grid_template_rows": null,
            "height": null,
            "justify_content": null,
            "justify_items": null,
            "left": null,
            "margin": null,
            "max_height": null,
            "max_width": null,
            "min_height": null,
            "min_width": null,
            "object_fit": null,
            "object_position": null,
            "order": null,
            "overflow": null,
            "overflow_x": null,
            "overflow_y": null,
            "padding": null,
            "right": null,
            "top": null,
            "visibility": null,
            "width": null
          }
        },
        "6686341090424c36a3337725fc16e7c7": {
          "model_module": "@jupyter-widgets/controls",
          "model_name": "DescriptionStyleModel",
          "model_module_version": "1.5.0",
          "state": {
            "_model_module": "@jupyter-widgets/controls",
            "_model_module_version": "1.5.0",
            "_model_name": "DescriptionStyleModel",
            "_view_count": null,
            "_view_module": "@jupyter-widgets/base",
            "_view_module_version": "1.2.0",
            "_view_name": "StyleView",
            "description_width": ""
          }
        },
        "beeac04b39ef44f8b535210bd078aaf3": {
          "model_module": "@jupyter-widgets/controls",
          "model_name": "HBoxModel",
          "model_module_version": "1.5.0",
          "state": {
            "_dom_classes": [],
            "_model_module": "@jupyter-widgets/controls",
            "_model_module_version": "1.5.0",
            "_model_name": "HBoxModel",
            "_view_count": null,
            "_view_module": "@jupyter-widgets/controls",
            "_view_module_version": "1.5.0",
            "_view_name": "HBoxView",
            "box_style": "",
            "children": [
              "IPY_MODEL_03dc2df2909d4a8fa14412c1aa784dff",
              "IPY_MODEL_eac71954a31f45a0b98cfdf7b7271a1f",
              "IPY_MODEL_5ec2b7c667014e6eace9f9fdfbfecda0"
            ],
            "layout": "IPY_MODEL_bfae87679c63434294f0da7c8e910f8a"
          }
        },
        "03dc2df2909d4a8fa14412c1aa784dff": {
          "model_module": "@jupyter-widgets/controls",
          "model_name": "HTMLModel",
          "model_module_version": "1.5.0",
          "state": {
            "_dom_classes": [],
            "_model_module": "@jupyter-widgets/controls",
            "_model_module_version": "1.5.0",
            "_model_name": "HTMLModel",
            "_view_count": null,
            "_view_module": "@jupyter-widgets/controls",
            "_view_module_version": "1.5.0",
            "_view_name": "HTMLView",
            "description": "",
            "description_tooltip": null,
            "layout": "IPY_MODEL_998c98170ccf4ee88aece6c973b19e26",
            "placeholder": "​",
            "style": "IPY_MODEL_2fbe416ae23b4334b2cdb386beb3c3b3",
            "value": "Generating test split: "
          }
        },
        "eac71954a31f45a0b98cfdf7b7271a1f": {
          "model_module": "@jupyter-widgets/controls",
          "model_name": "FloatProgressModel",
          "model_module_version": "1.5.0",
          "state": {
            "_dom_classes": [],
            "_model_module": "@jupyter-widgets/controls",
            "_model_module_version": "1.5.0",
            "_model_name": "FloatProgressModel",
            "_view_count": null,
            "_view_module": "@jupyter-widgets/controls",
            "_view_module_version": "1.5.0",
            "_view_name": "ProgressView",
            "bar_style": "success",
            "description": "",
            "description_tooltip": null,
            "layout": "IPY_MODEL_343f56920e8a4a49b8b92825b2d8b8ab",
            "max": 1,
            "min": 0,
            "orientation": "horizontal",
            "style": "IPY_MODEL_bf8daa77d79f47b1addfa0fc87e578a8",
            "value": 1
          }
        },
        "5ec2b7c667014e6eace9f9fdfbfecda0": {
          "model_module": "@jupyter-widgets/controls",
          "model_name": "HTMLModel",
          "model_module_version": "1.5.0",
          "state": {
            "_dom_classes": [],
            "_model_module": "@jupyter-widgets/controls",
            "_model_module_version": "1.5.0",
            "_model_name": "HTMLModel",
            "_view_count": null,
            "_view_module": "@jupyter-widgets/controls",
            "_view_module_version": "1.5.0",
            "_view_name": "HTMLView",
            "description": "",
            "description_tooltip": null,
            "layout": "IPY_MODEL_5d0e0a235b574fcca58e1170931ca8d5",
            "placeholder": "​",
            "style": "IPY_MODEL_add7dbc5339c46cba9d68b00a47635f3",
            "value": " 3453/0 [00:00&lt;00:00, 30781.28 examples/s]"
          }
        },
        "bfae87679c63434294f0da7c8e910f8a": {
          "model_module": "@jupyter-widgets/base",
          "model_name": "LayoutModel",
          "model_module_version": "1.2.0",
          "state": {
            "_model_module": "@jupyter-widgets/base",
            "_model_module_version": "1.2.0",
            "_model_name": "LayoutModel",
            "_view_count": null,
            "_view_module": "@jupyter-widgets/base",
            "_view_module_version": "1.2.0",
            "_view_name": "LayoutView",
            "align_content": null,
            "align_items": null,
            "align_self": null,
            "border": null,
            "bottom": null,
            "display": null,
            "flex": null,
            "flex_flow": null,
            "grid_area": null,
            "grid_auto_columns": null,
            "grid_auto_flow": null,
            "grid_auto_rows": null,
            "grid_column": null,
            "grid_gap": null,
            "grid_row": null,
            "grid_template_areas": null,
            "grid_template_columns": null,
            "grid_template_rows": null,
            "height": null,
            "justify_content": null,
            "justify_items": null,
            "left": null,
            "margin": null,
            "max_height": null,
            "max_width": null,
            "min_height": null,
            "min_width": null,
            "object_fit": null,
            "object_position": null,
            "order": null,
            "overflow": null,
            "overflow_x": null,
            "overflow_y": null,
            "padding": null,
            "right": null,
            "top": null,
            "visibility": null,
            "width": null
          }
        },
        "998c98170ccf4ee88aece6c973b19e26": {
          "model_module": "@jupyter-widgets/base",
          "model_name": "LayoutModel",
          "model_module_version": "1.2.0",
          "state": {
            "_model_module": "@jupyter-widgets/base",
            "_model_module_version": "1.2.0",
            "_model_name": "LayoutModel",
            "_view_count": null,
            "_view_module": "@jupyter-widgets/base",
            "_view_module_version": "1.2.0",
            "_view_name": "LayoutView",
            "align_content": null,
            "align_items": null,
            "align_self": null,
            "border": null,
            "bottom": null,
            "display": null,
            "flex": null,
            "flex_flow": null,
            "grid_area": null,
            "grid_auto_columns": null,
            "grid_auto_flow": null,
            "grid_auto_rows": null,
            "grid_column": null,
            "grid_gap": null,
            "grid_row": null,
            "grid_template_areas": null,
            "grid_template_columns": null,
            "grid_template_rows": null,
            "height": null,
            "justify_content": null,
            "justify_items": null,
            "left": null,
            "margin": null,
            "max_height": null,
            "max_width": null,
            "min_height": null,
            "min_width": null,
            "object_fit": null,
            "object_position": null,
            "order": null,
            "overflow": null,
            "overflow_x": null,
            "overflow_y": null,
            "padding": null,
            "right": null,
            "top": null,
            "visibility": null,
            "width": null
          }
        },
        "2fbe416ae23b4334b2cdb386beb3c3b3": {
          "model_module": "@jupyter-widgets/controls",
          "model_name": "DescriptionStyleModel",
          "model_module_version": "1.5.0",
          "state": {
            "_model_module": "@jupyter-widgets/controls",
            "_model_module_version": "1.5.0",
            "_model_name": "DescriptionStyleModel",
            "_view_count": null,
            "_view_module": "@jupyter-widgets/base",
            "_view_module_version": "1.2.0",
            "_view_name": "StyleView",
            "description_width": ""
          }
        },
        "343f56920e8a4a49b8b92825b2d8b8ab": {
          "model_module": "@jupyter-widgets/base",
          "model_name": "LayoutModel",
          "model_module_version": "1.2.0",
          "state": {
            "_model_module": "@jupyter-widgets/base",
            "_model_module_version": "1.2.0",
            "_model_name": "LayoutModel",
            "_view_count": null,
            "_view_module": "@jupyter-widgets/base",
            "_view_module_version": "1.2.0",
            "_view_name": "LayoutView",
            "align_content": null,
            "align_items": null,
            "align_self": null,
            "border": null,
            "bottom": null,
            "display": null,
            "flex": null,
            "flex_flow": null,
            "grid_area": null,
            "grid_auto_columns": null,
            "grid_auto_flow": null,
            "grid_auto_rows": null,
            "grid_column": null,
            "grid_gap": null,
            "grid_row": null,
            "grid_template_areas": null,
            "grid_template_columns": null,
            "grid_template_rows": null,
            "height": null,
            "justify_content": null,
            "justify_items": null,
            "left": null,
            "margin": null,
            "max_height": null,
            "max_width": null,
            "min_height": null,
            "min_width": null,
            "object_fit": null,
            "object_position": null,
            "order": null,
            "overflow": null,
            "overflow_x": null,
            "overflow_y": null,
            "padding": null,
            "right": null,
            "top": null,
            "visibility": null,
            "width": "20px"
          }
        },
        "bf8daa77d79f47b1addfa0fc87e578a8": {
          "model_module": "@jupyter-widgets/controls",
          "model_name": "ProgressStyleModel",
          "model_module_version": "1.5.0",
          "state": {
            "_model_module": "@jupyter-widgets/controls",
            "_model_module_version": "1.5.0",
            "_model_name": "ProgressStyleModel",
            "_view_count": null,
            "_view_module": "@jupyter-widgets/base",
            "_view_module_version": "1.2.0",
            "_view_name": "StyleView",
            "bar_color": null,
            "description_width": ""
          }
        },
        "5d0e0a235b574fcca58e1170931ca8d5": {
          "model_module": "@jupyter-widgets/base",
          "model_name": "LayoutModel",
          "model_module_version": "1.2.0",
          "state": {
            "_model_module": "@jupyter-widgets/base",
            "_model_module_version": "1.2.0",
            "_model_name": "LayoutModel",
            "_view_count": null,
            "_view_module": "@jupyter-widgets/base",
            "_view_module_version": "1.2.0",
            "_view_name": "LayoutView",
            "align_content": null,
            "align_items": null,
            "align_self": null,
            "border": null,
            "bottom": null,
            "display": null,
            "flex": null,
            "flex_flow": null,
            "grid_area": null,
            "grid_auto_columns": null,
            "grid_auto_flow": null,
            "grid_auto_rows": null,
            "grid_column": null,
            "grid_gap": null,
            "grid_row": null,
            "grid_template_areas": null,
            "grid_template_columns": null,
            "grid_template_rows": null,
            "height": null,
            "justify_content": null,
            "justify_items": null,
            "left": null,
            "margin": null,
            "max_height": null,
            "max_width": null,
            "min_height": null,
            "min_width": null,
            "object_fit": null,
            "object_position": null,
            "order": null,
            "overflow": null,
            "overflow_x": null,
            "overflow_y": null,
            "padding": null,
            "right": null,
            "top": null,
            "visibility": null,
            "width": null
          }
        },
        "add7dbc5339c46cba9d68b00a47635f3": {
          "model_module": "@jupyter-widgets/controls",
          "model_name": "DescriptionStyleModel",
          "model_module_version": "1.5.0",
          "state": {
            "_model_module": "@jupyter-widgets/controls",
            "_model_module_version": "1.5.0",
            "_model_name": "DescriptionStyleModel",
            "_view_count": null,
            "_view_module": "@jupyter-widgets/base",
            "_view_module_version": "1.2.0",
            "_view_name": "StyleView",
            "description_width": ""
          }
        }
      }
    }
  },
  "cells": [
    {
      "cell_type": "markdown",
      "metadata": {
        "id": "view-in-github",
        "colab_type": "text"
      },
      "source": [
        "<a href=\"https://colab.research.google.com/github/truongthuanr/self-project/blob/dev/11_Named_Entity_Recognition/Named_Entity_Recognition.ipynb\" target=\"_parent\"><img src=\"https://colab.research.google.com/assets/colab-badge.svg\" alt=\"Open In Colab\"/></a>"
      ]
    },
    {
      "cell_type": "code",
      "execution_count": 1,
      "metadata": {
        "id": "GQ4EHIZSuKoy"
      },
      "outputs": [],
      "source": [
        "\n",
        "%%capture\n",
        "!pip3 install datasets\n"
      ]
    },
    {
      "cell_type": "code",
      "source": [],
      "metadata": {
        "id": "-vs1nwq-sqDD"
      },
      "execution_count": 1,
      "outputs": []
    },
    {
      "cell_type": "code",
      "source": [
        "\n",
        "import numpy as np\n",
        "import pandas as pd\n",
        "import tensorflow as tf\n",
        "from keras.preprocessing.sequence import pad_sequences\n",
        "from datasets import load_dataset\n",
        "import os\n"
      ],
      "metadata": {
        "id": "77nCH9814O5t"
      },
      "execution_count": 2,
      "outputs": []
    },
    {
      "cell_type": "code",
      "source": [
        "from keras.models import Model\n",
        "from keras.layers import Input,Embedding,TimeDistributed,\\\n",
        "                         Dropout,Conv1D,MaxPooling1D,\\\n",
        "                         Flatten,Bidirectional,LSTM,Dense,\\\n",
        "                         concatenate\n",
        "\n",
        "from keras.initializers import RandomUniform\n",
        "\n",
        "from keras.optimizers import Adam\n",
        "\n",
        "\n",
        "\n"
      ],
      "metadata": {
        "id": "RiTU7d_YHfc9"
      },
      "execution_count": 3,
      "outputs": []
    },
    {
      "cell_type": "code",
      "source": [
        "# For vetorization\n",
        "max_word_tokens = 24000\n",
        "max_sentence_length = 30\n",
        "max_word_len = 20\n"
      ],
      "metadata": {
        "id": "xjhrsmahYN2x"
      },
      "execution_count": 4,
      "outputs": []
    },
    {
      "cell_type": "markdown",
      "source": [
        "# Dataset"
      ],
      "metadata": {
        "id": "sxvsybnTHfi4"
      }
    },
    {
      "cell_type": "markdown",
      "source": [
        "Used dataset:\n",
        "\n",
        "https://huggingface.co/datasets/conll2003"
      ],
      "metadata": {
        "id": "jV1nsHAAHo_L"
      }
    },
    {
      "cell_type": "code",
      "source": [
        "conll_data = load_dataset(\"conll2003\")"
      ],
      "metadata": {
        "colab": {
          "base_uri": "https://localhost:8080/",
          "height": 336,
          "referenced_widgets": [
            "4a6efee415e94b20821c0740d6fb635f",
            "aeeef6b1599542b18cbb3e6bb7f1ad88",
            "b8be04b78062476e9fea1a05bc407b30",
            "8b85da8028c249b393621e6039481741",
            "bc1c4fce1f5047168fda61b8a82c14bd",
            "2be7c5b59d264f3f868228c06dc58547",
            "79423b8e463c496c82acbde2e864241a",
            "23e92ae206bd4afeb4da892c0413f47c",
            "3e3f0fad8cdc45ba8eaeadee01f877ee",
            "cf16b4fe517a4b23bba87b1dcf1da60d",
            "0bce372cd82748849843a5883a9f8ec7",
            "1bbc85f5ed7b4a6681550ab0ab050525",
            "390bd4a6659a41c4a9e9329318e91334",
            "dc1cac0d562f46298b76ce9cc35a9fde",
            "6a29840c98a34bd08d8396ed7645d488",
            "e6b5c2ff76dc4bf297f4c30c9093720f",
            "0ff1adfebc434776bd768cfcabf7c4f3",
            "c722cdffb47341aea6016ecd650d97f3",
            "af36026b7dbb499aa65f35493c47c518",
            "48371795ad7c42bd94017c005c77b0bd",
            "5e3083b32d074c1c859834b332f49576",
            "1dc33c2fd1d54d259719b227e96e1fc8",
            "5080dc400e7c41bba14500acc5bcaef7",
            "7942024c44894a07a0e914c86c3be30c",
            "b03906e1e0b448ce8705f729dfc3199a",
            "7537c96cadf6457ca2f75564dc0b1f9c",
            "db1ef2712eca4e2e90129a756d0e237b",
            "82e8511ad5394a9b8bdfa75ed43eb17c",
            "ddf485def5864b11b36cd343d745e4bf",
            "7f7d774cf1114d0e9c801c423dcdee61",
            "a3887a14715841b7b529c5012f8c9498",
            "7daacd252ca240beae7ec4e47c5087df",
            "d97eb60db38648338a95fec7e7d4a561",
            "b5dd8174afca4daba905a99e47b07d7e",
            "f4dfe98a59d64ce6895cc76bbfc432ec",
            "c5a147b540cb4c40992df5f965672d93",
            "5dc4f5785bed427abdc075bab74c74d6",
            "355bc49a1dc445f89fcc2b1c98f0a187",
            "e894161e36a04620971440034a21074a",
            "00506dd1ec84434ab3c8805a0bc3d10f",
            "56f3e078a8cb479b815cbf095c250a3c",
            "76293c35ea0c44b698ade0386d064f9f",
            "3ffaa145cef9472e99110f1258868a12",
            "af6d3787b18b4dc6898358c826517812",
            "635363173d3148f980176182b98bc0c6",
            "6347d28db4284046a0ccd49fd907264c",
            "1ec7f26bf7cf4b6297425e0e3aea6d4c",
            "a8b85e559a2f43e79391254cccf1db87",
            "ed2624a0ed88450790a2d76e1833f254",
            "7db175fb363448c7b74993b257cf806e",
            "3e73fe2c746a4249983cd3fefa33563d",
            "c1a52f83fa454bac907d8c48ec5d5fe5",
            "5375599e876842eba3f446e2d2780218",
            "c054664d66584f8ebdffe8c317341a31",
            "6686341090424c36a3337725fc16e7c7",
            "beeac04b39ef44f8b535210bd078aaf3",
            "03dc2df2909d4a8fa14412c1aa784dff",
            "eac71954a31f45a0b98cfdf7b7271a1f",
            "5ec2b7c667014e6eace9f9fdfbfecda0",
            "bfae87679c63434294f0da7c8e910f8a",
            "998c98170ccf4ee88aece6c973b19e26",
            "2fbe416ae23b4334b2cdb386beb3c3b3",
            "343f56920e8a4a49b8b92825b2d8b8ab",
            "bf8daa77d79f47b1addfa0fc87e578a8",
            "5d0e0a235b574fcca58e1170931ca8d5",
            "add7dbc5339c46cba9d68b00a47635f3"
          ]
        },
        "id": "MSK4n-lEHfsw",
        "outputId": "41618dcc-1c8a-4c9f-bbf6-e4dd1a79e7ac"
      },
      "execution_count": 5,
      "outputs": [
        {
          "output_type": "stream",
          "name": "stderr",
          "text": [
            "/usr/local/lib/python3.10/dist-packages/huggingface_hub/utils/_token.py:88: UserWarning: \n",
            "The secret `HF_TOKEN` does not exist in your Colab secrets.\n",
            "To authenticate with the Hugging Face Hub, create a token in your settings tab (https://huggingface.co/settings/tokens), set it as secret in your Google Colab and restart your session.\n",
            "You will be able to reuse this secret in all of your notebooks.\n",
            "Please note that authentication is recommended but still optional to access public models or datasets.\n",
            "  warnings.warn(\n"
          ]
        },
        {
          "output_type": "display_data",
          "data": {
            "text/plain": [
              "Downloading data:   0%|          | 0.00/1.23M [00:00<?, ?B/s]"
            ],
            "application/vnd.jupyter.widget-view+json": {
              "version_major": 2,
              "version_minor": 0,
              "model_id": "4a6efee415e94b20821c0740d6fb635f"
            }
          },
          "metadata": {}
        },
        {
          "output_type": "display_data",
          "data": {
            "text/plain": [
              "Downloading data:   0%|          | 0.00/312k [00:00<?, ?B/s]"
            ],
            "application/vnd.jupyter.widget-view+json": {
              "version_major": 2,
              "version_minor": 0,
              "model_id": "1bbc85f5ed7b4a6681550ab0ab050525"
            }
          },
          "metadata": {}
        },
        {
          "output_type": "display_data",
          "data": {
            "text/plain": [
              "Downloading data:   0%|          | 0.00/283k [00:00<?, ?B/s]"
            ],
            "application/vnd.jupyter.widget-view+json": {
              "version_major": 2,
              "version_minor": 0,
              "model_id": "5080dc400e7c41bba14500acc5bcaef7"
            }
          },
          "metadata": {}
        },
        {
          "output_type": "display_data",
          "data": {
            "text/plain": [
              "Generating train split: 0 examples [00:00, ? examples/s]"
            ],
            "application/vnd.jupyter.widget-view+json": {
              "version_major": 2,
              "version_minor": 0,
              "model_id": "b5dd8174afca4daba905a99e47b07d7e"
            }
          },
          "metadata": {}
        },
        {
          "output_type": "display_data",
          "data": {
            "text/plain": [
              "Generating validation split: 0 examples [00:00, ? examples/s]"
            ],
            "application/vnd.jupyter.widget-view+json": {
              "version_major": 2,
              "version_minor": 0,
              "model_id": "635363173d3148f980176182b98bc0c6"
            }
          },
          "metadata": {}
        },
        {
          "output_type": "display_data",
          "data": {
            "text/plain": [
              "Generating test split: 0 examples [00:00, ? examples/s]"
            ],
            "application/vnd.jupyter.widget-view+json": {
              "version_major": 2,
              "version_minor": 0,
              "model_id": "beeac04b39ef44f8b535210bd078aaf3"
            }
          },
          "metadata": {}
        }
      ]
    },
    {
      "cell_type": "code",
      "source": [],
      "metadata": {
        "id": "v4xeBd3WHqEA"
      },
      "execution_count": 5,
      "outputs": []
    },
    {
      "cell_type": "markdown",
      "source": [
        "# Data preprocessing\n"
      ],
      "metadata": {
        "id": "XGNsJro-pu9E"
      }
    },
    {
      "cell_type": "markdown",
      "source": [
        "## Character processing"
      ],
      "metadata": {
        "id": "Nz0msAOcCEzr"
      }
    },
    {
      "cell_type": "code",
      "source": [
        "char2Idx = {\"PADDING\":0, \"UNKNOWN\":1}\n",
        "for c in \" 0123456789abcdefghijklmnopqrstuvwxyzABCDEFGHIJKLMNOPQRSTUVWXYZ.,-_()[]{}!?:;#'\\\"/\\\\%$`&=*+@^~|\":\n",
        "    char2Idx[c] = len(char2Idx)\n",
        "len(char2Idx)"
      ],
      "metadata": {
        "id": "NgJ97l1FCKxt",
        "outputId": "40e19919-a130-47ec-b955-9d2b0af6e917",
        "colab": {
          "base_uri": "https://localhost:8080/"
        }
      },
      "execution_count": 6,
      "outputs": [
        {
          "output_type": "execute_result",
          "data": {
            "text/plain": [
              "95"
            ]
          },
          "metadata": {},
          "execution_count": 6
        }
      ]
    },
    {
      "cell_type": "code",
      "source": [
        "def character_vectorize(X):\n",
        "  data_vec = []\n",
        "  for sentence in X:\n",
        "    # print(f\"Sentence: {sentence}\")\n",
        "    padchar = char2Idx['PADDING']\n",
        "    sentence_vec=[]\n",
        "    for word in sentence:\n",
        "      # print(word)\n",
        "      chars = []\n",
        "      if len(word) >= max_word_len:\n",
        "\n",
        "        chars=[char2Idx[c] for c in word[:max_word_len]]\n",
        "      else:\n",
        "        prepad=int((max_word_len-len(word))/2)\n",
        "        postpad=max_word_len-(len(word)+prepad)\n",
        "        chars.extend([padchar]*prepad)\n",
        "        chars.extend([char2Idx[c] for c in word])\n",
        "        chars.extend([padchar]*postpad)\n",
        "      sentence_vec.append(chars)\n",
        "\n",
        "    data_vec.append(sentence_vec)\n",
        "  data_vec = np.asarray(data_vec, dtype=object)\n",
        "  return data_vec\n",
        "\n",
        "\n",
        "\n",
        "\n",
        "# X_train_char = conll_data['train']['tokens']\n",
        "\n",
        "# X_train_char = character_vectorize(X_train_char)\n",
        "# X_train_char = pad_sequences(sequences = X_train_char,\n",
        "#                              maxlen=max_sentence_length,\n",
        "#                              dtype=object,\n",
        "#                              padding=\"post\",\n",
        "#                              truncating=\"post\",\n",
        "#                              value=0)\n",
        "# X_train_char = np.asarray(X_train_char,\n",
        "#                           dtype=np.float32)"
      ],
      "metadata": {
        "id": "Zl7amGnoCdGI"
      },
      "execution_count": 7,
      "outputs": []
    },
    {
      "cell_type": "code",
      "source": [],
      "metadata": {
        "id": "XNzREn97D2p9"
      },
      "execution_count": 7,
      "outputs": []
    },
    {
      "cell_type": "code",
      "source": [
        "def char_preprocessing(char_input):\n",
        "  '''\n",
        "  input:: char_input: list of words\n",
        "  output: vecterized array of character\n",
        "  with shape(sentences, max_sentence_len, max_word_len)\n",
        "  '''\n",
        "  X_chars = character_vectorize(char_input)\n",
        "  X_chars = pad_sequences(sequences = X_chars,\n",
        "                          maxlen=max_sentence_length,\n",
        "                          dtype=object,\n",
        "                          padding=\"post\",\n",
        "                          truncating=\"post\",\n",
        "                          value=0)\n",
        "\n",
        "  X_chars = np.asarray(X_chars,\n",
        "                       dtype=np.float32)\n",
        "\n",
        "  return X_chars"
      ],
      "metadata": {
        "id": "cAxOgd3o_Qev"
      },
      "execution_count": 8,
      "outputs": []
    },
    {
      "cell_type": "code",
      "source": [
        "X_train_char = conll_data['train']['tokens']\n",
        "X_train_char = char_preprocessing(X_train_char)"
      ],
      "metadata": {
        "id": "xBniP-LcEiPy"
      },
      "execution_count": 9,
      "outputs": []
    },
    {
      "cell_type": "code",
      "source": [],
      "metadata": {
        "id": "vOdXn7jdqMYn"
      },
      "execution_count": 9,
      "outputs": []
    },
    {
      "cell_type": "markdown",
      "source": [
        "## Word preprocessing"
      ],
      "metadata": {
        "id": "kQ4au8k9_Qoh"
      }
    },
    {
      "cell_type": "code",
      "source": [],
      "metadata": {
        "id": "r6Uz_LNHExdc"
      },
      "execution_count": 9,
      "outputs": []
    },
    {
      "cell_type": "code",
      "source": [
        "# X_train_word = conll_data['train']['tokens']\n",
        "X_train_word = np.array([ \" \".join(row) for row in conll_data['train']['tokens']])\n",
        "# X_train_word"
      ],
      "metadata": {
        "id": "koLZZUqEpuuW"
      },
      "execution_count": 10,
      "outputs": []
    },
    {
      "cell_type": "code",
      "source": [],
      "metadata": {
        "id": "QTCyXGFpnxsz"
      },
      "execution_count": 10,
      "outputs": []
    },
    {
      "cell_type": "markdown",
      "source": [
        "## Caps preprocessing"
      ],
      "metadata": {
        "id": "lk_PdEUZnyA7"
      }
    },
    {
      "cell_type": "code",
      "source": [
        "case2id = {'allcaps':0,\n",
        "           'upperinitial':1,\n",
        "           'lower':2,\n",
        "           'mixedcaps':3,\n",
        "           'noinfo':4}\n",
        "id2case = {v:k for k,v in case2id.items()}"
      ],
      "metadata": {
        "id": "oq2Pb2FeoA5n"
      },
      "execution_count": 11,
      "outputs": []
    },
    {
      "cell_type": "code",
      "source": [
        "def case_vectorize(input):\n",
        "  '''\n",
        "  input: array of sentences, sentencs is list of word\n",
        "  '''\n",
        "  case_vec = []\n",
        "\n",
        "  for sentence in input:\n",
        "    sen_case_type = []\n",
        "    for word in sentence:\n",
        "      temp = [0]*len(case2id)\n",
        "      # if word is Title\n",
        "      if word.istitle():\n",
        "        temp[case2id['upperinitial']] =1\n",
        "        sen_case_type.append(temp)\n",
        "\n",
        "      # if uper, lower, mixed or else\n",
        "      else:\n",
        "        if word.isupper():\n",
        "          temp[case2id['allcaps']] = 1\n",
        "          sen_case_type.append(temp)\n",
        "        elif word.islower():\n",
        "          temp[case2id['lower']]=1\n",
        "          sen_case_type.append(temp)\n",
        "        else:\n",
        "          if word.lower().islower():\n",
        "            temp[case2id['mixedcaps']]=1\n",
        "            sen_case_type.append(temp)\n",
        "          else:\n",
        "            temp[case2id['noinfo']]=1\n",
        "            sen_case_type.append(temp)\n",
        "\n",
        "\n",
        "    case_vec.append(sen_case_type)\n",
        "  return case_vec\n",
        "\n"
      ],
      "metadata": {
        "id": "aWAwHBD4ovVm"
      },
      "execution_count": 12,
      "outputs": []
    },
    {
      "cell_type": "code",
      "source": [],
      "metadata": {
        "id": "ilfg5AJ1sidQ"
      },
      "execution_count": 12,
      "outputs": []
    },
    {
      "cell_type": "code",
      "source": [
        "def case_preprocesing(X_input):\n",
        "  X_case = case_vectorize(X_input)\n",
        "\n",
        "  X_case = pad_sequences(sequences = X_case,\n",
        "                        maxlen=max_sentence_length,\n",
        "                        dtype=object,\n",
        "                        padding=\"post\",\n",
        "                        truncating=\"post\",\n",
        "                        value=case2id['noinfo'])\n",
        "\n",
        "  X_case = np.asarray(X_case,\n",
        "                      dtype=np.float32)\n",
        "\n",
        "  return X_case\n",
        "\n",
        "X_train_case = case_preprocesing(conll_data['train']['tokens'])"
      ],
      "metadata": {
        "id": "vyW4fm5bnyJd"
      },
      "execution_count": 13,
      "outputs": []
    },
    {
      "cell_type": "markdown",
      "source": [
        "## Targer preprocessing"
      ],
      "metadata": {
        "id": "0RCk62pk5XNF"
      }
    },
    {
      "cell_type": "code",
      "source": [
        "label2id = {'O': 0, 'B-PER': 1, 'I-PER': 2, 'B-ORG': 3, 'I-ORG': 4, 'B-LOC': 5, 'I-LOC': 6, 'B-MISC': 7, 'I-MISC': 8}\n",
        "id2label = {v: k for k, v in label2id.items()}\n"
      ],
      "metadata": {
        "id": "Tj3bYTnK5cmF"
      },
      "execution_count": 14,
      "outputs": []
    },
    {
      "cell_type": "code",
      "source": [
        "y_train = pad_sequences(conll_data['train']['ner_tags'],\n",
        "                        dtype='int32',\n",
        "                        maxlen=max_sentence_length,\n",
        "                        padding='post',\n",
        "                        truncating='post',\n",
        "                        value=0,)"
      ],
      "metadata": {
        "id": "z1-uPMmlHqP3"
      },
      "execution_count": 15,
      "outputs": []
    },
    {
      "cell_type": "code",
      "source": [
        "def encoding_ytrain(y_train):\n",
        "  n=len(label2id)\n",
        "  nrow=len(y_train)\n",
        "  encoded = np.zeros(shape=(nrow,max_sentence_length,n))\n",
        "  for iy, y in enumerate(y_train):\n",
        "    senvec = np.zeros(shape=(max_sentence_length,n))\n",
        "    for ichar, char in enumerate(y):\n",
        "      charvec = np.zeros(n)\n",
        "      charvec[char] = 1\n",
        "      # print(f\"{char=}\")\n",
        "      # print(f\"{charvec=}\")\n",
        "      senvec[ichar]=charvec\n",
        "\n",
        "    encoded[iy] = senvec\n",
        "  return encoded\n",
        "\n",
        "y_train = encoding_ytrain(y_train)\n"
      ],
      "metadata": {
        "id": "RS_SAOoHvOlO"
      },
      "execution_count": 16,
      "outputs": []
    },
    {
      "cell_type": "code",
      "source": [],
      "metadata": {
        "id": "1f_tX1VJr8pH"
      },
      "execution_count": 16,
      "outputs": []
    },
    {
      "cell_type": "markdown",
      "source": [
        "# Model"
      ],
      "metadata": {
        "id": "d0235Xcz4fcZ"
      }
    },
    {
      "cell_type": "code",
      "source": [
        "from keras.layers import TextVectorization"
      ],
      "metadata": {
        "id": "fD4Ep_Vzigl2"
      },
      "execution_count": 17,
      "outputs": []
    },
    {
      "cell_type": "code",
      "source": [
        "text_vectorizer = TextVectorization(max_tokens=max_word_tokens,   # how many word in the vocab lib\n",
        "                                    standardize='lower_and_strip_punctuation', # process the tab\n",
        "                                    split='whitespace', # split the token\n",
        "                                    ngrams=None,\n",
        "                                    output_mode='int', # map token to number\n",
        "                                    output_sequence_length=max_sentence_length,\n",
        "                                    pad_to_max_tokens=False,\n",
        "                                    vocabulary=None,)\n",
        "text_vectorizer.adapt(np.array([ \" \".join(row) for row in conll_data['train']['tokens']]))"
      ],
      "metadata": {
        "id": "zhWd1_g8Cx4I"
      },
      "execution_count": 18,
      "outputs": []
    },
    {
      "cell_type": "code",
      "source": [
        "# Word level\n",
        "word_input = Input(shape=(1,),dtype=tf.string,name='word_input')\n",
        "# Tokenize\n",
        "\n",
        "words_vectorize = text_vectorizer(word_input)\n",
        "\n",
        "# Embedding\n",
        "embedding = Embedding(input_dim=max_word_tokens,\n",
        "                      output_dim=128,\n",
        "                      embeddings_initializer=\"uniform\",\n",
        "                      input_length=None)\n",
        "words = embedding(words_vectorize)\n"
      ],
      "metadata": {
        "id": "HQQ5xyyOoIcP"
      },
      "execution_count": 19,
      "outputs": []
    },
    {
      "cell_type": "code",
      "source": [],
      "metadata": {
        "id": "NIWASngzFq1a"
      },
      "execution_count": 19,
      "outputs": []
    },
    {
      "cell_type": "code",
      "source": [],
      "metadata": {
        "id": "VNNeD2c2FsyQ"
      },
      "execution_count": 19,
      "outputs": []
    },
    {
      "cell_type": "code",
      "source": [
        "# Character level\n",
        "character_input=Input(shape=(None,max_word_len,),\n",
        "                      name='char_input',\n",
        "                      dtype=tf.int32)\n",
        "embed_char_out=TimeDistributed(Embedding(input_dim = len(char2Idx),\n",
        "                                         output_dim=10,\n",
        "                                         embeddings_initializer=RandomUniform(minval=-0.5, maxval=0.5),\n",
        "                                         input_length=max_sentence_length,),\n",
        "                                         name='char_embedding')(character_input)\n",
        "dropout = Dropout(0.5)(embed_char_out)\n",
        "conv1d_out= TimeDistributed(Conv1D(kernel_size=3,\n",
        "                                   filters=10,\n",
        "                                   padding='same',activation='tanh', strides=1))(dropout)\n",
        "maxpool_out=TimeDistributed(MaxPooling1D(max_word_len))(conv1d_out)\n",
        "char = TimeDistributed(Flatten())(maxpool_out)\n",
        "char = Dropout(0.5)(char)"
      ],
      "metadata": {
        "id": "tyRcA1GgCZD7"
      },
      "execution_count": 20,
      "outputs": []
    },
    {
      "cell_type": "code",
      "source": [
        "char"
      ],
      "metadata": {
        "id": "5D-LM0pZ4nD9",
        "outputId": "be0351de-1796-469e-bba7-a96143b686e8",
        "colab": {
          "base_uri": "https://localhost:8080/"
        }
      },
      "execution_count": 21,
      "outputs": [
        {
          "output_type": "execute_result",
          "data": {
            "text/plain": [
              "<KerasTensor: shape=(None, None, 10) dtype=float32 (created by layer 'dropout_1')>"
            ]
          },
          "metadata": {},
          "execution_count": 21
        }
      ]
    },
    {
      "cell_type": "code",
      "source": [
        "## Caps feature\n",
        "casing_input = Input(shape=(max_sentence_length,), dtype='int32', name='casing_input')\n",
        "casing_embed = Embedding(input_dim=len(case2id),\n",
        "                        output_dim=len(case2id),\n",
        "                        input_length=max_sentence_length,\n",
        "                        trainable=False)\n",
        "\n",
        "casing = casing_embed(casing_input)"
      ],
      "metadata": {
        "id": "iOBLEbzQHhIK"
      },
      "execution_count": 22,
      "outputs": []
    },
    {
      "cell_type": "code",
      "source": [
        "casing"
      ],
      "metadata": {
        "id": "X3tmHwwH4exW",
        "outputId": "b3e1c8e0-aa03-434b-8f22-1ccf5de288f3",
        "colab": {
          "base_uri": "https://localhost:8080/"
        }
      },
      "execution_count": 23,
      "outputs": [
        {
          "output_type": "execute_result",
          "data": {
            "text/plain": [
              "<KerasTensor: shape=(None, 30, 5) dtype=float32 (created by layer 'embedding_2')>"
            ]
          },
          "metadata": {},
          "execution_count": 23
        }
      ]
    },
    {
      "cell_type": "code",
      "source": [
        "\n",
        "combined = concatenate([words, char, casing])\n",
        "# combined = words\n",
        "# Bi-LSTM\n",
        "output = Bidirectional(LSTM(200, return_sequences=True, dropout=0.50, recurrent_dropout=0.25))(combined)\n",
        "\n",
        "# # Output -> Tag Scoring -> Tag\n",
        "output = TimeDistributed(Dense(len(label2id), activation='softmax'))(output)\n",
        "model = Model(inputs=[word_input, character_input, casing], outputs=[output])\n"
      ],
      "metadata": {
        "id": "ADNF46AJCc2W",
        "colab": {
          "base_uri": "https://localhost:8080/"
        },
        "outputId": "a9abcd63-c5ef-4124-a30a-645d5b05e7b3"
      },
      "execution_count": 24,
      "outputs": [
        {
          "output_type": "stream",
          "name": "stderr",
          "text": [
            "WARNING:tensorflow:Layer lstm will not use cuDNN kernels since it doesn't meet the criteria. It will use a generic GPU kernel as fallback when running on GPU.\n",
            "WARNING:tensorflow:Layer lstm will not use cuDNN kernels since it doesn't meet the criteria. It will use a generic GPU kernel as fallback when running on GPU.\n",
            "WARNING:tensorflow:Layer lstm will not use cuDNN kernels since it doesn't meet the criteria. It will use a generic GPU kernel as fallback when running on GPU.\n"
          ]
        }
      ]
    },
    {
      "cell_type": "code",
      "source": [
        "combined"
      ],
      "metadata": {
        "id": "7aI3pawB4ziK",
        "outputId": "31527094-0ef5-45d7-caa0-9816180de870",
        "colab": {
          "base_uri": "https://localhost:8080/"
        }
      },
      "execution_count": 25,
      "outputs": [
        {
          "output_type": "execute_result",
          "data": {
            "text/plain": [
              "<KerasTensor: shape=(None, 30, 143) dtype=float32 (created by layer 'concatenate')>"
            ]
          },
          "metadata": {},
          "execution_count": 25
        }
      ]
    },
    {
      "cell_type": "code",
      "source": [
        "model.compile(loss=\"binary_crossentropy\",\n",
        "              optimizer=Adam(),\n",
        "              metrics=[\"accuracy\"])"
      ],
      "metadata": {
        "id": "sEyUbsyIqdUR"
      },
      "execution_count": 26,
      "outputs": []
    },
    {
      "cell_type": "code",
      "source": [
        "model.summary()"
      ],
      "metadata": {
        "id": "dAbBlYVmrJHr",
        "outputId": "1a06c7d2-0cee-4292-fca2-d6151b5896e8",
        "colab": {
          "base_uri": "https://localhost:8080/"
        }
      },
      "execution_count": 27,
      "outputs": [
        {
          "output_type": "stream",
          "name": "stdout",
          "text": [
            "Model: \"model\"\n",
            "__________________________________________________________________________________________________\n",
            " Layer (type)                Output Shape                 Param #   Connected to                  \n",
            "==================================================================================================\n",
            " char_input (InputLayer)     [(None, None, 20)]           0         []                            \n",
            "                                                                                                  \n",
            " char_embedding (TimeDistri  (None, None, 20, 10)         950       ['char_input[0][0]']          \n",
            " buted)                                                                                           \n",
            "                                                                                                  \n",
            " dropout (Dropout)           (None, None, 20, 10)         0         ['char_embedding[1][0]']      \n",
            "                                                                                                  \n",
            " time_distributed (TimeDist  (None, None, 20, 10)         310       ['dropout[1][0]']             \n",
            " ributed)                                                                                         \n",
            "                                                                                                  \n",
            " word_input (InputLayer)     [(None, 1)]                  0         []                            \n",
            "                                                                                                  \n",
            " time_distributed_1 (TimeDi  (None, None, 1, 10)          0         ['time_distributed[1][0]']    \n",
            " stributed)                                                                                       \n",
            "                                                                                                  \n",
            " text_vectorization (TextVe  (None, 30)                   0         ['word_input[0][0]']          \n",
            " ctorization)                                                                                     \n",
            "                                                                                                  \n",
            " time_distributed_2 (TimeDi  (None, None, 10)             0         ['time_distributed_1[1][0]']  \n",
            " stributed)                                                                                       \n",
            "                                                                                                  \n",
            " embedding (Embedding)       (None, 30, 128)              3072000   ['text_vectorization[1][0]']  \n",
            "                                                                                                  \n",
            " dropout_1 (Dropout)         (None, None, 10)             0         ['time_distributed_2[1][0]']  \n",
            "                                                                                                  \n",
            " input_1 (InputLayer)        [(None, 30, 5)]              0         []                            \n",
            "                                                                                                  \n",
            " concatenate (Concatenate)   (None, 30, 143)              0         ['embedding[1][0]',           \n",
            "                                                                     'dropout_1[1][0]',           \n",
            "                                                                     'input_1[0][0]']             \n",
            "                                                                                                  \n",
            " bidirectional (Bidirection  (None, 30, 400)              550400    ['concatenate[1][0]']         \n",
            " al)                                                                                              \n",
            "                                                                                                  \n",
            " time_distributed_3 (TimeDi  (None, 30, 9)                3609      ['bidirectional[1][0]']       \n",
            " stributed)                                                                                       \n",
            "                                                                                                  \n",
            "==================================================================================================\n",
            "Total params: 3627269 (13.84 MB)\n",
            "Trainable params: 3627269 (13.84 MB)\n",
            "Non-trainable params: 0 (0.00 Byte)\n",
            "__________________________________________________________________________________________________\n"
          ]
        }
      ]
    },
    {
      "cell_type": "code",
      "source": [
        "model.fit([X_train_word[1000:],X_train_char[1000:], X_train_case[1000:]],\n",
        "          y_train[1000:],\n",
        "          epochs=50,\n",
        "          batch_size=512,\n",
        "          validation_data=([X_train_word[:1000],X_train_char[:1000],X_train_case[:1000]], y_train[:1000]))"
      ],
      "metadata": {
        "id": "iaXHRDfQHOi0",
        "colab": {
          "base_uri": "https://localhost:8080/"
        },
        "outputId": "a906e334-6ee6-4ac0-dcf8-bf8e8b7da307"
      },
      "execution_count": 29,
      "outputs": [
        {
          "output_type": "stream",
          "name": "stdout",
          "text": [
            "Epoch 1/50\n",
            "26/26 [==============================] - 8s 313ms/step - loss: 0.0593 - accuracy: 0.9241 - val_loss: 0.0625 - val_accuracy: 0.9083\n",
            "Epoch 2/50\n",
            "26/26 [==============================] - 8s 291ms/step - loss: 0.0535 - accuracy: 0.9241 - val_loss: 0.0572 - val_accuracy: 0.9083\n",
            "Epoch 3/50\n",
            "26/26 [==============================] - 7s 273ms/step - loss: 0.0475 - accuracy: 0.9240 - val_loss: 0.0534 - val_accuracy: 0.9080\n",
            "Epoch 4/50\n",
            "26/26 [==============================] - 7s 254ms/step - loss: 0.0433 - accuracy: 0.9252 - val_loss: 0.0508 - val_accuracy: 0.9118\n",
            "Epoch 5/50\n",
            "26/26 [==============================] - 8s 310ms/step - loss: 0.0403 - accuracy: 0.9286 - val_loss: 0.0484 - val_accuracy: 0.9143\n",
            "Epoch 6/50\n",
            "26/26 [==============================] - 6s 246ms/step - loss: 0.0374 - accuracy: 0.9327 - val_loss: 0.0459 - val_accuracy: 0.9178\n",
            "Epoch 7/50\n",
            "26/26 [==============================] - 7s 262ms/step - loss: 0.0345 - accuracy: 0.9376 - val_loss: 0.0422 - val_accuracy: 0.9236\n",
            "Epoch 8/50\n",
            "26/26 [==============================] - 6s 220ms/step - loss: 0.0311 - accuracy: 0.9452 - val_loss: 0.0378 - val_accuracy: 0.9316\n",
            "Epoch 9/50\n",
            "26/26 [==============================] - 7s 260ms/step - loss: 0.0273 - accuracy: 0.9534 - val_loss: 0.0336 - val_accuracy: 0.9430\n",
            "Epoch 10/50\n",
            "26/26 [==============================] - 6s 217ms/step - loss: 0.0236 - accuracy: 0.9609 - val_loss: 0.0286 - val_accuracy: 0.9558\n",
            "Epoch 11/50\n",
            "26/26 [==============================] - 7s 257ms/step - loss: 0.0201 - accuracy: 0.9675 - val_loss: 0.0255 - val_accuracy: 0.9597\n",
            "Epoch 12/50\n",
            "26/26 [==============================] - 6s 224ms/step - loss: 0.0169 - accuracy: 0.9727 - val_loss: 0.0221 - val_accuracy: 0.9657\n",
            "Epoch 13/50\n",
            "26/26 [==============================] - 7s 267ms/step - loss: 0.0144 - accuracy: 0.9774 - val_loss: 0.0200 - val_accuracy: 0.9683\n",
            "Epoch 14/50\n",
            "26/26 [==============================] - 6s 215ms/step - loss: 0.0124 - accuracy: 0.9805 - val_loss: 0.0185 - val_accuracy: 0.9705\n",
            "Epoch 15/50\n",
            "26/26 [==============================] - 6s 241ms/step - loss: 0.0109 - accuracy: 0.9834 - val_loss: 0.0171 - val_accuracy: 0.9726\n",
            "Epoch 16/50\n",
            "26/26 [==============================] - 5s 201ms/step - loss: 0.0095 - accuracy: 0.9857 - val_loss: 0.0165 - val_accuracy: 0.9740\n",
            "Epoch 17/50\n",
            "26/26 [==============================] - 6s 237ms/step - loss: 0.0085 - accuracy: 0.9874 - val_loss: 0.0157 - val_accuracy: 0.9750\n",
            "Epoch 18/50\n",
            "26/26 [==============================] - 5s 206ms/step - loss: 0.0075 - accuracy: 0.9887 - val_loss: 0.0155 - val_accuracy: 0.9760\n",
            "Epoch 19/50\n",
            "26/26 [==============================] - 7s 260ms/step - loss: 0.0067 - accuracy: 0.9901 - val_loss: 0.0147 - val_accuracy: 0.9771\n",
            "Epoch 20/50\n",
            "26/26 [==============================] - 6s 214ms/step - loss: 0.0061 - accuracy: 0.9912 - val_loss: 0.0148 - val_accuracy: 0.9775\n",
            "Epoch 21/50\n",
            "26/26 [==============================] - 6s 244ms/step - loss: 0.0057 - accuracy: 0.9916 - val_loss: 0.0147 - val_accuracy: 0.9782\n",
            "Epoch 22/50\n",
            "26/26 [==============================] - 5s 206ms/step - loss: 0.0052 - accuracy: 0.9926 - val_loss: 0.0144 - val_accuracy: 0.9783\n",
            "Epoch 23/50\n",
            "26/26 [==============================] - 6s 245ms/step - loss: 0.0048 - accuracy: 0.9931 - val_loss: 0.0152 - val_accuracy: 0.9779\n",
            "Epoch 24/50\n",
            "26/26 [==============================] - 6s 217ms/step - loss: 0.0045 - accuracy: 0.9936 - val_loss: 0.0135 - val_accuracy: 0.9795\n",
            "Epoch 25/50\n",
            "26/26 [==============================] - 6s 233ms/step - loss: 0.0042 - accuracy: 0.9940 - val_loss: 0.0146 - val_accuracy: 0.9788\n",
            "Epoch 26/50\n",
            "26/26 [==============================] - 5s 211ms/step - loss: 0.0038 - accuracy: 0.9945 - val_loss: 0.0139 - val_accuracy: 0.9800\n",
            "Epoch 27/50\n",
            "26/26 [==============================] - 6s 237ms/step - loss: 0.0036 - accuracy: 0.9948 - val_loss: 0.0137 - val_accuracy: 0.9803\n",
            "Epoch 28/50\n",
            "26/26 [==============================] - 5s 204ms/step - loss: 0.0034 - accuracy: 0.9951 - val_loss: 0.0143 - val_accuracy: 0.9796\n",
            "Epoch 29/50\n",
            "26/26 [==============================] - 6s 243ms/step - loss: 0.0031 - accuracy: 0.9956 - val_loss: 0.0140 - val_accuracy: 0.9803\n",
            "Epoch 30/50\n",
            "26/26 [==============================] - 5s 211ms/step - loss: 0.0030 - accuracy: 0.9957 - val_loss: 0.0146 - val_accuracy: 0.9796\n",
            "Epoch 31/50\n",
            "26/26 [==============================] - 6s 234ms/step - loss: 0.0028 - accuracy: 0.9959 - val_loss: 0.0149 - val_accuracy: 0.9794\n",
            "Epoch 32/50\n",
            "26/26 [==============================] - 5s 201ms/step - loss: 0.0027 - accuracy: 0.9961 - val_loss: 0.0144 - val_accuracy: 0.9806\n",
            "Epoch 33/50\n",
            "26/26 [==============================] - 6s 230ms/step - loss: 0.0025 - accuracy: 0.9964 - val_loss: 0.0149 - val_accuracy: 0.9799\n",
            "Epoch 34/50\n",
            "26/26 [==============================] - 5s 196ms/step - loss: 0.0024 - accuracy: 0.9967 - val_loss: 0.0145 - val_accuracy: 0.9806\n",
            "Epoch 35/50\n",
            "26/26 [==============================] - 7s 271ms/step - loss: 0.0022 - accuracy: 0.9969 - val_loss: 0.0150 - val_accuracy: 0.9799\n",
            "Epoch 36/50\n",
            "26/26 [==============================] - 5s 196ms/step - loss: 0.0021 - accuracy: 0.9971 - val_loss: 0.0151 - val_accuracy: 0.9802\n",
            "Epoch 37/50\n",
            "26/26 [==============================] - 6s 235ms/step - loss: 0.0020 - accuracy: 0.9972 - val_loss: 0.0150 - val_accuracy: 0.9804\n",
            "Epoch 38/50\n",
            "26/26 [==============================] - 5s 202ms/step - loss: 0.0019 - accuracy: 0.9972 - val_loss: 0.0155 - val_accuracy: 0.9798\n",
            "Epoch 39/50\n",
            "26/26 [==============================] - 6s 238ms/step - loss: 0.0018 - accuracy: 0.9976 - val_loss: 0.0152 - val_accuracy: 0.9804\n",
            "Epoch 40/50\n",
            "26/26 [==============================] - 6s 216ms/step - loss: 0.0017 - accuracy: 0.9976 - val_loss: 0.0160 - val_accuracy: 0.9798\n",
            "Epoch 41/50\n",
            "26/26 [==============================] - 6s 238ms/step - loss: 0.0016 - accuracy: 0.9977 - val_loss: 0.0153 - val_accuracy: 0.9806\n",
            "Epoch 42/50\n",
            "26/26 [==============================] - 6s 217ms/step - loss: 0.0016 - accuracy: 0.9977 - val_loss: 0.0152 - val_accuracy: 0.9809\n",
            "Epoch 43/50\n",
            "26/26 [==============================] - 6s 224ms/step - loss: 0.0015 - accuracy: 0.9979 - val_loss: 0.0154 - val_accuracy: 0.9807\n",
            "Epoch 44/50\n",
            "26/26 [==============================] - 6s 230ms/step - loss: 0.0015 - accuracy: 0.9980 - val_loss: 0.0159 - val_accuracy: 0.9804\n",
            "Epoch 45/50\n",
            "26/26 [==============================] - 6s 228ms/step - loss: 0.0014 - accuracy: 0.9979 - val_loss: 0.0155 - val_accuracy: 0.9809\n",
            "Epoch 46/50\n",
            "26/26 [==============================] - 6s 224ms/step - loss: 0.0013 - accuracy: 0.9982 - val_loss: 0.0165 - val_accuracy: 0.9805\n",
            "Epoch 47/50\n",
            "26/26 [==============================] - 6s 234ms/step - loss: 0.0013 - accuracy: 0.9982 - val_loss: 0.0163 - val_accuracy: 0.9805\n",
            "Epoch 48/50\n",
            "26/26 [==============================] - 6s 215ms/step - loss: 0.0012 - accuracy: 0.9983 - val_loss: 0.0164 - val_accuracy: 0.9808\n",
            "Epoch 49/50\n",
            "26/26 [==============================] - 5s 206ms/step - loss: 0.0012 - accuracy: 0.9984 - val_loss: 0.0168 - val_accuracy: 0.9805\n",
            "Epoch 50/50\n",
            "26/26 [==============================] - 6s 229ms/step - loss: 0.0011 - accuracy: 0.9985 - val_loss: 0.0171 - val_accuracy: 0.9800\n"
          ]
        },
        {
          "output_type": "execute_result",
          "data": {
            "text/plain": [
              "<keras.src.callbacks.History at 0x7f672152ba90>"
            ]
          },
          "metadata": {},
          "execution_count": 29
        }
      ]
    },
    {
      "cell_type": "code",
      "source": [],
      "metadata": {
        "id": "In-MXro5HrHk"
      },
      "execution_count": 42,
      "outputs": []
    },
    {
      "cell_type": "markdown",
      "source": [
        "# Predictions"
      ],
      "metadata": {
        "id": "NmowfD8zHPh6"
      }
    },
    {
      "cell_type": "code",
      "source": [
        "X_train_char.shape"
      ],
      "metadata": {
        "id": "q6IkBWv5FvwT"
      },
      "execution_count": null,
      "outputs": []
    },
    {
      "cell_type": "code",
      "source": [
        "X_train_case.shape"
      ],
      "metadata": {
        "id": "NCTSNrZP-IrQ"
      },
      "execution_count": null,
      "outputs": []
    },
    {
      "cell_type": "code",
      "source": [
        "def make_prediction(input_string):\n",
        "  X_words = np.asarray([input_string])\n",
        "  X_input_list = [input_string.split()]\n",
        "  X_chars = char_preprocessing(X_input_list)\n",
        "  X_case = case_preprocesing(X_input_list)\n",
        "  predictions = model.predict([X_words,X_chars,X_case])\n",
        "\n",
        "\n",
        "  # predictions = np.argmax()\n",
        "\n",
        "  return predictions"
      ],
      "metadata": {
        "id": "JGFfbP-_HPy8"
      },
      "execution_count": 30,
      "outputs": []
    },
    {
      "cell_type": "code",
      "source": [
        "predictions = make_prediction(\"I go to USA University by Germany tomorrow with Jane !\")"
      ],
      "metadata": {
        "id": "YYUZwW6_HP-e",
        "colab": {
          "base_uri": "https://localhost:8080/"
        },
        "outputId": "5f103638-536b-4efd-c9d4-fbe9809e03f3"
      },
      "execution_count": 31,
      "outputs": [
        {
          "output_type": "stream",
          "name": "stdout",
          "text": [
            "1/1 [==============================] - 1s 810ms/step\n"
          ]
        }
      ]
    },
    {
      "cell_type": "code",
      "source": [
        "predictions = make_prediction(\"Germany 's representative to the European Union 's veterinary committee Werner Zwingmann said on Wednesday consumers should buy sheepmeat from countries other than Britain until the scientific advice was clearer .\")\n"
      ],
      "metadata": {
        "colab": {
          "base_uri": "https://localhost:8080/"
        },
        "id": "26qhruKVPytb",
        "outputId": "e58431fa-e1cc-4de5-99c4-7aa401576652"
      },
      "execution_count": 32,
      "outputs": [
        {
          "output_type": "stream",
          "name": "stdout",
          "text": [
            "1/1 [==============================] - 0s 53ms/step\n"
          ]
        }
      ]
    },
    {
      "cell_type": "code",
      "source": [
        "temp = np.squeeze(np.argmax(predictions,axis=2))\n",
        "temp = [id2label[word] for word in temp]"
      ],
      "metadata": {
        "id": "ySytMGcvO0Ys"
      },
      "execution_count": 40,
      "outputs": []
    },
    {
      "cell_type": "code",
      "source": [
        "temp"
      ],
      "metadata": {
        "id": "1bjdsObzHfmU",
        "outputId": "b14ca85e-4361-4c95-a8ba-72063ee50e83",
        "colab": {
          "base_uri": "https://localhost:8080/"
        }
      },
      "execution_count": 41,
      "outputs": [
        {
          "output_type": "execute_result",
          "data": {
            "text/plain": [
              "['B-LOC',\n",
              " 'O',\n",
              " 'O',\n",
              " 'O',\n",
              " 'O',\n",
              " 'B-ORG',\n",
              " 'I-ORG',\n",
              " 'O',\n",
              " 'O',\n",
              " 'O',\n",
              " 'B-ORG',\n",
              " 'I-ORG',\n",
              " 'O',\n",
              " 'O',\n",
              " 'O',\n",
              " 'O',\n",
              " 'O',\n",
              " 'O',\n",
              " 'O',\n",
              " 'O',\n",
              " 'O',\n",
              " 'O',\n",
              " 'O',\n",
              " 'B-LOC',\n",
              " 'O',\n",
              " 'O',\n",
              " 'O',\n",
              " 'O',\n",
              " 'O',\n",
              " 'O']"
            ]
          },
          "metadata": {},
          "execution_count": 41
        }
      ]
    },
    {
      "cell_type": "markdown",
      "source": [
        "# References"
      ],
      "metadata": {
        "id": "EvJmuiIiHQJy"
      }
    },
    {
      "cell_type": "markdown",
      "source": [
        "https://keras.io/examples/nlp/ner_transformers/"
      ],
      "metadata": {
        "id": "by174qhpHT_2"
      }
    },
    {
      "cell_type": "markdown",
      "source": [],
      "metadata": {
        "id": "urASKXuLHZSz"
      }
    }
  ]
}