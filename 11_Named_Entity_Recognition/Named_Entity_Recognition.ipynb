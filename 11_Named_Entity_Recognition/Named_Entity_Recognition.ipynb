{
  "nbformat": 4,
  "nbformat_minor": 0,
  "metadata": {
    "colab": {
      "provenance": [],
      "authorship_tag": "ABX9TyPwxcsBQ5jBP5Fg5RQW00VF",
      "include_colab_link": true
    },
    "kernelspec": {
      "name": "python3",
      "display_name": "Python 3"
    },
    "language_info": {
      "name": "python"
    }
  },
  "cells": [
    {
      "cell_type": "markdown",
      "metadata": {
        "id": "view-in-github",
        "colab_type": "text"
      },
      "source": [
        "<a href=\"https://colab.research.google.com/github/truongthuanr/self-project/blob/main/11_Named_Entity_Recognition/Named_Entity_Recognition.ipynb\" target=\"_parent\"><img src=\"https://colab.research.google.com/assets/colab-badge.svg\" alt=\"Open In Colab\"/></a>"
      ]
    },
    {
      "cell_type": "markdown",
      "source": [
        "# Content"
      ],
      "metadata": {
        "id": "B_6OIOVqGefp"
      }
    },
    {
      "cell_type": "markdown",
      "source": [
        ">[Initialize notebook](#scrollTo=Bzny5QBaqxEV)\n",
        "\n",
        ">[Dataset](#scrollTo=sxvsybnTHfi4)\n",
        "\n",
        ">[Data preprocessing](#scrollTo=XGNsJro-pu9E)\n",
        "\n",
        ">>[Character processing](#scrollTo=Nz0msAOcCEzr)\n",
        "\n",
        ">>[Word preprocessing](#scrollTo=kQ4au8k9_Qoh)\n",
        "\n",
        ">>[Caps preprocessing](#scrollTo=lk_PdEUZnyA7)\n",
        "\n",
        ">>[Targer preprocessing](#scrollTo=0RCk62pk5XNF)\n",
        "\n",
        ">[Model](#scrollTo=d0235Xcz4fcZ)\n",
        "\n",
        ">[Predictions](#scrollTo=NmowfD8zHPh6)\n",
        "\n",
        ">[Test - F1 Score metrics](#scrollTo=To3rfptlnBJd)\n",
        "\n",
        ">[References](#scrollTo=EvJmuiIiHQJy)\n",
        "\n"
      ],
      "metadata": {
        "colab_type": "toc",
        "id": "nB3w6ivEGHlM"
      }
    },
    {
      "cell_type": "markdown",
      "source": [
        "# Initialize notebook"
      ],
      "metadata": {
        "id": "Bzny5QBaqxEV"
      }
    },
    {
      "cell_type": "code",
      "execution_count": 1,
      "metadata": {
        "id": "GQ4EHIZSuKoy"
      },
      "outputs": [],
      "source": [
        "%%capture\n",
        "!pip3 install datasets"
      ]
    },
    {
      "cell_type": "code",
      "source": [
        "import numpy as np\n",
        "import pandas as pd\n",
        "import matplotlib.pyplot as plt\n",
        "import tensorflow as tf\n",
        "from keras.preprocessing.sequence import pad_sequences\n",
        "from datasets import load_dataset\n",
        "import os"
      ],
      "metadata": {
        "id": "77nCH9814O5t"
      },
      "execution_count": 2,
      "outputs": []
    },
    {
      "cell_type": "code",
      "source": [
        "from keras.models import Model,load_model\n",
        "from keras.layers import Input,Embedding,TimeDistributed,\\\n",
        "                         Dropout,Conv1D,MaxPooling1D,\\\n",
        "                         Flatten,Bidirectional,LSTM,Dense,\\\n",
        "                         concatenate\n",
        "\n",
        "from keras.initializers import RandomUniform\n",
        "\n",
        "from keras.optimizers import Adam"
      ],
      "metadata": {
        "id": "RiTU7d_YHfc9"
      },
      "execution_count": 3,
      "outputs": []
    },
    {
      "cell_type": "code",
      "source": [
        "# Configuration parameters\n",
        "max_word_tokens = 24000\n",
        "max_sentence_length = 50\n",
        "max_word_len = 20"
      ],
      "metadata": {
        "id": "xjhrsmahYN2x"
      },
      "execution_count": 4,
      "outputs": []
    },
    {
      "cell_type": "markdown",
      "source": [
        "# Dataset"
      ],
      "metadata": {
        "id": "sxvsybnTHfi4"
      }
    },
    {
      "cell_type": "markdown",
      "source": [
        "Used dataset:\n",
        "\n",
        "https://huggingface.co/datasets/conll2003"
      ],
      "metadata": {
        "id": "jV1nsHAAHo_L"
      }
    },
    {
      "cell_type": "code",
      "source": [
        "%%capture\n",
        "conll_data = load_dataset(\"conll2003\")"
      ],
      "metadata": {
        "id": "MSK4n-lEHfsw"
      },
      "execution_count": 5,
      "outputs": []
    },
    {
      "cell_type": "markdown",
      "source": [
        "**TOKENS**\n",
        "\n",
        "List of sentences, each sentence is list of words.\n",
        "\n",
        "Example:\n",
        "```\n",
        "conll_data['train']['tokens'][0]\n",
        "['EU', 'rejects', 'German', 'call', 'to', 'boycott', 'British', 'lamb', '.']\n",
        "```"
      ],
      "metadata": {
        "id": "COyMbAq6hbJh"
      }
    },
    {
      "cell_type": "markdown",
      "source": [
        "**NER TAG**\n",
        "\n",
        "```\n",
        "'O': 0,\n",
        "'B-PER': 1,\n",
        "'I-PER': 2,\n",
        "'B-ORG': 3,\n",
        "'I-ORG': 4,\n",
        "'B-LOC': 5,\n",
        "'I-LOC': 6,\n",
        "'B-MISC': 7,\n",
        "'I-MISC': 8\n",
        "```\n",
        "\n",
        "\n",
        "\n",
        "\n",
        "\n"
      ],
      "metadata": {
        "id": "G027VoSTrHND"
      }
    },
    {
      "cell_type": "markdown",
      "source": [
        "# Data preprocessing\n"
      ],
      "metadata": {
        "id": "XGNsJro-pu9E"
      }
    },
    {
      "cell_type": "markdown",
      "source": [
        "## Character processing"
      ],
      "metadata": {
        "id": "Nz0msAOcCEzr"
      }
    },
    {
      "cell_type": "markdown",
      "source": [
        "Embedding with character level:\n",
        "\n",
        "If len of word < `max_work_len`: pading with `PADDING`\n",
        "\n",
        "If len of word > `max_work_len`: truncating post characters\n",
        "\n",
        "And do the vectorization.\n",
        "\n",
        "![](https://github.com/truongthuanr/self-project/raw/main/11_Named_Entity_Recognition/2.png)\n"
      ],
      "metadata": {
        "id": "Jkrns2F3fo1R"
      }
    },
    {
      "cell_type": "code",
      "source": [
        "char2Idx = {\"PADDING\":0, \"UNKNOWN\":1}\n",
        "for c in \" 0123456789abcdefghijklmnopqrstuvwxyzABCDEFGHIJKLMNOPQRSTUVWXYZ.,-_()[]{}!?:;#'\\\"/\\\\%$`&=*+@^~|\":\n",
        "    char2Idx[c] = len(char2Idx)\n",
        "len(char2Idx)"
      ],
      "metadata": {
        "id": "NgJ97l1FCKxt",
        "outputId": "303a479c-2317-42ea-f3f8-a948c8714dd1",
        "colab": {
          "base_uri": "https://localhost:8080/"
        }
      },
      "execution_count": 6,
      "outputs": [
        {
          "output_type": "execute_result",
          "data": {
            "text/plain": [
              "95"
            ]
          },
          "metadata": {},
          "execution_count": 6
        }
      ]
    },
    {
      "cell_type": "code",
      "source": [
        "def character_vectorize(X):\n",
        "  data_vec = []\n",
        "  for sentence in X:\n",
        "    # print(f\"Sentence: {sentence}\")\n",
        "    padchar = char2Idx['PADDING']\n",
        "    sentence_vec=[]\n",
        "    for word in sentence:\n",
        "      # print(word)\n",
        "      chars = []\n",
        "      if len(word) >= max_word_len:\n",
        "\n",
        "        chars=[char2Idx.get(c,1) for c in word[:max_word_len]]\n",
        "      else:\n",
        "        prepad=int((max_word_len-len(word))/2)\n",
        "        postpad=max_word_len-(len(word)+prepad)\n",
        "        chars.extend([padchar]*prepad)\n",
        "        chars.extend([char2Idx.get(c,1) for c in word])\n",
        "        chars.extend([padchar]*postpad)\n",
        "      sentence_vec.append(chars)\n",
        "\n",
        "    data_vec.append(sentence_vec)\n",
        "  data_vec = np.asarray(data_vec, dtype=object)\n",
        "  return data_vec\n",
        "\n",
        "\n",
        "\n",
        "def char_preprocessing(char_input):\n",
        "  '''\n",
        "  input:: char_input: list of words\n",
        "  output: vecterized array of character\n",
        "  with shape(sentences, max_sentence_len, max_word_len)\n",
        "  '''\n",
        "  X_chars = character_vectorize(char_input)\n",
        "  X_chars = pad_sequences(sequences = X_chars,\n",
        "                          maxlen=max_sentence_length,\n",
        "                          dtype=object,\n",
        "                          padding=\"post\",\n",
        "                          truncating=\"post\",\n",
        "                          value=0)\n",
        "\n",
        "  X_chars = np.asarray(X_chars,\n",
        "                       dtype=np.float32)\n",
        "\n",
        "  return X_chars"
      ],
      "metadata": {
        "id": "cAxOgd3o_Qev"
      },
      "execution_count": 7,
      "outputs": []
    },
    {
      "cell_type": "code",
      "source": [
        "\n",
        "X_train_char = char_preprocessing(conll_data['train']['tokens'])\n",
        "\n",
        "X_test_char = char_preprocessing(conll_data['test']['tokens'])\n",
        "X_val_char = char_preprocessing(conll_data['validation']['tokens'])"
      ],
      "metadata": {
        "id": "xBniP-LcEiPy"
      },
      "execution_count": 8,
      "outputs": []
    },
    {
      "cell_type": "markdown",
      "source": [
        "## Word preprocessing"
      ],
      "metadata": {
        "id": "kQ4au8k9_Qoh"
      }
    },
    {
      "cell_type": "markdown",
      "source": [
        "For each sentences, turn list of work to a full sentence.\n",
        "\n",
        "Example:\n",
        "```\n",
        "['EU', 'rejects', 'German', 'call', 'to', 'boycott', 'British', 'lamb', '.']\n",
        "```\n",
        "**to**\n",
        "```\n",
        "EU rejects German call to boycott British lamb .\n",
        "```"
      ],
      "metadata": {
        "id": "M4d5l9briQau"
      }
    },
    {
      "cell_type": "code",
      "source": [
        "def word_preprocessing(word_input):\n",
        "  return np.array([ \" \".join(row) for row in word_input])"
      ],
      "metadata": {
        "id": "koLZZUqEpuuW"
      },
      "execution_count": 9,
      "outputs": []
    },
    {
      "cell_type": "code",
      "source": [
        "X_train_word = word_preprocessing(conll_data['train']['tokens'])\n",
        "X_test_word = word_preprocessing(conll_data['test']['tokens'])\n",
        "X_val_word = word_preprocessing(conll_data['validation']['tokens'])"
      ],
      "metadata": {
        "id": "QTCyXGFpnxsz"
      },
      "execution_count": 10,
      "outputs": []
    },
    {
      "cell_type": "markdown",
      "source": [
        "## Case preprocessing"
      ],
      "metadata": {
        "id": "lk_PdEUZnyA7"
      }
    },
    {
      "cell_type": "markdown",
      "source": [
        "For each words, extract case feature with 5 category:\n",
        "\n",
        "* `allcaps`\n",
        "* `upperinitial`\n",
        "* `lower`\n",
        "* `mixedcaps`\n",
        "* `noinfo`\n",
        "\n",
        "And convert to numeric array. padding with `noinfo` to `max_sentence length`\n",
        "\n",
        "Example:\n",
        "```\n",
        "['EU', 'rejects', 'German', 'call', 'to', 'boycott', 'British', 'lamb', '.']\n",
        "```\n",
        "```\n",
        "array([[1., 0., 0., 0., 0.],\n",
        "       [0., 0., 1., 0., 0.],\n",
        "       [0., 1., 0., 0., 0.],\n",
        "       [0., 0., 1., 0., 0.],\n",
        "       [0., 0., 1., 0., 0.],\n",
        "       [0., 0., 1., 0., 0.],\n",
        "       [0., 1., 0., 0., 0.],\n",
        "       [0., 0., 1., 0., 0.],\n",
        "       [0., 0., 0., 0., 1.],\n",
        "       [0., 0., 0., 0., 1.],\n",
        "       ...\n",
        "       [0., 0., 0., 0., 1.]]\n",
        "```"
      ],
      "metadata": {
        "id": "iFMIXS3ei6N6"
      }
    },
    {
      "cell_type": "code",
      "source": [
        "case2id = {'allcaps':0,\n",
        "           'upperinitial':1,\n",
        "           'lower':2,\n",
        "           'mixedcaps':3,\n",
        "           'noinfo':4}\n",
        "id2case = {v:k for k,v in case2id.items()}"
      ],
      "metadata": {
        "id": "oq2Pb2FeoA5n"
      },
      "execution_count": 11,
      "outputs": []
    },
    {
      "cell_type": "code",
      "source": [
        "def case_vectorize(input):\n",
        "  '''\n",
        "  input: array of sentences, sentencs is list of word\n",
        "  '''\n",
        "  case_vec = []\n",
        "\n",
        "  for sentence in input:\n",
        "    sen_case_type = []\n",
        "    for word in sentence:\n",
        "      temp = [0]*len(case2id)\n",
        "      # if word is Title\n",
        "      if word.istitle():\n",
        "        temp[case2id['upperinitial']] =1\n",
        "        sen_case_type.append(temp)\n",
        "\n",
        "      # if uper, lower, mixed or else\n",
        "      else:\n",
        "        if word.isupper():\n",
        "          temp[case2id['allcaps']] = 1\n",
        "          sen_case_type.append(temp)\n",
        "        elif word.islower():\n",
        "          temp[case2id['lower']]=1\n",
        "          sen_case_type.append(temp)\n",
        "        else:\n",
        "          if word.lower().islower():\n",
        "            temp[case2id['mixedcaps']]=1\n",
        "            sen_case_type.append(temp)\n",
        "          else:\n",
        "            temp[case2id['noinfo']]=1\n",
        "            sen_case_type.append(temp)\n",
        "\n",
        "\n",
        "    case_vec.append(sen_case_type)\n",
        "  return case_vec\n",
        "\n"
      ],
      "metadata": {
        "id": "aWAwHBD4ovVm"
      },
      "execution_count": 12,
      "outputs": []
    },
    {
      "cell_type": "code",
      "source": [
        "def case_preprocesing(X_input):\n",
        "  paddingnoinfo = [0,0,0,0,1]\n",
        "  X_case = case_vectorize(X_input)\n",
        "\n",
        "  X_case = pad_sequences(sequences = X_case,\n",
        "                        maxlen=max_sentence_length,\n",
        "                        dtype=object,\n",
        "                        padding=\"post\",\n",
        "                        truncating=\"post\",\n",
        "                        value=paddingnoinfo)\n",
        "\n",
        "  X_case = np.asarray(X_case,\n",
        "                      dtype=np.float32)\n",
        "\n",
        "  return X_case\n"
      ],
      "metadata": {
        "id": "vyW4fm5bnyJd"
      },
      "execution_count": 13,
      "outputs": []
    },
    {
      "cell_type": "code",
      "source": [
        "\n",
        "X_train_case = case_preprocesing(conll_data['train']['tokens'])\n",
        "X_test_case = case_preprocesing(conll_data['test']['tokens'])\n",
        "X_val_case = case_preprocesing(conll_data['validation']['tokens'])"
      ],
      "metadata": {
        "id": "vrTUp4X0Hpp2"
      },
      "execution_count": 14,
      "outputs": []
    },
    {
      "cell_type": "markdown",
      "source": [
        "## Target preprocessing"
      ],
      "metadata": {
        "id": "0RCk62pk5XNF"
      }
    },
    {
      "cell_type": "markdown",
      "source": [
        "Convert NER TAG to numeric array."
      ],
      "metadata": {
        "id": "IbfWfO8klk-r"
      }
    },
    {
      "cell_type": "code",
      "source": [
        "label2id = {'O': 0, 'B-PER': 1, 'I-PER': 2, 'B-ORG': 3, 'I-ORG': 4, 'B-LOC': 5, 'I-LOC': 6, 'B-MISC': 7, 'I-MISC': 8}\n",
        "id2label = {v: k for k, v in label2id.items()}\n"
      ],
      "metadata": {
        "id": "Tj3bYTnK5cmF"
      },
      "execution_count": 15,
      "outputs": []
    },
    {
      "cell_type": "code",
      "source": [
        "y_train = pad_sequences(conll_data['train']['ner_tags'],\n",
        "                        dtype='int32',\n",
        "                        maxlen=max_sentence_length,\n",
        "                        padding='post',\n",
        "                        truncating='post',\n",
        "                        value=0,)\n",
        "\n",
        "def encoding_ytrain(y_input):\n",
        "\n",
        "  y_train = pad_sequences(y_input,\n",
        "                        dtype='int32',\n",
        "                        maxlen=max_sentence_length,\n",
        "                        padding='post',\n",
        "                        truncating='post',\n",
        "                        value=0,)\n",
        "  n=len(label2id)\n",
        "  nrow=len(y_train)\n",
        "  encoded = np.zeros(shape=(nrow,max_sentence_length,n))\n",
        "  for iy, y in enumerate(y_train):\n",
        "    senvec = np.zeros(shape=(max_sentence_length,n))\n",
        "    for ichar, char in enumerate(y):\n",
        "      charvec = np.zeros(n)\n",
        "      charvec[char] = 1\n",
        "      # print(f\"{char=}\")\n",
        "      # print(f\"{charvec=}\")\n",
        "      senvec[ichar]=charvec\n",
        "\n",
        "    encoded[iy] = senvec\n",
        "  return encoded\n",
        "\n",
        "\n"
      ],
      "metadata": {
        "id": "RS_SAOoHvOlO"
      },
      "execution_count": 16,
      "outputs": []
    },
    {
      "cell_type": "code",
      "source": [
        "y_train = encoding_ytrain(conll_data['train']['ner_tags'])\n",
        "y_test = encoding_ytrain(conll_data['test']['ner_tags'])\n",
        "y_val = encoding_ytrain(conll_data['validation']['ner_tags'])"
      ],
      "metadata": {
        "id": "1f_tX1VJr8pH"
      },
      "execution_count": 17,
      "outputs": []
    },
    {
      "cell_type": "markdown",
      "source": [
        "# Model"
      ],
      "metadata": {
        "id": "d0235Xcz4fcZ"
      }
    },
    {
      "cell_type": "markdown",
      "source": [
        "Model is created as follow:\n",
        "![](https://github.com/truongthuanr/self-project/raw/main/11_Named_Entity_Recognition/3.png)\n",
        "\n"
      ],
      "metadata": {
        "id": "BAHl9beefWh5"
      }
    },
    {
      "cell_type": "code",
      "source": [
        "from keras.layers import TextVectorization"
      ],
      "metadata": {
        "id": "fD4Ep_Vzigl2"
      },
      "execution_count": 18,
      "outputs": []
    },
    {
      "cell_type": "code",
      "source": [
        "text_vectorizer = TextVectorization(max_tokens=max_word_tokens,   # how many word in the vocab lib\n",
        "                                    standardize='lower_and_strip_punctuation', # process the tab\n",
        "                                    split='whitespace', # split the token\n",
        "                                    ngrams=None,\n",
        "                                    output_mode='int', # map token to number\n",
        "                                    output_sequence_length=max_sentence_length,\n",
        "                                    pad_to_max_tokens=False,\n",
        "                                    vocabulary=None,)\n",
        "text_vectorizer.adapt(np.array([ \" \".join(row) for row in conll_data['train']['tokens']]))"
      ],
      "metadata": {
        "id": "zhWd1_g8Cx4I"
      },
      "execution_count": 19,
      "outputs": []
    },
    {
      "cell_type": "code",
      "source": [
        "# Word level\n",
        "word_input = Input(shape=(1,),dtype=tf.string,name='word_input')\n",
        "# Tokenize\n",
        "\n",
        "words_vectorize = text_vectorizer(word_input)\n",
        "\n",
        "# Embedding\n",
        "embedding = Embedding(input_dim=max_word_tokens,\n",
        "                      output_dim=128,\n",
        "                      embeddings_initializer=\"uniform\",\n",
        "                      input_length=None)\n",
        "words = embedding(words_vectorize)\n"
      ],
      "metadata": {
        "id": "HQQ5xyyOoIcP"
      },
      "execution_count": 20,
      "outputs": []
    },
    {
      "cell_type": "code",
      "source": [
        "# Character level\n",
        "character_input=Input(shape=(None,max_word_len,),\n",
        "                      name='char_input',\n",
        "                      dtype=tf.int32)\n",
        "embed_char_out=TimeDistributed(Embedding(input_dim = len(char2Idx),\n",
        "                                         output_dim=10,\n",
        "                                         embeddings_initializer=RandomUniform(minval=-0.5, maxval=0.5),\n",
        "                                         input_length=max_sentence_length,),\n",
        "                                         name='char_embedding')(character_input)\n",
        "dropout = Dropout(0.5)(embed_char_out)\n",
        "conv1d_out= TimeDistributed(Conv1D(kernel_size=3,\n",
        "                                   filters=10,\n",
        "                                   padding='same',activation='tanh', strides=1))(dropout)\n",
        "maxpool_out=TimeDistributed(MaxPooling1D(max_word_len))(conv1d_out)\n",
        "char = TimeDistributed(Flatten())(maxpool_out)\n",
        "char = Dropout(0.5)(char)"
      ],
      "metadata": {
        "id": "tyRcA1GgCZD7"
      },
      "execution_count": 21,
      "outputs": []
    },
    {
      "cell_type": "code",
      "source": [
        "## Caps feature\n",
        "casing_input = Input(shape=(max_sentence_length,), dtype='int32', name='casing_input')\n",
        "casing_embed = Embedding(input_dim=len(case2id),\n",
        "                        output_dim=len(case2id),\n",
        "                        input_length=max_sentence_length,\n",
        "                        trainable=False)\n",
        "\n",
        "casing = casing_embed(casing_input)"
      ],
      "metadata": {
        "id": "iOBLEbzQHhIK"
      },
      "execution_count": 22,
      "outputs": []
    },
    {
      "cell_type": "code",
      "source": [
        "combined = concatenate([words, char, casing])\n",
        "# combined = words\n",
        "# Bi-LSTM\n",
        "output = Bidirectional(LSTM(200, return_sequences=True, dropout=0.50, recurrent_dropout=0.25))(combined)\n",
        "\n",
        "# # Output -> Tag Scoring -> Tag\n",
        "output = TimeDistributed(Dense(len(label2id), activation='softmax'))(output)\n",
        "model = Model(inputs=[word_input, character_input, casing], outputs=[output])\n"
      ],
      "metadata": {
        "id": "ADNF46AJCc2W",
        "colab": {
          "base_uri": "https://localhost:8080/"
        },
        "outputId": "c78af380-6c07-46b0-e810-de85e7638a8f"
      },
      "execution_count": 23,
      "outputs": [
        {
          "output_type": "stream",
          "name": "stderr",
          "text": [
            "WARNING:tensorflow:Layer lstm will not use cuDNN kernels since it doesn't meet the criteria. It will use a generic GPU kernel as fallback when running on GPU.\n",
            "WARNING:tensorflow:Layer lstm will not use cuDNN kernels since it doesn't meet the criteria. It will use a generic GPU kernel as fallback when running on GPU.\n",
            "WARNING:tensorflow:Layer lstm will not use cuDNN kernels since it doesn't meet the criteria. It will use a generic GPU kernel as fallback when running on GPU.\n"
          ]
        }
      ]
    },
    {
      "cell_type": "code",
      "source": [
        "model.compile(loss=\"categorical_crossentropy\",\n",
        "              optimizer=Adam(),\n",
        "              metrics=[\"accuracy\"])"
      ],
      "metadata": {
        "id": "sEyUbsyIqdUR"
      },
      "execution_count": 24,
      "outputs": []
    },
    {
      "cell_type": "code",
      "source": [
        "model.summary()"
      ],
      "metadata": {
        "id": "dAbBlYVmrJHr",
        "outputId": "80e7c0e1-5737-4248-b8d2-d810df10fba8",
        "colab": {
          "base_uri": "https://localhost:8080/"
        }
      },
      "execution_count": 25,
      "outputs": [
        {
          "output_type": "stream",
          "name": "stdout",
          "text": [
            "Model: \"model\"\n",
            "__________________________________________________________________________________________________\n",
            " Layer (type)                Output Shape                 Param #   Connected to                  \n",
            "==================================================================================================\n",
            " char_input (InputLayer)     [(None, None, 20)]           0         []                            \n",
            "                                                                                                  \n",
            " char_embedding (TimeDistri  (None, None, 20, 10)         950       ['char_input[0][0]']          \n",
            " buted)                                                                                           \n",
            "                                                                                                  \n",
            " dropout (Dropout)           (None, None, 20, 10)         0         ['char_embedding[1][0]']      \n",
            "                                                                                                  \n",
            " time_distributed (TimeDist  (None, None, 20, 10)         310       ['dropout[1][0]']             \n",
            " ributed)                                                                                         \n",
            "                                                                                                  \n",
            " word_input (InputLayer)     [(None, 1)]                  0         []                            \n",
            "                                                                                                  \n",
            " time_distributed_1 (TimeDi  (None, None, 1, 10)          0         ['time_distributed[1][0]']    \n",
            " stributed)                                                                                       \n",
            "                                                                                                  \n",
            " text_vectorization (TextVe  (None, 50)                   0         ['word_input[0][0]']          \n",
            " ctorization)                                                                                     \n",
            "                                                                                                  \n",
            " time_distributed_2 (TimeDi  (None, None, 10)             0         ['time_distributed_1[1][0]']  \n",
            " stributed)                                                                                       \n",
            "                                                                                                  \n",
            " embedding (Embedding)       (None, 50, 128)              3072000   ['text_vectorization[1][0]']  \n",
            "                                                                                                  \n",
            " dropout_1 (Dropout)         (None, None, 10)             0         ['time_distributed_2[1][0]']  \n",
            "                                                                                                  \n",
            " input_1 (InputLayer)        [(None, 50, 5)]              0         []                            \n",
            "                                                                                                  \n",
            " concatenate (Concatenate)   (None, 50, 143)              0         ['embedding[1][0]',           \n",
            "                                                                     'dropout_1[1][0]',           \n",
            "                                                                     'input_1[0][0]']             \n",
            "                                                                                                  \n",
            " bidirectional (Bidirection  (None, 50, 400)              550400    ['concatenate[1][0]']         \n",
            " al)                                                                                              \n",
            "                                                                                                  \n",
            " time_distributed_3 (TimeDi  (None, 50, 9)                3609      ['bidirectional[1][0]']       \n",
            " stributed)                                                                                       \n",
            "                                                                                                  \n",
            "==================================================================================================\n",
            "Total params: 3627269 (13.84 MB)\n",
            "Trainable params: 3627269 (13.84 MB)\n",
            "Non-trainable params: 0 (0.00 Byte)\n",
            "__________________________________________________________________________________________________\n"
          ]
        }
      ]
    },
    {
      "cell_type": "code",
      "source": [
        "history = model.fit([X_train_word,X_train_char, X_train_case],\n",
        "                    y_train,\n",
        "                    epochs=100,\n",
        "                    batch_size=64,\n",
        "                    validation_data=([X_val_word,X_val_char,X_val_case], y_val))"
      ],
      "metadata": {
        "id": "iaXHRDfQHOi0",
        "colab": {
          "base_uri": "https://localhost:8080/"
        },
        "outputId": "e64a0d1f-bab1-4092-908e-1755beef96da"
      },
      "execution_count": 26,
      "outputs": [
        {
          "output_type": "stream",
          "name": "stdout",
          "text": [
            "Epoch 1/100\n",
            "220/220 [==============================] - 100s 396ms/step - loss: 0.2091 - accuracy: 0.9490 - val_loss: 0.1321 - val_accuracy: 0.9566\n",
            "Epoch 2/100\n",
            "220/220 [==============================] - 76s 347ms/step - loss: 0.1017 - accuracy: 0.9678 - val_loss: 0.0735 - val_accuracy: 0.9786\n",
            "Epoch 3/100\n",
            "220/220 [==============================] - 77s 350ms/step - loss: 0.0559 - accuracy: 0.9836 - val_loss: 0.0495 - val_accuracy: 0.9856\n",
            "Epoch 4/100\n",
            "220/220 [==============================] - 74s 336ms/step - loss: 0.0351 - accuracy: 0.9897 - val_loss: 0.0433 - val_accuracy: 0.9877\n",
            "Epoch 5/100\n",
            "220/220 [==============================] - 73s 333ms/step - loss: 0.0251 - accuracy: 0.9925 - val_loss: 0.0429 - val_accuracy: 0.9879\n",
            "Epoch 6/100\n",
            "220/220 [==============================] - 75s 341ms/step - loss: 0.0189 - accuracy: 0.9943 - val_loss: 0.0408 - val_accuracy: 0.9887\n",
            "Epoch 7/100\n",
            "220/220 [==============================] - 72s 329ms/step - loss: 0.0154 - accuracy: 0.9955 - val_loss: 0.0417 - val_accuracy: 0.9891\n",
            "Epoch 8/100\n",
            "220/220 [==============================] - 72s 329ms/step - loss: 0.0130 - accuracy: 0.9961 - val_loss: 0.0411 - val_accuracy: 0.9893\n",
            "Epoch 9/100\n",
            "220/220 [==============================] - 74s 335ms/step - loss: 0.0108 - accuracy: 0.9968 - val_loss: 0.0425 - val_accuracy: 0.9889\n",
            "Epoch 10/100\n",
            "220/220 [==============================] - 73s 333ms/step - loss: 0.0091 - accuracy: 0.9972 - val_loss: 0.0430 - val_accuracy: 0.9892\n",
            "Epoch 11/100\n",
            "220/220 [==============================] - 74s 337ms/step - loss: 0.0076 - accuracy: 0.9977 - val_loss: 0.0424 - val_accuracy: 0.9897\n",
            "Epoch 12/100\n",
            "220/220 [==============================] - 74s 336ms/step - loss: 0.0068 - accuracy: 0.9979 - val_loss: 0.0443 - val_accuracy: 0.9895\n",
            "Epoch 13/100\n",
            "220/220 [==============================] - 72s 329ms/step - loss: 0.0060 - accuracy: 0.9981 - val_loss: 0.0459 - val_accuracy: 0.9897\n",
            "Epoch 14/100\n",
            "220/220 [==============================] - 72s 329ms/step - loss: 0.0051 - accuracy: 0.9984 - val_loss: 0.0470 - val_accuracy: 0.9892\n",
            "Epoch 15/100\n",
            "220/220 [==============================] - 74s 335ms/step - loss: 0.0047 - accuracy: 0.9986 - val_loss: 0.0466 - val_accuracy: 0.9897\n",
            "Epoch 16/100\n",
            "220/220 [==============================] - 73s 333ms/step - loss: 0.0041 - accuracy: 0.9987 - val_loss: 0.0501 - val_accuracy: 0.9894\n",
            "Epoch 17/100\n",
            "220/220 [==============================] - 72s 328ms/step - loss: 0.0036 - accuracy: 0.9989 - val_loss: 0.0487 - val_accuracy: 0.9897\n",
            "Epoch 18/100\n",
            "220/220 [==============================] - 72s 329ms/step - loss: 0.0029 - accuracy: 0.9991 - val_loss: 0.0517 - val_accuracy: 0.9894\n",
            "Epoch 19/100\n",
            "220/220 [==============================] - 73s 332ms/step - loss: 0.0027 - accuracy: 0.9992 - val_loss: 0.0515 - val_accuracy: 0.9896\n",
            "Epoch 20/100\n",
            "220/220 [==============================] - 73s 331ms/step - loss: 0.0025 - accuracy: 0.9992 - val_loss: 0.0507 - val_accuracy: 0.9896\n",
            "Epoch 21/100\n",
            "220/220 [==============================] - 73s 330ms/step - loss: 0.0025 - accuracy: 0.9992 - val_loss: 0.0504 - val_accuracy: 0.9898\n",
            "Epoch 22/100\n",
            "220/220 [==============================] - 72s 326ms/step - loss: 0.0022 - accuracy: 0.9993 - val_loss: 0.0519 - val_accuracy: 0.9894\n",
            "Epoch 23/100\n",
            "220/220 [==============================] - 72s 326ms/step - loss: 0.0019 - accuracy: 0.9994 - val_loss: 0.0545 - val_accuracy: 0.9893\n",
            "Epoch 24/100\n",
            "220/220 [==============================] - 73s 331ms/step - loss: 0.0019 - accuracy: 0.9994 - val_loss: 0.0532 - val_accuracy: 0.9896\n",
            "Epoch 25/100\n",
            "220/220 [==============================] - 73s 331ms/step - loss: 0.0016 - accuracy: 0.9995 - val_loss: 0.0527 - val_accuracy: 0.9896\n",
            "Epoch 26/100\n",
            "220/220 [==============================] - 74s 339ms/step - loss: 0.0015 - accuracy: 0.9995 - val_loss: 0.0531 - val_accuracy: 0.9899\n",
            "Epoch 27/100\n",
            "220/220 [==============================] - 74s 337ms/step - loss: 0.0013 - accuracy: 0.9996 - val_loss: 0.0542 - val_accuracy: 0.9900\n",
            "Epoch 28/100\n",
            "220/220 [==============================] - 73s 332ms/step - loss: 0.0013 - accuracy: 0.9996 - val_loss: 0.0542 - val_accuracy: 0.9898\n",
            "Epoch 29/100\n",
            "220/220 [==============================] - 73s 330ms/step - loss: 0.0012 - accuracy: 0.9996 - val_loss: 0.0548 - val_accuracy: 0.9900\n",
            "Epoch 30/100\n",
            "220/220 [==============================] - 73s 331ms/step - loss: 0.0012 - accuracy: 0.9996 - val_loss: 0.0568 - val_accuracy: 0.9896\n",
            "Epoch 31/100\n",
            "220/220 [==============================] - 74s 335ms/step - loss: 0.0012 - accuracy: 0.9996 - val_loss: 0.0552 - val_accuracy: 0.9901\n",
            "Epoch 32/100\n",
            "220/220 [==============================] - 72s 330ms/step - loss: 9.5921e-04 - accuracy: 0.9997 - val_loss: 0.0575 - val_accuracy: 0.9896\n",
            "Epoch 33/100\n",
            "220/220 [==============================] - 73s 333ms/step - loss: 0.0011 - accuracy: 0.9997 - val_loss: 0.0582 - val_accuracy: 0.9897\n",
            "Epoch 34/100\n",
            "220/220 [==============================] - 73s 333ms/step - loss: 0.0011 - accuracy: 0.9997 - val_loss: 0.0583 - val_accuracy: 0.9897\n",
            "Epoch 35/100\n",
            "220/220 [==============================] - 72s 327ms/step - loss: 9.7303e-04 - accuracy: 0.9997 - val_loss: 0.0582 - val_accuracy: 0.9898\n",
            "Epoch 36/100\n",
            "220/220 [==============================] - 73s 333ms/step - loss: 6.6994e-04 - accuracy: 0.9998 - val_loss: 0.0578 - val_accuracy: 0.9900\n",
            "Epoch 37/100\n",
            "220/220 [==============================] - 74s 338ms/step - loss: 7.1127e-04 - accuracy: 0.9998 - val_loss: 0.0605 - val_accuracy: 0.9896\n",
            "Epoch 38/100\n",
            "220/220 [==============================] - 72s 329ms/step - loss: 6.8742e-04 - accuracy: 0.9998 - val_loss: 0.0590 - val_accuracy: 0.9900\n",
            "Epoch 39/100\n",
            "220/220 [==============================] - 74s 337ms/step - loss: 6.7614e-04 - accuracy: 0.9998 - val_loss: 0.0605 - val_accuracy: 0.9900\n",
            "Epoch 40/100\n",
            "220/220 [==============================] - 73s 329ms/step - loss: 6.8256e-04 - accuracy: 0.9998 - val_loss: 0.0590 - val_accuracy: 0.9902\n",
            "Epoch 41/100\n",
            "220/220 [==============================] - 72s 326ms/step - loss: 5.9424e-04 - accuracy: 0.9998 - val_loss: 0.0623 - val_accuracy: 0.9896\n",
            "Epoch 42/100\n",
            "220/220 [==============================] - 73s 334ms/step - loss: 5.3968e-04 - accuracy: 0.9998 - val_loss: 0.0623 - val_accuracy: 0.9898\n",
            "Epoch 43/100\n",
            "220/220 [==============================] - 72s 330ms/step - loss: 6.3697e-04 - accuracy: 0.9998 - val_loss: 0.0624 - val_accuracy: 0.9897\n",
            "Epoch 44/100\n",
            "220/220 [==============================] - 73s 333ms/step - loss: 6.3215e-04 - accuracy: 0.9998 - val_loss: 0.0631 - val_accuracy: 0.9896\n",
            "Epoch 45/100\n",
            "220/220 [==============================] - 74s 337ms/step - loss: 5.9916e-04 - accuracy: 0.9998 - val_loss: 0.0640 - val_accuracy: 0.9894\n",
            "Epoch 46/100\n",
            "220/220 [==============================] - 72s 328ms/step - loss: 5.4919e-04 - accuracy: 0.9999 - val_loss: 0.0634 - val_accuracy: 0.9896\n",
            "Epoch 47/100\n",
            "220/220 [==============================] - 73s 331ms/step - loss: 5.7078e-04 - accuracy: 0.9998 - val_loss: 0.0615 - val_accuracy: 0.9900\n",
            "Epoch 48/100\n",
            "220/220 [==============================] - 74s 336ms/step - loss: 4.5916e-04 - accuracy: 0.9999 - val_loss: 0.0659 - val_accuracy: 0.9895\n",
            "Epoch 49/100\n",
            "220/220 [==============================] - 72s 328ms/step - loss: 3.9615e-04 - accuracy: 0.9999 - val_loss: 0.0633 - val_accuracy: 0.9899\n",
            "Epoch 50/100\n",
            "220/220 [==============================] - 74s 335ms/step - loss: 3.7647e-04 - accuracy: 0.9999 - val_loss: 0.0625 - val_accuracy: 0.9901\n",
            "Epoch 51/100\n",
            "220/220 [==============================] - 73s 333ms/step - loss: 4.2644e-04 - accuracy: 0.9999 - val_loss: 0.0637 - val_accuracy: 0.9900\n",
            "Epoch 52/100\n",
            "220/220 [==============================] - 73s 334ms/step - loss: 3.4997e-04 - accuracy: 0.9999 - val_loss: 0.0650 - val_accuracy: 0.9898\n",
            "Epoch 53/100\n",
            "220/220 [==============================] - 72s 328ms/step - loss: 3.9814e-04 - accuracy: 0.9999 - val_loss: 0.0629 - val_accuracy: 0.9899\n",
            "Epoch 54/100\n",
            "220/220 [==============================] - 73s 333ms/step - loss: 3.5180e-04 - accuracy: 0.9999 - val_loss: 0.0660 - val_accuracy: 0.9897\n",
            "Epoch 55/100\n",
            "220/220 [==============================] - 72s 328ms/step - loss: 4.0349e-04 - accuracy: 0.9999 - val_loss: 0.0683 - val_accuracy: 0.9891\n",
            "Epoch 56/100\n",
            "220/220 [==============================] - 72s 327ms/step - loss: 3.4765e-04 - accuracy: 0.9999 - val_loss: 0.0650 - val_accuracy: 0.9899\n",
            "Epoch 57/100\n",
            "220/220 [==============================] - 74s 337ms/step - loss: 3.5311e-04 - accuracy: 0.9999 - val_loss: 0.0650 - val_accuracy: 0.9901\n",
            "Epoch 58/100\n",
            "220/220 [==============================] - 72s 328ms/step - loss: 3.2264e-04 - accuracy: 0.9999 - val_loss: 0.0646 - val_accuracy: 0.9898\n",
            "Epoch 59/100\n",
            "220/220 [==============================] - 73s 330ms/step - loss: 2.8552e-04 - accuracy: 0.9999 - val_loss: 0.0677 - val_accuracy: 0.9897\n",
            "Epoch 60/100\n",
            "220/220 [==============================] - 74s 335ms/step - loss: 3.7039e-04 - accuracy: 0.9999 - val_loss: 0.0677 - val_accuracy: 0.9896\n",
            "Epoch 61/100\n",
            "220/220 [==============================] - 73s 334ms/step - loss: 3.3237e-04 - accuracy: 0.9999 - val_loss: 0.0648 - val_accuracy: 0.9896\n",
            "Epoch 62/100\n",
            "220/220 [==============================] - 73s 332ms/step - loss: 2.9139e-04 - accuracy: 0.9999 - val_loss: 0.0694 - val_accuracy: 0.9892\n",
            "Epoch 63/100\n",
            "220/220 [==============================] - 73s 333ms/step - loss: 2.8167e-04 - accuracy: 0.9999 - val_loss: 0.0673 - val_accuracy: 0.9893\n",
            "Epoch 64/100\n",
            "220/220 [==============================] - 73s 334ms/step - loss: 2.7418e-04 - accuracy: 0.9999 - val_loss: 0.0670 - val_accuracy: 0.9898\n",
            "Epoch 65/100\n",
            "220/220 [==============================] - 74s 335ms/step - loss: 2.5030e-04 - accuracy: 0.9999 - val_loss: 0.0692 - val_accuracy: 0.9895\n",
            "Epoch 66/100\n",
            "220/220 [==============================] - 73s 332ms/step - loss: 3.3933e-04 - accuracy: 0.9999 - val_loss: 0.0685 - val_accuracy: 0.9897\n",
            "Epoch 67/100\n",
            "220/220 [==============================] - 71s 324ms/step - loss: 2.8584e-04 - accuracy: 0.9999 - val_loss: 0.0668 - val_accuracy: 0.9898\n",
            "Epoch 68/100\n",
            "220/220 [==============================] - 73s 331ms/step - loss: 2.1728e-04 - accuracy: 0.9999 - val_loss: 0.0687 - val_accuracy: 0.9897\n",
            "Epoch 69/100\n",
            "220/220 [==============================] - 73s 333ms/step - loss: 2.5531e-04 - accuracy: 0.9999 - val_loss: 0.0681 - val_accuracy: 0.9899\n",
            "Epoch 70/100\n",
            "220/220 [==============================] - 71s 324ms/step - loss: 2.9064e-04 - accuracy: 0.9999 - val_loss: 0.0696 - val_accuracy: 0.9896\n",
            "Epoch 71/100\n",
            "220/220 [==============================] - 71s 322ms/step - loss: 2.2140e-04 - accuracy: 0.9999 - val_loss: 0.0693 - val_accuracy: 0.9895\n",
            "Epoch 72/100\n",
            "220/220 [==============================] - 74s 334ms/step - loss: 3.1728e-04 - accuracy: 0.9999 - val_loss: 0.0682 - val_accuracy: 0.9900\n",
            "Epoch 73/100\n",
            "220/220 [==============================] - 72s 328ms/step - loss: 2.5492e-04 - accuracy: 0.9999 - val_loss: 0.0679 - val_accuracy: 0.9900\n",
            "Epoch 74/100\n",
            "220/220 [==============================] - 72s 326ms/step - loss: 2.8469e-04 - accuracy: 0.9999 - val_loss: 0.0679 - val_accuracy: 0.9898\n",
            "Epoch 75/100\n",
            "220/220 [==============================] - 74s 335ms/step - loss: 2.3881e-04 - accuracy: 0.9999 - val_loss: 0.0681 - val_accuracy: 0.9901\n",
            "Epoch 76/100\n",
            "220/220 [==============================] - 72s 326ms/step - loss: 2.2501e-04 - accuracy: 0.9999 - val_loss: 0.0693 - val_accuracy: 0.9895\n",
            "Epoch 77/100\n",
            "220/220 [==============================] - 72s 326ms/step - loss: 2.8947e-04 - accuracy: 0.9999 - val_loss: 0.0683 - val_accuracy: 0.9900\n",
            "Epoch 78/100\n",
            "220/220 [==============================] - 74s 335ms/step - loss: 2.1315e-04 - accuracy: 0.9999 - val_loss: 0.0700 - val_accuracy: 0.9896\n",
            "Epoch 79/100\n",
            "220/220 [==============================] - 72s 326ms/step - loss: 2.1118e-04 - accuracy: 0.9999 - val_loss: 0.0694 - val_accuracy: 0.9895\n",
            "Epoch 80/100\n",
            "220/220 [==============================] - 72s 327ms/step - loss: 1.5099e-04 - accuracy: 0.9999 - val_loss: 0.0708 - val_accuracy: 0.9897\n",
            "Epoch 81/100\n",
            "220/220 [==============================] - 74s 335ms/step - loss: 1.6289e-04 - accuracy: 1.0000 - val_loss: 0.0690 - val_accuracy: 0.9901\n",
            "Epoch 82/100\n",
            "220/220 [==============================] - 72s 328ms/step - loss: 1.9283e-04 - accuracy: 1.0000 - val_loss: 0.0722 - val_accuracy: 0.9895\n",
            "Epoch 83/100\n",
            "220/220 [==============================] - 71s 324ms/step - loss: 2.0658e-04 - accuracy: 0.9999 - val_loss: 0.0734 - val_accuracy: 0.9894\n",
            "Epoch 84/100\n",
            "220/220 [==============================] - 72s 326ms/step - loss: 1.9387e-04 - accuracy: 0.9999 - val_loss: 0.0726 - val_accuracy: 0.9895\n",
            "Epoch 85/100\n",
            "220/220 [==============================] - 73s 333ms/step - loss: 1.3187e-04 - accuracy: 1.0000 - val_loss: 0.0739 - val_accuracy: 0.9896\n",
            "Epoch 86/100\n",
            "220/220 [==============================] - 72s 328ms/step - loss: 1.6633e-04 - accuracy: 0.9999 - val_loss: 0.0710 - val_accuracy: 0.9898\n",
            "Epoch 87/100\n",
            "220/220 [==============================] - 72s 328ms/step - loss: 2.5081e-04 - accuracy: 0.9999 - val_loss: 0.0704 - val_accuracy: 0.9898\n",
            "Epoch 88/100\n",
            "220/220 [==============================] - 73s 332ms/step - loss: 2.3811e-04 - accuracy: 0.9999 - val_loss: 0.0711 - val_accuracy: 0.9900\n",
            "Epoch 89/100\n",
            "220/220 [==============================] - 72s 328ms/step - loss: 1.7655e-04 - accuracy: 0.9999 - val_loss: 0.0721 - val_accuracy: 0.9898\n",
            "Epoch 90/100\n",
            "220/220 [==============================] - 72s 328ms/step - loss: 1.6714e-04 - accuracy: 0.9999 - val_loss: 0.0721 - val_accuracy: 0.9897\n",
            "Epoch 91/100\n",
            "220/220 [==============================] - 72s 329ms/step - loss: 1.6429e-04 - accuracy: 1.0000 - val_loss: 0.0696 - val_accuracy: 0.9901\n",
            "Epoch 92/100\n",
            "220/220 [==============================] - 71s 322ms/step - loss: 1.8985e-04 - accuracy: 0.9999 - val_loss: 0.0722 - val_accuracy: 0.9898\n",
            "Epoch 93/100\n",
            "220/220 [==============================] - 72s 327ms/step - loss: 2.7107e-04 - accuracy: 0.9999 - val_loss: 0.0744 - val_accuracy: 0.9895\n",
            "Epoch 94/100\n",
            "220/220 [==============================] - 73s 330ms/step - loss: 2.1387e-04 - accuracy: 0.9999 - val_loss: 0.0695 - val_accuracy: 0.9899\n",
            "Epoch 95/100\n",
            "220/220 [==============================] - 75s 343ms/step - loss: 1.8175e-04 - accuracy: 0.9999 - val_loss: 0.0719 - val_accuracy: 0.9898\n",
            "Epoch 96/100\n",
            "220/220 [==============================] - 72s 328ms/step - loss: 1.3013e-04 - accuracy: 1.0000 - val_loss: 0.0714 - val_accuracy: 0.9899\n",
            "Epoch 97/100\n",
            "220/220 [==============================] - 72s 327ms/step - loss: 1.7648e-04 - accuracy: 1.0000 - val_loss: 0.0733 - val_accuracy: 0.9895\n",
            "Epoch 98/100\n",
            "220/220 [==============================] - 72s 329ms/step - loss: 2.6306e-04 - accuracy: 0.9999 - val_loss: 0.0729 - val_accuracy: 0.9900\n",
            "Epoch 99/100\n",
            "220/220 [==============================] - 72s 328ms/step - loss: 1.6784e-04 - accuracy: 1.0000 - val_loss: 0.0717 - val_accuracy: 0.9898\n",
            "Epoch 100/100\n",
            "220/220 [==============================] - 72s 329ms/step - loss: 1.4321e-04 - accuracy: 1.0000 - val_loss: 0.0700 - val_accuracy: 0.9902\n"
          ]
        }
      ]
    },
    {
      "cell_type": "code",
      "source": [
        "model.save('bilstm-cnn.keras')"
      ],
      "metadata": {
        "id": "In-MXro5HrHk"
      },
      "execution_count": 27,
      "outputs": []
    },
    {
      "cell_type": "code",
      "source": [
        "# save training history\n",
        "import pickle\n",
        "with open('/content/trainHistoryDict', 'wb') as file_pi:\n",
        "    pickle.dump(history.history, file_pi)"
      ],
      "metadata": {
        "id": "XV73Jgmr1df-"
      },
      "execution_count": 28,
      "outputs": []
    },
    {
      "cell_type": "code",
      "source": [
        "# load training history\n",
        "# with open('/content/trainHistoryDict', \"rb\") as file_pi:\n",
        "#     loaded_history = pickle.load(file_pi)"
      ],
      "metadata": {
        "id": "Fy7-I3Rf1kFS"
      },
      "execution_count": 29,
      "outputs": []
    },
    {
      "cell_type": "code",
      "source": [
        "# summarize history for accuracy\n",
        "plt.plot(history.history['accuracy'])\n",
        "plt.plot(history.history['val_accuracy'])\n",
        "plt.title('model accuracy')\n",
        "plt.ylabel('accuracy')\n",
        "plt.xlabel('epoch')\n",
        "plt.legend(['train', 'validation'], loc='lower right')\n",
        "plt.show()\n",
        "# summarize history for loss\n",
        "plt.plot(history.history['loss'])\n",
        "plt.plot(history.history['val_loss'])\n",
        "plt.title('model loss')\n",
        "plt.ylabel('loss')\n",
        "plt.xlabel('epoch')\n",
        "plt.legend(['train', 'validation'], loc='upper right')\n",
        "plt.show()"
      ],
      "metadata": {
        "colab": {
          "base_uri": "https://localhost:8080/",
          "height": 927
        },
        "id": "C_JQkfmmzrCv",
        "outputId": "ff272354-9ae6-4f41-a5bc-67831d53a934"
      },
      "execution_count": 30,
      "outputs": [
        {
          "output_type": "display_data",
          "data": {
            "text/plain": [
              "<Figure size 640x480 with 1 Axes>"
            ],
            "image/png": "[encoded data removed]"
          },
          "metadata": {}
        },
        {
          "output_type": "display_data",
          "data": {
            "text/plain": [
              "<Figure size 640x480 with 1 Axes>"
            ],
            "image/png": "[encoded data removed]"
          },
          "metadata": {}
        }
      ]
    },
    {
      "cell_type": "markdown",
      "source": [
        "# Predictions"
      ],
      "metadata": {
        "id": "NmowfD8zHPh6"
      }
    },
    {
      "cell_type": "markdown",
      "source": [
        "\n",
        "Make a sample prediction, with a sigle sentence.\n",
        "\n"
      ],
      "metadata": {
        "id": "QWuvCLEJlz6o"
      }
    },
    {
      "cell_type": "code",
      "source": [
        "%%capture\n",
        "!wget https://github.com/truongthuanr/self-project/raw/main/11_Named_Entity_Recognition/bilstm-cnn.keras"
      ],
      "metadata": {
        "id": "A9lAPaMlL8nd"
      },
      "execution_count": 85,
      "outputs": []
    },
    {
      "cell_type": "code",
      "source": [
        "loaded_model = load_model('bilstm-cnn.keras')"
      ],
      "metadata": {
        "id": "aMi0gMXIIumu"
      },
      "execution_count": 86,
      "outputs": []
    },
    {
      "cell_type": "code",
      "source": [
        "def make_prediction(model, input_string):\n",
        "  X_words = np.asarray([input_string])\n",
        "  X_input_list = [input_string.split()]\n",
        "  X_chars = char_preprocessing(X_input_list)\n",
        "  X_case = case_preprocesing(X_input_list)\n",
        "  predictions = model.predict([X_words,X_chars,X_case])\n",
        "  return predictions"
      ],
      "metadata": {
        "id": "JGFfbP-_HPy8"
      },
      "execution_count": 25,
      "outputs": []
    },
    {
      "cell_type": "code",
      "source": [
        "example = \"Connie Palmer's cat Ralphie was way, way up in a tree in the family's backyard in Ohio\"\n",
        "predictions = make_prediction(loaded_model, example)"
      ],
      "metadata": {
        "id": "YYUZwW6_HP-e",
        "colab": {
          "base_uri": "https://localhost:8080/"
        },
        "outputId": "b65fba79-c13f-4cc0-bb5f-50340a19cae5"
      },
      "execution_count": 26,
      "outputs": [
        {
          "output_type": "stream",
          "name": "stdout",
          "text": [
            "1/1 [==============================] - 1s 1s/step\n"
          ]
        }
      ]
    },
    {
      "cell_type": "code",
      "source": [
        "temp = np.squeeze(np.argmax(predictions,axis=2))\n",
        "temp = [id2label[word] for word in temp]\n",
        "print(\"\".join([f\"{word:10}\" for word in example.split()]))\n",
        "print(\"\".join([f\"{word:10}\" for word in temp[:len(example.split())]]))\n"
      ],
      "metadata": {
        "id": "ySytMGcvO0Ys",
        "colab": {
          "base_uri": "https://localhost:8080/"
        },
        "outputId": "fa851449-885a-4e1f-8e37-b3fb5ea0633f"
      },
      "execution_count": 27,
      "outputs": [
        {
          "output_type": "stream",
          "name": "stdout",
          "text": [
            "Connie    Palmer's  cat       Ralphie   was       way,      way       up        in        a         tree      in        the       family's  backyard  in        Ohio      \n",
            "B-PER     I-PER     O         B-PER     O         O         O         O         O         O         O         O         O         O         O         O         B-LOC     \n"
          ]
        }
      ]
    },
    {
      "cell_type": "markdown",
      "source": [
        "# Test - F1 Score metrics"
      ],
      "metadata": {
        "id": "To3rfptlnBJd"
      }
    },
    {
      "cell_type": "markdown",
      "source": [
        "Make prediction on the test set,\n",
        "\n",
        "then compute f1score for each class"
      ],
      "metadata": {
        "id": "q8-5ChP5mHl9"
      }
    },
    {
      "cell_type": "code",
      "source": [
        "np.set_printoptions(suppress=True,linewidth=90)"
      ],
      "metadata": {
        "id": "T6KCFQEOskIX"
      },
      "execution_count": 28,
      "outputs": []
    },
    {
      "cell_type": "code",
      "source": [
        "test_predictions = loaded_model.predict([X_test_word,X_test_char, X_test_case])"
      ],
      "metadata": {
        "colab": {
          "base_uri": "https://localhost:8080/"
        },
        "id": "3R1vcTXCnBOU",
        "outputId": "b76d6e38-c8f7-49a1-c7b7-9ddbd5d7d8dc"
      },
      "execution_count": 87,
      "outputs": [
        {
          "output_type": "stream",
          "name": "stdout",
          "text": [
            "108/108 [==============================] - 12s 100ms/step\n"
          ]
        }
      ]
    },
    {
      "cell_type": "code",
      "source": [
        "def compute_f1score(prediction, actual):\n",
        "  prediction = np.squeeze(np.argmax(prediction,axis=2))\n",
        "  actual = np.squeeze(np.argmax(actual,axis=2))\n",
        "\n",
        "  # count_arr[predict-label][actual-label]\n",
        "  count_arr = np.zeros([len(label2id),len(label2id)])\n",
        "  for rownum in range(actual.shape[0]):\n",
        "    for wordnum in range(actual.shape[1]):\n",
        "      pred_label = prediction[rownum][wordnum]\n",
        "      actual_label = actual[rownum][wordnum]\n",
        "      count_arr[pred_label][actual_label] += 1\n",
        "\n",
        "  precision = [count_arr[i][i]/(np.sum(count_arr,axis=1))[i] for i in range(len(label2id))]\n",
        "  recall = [count_arr[i][i]/(np.sum(count_arr,axis=0))[i] for i in range(len(label2id))]\n",
        "  f1score = [2*recall[i]*precision[i]/(recall[i]+precision[i]) for i in range(len(label2id))]\n",
        "  return count_arr,precision,recall,f1score"
      ],
      "metadata": {
        "id": "QTfy3NYHnatp"
      },
      "execution_count": 88,
      "outputs": []
    },
    {
      "cell_type": "code",
      "source": [
        "countarr,precision,recall,f1score = compute_f1score(test_predictions,y_test)\n",
        "countarr"
      ],
      "metadata": {
        "colab": {
          "base_uri": "https://localhost:8080/"
        },
        "id": "SySZsmWseb5m",
        "outputId": "dddd9331-ff02-465c-dc37-660ef4df6582"
      },
      "execution_count": 89,
      "outputs": [
        {
          "output_type": "execute_result",
          "data": {
            "text/plain": [
              "array([[164167.,    101.,     18.,    102.,     74.,     38.,     11.,     65.,     34.],\n",
              "       [    82.,   1179.,     28.,    106.,      4.,     46.,      0.,     20.,      2.],\n",
              "       [    31.,     13.,    955.,      4.,     44.,      9.,     16.,      1.,      8.],\n",
              "       [    79.,    162.,      1.,   1179.,     26.,    128.,      1.,     45.,      3.],\n",
              "       [    73.,      8.,     86.,     26.,    592.,      4.,     29.,      2.,     11.],\n",
              "       [    61.,     76.,      2.,    160.,     10.,   1392.,      6.,     38.,      0.],\n",
              "       [    22.,      2.,      8.,      1.,     54.,      4.,    181.,      0.,      9.],\n",
              "       [    56.,     32.,      0.,     78.,      6.,     35.,      1.,    520.,     15.],\n",
              "       [    75.,      7.,     13.,      2.,     17.,      0.,     10.,     10.,    134.]])"
            ]
          },
          "metadata": {},
          "execution_count": 89
        }
      ]
    },
    {
      "cell_type": "code",
      "source": [
        "f1score"
      ],
      "metadata": {
        "id": "xrohm_uTRXFu",
        "outputId": "efa55613-a02f-49d1-e08b-af0a15a6feb6",
        "colab": {
          "base_uri": "https://localhost:8080/"
        }
      },
      "execution_count": 103,
      "outputs": [
        {
          "output_type": "execute_result",
          "data": {
            "text/plain": [
              "[0.9971997473090848,\n",
              " 0.7738759435510337,\n",
              " 0.8713503649635037,\n",
              " 0.7184643510054844,\n",
              " 0.7141133896260555,\n",
              " 0.8185827697735959,\n",
              " 0.6753731343283583,\n",
              " 0.7202216066481995,\n",
              " 0.5537190082644629]"
            ]
          },
          "metadata": {},
          "execution_count": 103
        }
      ]
    },
    {
      "cell_type": "markdown",
      "source": [
        "# nervaluate"
      ],
      "metadata": {
        "id": "wZphsdrC5ZE3"
      }
    },
    {
      "cell_type": "markdown",
      "source": [
        "Using nervaluate: https://pypi.org/project/nervaluate/\n",
        "\n",
        "to compute the metrics"
      ],
      "metadata": {
        "id": "0IttgA2KRHh5"
      }
    },
    {
      "cell_type": "code",
      "source": [
        "%%capture\n",
        "!pip install nervaluate"
      ],
      "metadata": {
        "id": "sq4J1AlxJ-Kt"
      },
      "execution_count": 35,
      "outputs": []
    },
    {
      "cell_type": "code",
      "source": [
        "from nervaluate import Evaluator"
      ],
      "metadata": {
        "id": "hUWYUWenPWlU"
      },
      "execution_count": 80,
      "outputs": []
    },
    {
      "cell_type": "code",
      "source": [
        "true = [[id2label[word] for word in sen] for sen in np.argmax(y_test, axis=2)]\n",
        "pred = [[id2label[word] for word in sen] for sen in np.argmax(test_predictions, axis=2)]"
      ],
      "metadata": {
        "id": "vcpuuO-qK4GB"
      },
      "execution_count": 92,
      "outputs": []
    },
    {
      "cell_type": "code",
      "source": [
        "evaluator = Evaluator(true, pred, tags=['LOC', 'PER', 'MISC'], loader=\"list\")"
      ],
      "metadata": {
        "id": "8-IgXZAFJ-Nj"
      },
      "execution_count": 101,
      "outputs": []
    },
    {
      "cell_type": "code",
      "source": [
        "results, results_per_tag = evaluator.evaluate()"
      ],
      "metadata": {
        "id": "mfCWf5KQJ-TI"
      },
      "execution_count": 102,
      "outputs": []
    },
    {
      "cell_type": "code",
      "source": [
        "results"
      ],
      "metadata": {
        "id": "52PWkKoTOi2M",
        "outputId": "1275d031-ad7f-470d-f1b1-b039b7330d88",
        "colab": {
          "base_uri": "https://localhost:8080/"
        }
      },
      "execution_count": 100,
      "outputs": [
        {
          "output_type": "execute_result",
          "data": {
            "text/plain": [
              "{'ent_type': {'correct': 3194,\n",
              "  'incorrect': 264,\n",
              "  'partial': 0,\n",
              "  'missed': 479,\n",
              "  'spurious': 670,\n",
              "  'possible': 3937,\n",
              "  'actual': 4128,\n",
              "  'precision': 0.7737403100775194,\n",
              "  'recall': 0.8112776225552452,\n",
              "  'f1': 0.7920644761314323},\n",
              " 'partial': {'correct': 3231,\n",
              "  'incorrect': 0,\n",
              "  'partial': 227,\n",
              "  'missed': 479,\n",
              "  'spurious': 670,\n",
              "  'possible': 3937,\n",
              "  'actual': 4128,\n",
              "  'precision': 0.8101986434108527,\n",
              "  'recall': 0.8495046990093981,\n",
              "  'f1': 0.8293862368257905},\n",
              " 'strict': {'correct': 3004,\n",
              "  'incorrect': 454,\n",
              "  'partial': 0,\n",
              "  'missed': 479,\n",
              "  'spurious': 670,\n",
              "  'possible': 3937,\n",
              "  'actual': 4128,\n",
              "  'precision': 0.7277131782945736,\n",
              "  'recall': 0.763017526035052,\n",
              "  'f1': 0.7449473031618102},\n",
              " 'exact': {'correct': 3231,\n",
              "  'incorrect': 227,\n",
              "  'partial': 0,\n",
              "  'missed': 479,\n",
              "  'spurious': 670,\n",
              "  'possible': 3937,\n",
              "  'actual': 4128,\n",
              "  'precision': 0.782703488372093,\n",
              "  'recall': 0.8206756413512827,\n",
              "  'f1': 0.8012399256044637}}"
            ]
          },
          "metadata": {},
          "execution_count": 100
        }
      ]
    },
    {
      "cell_type": "markdown",
      "source": [
        "# References"
      ],
      "metadata": {
        "id": "EvJmuiIiHQJy"
      }
    },
    {
      "cell_type": "markdown",
      "source": [
        "https://keras.io/examples/nlp/ner_transformers/"
      ],
      "metadata": {
        "id": "by174qhpHT_2"
      }
    },
    {
      "cell_type": "code",
      "source": [],
      "metadata": {
        "id": "hy3E6a3wehDv"
      },
      "execution_count": null,
      "outputs": []
    }
  ]
}