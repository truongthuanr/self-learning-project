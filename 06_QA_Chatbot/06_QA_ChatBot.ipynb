{
  "nbformat": 4,
  "nbformat_minor": 0,
  "metadata": {
    "colab": {
      "name": "06_QA_ChatBot.ipynb",
      "provenance": [],
      "toc_visible": true,
      "mount_file_id": "https://github.com/truongthuanr/self-project/blob/main/06_QA_ChatBot.ipynb",
      "authorship_tag": "ABX9TyMMsJuxNI3Vt/Qla1cmvPBl",
      "include_colab_link": true
    },
    "kernelspec": {
      "name": "python3",
      "display_name": "Python 3"
    },
    "language_info": {
      "name": "python"
    }
  },
  "cells": [
    {
      "cell_type": "markdown",
      "metadata": {
        "id": "view-in-github",
        "colab_type": "text"
      },
      "source": [
        "<a href=\"https://colab.research.google.com/github/truongthuanr/self-project/blob/main/06_QA_ChatBot.ipynb\" target=\"_parent\"><img src=\"https://colab.research.google.com/assets/colab-badge.svg\" alt=\"Open In Colab\"/></a>"
      ]
    },
    {
      "cell_type": "markdown",
      "metadata": {
        "id": "hmqEJ03IWNW6"
      },
      "source": [
        "# Information"
      ]
    },
    {
      "cell_type": "markdown",
      "metadata": {
        "id": "26q629jLUKIr"
      },
      "source": [
        "Reference: \n",
        "* [End-To-End Memory Networks](https://arxiv.org/pdf/1503.08895.pdf)"
      ]
    },
    {
      "cell_type": "markdown",
      "metadata": {
        "id": "z1Ie4ox6WO1C"
      },
      "source": [
        "# import data"
      ]
    },
    {
      "cell_type": "code",
      "metadata": {
        "id": "MbZ3fB8Eze0q"
      },
      "source": [
        "import numpy as np\n",
        "import pickle"
      ],
      "execution_count": 1,
      "outputs": []
    },
    {
      "cell_type": "code",
      "metadata": {
        "id": "vvLzr8HZy1oO"
      },
      "source": [
        "with open(\"/content/drive/MyDrive/01_Personal/01_Study/01_ML/04_QAChatBot/train_qa.txt\", \"rb\") as f:\n",
        "  train_data = pickle.load(f)\n",
        "\n",
        "with open(\"/content/drive/MyDrive/01_Personal/01_Study/01_ML/04_QAChatBot/test_qa.txt\", \"rb\") as f:\n",
        "  test_data = pickle.load(f)"
      ],
      "execution_count": 2,
      "outputs": []
    },
    {
      "cell_type": "code",
      "metadata": {
        "id": "HGdecLspH5Dg",
        "colab": {
          "base_uri": "https://localhost:8080/"
        },
        "outputId": "e2f2dfa3-1a3c-40b4-eba0-4183fb7bcf24"
      },
      "source": [
        "print(train_data[506][0])\n",
        "print(train_data[506][1])\n",
        "print(train_data[506][2])\n"
      ],
      "execution_count": 3,
      "outputs": [
        {
          "output_type": "stream",
          "name": "stdout",
          "text": [
            "['Daniel', 'took', 'the', 'milk', 'there', '.', 'Sandra', 'journeyed', 'to', 'the', 'bedroom', '.', 'Daniel', 'discarded', 'the', 'milk', '.', 'Mary', 'went', 'to', 'the', 'bathroom', '.']\n",
            "['Is', 'Mary', 'in', 'the', 'bathroom', '?']\n",
            "yes\n"
          ]
        }
      ]
    },
    {
      "cell_type": "code",
      "metadata": {
        "id": "_MtCkceaGfSl"
      },
      "source": [
        "all_data = train_data + test_data"
      ],
      "execution_count": 4,
      "outputs": []
    },
    {
      "cell_type": "code",
      "metadata": {
        "colab": {
          "base_uri": "https://localhost:8080/"
        },
        "id": "KF42gtM0zbNb",
        "outputId": "603cb383-1574-48c1-8b24-9c7392ff5519"
      },
      "source": [
        "len(train_data), len(test_data), len(all_data)"
      ],
      "execution_count": 5,
      "outputs": [
        {
          "output_type": "execute_result",
          "data": {
            "text/plain": [
              "(10000, 1000, 11000)"
            ]
          },
          "metadata": {},
          "execution_count": 5
        }
      ]
    },
    {
      "cell_type": "code",
      "metadata": {
        "id": "eyZ8yMJdFvIr"
      },
      "source": [
        "vocab = set()\n",
        "\n",
        "for story, question, answer in all_data:\n",
        "  vocab = vocab.union(set(story))\n",
        "  vocab = vocab.union(set(question))"
      ],
      "execution_count": 6,
      "outputs": []
    },
    {
      "cell_type": "code",
      "metadata": {
        "id": "F0G5eNaXHb9S"
      },
      "source": [
        "vocab.add('no')\n",
        "vocab.add('yes')"
      ],
      "execution_count": 7,
      "outputs": []
    },
    {
      "cell_type": "code",
      "metadata": {
        "id": "8RZVspeHHnnJ",
        "colab": {
          "base_uri": "https://localhost:8080/"
        },
        "outputId": "5acee8de-7d8f-4191-eb6f-1be944ce89fa"
      },
      "source": [
        "len(vocab)"
      ],
      "execution_count": 8,
      "outputs": [
        {
          "output_type": "execute_result",
          "data": {
            "text/plain": [
              "37"
            ]
          },
          "metadata": {},
          "execution_count": 8
        }
      ]
    },
    {
      "cell_type": "code",
      "metadata": {
        "id": "OH8_3aSYLPck",
        "colab": {
          "base_uri": "https://localhost:8080/"
        },
        "outputId": "0293d432-e4ba-45bc-ef17-4cb902c7b304"
      },
      "source": [
        "vocab"
      ],
      "execution_count": 9,
      "outputs": [
        {
          "output_type": "execute_result",
          "data": {
            "text/plain": [
              "{'.',\n",
              " '?',\n",
              " 'Daniel',\n",
              " 'Is',\n",
              " 'John',\n",
              " 'Mary',\n",
              " 'Sandra',\n",
              " 'apple',\n",
              " 'back',\n",
              " 'bathroom',\n",
              " 'bedroom',\n",
              " 'discarded',\n",
              " 'down',\n",
              " 'dropped',\n",
              " 'football',\n",
              " 'garden',\n",
              " 'got',\n",
              " 'grabbed',\n",
              " 'hallway',\n",
              " 'in',\n",
              " 'journeyed',\n",
              " 'kitchen',\n",
              " 'left',\n",
              " 'milk',\n",
              " 'moved',\n",
              " 'no',\n",
              " 'office',\n",
              " 'picked',\n",
              " 'put',\n",
              " 'the',\n",
              " 'there',\n",
              " 'to',\n",
              " 'took',\n",
              " 'travelled',\n",
              " 'up',\n",
              " 'went',\n",
              " 'yes'}"
            ]
          },
          "metadata": {},
          "execution_count": 9
        }
      ]
    },
    {
      "cell_type": "code",
      "metadata": {
        "id": "UWxdyf9UHo0C",
        "colab": {
          "base_uri": "https://localhost:8080/"
        },
        "outputId": "6c1b0afe-9432-4e6a-dfa2-06f4e9576aaf"
      },
      "source": [
        "all_story_lens = [len(data[0]) for data in all_data]\n",
        "max_story_len = max(all_story_lens)\n",
        "max_story_len"
      ],
      "execution_count": 10,
      "outputs": [
        {
          "output_type": "execute_result",
          "data": {
            "text/plain": [
              "156"
            ]
          },
          "metadata": {},
          "execution_count": 10
        }
      ]
    },
    {
      "cell_type": "code",
      "metadata": {
        "id": "9AWrOI-iIzhp",
        "colab": {
          "base_uri": "https://localhost:8080/"
        },
        "outputId": "fa2e9171-f1e9-460a-c828-62dd18ecd333"
      },
      "source": [
        "all_ques_lens = [len(data[1]) for data in all_data]\n",
        "max_ques_len = max(all_ques_lens)\n",
        "max_ques_len"
      ],
      "execution_count": 11,
      "outputs": [
        {
          "output_type": "execute_result",
          "data": {
            "text/plain": [
              "6"
            ]
          },
          "metadata": {},
          "execution_count": 11
        }
      ]
    },
    {
      "cell_type": "markdown",
      "metadata": {
        "id": "g4qAJZ3NJDm_"
      },
      "source": [
        "# Vetorize data"
      ]
    },
    {
      "cell_type": "code",
      "metadata": {
        "id": "5ikI4FAtJIPr"
      },
      "source": [
        "from keras.preprocessing.sequence import pad_sequences\n",
        "from keras.preprocessing.text import Tokenizer"
      ],
      "execution_count": 12,
      "outputs": []
    },
    {
      "cell_type": "code",
      "metadata": {
        "id": "bI3DQuvKJg6M"
      },
      "source": [
        "tokenizer = Tokenizer(filters=[])\n",
        "tokenizer.fit_on_texts(vocab)"
      ],
      "execution_count": 13,
      "outputs": []
    },
    {
      "cell_type": "code",
      "metadata": {
        "id": "RlsSrdl7JpGV",
        "colab": {
          "base_uri": "https://localhost:8080/"
        },
        "outputId": "3dd74c71-f074-42c7-e7c2-69c8a79e5850"
      },
      "source": [
        "tokenizer.word_index"
      ],
      "execution_count": 14,
      "outputs": [
        {
          "output_type": "execute_result",
          "data": {
            "text/plain": [
              "{'.': 15,\n",
              " '?': 34,\n",
              " 'apple': 37,\n",
              " 'back': 9,\n",
              " 'bathroom': 35,\n",
              " 'bedroom': 13,\n",
              " 'daniel': 8,\n",
              " 'discarded': 31,\n",
              " 'down': 14,\n",
              " 'dropped': 25,\n",
              " 'football': 6,\n",
              " 'garden': 3,\n",
              " 'got': 18,\n",
              " 'grabbed': 7,\n",
              " 'hallway': 10,\n",
              " 'in': 28,\n",
              " 'is': 23,\n",
              " 'john': 4,\n",
              " 'journeyed': 17,\n",
              " 'kitchen': 27,\n",
              " 'left': 5,\n",
              " 'mary': 36,\n",
              " 'milk': 20,\n",
              " 'moved': 1,\n",
              " 'no': 33,\n",
              " 'office': 12,\n",
              " 'picked': 30,\n",
              " 'put': 24,\n",
              " 'sandra': 21,\n",
              " 'the': 22,\n",
              " 'there': 29,\n",
              " 'to': 16,\n",
              " 'took': 19,\n",
              " 'travelled': 2,\n",
              " 'up': 32,\n",
              " 'went': 26,\n",
              " 'yes': 11}"
            ]
          },
          "metadata": {},
          "execution_count": 14
        }
      ]
    },
    {
      "cell_type": "code",
      "metadata": {
        "id": "t858S3jpKAin"
      },
      "source": [
        "train_story_text = []\n",
        "train_ques_text = []\n",
        "train_ans_text = []"
      ],
      "execution_count": 15,
      "outputs": []
    },
    {
      "cell_type": "code",
      "metadata": {
        "id": "X1vF5Wd6KHul"
      },
      "source": [
        "for story,ques,ans in train_data:\n",
        "  train_story_text.append(story)\n",
        "  train_ques_text.append(ques)\n",
        "  train_ans_text.append(ans)"
      ],
      "execution_count": 16,
      "outputs": []
    },
    {
      "cell_type": "code",
      "metadata": {
        "id": "xhgKoQ9xKzCq",
        "colab": {
          "base_uri": "https://localhost:8080/"
        },
        "outputId": "52daa2ce-680e-450a-c902-0924480fd332"
      },
      "source": [
        "train_story_text[0]"
      ],
      "execution_count": 17,
      "outputs": [
        {
          "output_type": "execute_result",
          "data": {
            "text/plain": [
              "['Mary',\n",
              " 'moved',\n",
              " 'to',\n",
              " 'the',\n",
              " 'bathroom',\n",
              " '.',\n",
              " 'Sandra',\n",
              " 'journeyed',\n",
              " 'to',\n",
              " 'the',\n",
              " 'bedroom',\n",
              " '.']"
            ]
          },
          "metadata": {},
          "execution_count": 17
        }
      ]
    },
    {
      "cell_type": "code",
      "metadata": {
        "id": "q3_Kk60JKX85"
      },
      "source": [
        "train_story_seq = tokenizer.texts_to_sequences(train_story_text)"
      ],
      "execution_count": 18,
      "outputs": []
    },
    {
      "cell_type": "code",
      "metadata": {
        "id": "wxGBRD0NK-pd",
        "colab": {
          "base_uri": "https://localhost:8080/"
        },
        "outputId": "7728b11a-1992-485d-db35-f4a330e74f2f"
      },
      "source": [
        "len(train_story_seq)"
      ],
      "execution_count": 19,
      "outputs": [
        {
          "output_type": "execute_result",
          "data": {
            "text/plain": [
              "10000"
            ]
          },
          "metadata": {},
          "execution_count": 19
        }
      ]
    },
    {
      "cell_type": "code",
      "metadata": {
        "id": "JJe53E24KwnL",
        "colab": {
          "base_uri": "https://localhost:8080/"
        },
        "outputId": "d8b75fb4-b545-4d30-c2b7-301603d1e3f3"
      },
      "source": [
        "train_story_seq[0]"
      ],
      "execution_count": 20,
      "outputs": [
        {
          "output_type": "execute_result",
          "data": {
            "text/plain": [
              "[36, 1, 16, 22, 35, 15, 21, 17, 16, 22, 13, 15]"
            ]
          },
          "metadata": {},
          "execution_count": 20
        }
      ]
    },
    {
      "cell_type": "markdown",
      "metadata": {
        "id": "TxIOp5PYnxF3"
      },
      "source": [
        "# Vectorization"
      ]
    },
    {
      "cell_type": "code",
      "metadata": {
        "id": "4gW4dCkMKylP"
      },
      "source": [
        "def vectorize_stories(data, word_index=tokenizer.word_index, max_story_len=max_story_len,max_question_len=max_ques_len):\n",
        "  '''\n",
        "  INPUT: \n",
        "  \n",
        "  data: consisting of Stories,Queries,and Answers\n",
        "  word_index: word index dictionary from tokenizer\n",
        "  max_story_len: the length of the longest story (used for pad_sequences function)\n",
        "  max_question_len: length of the longest question (used for pad_sequences function)\n",
        "\n",
        "\n",
        "  OUTPUT:\n",
        "  \n",
        "  Vectorizes the stories,questions, and answers into padded sequences. We first loop for every story, query , and\n",
        "  answer in the data. Then we convert the raw words to an word index value. Then we append each set to their appropriate\n",
        "  output list. Then once we have converted the words to numbers, we pad the sequences so they are all of equal length.\n",
        "  \n",
        "  Returns this in the form of a tuple (X,Xq,Y) (padded based on max lengths)\n",
        "  '''\n",
        "  \n",
        "  \n",
        "  # X = STORIES\n",
        "  X = []\n",
        "  # Xq = QUERY/QUESTION\n",
        "  Xq = []\n",
        "  # Y = CORRECT ANSWER\n",
        "  Y = []\n",
        "  \n",
        "  \n",
        "  for story, query, answer in data:\n",
        "      \n",
        "      # Grab the word index for every word in story\n",
        "      x = [word_index[word.lower()] for word in story]\n",
        "      # Grab the word index for every word in query\n",
        "      xq = [word_index[word.lower()] for word in query]\n",
        "      \n",
        "      # Grab the Answers (either Yes/No so we don't need to use list comprehension here)\n",
        "      # Index 0 is reserved so we're going to use + 1\n",
        "      y = np.zeros(len(word_index) + 1)\n",
        "      \n",
        "      # Now that y is all zeros and we know its just Yes/No , we can use numpy logic to create this assignment\n",
        "      #\n",
        "      y[word_index[answer]] = 1\n",
        "      \n",
        "      # Append each set of story,query, and answer to their respective holding lists\n",
        "      X.append(x)\n",
        "      Xq.append(xq)\n",
        "      Y.append(y)\n",
        "      \n",
        "  # Finally, pad the sequences based on their max length so the RNN can be trained on uniformly long sequences.\n",
        "      \n",
        "  # RETURN TUPLE FOR UNPACKING\n",
        "  return (pad_sequences(X, maxlen=max_story_len),pad_sequences(Xq, maxlen=max_question_len), np.array(Y))"
      ],
      "execution_count": 21,
      "outputs": []
    },
    {
      "cell_type": "code",
      "metadata": {
        "id": "mFNF5hAanpHJ"
      },
      "source": [
        "inputs_train, queries_train, answers_train = vectorize_stories(train_data)"
      ],
      "execution_count": 22,
      "outputs": []
    },
    {
      "cell_type": "code",
      "metadata": {
        "id": "UAyTv0hlGN6u"
      },
      "source": [
        "inputs_test, queries_test, answers_test = vectorize_stories(test_data)"
      ],
      "execution_count": 23,
      "outputs": []
    },
    {
      "cell_type": "code",
      "metadata": {
        "colab": {
          "base_uri": "https://localhost:8080/"
        },
        "id": "s-ApQ8LfGkPT",
        "outputId": "6e148fc5-a929-4a82-e989-82b9df7866b7"
      },
      "source": [
        "inputs_test[0]"
      ],
      "execution_count": 24,
      "outputs": [
        {
          "output_type": "execute_result",
          "data": {
            "text/plain": [
              "array([ 0,  0,  0,  0,  0,  0,  0,  0,  0,  0,  0,  0,  0,  0,  0,  0,  0,\n",
              "        0,  0,  0,  0,  0,  0,  0,  0,  0,  0,  0,  0,  0,  0,  0,  0,  0,\n",
              "        0,  0,  0,  0,  0,  0,  0,  0,  0,  0,  0,  0,  0,  0,  0,  0,  0,\n",
              "        0,  0,  0,  0,  0,  0,  0,  0,  0,  0,  0,  0,  0,  0,  0,  0,  0,\n",
              "        0,  0,  0,  0,  0,  0,  0,  0,  0,  0,  0,  0,  0,  0,  0,  0,  0,\n",
              "        0,  0,  0,  0,  0,  0,  0,  0,  0,  0,  0,  0,  0,  0,  0,  0,  0,\n",
              "        0,  0,  0,  0,  0,  0,  0,  0,  0,  0,  0,  0,  0,  0,  0,  0,  0,\n",
              "        0,  0,  0,  0,  0,  0,  0,  0,  0,  0,  0,  0,  0,  0,  0,  0,  0,\n",
              "        0,  0,  0,  0,  0,  0,  0,  0, 36, 18, 22, 20, 29, 15,  4,  1, 16,\n",
              "       22, 13, 15], dtype=int32)"
            ]
          },
          "metadata": {},
          "execution_count": 24
        }
      ]
    },
    {
      "cell_type": "code",
      "metadata": {
        "colab": {
          "base_uri": "https://localhost:8080/"
        },
        "id": "s_eTX9BhG-iH",
        "outputId": "9e83e372-02b9-4253-eaa3-49b0276719d7"
      },
      "source": [
        "inputs_train"
      ],
      "execution_count": 25,
      "outputs": [
        {
          "output_type": "execute_result",
          "data": {
            "text/plain": [
              "array([[ 0,  0,  0, ..., 22, 13, 15],\n",
              "       [ 0,  0,  0, ..., 22, 10, 15],\n",
              "       [ 0,  0,  0, ..., 22, 35, 15],\n",
              "       ...,\n",
              "       [ 0,  0,  0, ..., 22, 13, 15],\n",
              "       [ 0,  0,  0, ..., 20, 29, 15],\n",
              "       [ 0,  0,  0, ..., 37, 29, 15]], dtype=int32)"
            ]
          },
          "metadata": {},
          "execution_count": 25
        }
      ]
    },
    {
      "cell_type": "code",
      "metadata": {
        "colab": {
          "base_uri": "https://localhost:8080/"
        },
        "id": "lgd0Lo6HI6Lw",
        "outputId": "3186d7ab-98c8-45cd-dbb7-b9e14c3f118d"
      },
      "source": [
        "inputs_train.shape"
      ],
      "execution_count": 26,
      "outputs": [
        {
          "output_type": "execute_result",
          "data": {
            "text/plain": [
              "(10000, 156)"
            ]
          },
          "metadata": {},
          "execution_count": 26
        }
      ]
    },
    {
      "cell_type": "code",
      "metadata": {
        "colab": {
          "base_uri": "https://localhost:8080/"
        },
        "id": "m3emtR1SH2Zw",
        "outputId": "0013c1ee-6cb0-4822-e2ed-cddb87d86e2c"
      },
      "source": [
        "answers_test"
      ],
      "execution_count": 27,
      "outputs": [
        {
          "output_type": "execute_result",
          "data": {
            "text/plain": [
              "array([[0., 0., 0., ..., 0., 0., 0.],\n",
              "       [0., 0., 0., ..., 0., 0., 0.],\n",
              "       [0., 0., 0., ..., 0., 0., 0.],\n",
              "       ...,\n",
              "       [0., 0., 0., ..., 0., 0., 0.],\n",
              "       [0., 0., 0., ..., 0., 0., 0.],\n",
              "       [0., 0., 0., ..., 0., 0., 0.]])"
            ]
          },
          "metadata": {},
          "execution_count": 27
        }
      ]
    },
    {
      "cell_type": "code",
      "metadata": {
        "colab": {
          "base_uri": "https://localhost:8080/"
        },
        "id": "gsmeNfUxH3bB",
        "outputId": "c45eadbc-b774-4330-90be-ce2b9a013019"
      },
      "source": [
        "answers_test.shape"
      ],
      "execution_count": 28,
      "outputs": [
        {
          "output_type": "execute_result",
          "data": {
            "text/plain": [
              "(1000, 38)"
            ]
          },
          "metadata": {},
          "execution_count": 28
        }
      ]
    },
    {
      "cell_type": "code",
      "metadata": {
        "id": "CoKbiTaYJAAq"
      },
      "source": [
        "from keras.models import Sequential, Model\n",
        "from keras.layers.embeddings import Embedding\n",
        "from keras.layers import Input, Activation, Dense, Permute, Dropout\n",
        "from keras.layers import add, dot, concatenate\n",
        "from keras.layers import LSTM"
      ],
      "execution_count": 29,
      "outputs": []
    },
    {
      "cell_type": "markdown",
      "metadata": {
        "id": "aQZI5ud9JvPU"
      },
      "source": [
        "Recall we technically have two inputs, stories and questions. So we need to use placeholders. `Input()` is used to instantiate a Keras tensor."
      ]
    },
    {
      "cell_type": "code",
      "metadata": {
        "id": "zs7W9_VEKBzN"
      },
      "source": [
        "input_sequence = Input((max_story_len,))\n",
        "question = Input((max_ques_len,))"
      ],
      "execution_count": 30,
      "outputs": []
    },
    {
      "cell_type": "code",
      "metadata": {
        "id": "-TG4P1MQKEgN"
      },
      "source": [
        "vocab_size = len(vocab) + 1"
      ],
      "execution_count": 31,
      "outputs": []
    },
    {
      "cell_type": "markdown",
      "metadata": {
        "id": "5WmuKrVyJG5p"
      },
      "source": [
        "### Input Encorder m"
      ]
    },
    {
      "cell_type": "code",
      "metadata": {
        "id": "PRJyHJA5NtPF"
      },
      "source": [
        "# Input gets embedded to a sequence of vectors\n",
        "input_encoder_m = Sequential()\n",
        "input_encoder_m.add(Embedding(input_dim=vocab_size,output_dim=64))\n",
        "input_encoder_m.add(Dropout(0.3))"
      ],
      "execution_count": 32,
      "outputs": []
    },
    {
      "cell_type": "markdown",
      "metadata": {
        "id": "VAFcFmV2Nz-t"
      },
      "source": [
        "### Input Encorder c"
      ]
    },
    {
      "cell_type": "code",
      "metadata": {
        "id": "3DkGhGlBN5C4"
      },
      "source": [
        "# embed the input into a sequence of vectors of size query_maxlen\n",
        "input_encoder_c = Sequential()\n",
        "input_encoder_c.add(Embedding(input_dim=vocab_size,output_dim=max_ques_len))\n",
        "input_encoder_c.add(Dropout(0.3))"
      ],
      "execution_count": 35,
      "outputs": []
    },
    {
      "cell_type": "markdown",
      "metadata": {
        "id": "ss5Cb7v3MjYD"
      },
      "source": [
        "### Question encoder"
      ]
    },
    {
      "cell_type": "code",
      "metadata": {
        "id": "lka6Iv7BMn5j"
      },
      "source": [
        "question_encoder = Sequential()\n",
        "question_encoder.add(Embedding(input_dim=vocab_size,\n",
        "                               output_dim=64,\n",
        "                               input_length=max_ques_len))\n",
        "question_encoder.add(Dropout(0.3))"
      ],
      "execution_count": 37,
      "outputs": []
    },
    {
      "cell_type": "markdown",
      "metadata": {
        "id": "sEDs_ny-MrPF"
      },
      "source": [
        "### Encode the Sequences"
      ]
    },
    {
      "cell_type": "code",
      "metadata": {
        "id": "dBcJITxXM69g"
      },
      "source": [
        "# encode input sequence and questions (which are indices)\n",
        "# to sequences of dense vectors\n",
        "input_encoded_m = input_encoder_m(input_sequence)\n",
        "input_encoded_c = input_encoder_c(input_sequence)\n",
        "question_encoded = question_encoder(question)"
      ],
      "execution_count": 39,
      "outputs": []
    },
    {
      "cell_type": "markdown",
      "metadata": {
        "id": "1mS0YGFCNN_S"
      },
      "source": [
        "Use dot product to compute the match between first input vector seq and the query"
      ]
    },
    {
      "cell_type": "code",
      "metadata": {
        "id": "5OcSkFVENOiD"
      },
      "source": [
        "match = dot([input_encoded_m, question_encoded], axes=(2, 2))\n",
        "match = Activation('softmax')(match)"
      ],
      "execution_count": 40,
      "outputs": []
    },
    {
      "cell_type": "markdown",
      "metadata": {
        "id": "3izT28pXNT3s"
      },
      "source": [
        "Add this match matrix with the second input vector sequence"
      ]
    },
    {
      "cell_type": "code",
      "metadata": {
        "id": "zuj8Uk8WNWIm"
      },
      "source": [
        "# add the match matrix with the second input vector sequence\n",
        "response = add([match, input_encoded_c])  # (samples, story_maxlen, query_maxlen)\n",
        "response = Permute((2, 1))(response)  # (samples, query_maxlen, story_maxlen)"
      ],
      "execution_count": 41,
      "outputs": []
    },
    {
      "cell_type": "markdown",
      "metadata": {
        "id": "rjqt0BvaNYio"
      },
      "source": [
        "Concatenate"
      ]
    },
    {
      "cell_type": "code",
      "metadata": {
        "id": "sPKfhYMuNeQ3"
      },
      "source": [
        "# concatenate the match matrix with the question vector sequence\n",
        "answer = concatenate([response, question_encoded])"
      ],
      "execution_count": 42,
      "outputs": []
    },
    {
      "cell_type": "code",
      "metadata": {
        "id": "K6YifltkNfMS",
        "outputId": "e5b93980-ff22-4d25-b4ca-b61404d08de4",
        "colab": {
          "base_uri": "https://localhost:8080/"
        }
      },
      "source": [
        "answer"
      ],
      "execution_count": 43,
      "outputs": [
        {
          "output_type": "execute_result",
          "data": {
            "text/plain": [
              "<KerasTensor: shape=(None, 6, 220) dtype=float32 (created by layer 'concatenate')>"
            ]
          },
          "metadata": {},
          "execution_count": 43
        }
      ]
    },
    {
      "cell_type": "code",
      "metadata": {
        "id": "Otw70R_xNgzz"
      },
      "source": [
        "# Reduce with RNN (LSTM)\n",
        "answer = LSTM(32)(answer)  # (samples, 32)"
      ],
      "execution_count": 44,
      "outputs": []
    },
    {
      "cell_type": "code",
      "metadata": {
        "id": "Fkp8S_fLNj8x"
      },
      "source": [
        "# Regularization with Dropout\n",
        "answer = Dropout(0.5)(answer)\n",
        "answer = Dense(vocab_size)(answer)  # (samples, vocab_size)"
      ],
      "execution_count": 45,
      "outputs": []
    },
    {
      "cell_type": "code",
      "metadata": {
        "id": "FTJwSon_Nlur"
      },
      "source": [
        "# we output a probability distribution over the vocabulary\n",
        "answer = Activation('softmax')(answer)\n",
        "\n",
        "# build the final model\n",
        "model = Model([input_sequence, question], answer)\n",
        "model.compile(optimizer='rmsprop', loss='categorical_crossentropy',\n",
        "              metrics=['accuracy'])"
      ],
      "execution_count": 46,
      "outputs": []
    },
    {
      "cell_type": "code",
      "metadata": {
        "id": "lW8oKDtWNoMi",
        "outputId": "b62defbd-844b-4f4e-c090-95d5c364193e",
        "colab": {
          "base_uri": "https://localhost:8080/"
        }
      },
      "source": [
        "model.summary()"
      ],
      "execution_count": 47,
      "outputs": [
        {
          "output_type": "stream",
          "name": "stdout",
          "text": [
            "Model: \"model\"\n",
            "__________________________________________________________________________________________________\n",
            "Layer (type)                    Output Shape         Param #     Connected to                     \n",
            "==================================================================================================\n",
            "input_1 (InputLayer)            [(None, 156)]        0                                            \n",
            "__________________________________________________________________________________________________\n",
            "input_2 (InputLayer)            [(None, 6)]          0                                            \n",
            "__________________________________________________________________________________________________\n",
            "sequential (Sequential)         (None, None, 64)     2432        input_1[0][0]                    \n",
            "__________________________________________________________________________________________________\n",
            "sequential_3 (Sequential)       (None, 6, 64)        2432        input_2[0][0]                    \n",
            "__________________________________________________________________________________________________\n",
            "dot (Dot)                       (None, 156, 6)       0           sequential[0][0]                 \n",
            "                                                                 sequential_3[0][0]               \n",
            "__________________________________________________________________________________________________\n",
            "activation (Activation)         (None, 156, 6)       0           dot[0][0]                        \n",
            "__________________________________________________________________________________________________\n",
            "sequential_1 (Sequential)       (None, None, 6)      228         input_1[0][0]                    \n",
            "__________________________________________________________________________________________________\n",
            "add (Add)                       (None, 156, 6)       0           activation[0][0]                 \n",
            "                                                                 sequential_1[0][0]               \n",
            "__________________________________________________________________________________________________\n",
            "permute (Permute)               (None, 6, 156)       0           add[0][0]                        \n",
            "__________________________________________________________________________________________________\n",
            "concatenate (Concatenate)       (None, 6, 220)       0           permute[0][0]                    \n",
            "                                                                 sequential_3[0][0]               \n",
            "__________________________________________________________________________________________________\n",
            "lstm (LSTM)                     (None, 32)           32384       concatenate[0][0]                \n",
            "__________________________________________________________________________________________________\n",
            "dropout_3 (Dropout)             (None, 32)           0           lstm[0][0]                       \n",
            "__________________________________________________________________________________________________\n",
            "dense (Dense)                   (None, 38)           1254        dropout_3[0][0]                  \n",
            "__________________________________________________________________________________________________\n",
            "activation_1 (Activation)       (None, 38)           0           dense[0][0]                      \n",
            "==================================================================================================\n",
            "Total params: 38,730\n",
            "Trainable params: 38,730\n",
            "Non-trainable params: 0\n",
            "__________________________________________________________________________________________________\n"
          ]
        }
      ]
    },
    {
      "cell_type": "code",
      "metadata": {
        "id": "NLYpZgChNpku",
        "outputId": "141a6d4a-15fa-478f-ec4b-0e920a7b28f1",
        "colab": {
          "base_uri": "https://localhost:8080/"
        }
      },
      "source": [
        "# train\n",
        "history = model.fit([inputs_train, queries_train], answers_train,batch_size=32,epochs=120,validation_data=([inputs_test, queries_test], answers_test))"
      ],
      "execution_count": 48,
      "outputs": [
        {
          "output_type": "stream",
          "name": "stdout",
          "text": [
            "Epoch 1/120\n",
            "313/313 [==============================] - 8s 17ms/step - loss: 0.9246 - accuracy: 0.4911 - val_loss: 0.6968 - val_accuracy: 0.5030\n",
            "Epoch 2/120\n",
            "313/313 [==============================] - 5s 15ms/step - loss: 0.7050 - accuracy: 0.4993 - val_loss: 0.6932 - val_accuracy: 0.5030\n",
            "Epoch 3/120\n",
            "313/313 [==============================] - 5s 15ms/step - loss: 0.6959 - accuracy: 0.5032 - val_loss: 0.6932 - val_accuracy: 0.4910\n",
            "Epoch 4/120\n",
            "313/313 [==============================] - 5s 15ms/step - loss: 0.6949 - accuracy: 0.4974 - val_loss: 0.6956 - val_accuracy: 0.5030\n",
            "Epoch 5/120\n",
            "313/313 [==============================] - 5s 15ms/step - loss: 0.6948 - accuracy: 0.4936 - val_loss: 0.6938 - val_accuracy: 0.4970\n",
            "Epoch 6/120\n",
            "313/313 [==============================] - 5s 15ms/step - loss: 0.6948 - accuracy: 0.5019 - val_loss: 0.6941 - val_accuracy: 0.5030\n",
            "Epoch 7/120\n",
            "313/313 [==============================] - 5s 15ms/step - loss: 0.6948 - accuracy: 0.4883 - val_loss: 0.6934 - val_accuracy: 0.5030\n",
            "Epoch 8/120\n",
            "313/313 [==============================] - 5s 15ms/step - loss: 0.6942 - accuracy: 0.4950 - val_loss: 0.6950 - val_accuracy: 0.4970\n",
            "Epoch 9/120\n",
            "313/313 [==============================] - 5s 15ms/step - loss: 0.6947 - accuracy: 0.4971 - val_loss: 0.6937 - val_accuracy: 0.5030\n",
            "Epoch 10/120\n",
            "313/313 [==============================] - 5s 15ms/step - loss: 0.6939 - accuracy: 0.5049 - val_loss: 0.6937 - val_accuracy: 0.4660\n",
            "Epoch 11/120\n",
            "313/313 [==============================] - 5s 15ms/step - loss: 0.6938 - accuracy: 0.5026 - val_loss: 0.6944 - val_accuracy: 0.4850\n",
            "Epoch 12/120\n",
            "313/313 [==============================] - 5s 15ms/step - loss: 0.6931 - accuracy: 0.5139 - val_loss: 0.6949 - val_accuracy: 0.4830\n",
            "Epoch 13/120\n",
            "313/313 [==============================] - 5s 15ms/step - loss: 0.6892 - accuracy: 0.5251 - val_loss: 0.6895 - val_accuracy: 0.5130\n",
            "Epoch 14/120\n",
            "313/313 [==============================] - 5s 15ms/step - loss: 0.6694 - accuracy: 0.5762 - val_loss: 0.6520 - val_accuracy: 0.6290\n",
            "Epoch 15/120\n",
            "313/313 [==============================] - 5s 15ms/step - loss: 0.6301 - accuracy: 0.6458 - val_loss: 0.6123 - val_accuracy: 0.6670\n",
            "Epoch 16/120\n",
            "313/313 [==============================] - 5s 15ms/step - loss: 0.6126 - accuracy: 0.6656 - val_loss: 0.5876 - val_accuracy: 0.6870\n",
            "Epoch 17/120\n",
            "313/313 [==============================] - 5s 15ms/step - loss: 0.5912 - accuracy: 0.6857 - val_loss: 0.5650 - val_accuracy: 0.6970\n",
            "Epoch 18/120\n",
            "313/313 [==============================] - 5s 15ms/step - loss: 0.5606 - accuracy: 0.7182 - val_loss: 0.5140 - val_accuracy: 0.7620\n",
            "Epoch 19/120\n",
            "313/313 [==============================] - 5s 15ms/step - loss: 0.5338 - accuracy: 0.7434 - val_loss: 0.4836 - val_accuracy: 0.7790\n",
            "Epoch 20/120\n",
            "313/313 [==============================] - 5s 15ms/step - loss: 0.5017 - accuracy: 0.7684 - val_loss: 0.4597 - val_accuracy: 0.7860\n",
            "Epoch 21/120\n",
            "313/313 [==============================] - 5s 15ms/step - loss: 0.4771 - accuracy: 0.7834 - val_loss: 0.4424 - val_accuracy: 0.8000\n",
            "Epoch 22/120\n",
            "313/313 [==============================] - 5s 15ms/step - loss: 0.4600 - accuracy: 0.7965 - val_loss: 0.4340 - val_accuracy: 0.8160\n",
            "Epoch 23/120\n",
            "313/313 [==============================] - 5s 15ms/step - loss: 0.4409 - accuracy: 0.8109 - val_loss: 0.4263 - val_accuracy: 0.8300\n",
            "Epoch 24/120\n",
            "313/313 [==============================] - 5s 15ms/step - loss: 0.4258 - accuracy: 0.8189 - val_loss: 0.4255 - val_accuracy: 0.8250\n",
            "Epoch 25/120\n",
            "313/313 [==============================] - 5s 15ms/step - loss: 0.4063 - accuracy: 0.8279 - val_loss: 0.3872 - val_accuracy: 0.8310\n",
            "Epoch 26/120\n",
            "313/313 [==============================] - 5s 15ms/step - loss: 0.4035 - accuracy: 0.8279 - val_loss: 0.4108 - val_accuracy: 0.8150\n",
            "Epoch 27/120\n",
            "313/313 [==============================] - 5s 14ms/step - loss: 0.3859 - accuracy: 0.8393 - val_loss: 0.3900 - val_accuracy: 0.8450\n",
            "Epoch 28/120\n",
            "313/313 [==============================] - 4s 14ms/step - loss: 0.3783 - accuracy: 0.8376 - val_loss: 0.3787 - val_accuracy: 0.8340\n",
            "Epoch 29/120\n",
            "313/313 [==============================] - 5s 15ms/step - loss: 0.3711 - accuracy: 0.8461 - val_loss: 0.3695 - val_accuracy: 0.8380\n",
            "Epoch 30/120\n",
            "313/313 [==============================] - 5s 15ms/step - loss: 0.3616 - accuracy: 0.8506 - val_loss: 0.3680 - val_accuracy: 0.8300\n",
            "Epoch 31/120\n",
            "313/313 [==============================] - 5s 15ms/step - loss: 0.3535 - accuracy: 0.8524 - val_loss: 0.3522 - val_accuracy: 0.8350\n",
            "Epoch 32/120\n",
            "313/313 [==============================] - 5s 15ms/step - loss: 0.3462 - accuracy: 0.8542 - val_loss: 0.3741 - val_accuracy: 0.8270\n",
            "Epoch 33/120\n",
            "313/313 [==============================] - 5s 15ms/step - loss: 0.3402 - accuracy: 0.8552 - val_loss: 0.3485 - val_accuracy: 0.8450\n",
            "Epoch 34/120\n",
            "313/313 [==============================] - 5s 15ms/step - loss: 0.3331 - accuracy: 0.8594 - val_loss: 0.3608 - val_accuracy: 0.8270\n",
            "Epoch 35/120\n",
            "313/313 [==============================] - 5s 15ms/step - loss: 0.3307 - accuracy: 0.8594 - val_loss: 0.3778 - val_accuracy: 0.8300\n",
            "Epoch 36/120\n",
            "313/313 [==============================] - 5s 15ms/step - loss: 0.3288 - accuracy: 0.8604 - val_loss: 0.3573 - val_accuracy: 0.8400\n",
            "Epoch 37/120\n",
            "313/313 [==============================] - 5s 15ms/step - loss: 0.3190 - accuracy: 0.8646 - val_loss: 0.3489 - val_accuracy: 0.8370\n",
            "Epoch 38/120\n",
            "313/313 [==============================] - 5s 15ms/step - loss: 0.3164 - accuracy: 0.8643 - val_loss: 0.3691 - val_accuracy: 0.8360\n",
            "Epoch 39/120\n",
            "313/313 [==============================] - 5s 15ms/step - loss: 0.3196 - accuracy: 0.8620 - val_loss: 0.3649 - val_accuracy: 0.8230\n",
            "Epoch 40/120\n",
            "313/313 [==============================] - 5s 15ms/step - loss: 0.3102 - accuracy: 0.8662 - val_loss: 0.3674 - val_accuracy: 0.8340\n",
            "Epoch 41/120\n",
            "313/313 [==============================] - 5s 15ms/step - loss: 0.3119 - accuracy: 0.8646 - val_loss: 0.3593 - val_accuracy: 0.8250\n",
            "Epoch 42/120\n",
            "313/313 [==============================] - 5s 15ms/step - loss: 0.3057 - accuracy: 0.8688 - val_loss: 0.3742 - val_accuracy: 0.8250\n",
            "Epoch 43/120\n",
            "313/313 [==============================] - 5s 15ms/step - loss: 0.3024 - accuracy: 0.8682 - val_loss: 0.3741 - val_accuracy: 0.8240\n",
            "Epoch 44/120\n",
            "313/313 [==============================] - 5s 15ms/step - loss: 0.3031 - accuracy: 0.8696 - val_loss: 0.3422 - val_accuracy: 0.8440\n",
            "Epoch 45/120\n",
            "313/313 [==============================] - 5s 15ms/step - loss: 0.2973 - accuracy: 0.8680 - val_loss: 0.3483 - val_accuracy: 0.8270\n",
            "Epoch 46/120\n",
            "313/313 [==============================] - 5s 15ms/step - loss: 0.2927 - accuracy: 0.8691 - val_loss: 0.3536 - val_accuracy: 0.8430\n",
            "Epoch 47/120\n",
            "313/313 [==============================] - 5s 15ms/step - loss: 0.2908 - accuracy: 0.8749 - val_loss: 0.3739 - val_accuracy: 0.8290\n",
            "Epoch 48/120\n",
            "313/313 [==============================] - 5s 15ms/step - loss: 0.2908 - accuracy: 0.8735 - val_loss: 0.3527 - val_accuracy: 0.8330\n",
            "Epoch 49/120\n",
            "313/313 [==============================] - 5s 15ms/step - loss: 0.2869 - accuracy: 0.8734 - val_loss: 0.3748 - val_accuracy: 0.8350\n",
            "Epoch 50/120\n",
            "313/313 [==============================] - 5s 15ms/step - loss: 0.2869 - accuracy: 0.8740 - val_loss: 0.3628 - val_accuracy: 0.8270\n",
            "Epoch 51/120\n",
            "313/313 [==============================] - 5s 15ms/step - loss: 0.2824 - accuracy: 0.8768 - val_loss: 0.3683 - val_accuracy: 0.8290\n",
            "Epoch 52/120\n",
            "313/313 [==============================] - 5s 15ms/step - loss: 0.2858 - accuracy: 0.8719 - val_loss: 0.3724 - val_accuracy: 0.8270\n",
            "Epoch 53/120\n",
            "313/313 [==============================] - 5s 15ms/step - loss: 0.2801 - accuracy: 0.8773 - val_loss: 0.3747 - val_accuracy: 0.8280\n",
            "Epoch 54/120\n",
            "313/313 [==============================] - 5s 15ms/step - loss: 0.2802 - accuracy: 0.8784 - val_loss: 0.3628 - val_accuracy: 0.8400\n",
            "Epoch 55/120\n",
            "313/313 [==============================] - 5s 15ms/step - loss: 0.2813 - accuracy: 0.8762 - val_loss: 0.3557 - val_accuracy: 0.8310\n",
            "Epoch 56/120\n",
            "313/313 [==============================] - 5s 15ms/step - loss: 0.2724 - accuracy: 0.8812 - val_loss: 0.3838 - val_accuracy: 0.8250\n",
            "Epoch 57/120\n",
            "313/313 [==============================] - 5s 15ms/step - loss: 0.2770 - accuracy: 0.8803 - val_loss: 0.3631 - val_accuracy: 0.8380\n",
            "Epoch 58/120\n",
            "313/313 [==============================] - 5s 15ms/step - loss: 0.2798 - accuracy: 0.8751 - val_loss: 0.3641 - val_accuracy: 0.8330\n",
            "Epoch 59/120\n",
            "313/313 [==============================] - 5s 15ms/step - loss: 0.2755 - accuracy: 0.8792 - val_loss: 0.4142 - val_accuracy: 0.8290\n",
            "Epoch 60/120\n",
            "313/313 [==============================] - 5s 15ms/step - loss: 0.2678 - accuracy: 0.8803 - val_loss: 0.3944 - val_accuracy: 0.8350\n",
            "Epoch 61/120\n",
            "313/313 [==============================] - 5s 15ms/step - loss: 0.2718 - accuracy: 0.8793 - val_loss: 0.3612 - val_accuracy: 0.8290\n",
            "Epoch 62/120\n",
            "313/313 [==============================] - 5s 15ms/step - loss: 0.2672 - accuracy: 0.8827 - val_loss: 0.4026 - val_accuracy: 0.8290\n",
            "Epoch 63/120\n",
            "313/313 [==============================] - 5s 15ms/step - loss: 0.2688 - accuracy: 0.8824 - val_loss: 0.3760 - val_accuracy: 0.8290\n",
            "Epoch 64/120\n",
            "313/313 [==============================] - 5s 15ms/step - loss: 0.2692 - accuracy: 0.8811 - val_loss: 0.4287 - val_accuracy: 0.8210\n",
            "Epoch 65/120\n",
            "313/313 [==============================] - 5s 15ms/step - loss: 0.2678 - accuracy: 0.8831 - val_loss: 0.3746 - val_accuracy: 0.8340\n",
            "Epoch 66/120\n",
            "313/313 [==============================] - 5s 15ms/step - loss: 0.2640 - accuracy: 0.8847 - val_loss: 0.4001 - val_accuracy: 0.8280\n",
            "Epoch 67/120\n",
            "313/313 [==============================] - 5s 15ms/step - loss: 0.2620 - accuracy: 0.8848 - val_loss: 0.3798 - val_accuracy: 0.8360\n",
            "Epoch 68/120\n",
            "313/313 [==============================] - 5s 15ms/step - loss: 0.2558 - accuracy: 0.8859 - val_loss: 0.3846 - val_accuracy: 0.8330\n",
            "Epoch 69/120\n",
            "313/313 [==============================] - 5s 15ms/step - loss: 0.2611 - accuracy: 0.8869 - val_loss: 0.3812 - val_accuracy: 0.8340\n",
            "Epoch 70/120\n",
            "313/313 [==============================] - 5s 15ms/step - loss: 0.2609 - accuracy: 0.8876 - val_loss: 0.3910 - val_accuracy: 0.8290\n",
            "Epoch 71/120\n",
            "313/313 [==============================] - 5s 15ms/step - loss: 0.2642 - accuracy: 0.8847 - val_loss: 0.3809 - val_accuracy: 0.8300\n",
            "Epoch 72/120\n",
            "313/313 [==============================] - 5s 15ms/step - loss: 0.2618 - accuracy: 0.8864 - val_loss: 0.3672 - val_accuracy: 0.8320\n",
            "Epoch 73/120\n",
            "313/313 [==============================] - 5s 15ms/step - loss: 0.2586 - accuracy: 0.8879 - val_loss: 0.3732 - val_accuracy: 0.8280\n",
            "Epoch 74/120\n",
            "313/313 [==============================] - 5s 15ms/step - loss: 0.2554 - accuracy: 0.8879 - val_loss: 0.3877 - val_accuracy: 0.8330\n",
            "Epoch 75/120\n",
            "313/313 [==============================] - 5s 15ms/step - loss: 0.2523 - accuracy: 0.8880 - val_loss: 0.3949 - val_accuracy: 0.8320\n",
            "Epoch 76/120\n",
            "313/313 [==============================] - 5s 15ms/step - loss: 0.2538 - accuracy: 0.8898 - val_loss: 0.3721 - val_accuracy: 0.8270\n",
            "Epoch 77/120\n",
            "313/313 [==============================] - 5s 15ms/step - loss: 0.2481 - accuracy: 0.8890 - val_loss: 0.3863 - val_accuracy: 0.8290\n",
            "Epoch 78/120\n",
            "313/313 [==============================] - 5s 15ms/step - loss: 0.2492 - accuracy: 0.8921 - val_loss: 0.4029 - val_accuracy: 0.8340\n",
            "Epoch 79/120\n",
            "313/313 [==============================] - 5s 15ms/step - loss: 0.2536 - accuracy: 0.8887 - val_loss: 0.4037 - val_accuracy: 0.8300\n",
            "Epoch 80/120\n",
            "313/313 [==============================] - 5s 15ms/step - loss: 0.2470 - accuracy: 0.8900 - val_loss: 0.3726 - val_accuracy: 0.8270\n",
            "Epoch 81/120\n",
            "313/313 [==============================] - 5s 15ms/step - loss: 0.2470 - accuracy: 0.8913 - val_loss: 0.3909 - val_accuracy: 0.8370\n",
            "Epoch 82/120\n",
            "313/313 [==============================] - 5s 15ms/step - loss: 0.2431 - accuracy: 0.8935 - val_loss: 0.3813 - val_accuracy: 0.8360\n",
            "Epoch 83/120\n",
            "313/313 [==============================] - 5s 15ms/step - loss: 0.2424 - accuracy: 0.8956 - val_loss: 0.3894 - val_accuracy: 0.8300\n",
            "Epoch 84/120\n",
            "313/313 [==============================] - 5s 15ms/step - loss: 0.2427 - accuracy: 0.8922 - val_loss: 0.4050 - val_accuracy: 0.8280\n",
            "Epoch 85/120\n",
            "313/313 [==============================] - 5s 15ms/step - loss: 0.2451 - accuracy: 0.8942 - val_loss: 0.4345 - val_accuracy: 0.8270\n",
            "Epoch 86/120\n",
            "313/313 [==============================] - 5s 15ms/step - loss: 0.2328 - accuracy: 0.9002 - val_loss: 0.4147 - val_accuracy: 0.8300\n",
            "Epoch 87/120\n",
            "313/313 [==============================] - 5s 15ms/step - loss: 0.2411 - accuracy: 0.8941 - val_loss: 0.3938 - val_accuracy: 0.8260\n",
            "Epoch 88/120\n",
            "313/313 [==============================] - 5s 15ms/step - loss: 0.2396 - accuracy: 0.8933 - val_loss: 0.3911 - val_accuracy: 0.8370\n",
            "Epoch 89/120\n",
            "313/313 [==============================] - 5s 15ms/step - loss: 0.2324 - accuracy: 0.8983 - val_loss: 0.4080 - val_accuracy: 0.8300\n",
            "Epoch 90/120\n",
            "313/313 [==============================] - 5s 15ms/step - loss: 0.2327 - accuracy: 0.8961 - val_loss: 0.4362 - val_accuracy: 0.8110\n",
            "Epoch 91/120\n",
            "313/313 [==============================] - 5s 15ms/step - loss: 0.2360 - accuracy: 0.8996 - val_loss: 0.4146 - val_accuracy: 0.8280\n",
            "Epoch 92/120\n",
            "313/313 [==============================] - 5s 15ms/step - loss: 0.2284 - accuracy: 0.9022 - val_loss: 0.4122 - val_accuracy: 0.8350\n",
            "Epoch 93/120\n",
            "313/313 [==============================] - 5s 15ms/step - loss: 0.2284 - accuracy: 0.9004 - val_loss: 0.3991 - val_accuracy: 0.8370\n",
            "Epoch 94/120\n",
            "313/313 [==============================] - 5s 15ms/step - loss: 0.2348 - accuracy: 0.8986 - val_loss: 0.3893 - val_accuracy: 0.8360\n",
            "Epoch 95/120\n",
            "313/313 [==============================] - 5s 15ms/step - loss: 0.2295 - accuracy: 0.8993 - val_loss: 0.3953 - val_accuracy: 0.8310\n",
            "Epoch 96/120\n",
            "313/313 [==============================] - 5s 15ms/step - loss: 0.2230 - accuracy: 0.9015 - val_loss: 0.4276 - val_accuracy: 0.8270\n",
            "Epoch 97/120\n",
            "313/313 [==============================] - 5s 15ms/step - loss: 0.2255 - accuracy: 0.9036 - val_loss: 0.4047 - val_accuracy: 0.8350\n",
            "Epoch 98/120\n",
            "313/313 [==============================] - 5s 15ms/step - loss: 0.2257 - accuracy: 0.9011 - val_loss: 0.4485 - val_accuracy: 0.8360\n",
            "Epoch 99/120\n",
            "313/313 [==============================] - 5s 15ms/step - loss: 0.2239 - accuracy: 0.9030 - val_loss: 0.4182 - val_accuracy: 0.8330\n",
            "Epoch 100/120\n",
            "313/313 [==============================] - 5s 15ms/step - loss: 0.2237 - accuracy: 0.9046 - val_loss: 0.4194 - val_accuracy: 0.8350\n",
            "Epoch 101/120\n",
            "313/313 [==============================] - 5s 15ms/step - loss: 0.2272 - accuracy: 0.9041 - val_loss: 0.4307 - val_accuracy: 0.8330\n",
            "Epoch 102/120\n",
            "313/313 [==============================] - 5s 15ms/step - loss: 0.2223 - accuracy: 0.9062 - val_loss: 0.4223 - val_accuracy: 0.8370\n",
            "Epoch 103/120\n",
            "313/313 [==============================] - 5s 15ms/step - loss: 0.2188 - accuracy: 0.9079 - val_loss: 0.4596 - val_accuracy: 0.8400\n",
            "Epoch 104/120\n",
            "313/313 [==============================] - 5s 15ms/step - loss: 0.2171 - accuracy: 0.9074 - val_loss: 0.4392 - val_accuracy: 0.8380\n",
            "Epoch 105/120\n",
            "313/313 [==============================] - 5s 15ms/step - loss: 0.2170 - accuracy: 0.9054 - val_loss: 0.4120 - val_accuracy: 0.8340\n",
            "Epoch 106/120\n",
            "313/313 [==============================] - 5s 15ms/step - loss: 0.2149 - accuracy: 0.9077 - val_loss: 0.4313 - val_accuracy: 0.8370\n",
            "Epoch 107/120\n",
            "313/313 [==============================] - 5s 16ms/step - loss: 0.2142 - accuracy: 0.9070 - val_loss: 0.4247 - val_accuracy: 0.8350\n",
            "Epoch 108/120\n",
            "313/313 [==============================] - 5s 16ms/step - loss: 0.2158 - accuracy: 0.9082 - val_loss: 0.4177 - val_accuracy: 0.8370\n",
            "Epoch 109/120\n",
            "313/313 [==============================] - 5s 16ms/step - loss: 0.2191 - accuracy: 0.9029 - val_loss: 0.4189 - val_accuracy: 0.8360\n",
            "Epoch 110/120\n",
            "313/313 [==============================] - 5s 15ms/step - loss: 0.2128 - accuracy: 0.9070 - val_loss: 0.4351 - val_accuracy: 0.8410\n",
            "Epoch 111/120\n",
            "313/313 [==============================] - 5s 16ms/step - loss: 0.2119 - accuracy: 0.9070 - val_loss: 0.4368 - val_accuracy: 0.8310\n",
            "Epoch 112/120\n",
            "313/313 [==============================] - 5s 15ms/step - loss: 0.2141 - accuracy: 0.9057 - val_loss: 0.4510 - val_accuracy: 0.8390\n",
            "Epoch 113/120\n",
            "313/313 [==============================] - 5s 16ms/step - loss: 0.2031 - accuracy: 0.9122 - val_loss: 0.4229 - val_accuracy: 0.8380\n",
            "Epoch 114/120\n",
            "313/313 [==============================] - 5s 16ms/step - loss: 0.2043 - accuracy: 0.9109 - val_loss: 0.4518 - val_accuracy: 0.8410\n",
            "Epoch 115/120\n",
            "313/313 [==============================] - 5s 15ms/step - loss: 0.2099 - accuracy: 0.9089 - val_loss: 0.4632 - val_accuracy: 0.8290\n",
            "Epoch 116/120\n",
            "313/313 [==============================] - 5s 16ms/step - loss: 0.2077 - accuracy: 0.9130 - val_loss: 0.4758 - val_accuracy: 0.8320\n",
            "Epoch 117/120\n",
            "313/313 [==============================] - 5s 16ms/step - loss: 0.2012 - accuracy: 0.9128 - val_loss: 0.4379 - val_accuracy: 0.8350\n",
            "Epoch 118/120\n",
            "313/313 [==============================] - 5s 16ms/step - loss: 0.2065 - accuracy: 0.9131 - val_loss: 0.4406 - val_accuracy: 0.8360\n",
            "Epoch 119/120\n",
            "313/313 [==============================] - 5s 15ms/step - loss: 0.2060 - accuracy: 0.9128 - val_loss: 0.4636 - val_accuracy: 0.8330\n",
            "Epoch 120/120\n",
            "313/313 [==============================] - 5s 15ms/step - loss: 0.2026 - accuracy: 0.9158 - val_loss: 0.4528 - val_accuracy: 0.8270\n"
          ]
        }
      ]
    },
    {
      "cell_type": "markdown",
      "metadata": {
        "id": "j4I_icScOVou"
      },
      "source": [
        "#### Saving model"
      ]
    },
    {
      "cell_type": "code",
      "metadata": {
        "id": "mpEQtoH6OaOR",
        "outputId": "e204229b-6603-4e17-d71d-eeea7f79388d",
        "colab": {
          "base_uri": "https://localhost:8080/"
        }
      },
      "source": [
        "filename = 'chatbot_120_epochs.h5'\n",
        "model.save(filename)"
      ],
      "execution_count": 50,
      "outputs": [
        {
          "output_type": "stream",
          "name": "stderr",
          "text": [
            "/usr/local/lib/python3.7/dist-packages/keras/utils/generic_utils.py:497: CustomMaskWarning: Custom mask layers require a config and must override get_config. When loading, the custom mask layer must be passed to the custom_objects argument.\n",
            "  category=CustomMaskWarning)\n"
          ]
        }
      ]
    },
    {
      "cell_type": "markdown",
      "metadata": {
        "id": "Fp24V9oVNtGC"
      },
      "source": [
        "## Evaluating the Model"
      ]
    },
    {
      "cell_type": "markdown",
      "metadata": {
        "id": "A5gs9ByBN3a1"
      },
      "source": [
        "Ploting out training History"
      ]
    },
    {
      "cell_type": "code",
      "metadata": {
        "id": "Z8UDmgTvN8a4",
        "outputId": "4018fd88-b2fb-48cb-e224-62ddc385d1f3",
        "colab": {
          "base_uri": "https://localhost:8080/",
          "height": 312
        }
      },
      "source": [
        "import matplotlib.pyplot as plt\n",
        "%matplotlib inline\n",
        "print(history.history.keys())\n",
        "# summarize history for accuracy\n",
        "plt.plot(history.history['accuracy'])\n",
        "plt.plot(history.history['val_accuracy'])\n",
        "plt.title('model accuracy')\n",
        "plt.ylabel('accuracy')\n",
        "plt.xlabel('epoch')\n",
        "plt.legend(['train', 'test'], loc='upper left')\n",
        "plt.show()"
      ],
      "execution_count": 59,
      "outputs": [
        {
          "output_type": "stream",
          "name": "stdout",
          "text": [
            "dict_keys(['loss', 'accuracy', 'val_loss', 'val_accuracy'])\n"
          ]
        },
        {
          "output_type": "display_data",
          "data": {
            "image/png": "[encoded data removed]",
            "text/plain": [
              "<Figure size 432x288 with 1 Axes>"
            ]
          },
          "metadata": {
            "needs_background": "light"
          }
        }
      ]
    },
    {
      "cell_type": "markdown",
      "metadata": {
        "id": "QIwCWK_LN-1R"
      },
      "source": [
        "Evaluate on givent test set"
      ]
    },
    {
      "cell_type": "code",
      "metadata": {
        "id": "wmzg05FLOEl0"
      },
      "source": [
        "model.load_weights(filename)\n",
        "pred_results = model.predict(([inputs_test, queries_test]))"
      ],
      "execution_count": 51,
      "outputs": []
    },
    {
      "cell_type": "code",
      "metadata": {
        "id": "bZA1k4ObOfm2",
        "outputId": "66bcdb23-261f-4a7f-9662-8a3ac648d34e",
        "colab": {
          "base_uri": "https://localhost:8080/"
        }
      },
      "source": [
        "test_data[0][0]"
      ],
      "execution_count": 52,
      "outputs": [
        {
          "output_type": "execute_result",
          "data": {
            "text/plain": [
              "['Mary',\n",
              " 'got',\n",
              " 'the',\n",
              " 'milk',\n",
              " 'there',\n",
              " '.',\n",
              " 'John',\n",
              " 'moved',\n",
              " 'to',\n",
              " 'the',\n",
              " 'bedroom',\n",
              " '.']"
            ]
          },
          "metadata": {},
          "execution_count": 52
        }
      ]
    },
    {
      "cell_type": "code",
      "metadata": {
        "id": "EII3YMrEOgjg",
        "outputId": "147db62e-e5a5-42e9-d61f-3a286c6434a6",
        "colab": {
          "base_uri": "https://localhost:8080/"
        }
      },
      "source": [
        "tory =' '.join(word for word in test_data[0][0])\n",
        "print(story)"
      ],
      "execution_count": 53,
      "outputs": [
        {
          "output_type": "stream",
          "name": "stdout",
          "text": [
            "['Daniel', 'went', 'to', 'the', 'office', '.', 'Sandra', 'journeyed', 'to', 'the', 'hallway', '.', 'Daniel', 'went', 'back', 'to', 'the', 'bedroom', '.', 'Mary', 'got', 'the', 'apple', 'there', '.', 'Sandra', 'moved', 'to', 'the', 'bathroom', '.', 'Mary', 'journeyed', 'to', 'the', 'bedroom', '.', 'Mary', 'put', 'down', 'the', 'apple', 'there', '.', 'Sandra', 'got', 'the', 'milk', 'there', '.', 'Sandra', 'travelled', 'to', 'the', 'bedroom', '.', 'Sandra', 'took', 'the', 'apple', 'there', '.']\n"
          ]
        }
      ]
    },
    {
      "cell_type": "code",
      "metadata": {
        "id": "iqyeNfy1Oiys",
        "outputId": "e09b2112-7d01-461a-8956-c7f0ade92622",
        "colab": {
          "base_uri": "https://localhost:8080/"
        }
      },
      "source": [
        "query = ' '.join(word for word in test_data[0][1])\n",
        "print(query)"
      ],
      "execution_count": 54,
      "outputs": [
        {
          "output_type": "stream",
          "name": "stdout",
          "text": [
            "Is John in the kitchen ?\n"
          ]
        }
      ]
    },
    {
      "cell_type": "code",
      "metadata": {
        "id": "9sMI5RznOkE9",
        "outputId": "2e2ef0fd-df1a-4449-845f-def96eed7714",
        "colab": {
          "base_uri": "https://localhost:8080/"
        }
      },
      "source": [
        "print(\"True Test Answer from Data is:\",test_data[0][2])"
      ],
      "execution_count": 55,
      "outputs": [
        {
          "output_type": "stream",
          "name": "stdout",
          "text": [
            "True Test Answer from Data is: no\n"
          ]
        }
      ]
    },
    {
      "cell_type": "code",
      "metadata": {
        "id": "bEybzntTOlJd",
        "outputId": "9cee3e5c-0dc8-467c-eb34-5826a288eb6e",
        "colab": {
          "base_uri": "https://localhost:8080/"
        }
      },
      "source": [
        "#Generate prediction from model\n",
        "val_max = np.argmax(pred_results[0])\n",
        "\n",
        "for key, val in tokenizer.word_index.items():\n",
        "    if val == val_max:\n",
        "        k = key\n",
        "\n",
        "print(\"Predicted answer is: \", k)\n",
        "print(\"Probability of certainty was: \", pred_results[0][val_max])"
      ],
      "execution_count": 56,
      "outputs": [
        {
          "output_type": "stream",
          "name": "stdout",
          "text": [
            "Predicted answer is:  no\n",
            "Probability of certainty was:  0.99999166\n"
          ]
        }
      ]
    },
    {
      "cell_type": "markdown",
      "metadata": {
        "id": "Ia-x2S0fOnOg"
      },
      "source": [
        "# Using my own story and Question"
      ]
    },
    {
      "cell_type": "code",
      "metadata": {
        "id": "rOLgvee9OzdL",
        "outputId": "d0f28df4-17ea-4240-9608-9b6bc03cb296",
        "colab": {
          "base_uri": "https://localhost:8080/"
        }
      },
      "source": [
        "vocab"
      ],
      "execution_count": 61,
      "outputs": [
        {
          "output_type": "execute_result",
          "data": {
            "text/plain": [
              "{'.',\n",
              " '?',\n",
              " 'Daniel',\n",
              " 'Is',\n",
              " 'John',\n",
              " 'Mary',\n",
              " 'Sandra',\n",
              " 'apple',\n",
              " 'back',\n",
              " 'bathroom',\n",
              " 'bedroom',\n",
              " 'discarded',\n",
              " 'down',\n",
              " 'dropped',\n",
              " 'football',\n",
              " 'garden',\n",
              " 'got',\n",
              " 'grabbed',\n",
              " 'hallway',\n",
              " 'in',\n",
              " 'journeyed',\n",
              " 'kitchen',\n",
              " 'left',\n",
              " 'milk',\n",
              " 'moved',\n",
              " 'no',\n",
              " 'office',\n",
              " 'picked',\n",
              " 'put',\n",
              " 'the',\n",
              " 'there',\n",
              " 'to',\n",
              " 'took',\n",
              " 'travelled',\n",
              " 'up',\n",
              " 'went',\n",
              " 'yes'}"
            ]
          },
          "metadata": {},
          "execution_count": 61
        }
      ]
    },
    {
      "cell_type": "code",
      "metadata": {
        "id": "37Bgb7MJSsJp",
        "outputId": "654de697-daf9-488d-c67a-ebef48cb24bc",
        "colab": {
          "base_uri": "https://localhost:8080/"
        }
      },
      "source": [
        "my_story = \"John left the kitchen . Sandra dropped the football in the garden .\"\n",
        "my_story.split()"
      ],
      "execution_count": 62,
      "outputs": [
        {
          "output_type": "execute_result",
          "data": {
            "text/plain": [
              "['John',\n",
              " 'left',\n",
              " 'the',\n",
              " 'kitchen',\n",
              " '.',\n",
              " 'Sandra',\n",
              " 'dropped',\n",
              " 'the',\n",
              " 'football',\n",
              " 'in',\n",
              " 'the',\n",
              " 'garden',\n",
              " '.']"
            ]
          },
          "metadata": {},
          "execution_count": 62
        }
      ]
    },
    {
      "cell_type": "code",
      "metadata": {
        "id": "ZsRzLWT8S0KB"
      },
      "source": [
        "my_question = \"Is the football in the garden ?\"\n",
        "my_question.split()"
      ],
      "execution_count": 63,
      "outputs": []
    },
    {
      "cell_type": "code",
      "metadata": {
        "id": "oMrDv3CqS307"
      },
      "source": [
        "mydata = [(my_story.split(),my_question.split(),\"yes\")]"
      ],
      "execution_count": 68,
      "outputs": []
    },
    {
      "cell_type": "code",
      "metadata": {
        "id": "bdj5SWJnTF5H"
      },
      "source": [
        "my_story,my_ques,my_ans = vectorize_stories(mydata)"
      ],
      "execution_count": 69,
      "outputs": []
    },
    {
      "cell_type": "code",
      "metadata": {
        "id": "Q3nrfOFETIG3"
      },
      "source": [
        "pred_results = model.predict(([ my_story, my_ques]))"
      ],
      "execution_count": 70,
      "outputs": []
    },
    {
      "cell_type": "code",
      "metadata": {
        "id": "pSH8GPjATORO",
        "outputId": "a9bd59da-e036-440a-b3fd-77f2847b17d5",
        "colab": {
          "base_uri": "https://localhost:8080/"
        }
      },
      "source": [
        "#Generate prediction from model\n",
        "val_max = np.argmax(pred_results[0])\n",
        "\n",
        "for key, val in tokenizer.word_index.items():\n",
        "    if val == val_max:\n",
        "        k = key\n",
        "\n",
        "print(\"Predicted answer is: \", k)\n",
        "print(\"Probability of certainty was: \", pred_results[0][val_max])"
      ],
      "execution_count": 71,
      "outputs": [
        {
          "output_type": "stream",
          "name": "stdout",
          "text": [
            "Predicted answer is:  yes\n",
            "Probability of certainty was:  0.9971539\n"
          ]
        }
      ]
    },
    {
      "cell_type": "code",
      "metadata": {
        "id": "TB2B4B9QTQdl"
      },
      "source": [
        ""
      ],
      "execution_count": null,
      "outputs": []
    }
  ]
}