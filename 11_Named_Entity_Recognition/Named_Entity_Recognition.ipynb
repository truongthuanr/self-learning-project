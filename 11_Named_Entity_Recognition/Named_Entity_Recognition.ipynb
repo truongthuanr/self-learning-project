{
  "nbformat": 4,
  "nbformat_minor": 0,
  "metadata": {
    "colab": {
      "provenance": [],
      "gpuType": "T4",
      "authorship_tag": "ABX9TyOQh5j4oY7Jk/+hgJoc1YFz",
      "include_colab_link": true
    },
    "kernelspec": {
      "name": "python3",
      "display_name": "Python 3"
    },
    "language_info": {
      "name": "python"
    },
    "accelerator": "GPU"
  },
  "cells": [
    {
      "cell_type": "markdown",
      "metadata": {
        "id": "view-in-github",
        "colab_type": "text"
      },
      "source": [
        "<a href=\"https://colab.research.google.com/github/truongthuanr/self-project/blob/main/11_Named_Entity_Recognition/Named_Entity_Recognition.ipynb\" target=\"_parent\"><img src=\"https://colab.research.google.com/assets/colab-badge.svg\" alt=\"Open In Colab\"/></a>"
      ]
    },
    {
      "cell_type": "code",
      "execution_count": 1,
      "metadata": {
        "id": "GQ4EHIZSuKoy"
      },
      "outputs": [],
      "source": [
        "%%capture\n",
        "!pip3 install datasets"
      ]
    },
    {
      "cell_type": "code",
      "source": [
        "import numpy as np\n",
        "import pandas as pd\n",
        "import matplotlib.pyplot as plt\n",
        "import tensorflow as tf\n",
        "from keras.preprocessing.sequence import pad_sequences\n",
        "from datasets import load_dataset\n",
        "import os\n"
      ],
      "metadata": {
        "id": "77nCH9814O5t"
      },
      "execution_count": 41,
      "outputs": []
    },
    {
      "cell_type": "code",
      "source": [
        "from keras.models import Model,load_model\n",
        "from keras.layers import Input,Embedding,TimeDistributed,\\\n",
        "                         Dropout,Conv1D,MaxPooling1D,\\\n",
        "                         Flatten,Bidirectional,LSTM,Dense,\\\n",
        "                         concatenate\n",
        "\n",
        "from keras.initializers import RandomUniform\n",
        "\n",
        "from keras.optimizers import Adam\n",
        "\n",
        "\n",
        "\n"
      ],
      "metadata": {
        "id": "RiTU7d_YHfc9"
      },
      "execution_count": 3,
      "outputs": []
    },
    {
      "cell_type": "code",
      "source": [
        "# For vetorization\n",
        "max_word_tokens = 24000\n",
        "max_sentence_length = 50\n",
        "max_word_len = 20\n"
      ],
      "metadata": {
        "id": "xjhrsmahYN2x"
      },
      "execution_count": 4,
      "outputs": []
    },
    {
      "cell_type": "markdown",
      "source": [
        "# Dataset"
      ],
      "metadata": {
        "id": "sxvsybnTHfi4"
      }
    },
    {
      "cell_type": "markdown",
      "source": [
        "Used dataset:\n",
        "\n",
        "https://huggingface.co/datasets/conll2003"
      ],
      "metadata": {
        "id": "jV1nsHAAHo_L"
      }
    },
    {
      "cell_type": "code",
      "source": [
        "%%capture\n",
        "conll_data = load_dataset(\"conll2003\")"
      ],
      "metadata": {
        "id": "MSK4n-lEHfsw"
      },
      "execution_count": 5,
      "outputs": []
    },
    {
      "cell_type": "code",
      "source": [],
      "metadata": {
        "id": "v4xeBd3WHqEA"
      },
      "execution_count": 5,
      "outputs": []
    },
    {
      "cell_type": "markdown",
      "source": [
        "# Data preprocessing\n"
      ],
      "metadata": {
        "id": "XGNsJro-pu9E"
      }
    },
    {
      "cell_type": "markdown",
      "source": [
        "## Character processing"
      ],
      "metadata": {
        "id": "Nz0msAOcCEzr"
      }
    },
    {
      "cell_type": "code",
      "source": [
        "char2Idx = {\"PADDING\":0, \"UNKNOWN\":1}\n",
        "for c in \" 0123456789abcdefghijklmnopqrstuvwxyzABCDEFGHIJKLMNOPQRSTUVWXYZ.,-_()[]{}!?:;#'\\\"/\\\\%$`&=*+@^~|\":\n",
        "    char2Idx[c] = len(char2Idx)\n",
        "len(char2Idx)"
      ],
      "metadata": {
        "id": "NgJ97l1FCKxt",
        "outputId": "40a3f801-8ed1-4370-f06c-c6681669f2b9",
        "colab": {
          "base_uri": "https://localhost:8080/"
        }
      },
      "execution_count": 6,
      "outputs": [
        {
          "output_type": "execute_result",
          "data": {
            "text/plain": [
              "95"
            ]
          },
          "metadata": {},
          "execution_count": 6
        }
      ]
    },
    {
      "cell_type": "code",
      "source": [
        "def character_vectorize(X):\n",
        "  data_vec = []\n",
        "  for sentence in X:\n",
        "    # print(f\"Sentence: {sentence}\")\n",
        "    padchar = char2Idx['PADDING']\n",
        "    sentence_vec=[]\n",
        "    for word in sentence:\n",
        "      # print(word)\n",
        "      chars = []\n",
        "      if len(word) >= max_word_len:\n",
        "\n",
        "        chars=[char2Idx[c] for c in word[:max_word_len]]\n",
        "      else:\n",
        "        prepad=int((max_word_len-len(word))/2)\n",
        "        postpad=max_word_len-(len(word)+prepad)\n",
        "        chars.extend([padchar]*prepad)\n",
        "        chars.extend([char2Idx[c] for c in word])\n",
        "        chars.extend([padchar]*postpad)\n",
        "      sentence_vec.append(chars)\n",
        "\n",
        "    data_vec.append(sentence_vec)\n",
        "  data_vec = np.asarray(data_vec, dtype=object)\n",
        "  return data_vec\n",
        "\n",
        "\n",
        "\n",
        "def char_preprocessing(char_input):\n",
        "  '''\n",
        "  input:: char_input: list of words\n",
        "  output: vecterized array of character\n",
        "  with shape(sentences, max_sentence_len, max_word_len)\n",
        "  '''\n",
        "  X_chars = character_vectorize(char_input)\n",
        "  X_chars = pad_sequences(sequences = X_chars,\n",
        "                          maxlen=max_sentence_length,\n",
        "                          dtype=object,\n",
        "                          padding=\"post\",\n",
        "                          truncating=\"post\",\n",
        "                          value=0)\n",
        "\n",
        "  X_chars = np.asarray(X_chars,\n",
        "                       dtype=np.float32)\n",
        "\n",
        "  return X_chars"
      ],
      "metadata": {
        "id": "cAxOgd3o_Qev"
      },
      "execution_count": 7,
      "outputs": []
    },
    {
      "cell_type": "code",
      "source": [
        "\n",
        "X_train_char = char_preprocessing(conll_data['train']['tokens'])\n",
        "\n",
        "X_test_char = char_preprocessing(conll_data['test']['tokens'])\n",
        "X_val_char = char_preprocessing(conll_data['validation']['tokens'])"
      ],
      "metadata": {
        "id": "xBniP-LcEiPy"
      },
      "execution_count": 8,
      "outputs": []
    },
    {
      "cell_type": "markdown",
      "source": [
        "## Word preprocessing"
      ],
      "metadata": {
        "id": "kQ4au8k9_Qoh"
      }
    },
    {
      "cell_type": "code",
      "source": [
        "def word_preprocessing(word_input):\n",
        "  return np.array([ \" \".join(row) for row in word_input])\n",
        "\n"
      ],
      "metadata": {
        "id": "koLZZUqEpuuW"
      },
      "execution_count": 9,
      "outputs": []
    },
    {
      "cell_type": "code",
      "source": [
        "X_train_word = word_preprocessing(conll_data['train']['tokens'])\n",
        "X_test_word = word_preprocessing(conll_data['test']['tokens'])\n",
        "X_val_word = word_preprocessing(conll_data['validation']['tokens'])"
      ],
      "metadata": {
        "id": "QTCyXGFpnxsz"
      },
      "execution_count": 10,
      "outputs": []
    },
    {
      "cell_type": "markdown",
      "source": [
        "## Caps preprocessing"
      ],
      "metadata": {
        "id": "lk_PdEUZnyA7"
      }
    },
    {
      "cell_type": "code",
      "source": [
        "case2id = {'allcaps':0,\n",
        "           'upperinitial':1,\n",
        "           'lower':2,\n",
        "           'mixedcaps':3,\n",
        "           'noinfo':4}\n",
        "id2case = {v:k for k,v in case2id.items()}"
      ],
      "metadata": {
        "id": "oq2Pb2FeoA5n"
      },
      "execution_count": 11,
      "outputs": []
    },
    {
      "cell_type": "code",
      "source": [
        "def case_vectorize(input):\n",
        "  '''\n",
        "  input: array of sentences, sentencs is list of word\n",
        "  '''\n",
        "  case_vec = []\n",
        "\n",
        "  for sentence in input:\n",
        "    sen_case_type = []\n",
        "    for word in sentence:\n",
        "      temp = [0]*len(case2id)\n",
        "      # if word is Title\n",
        "      if word.istitle():\n",
        "        temp[case2id['upperinitial']] =1\n",
        "        sen_case_type.append(temp)\n",
        "\n",
        "      # if uper, lower, mixed or else\n",
        "      else:\n",
        "        if word.isupper():\n",
        "          temp[case2id['allcaps']] = 1\n",
        "          sen_case_type.append(temp)\n",
        "        elif word.islower():\n",
        "          temp[case2id['lower']]=1\n",
        "          sen_case_type.append(temp)\n",
        "        else:\n",
        "          if word.lower().islower():\n",
        "            temp[case2id['mixedcaps']]=1\n",
        "            sen_case_type.append(temp)\n",
        "          else:\n",
        "            temp[case2id['noinfo']]=1\n",
        "            sen_case_type.append(temp)\n",
        "\n",
        "\n",
        "    case_vec.append(sen_case_type)\n",
        "  return case_vec\n",
        "\n"
      ],
      "metadata": {
        "id": "aWAwHBD4ovVm"
      },
      "execution_count": 12,
      "outputs": []
    },
    {
      "cell_type": "code",
      "source": [
        "def case_preprocesing(X_input):\n",
        "  X_case = case_vectorize(X_input)\n",
        "\n",
        "  X_case = pad_sequences(sequences = X_case,\n",
        "                        maxlen=max_sentence_length,\n",
        "                        dtype=object,\n",
        "                        padding=\"post\",\n",
        "                        truncating=\"post\",\n",
        "                        value=case2id['noinfo'])\n",
        "\n",
        "  X_case = np.asarray(X_case,\n",
        "                      dtype=np.float32)\n",
        "\n",
        "  return X_case\n"
      ],
      "metadata": {
        "id": "vyW4fm5bnyJd"
      },
      "execution_count": 13,
      "outputs": []
    },
    {
      "cell_type": "code",
      "source": [
        "\n",
        "X_train_case = case_preprocesing(conll_data['train']['tokens'])\n",
        "X_test_case = case_preprocesing(conll_data['test']['tokens'])\n",
        "X_val_case = case_preprocesing(conll_data['validation']['tokens'])"
      ],
      "metadata": {
        "id": "vrTUp4X0Hpp2"
      },
      "execution_count": 14,
      "outputs": []
    },
    {
      "cell_type": "markdown",
      "source": [
        "## Targer preprocessing"
      ],
      "metadata": {
        "id": "0RCk62pk5XNF"
      }
    },
    {
      "cell_type": "code",
      "source": [
        "label2id = {'O': 0, 'B-PER': 1, 'I-PER': 2, 'B-ORG': 3, 'I-ORG': 4, 'B-LOC': 5, 'I-LOC': 6, 'B-MISC': 7, 'I-MISC': 8}\n",
        "id2label = {v: k for k, v in label2id.items()}\n"
      ],
      "metadata": {
        "id": "Tj3bYTnK5cmF"
      },
      "execution_count": 15,
      "outputs": []
    },
    {
      "cell_type": "code",
      "source": [
        "y_train = pad_sequences(conll_data['train']['ner_tags'],\n",
        "                        dtype='int32',\n",
        "                        maxlen=max_sentence_length,\n",
        "                        padding='post',\n",
        "                        truncating='post',\n",
        "                        value=0,)\n",
        "\n",
        "def encoding_ytrain(y_input):\n",
        "\n",
        "  y_train = pad_sequences(y_input,\n",
        "                        dtype='int32',\n",
        "                        maxlen=max_sentence_length,\n",
        "                        padding='post',\n",
        "                        truncating='post',\n",
        "                        value=0,)\n",
        "  n=len(label2id)\n",
        "  nrow=len(y_train)\n",
        "  encoded = np.zeros(shape=(nrow,max_sentence_length,n))\n",
        "  for iy, y in enumerate(y_train):\n",
        "    senvec = np.zeros(shape=(max_sentence_length,n))\n",
        "    for ichar, char in enumerate(y):\n",
        "      charvec = np.zeros(n)\n",
        "      charvec[char] = 1\n",
        "      # print(f\"{char=}\")\n",
        "      # print(f\"{charvec=}\")\n",
        "      senvec[ichar]=charvec\n",
        "\n",
        "    encoded[iy] = senvec\n",
        "  return encoded\n",
        "\n",
        "\n"
      ],
      "metadata": {
        "id": "RS_SAOoHvOlO"
      },
      "execution_count": 16,
      "outputs": []
    },
    {
      "cell_type": "code",
      "source": [
        "y_train = encoding_ytrain(conll_data['train']['ner_tags'])\n",
        "y_test = encoding_ytrain(conll_data['test']['ner_tags'])\n",
        "y_val = encoding_ytrain(conll_data['validation']['ner_tags'])"
      ],
      "metadata": {
        "id": "1f_tX1VJr8pH"
      },
      "execution_count": 17,
      "outputs": []
    },
    {
      "cell_type": "markdown",
      "source": [
        "# Model"
      ],
      "metadata": {
        "id": "d0235Xcz4fcZ"
      }
    },
    {
      "cell_type": "code",
      "source": [
        "from keras.layers import TextVectorization"
      ],
      "metadata": {
        "id": "fD4Ep_Vzigl2"
      },
      "execution_count": 18,
      "outputs": []
    },
    {
      "cell_type": "code",
      "source": [
        "text_vectorizer = TextVectorization(max_tokens=max_word_tokens,   # how many word in the vocab lib\n",
        "                                    standardize='lower_and_strip_punctuation', # process the tab\n",
        "                                    split='whitespace', # split the token\n",
        "                                    ngrams=None,\n",
        "                                    output_mode='int', # map token to number\n",
        "                                    output_sequence_length=max_sentence_length,\n",
        "                                    pad_to_max_tokens=False,\n",
        "                                    vocabulary=None,)\n",
        "text_vectorizer.adapt(np.array([ \" \".join(row) for row in conll_data['train']['tokens']]))"
      ],
      "metadata": {
        "id": "zhWd1_g8Cx4I"
      },
      "execution_count": 19,
      "outputs": []
    },
    {
      "cell_type": "code",
      "source": [
        "# Word level\n",
        "word_input = Input(shape=(1,),dtype=tf.string,name='word_input')\n",
        "# Tokenize\n",
        "\n",
        "words_vectorize = text_vectorizer(word_input)\n",
        "\n",
        "# Embedding\n",
        "embedding = Embedding(input_dim=max_word_tokens,\n",
        "                      output_dim=128,\n",
        "                      embeddings_initializer=\"uniform\",\n",
        "                      input_length=None)\n",
        "words = embedding(words_vectorize)\n"
      ],
      "metadata": {
        "id": "HQQ5xyyOoIcP"
      },
      "execution_count": 20,
      "outputs": []
    },
    {
      "cell_type": "code",
      "source": [
        "# Character level\n",
        "character_input=Input(shape=(None,max_word_len,),\n",
        "                      name='char_input',\n",
        "                      dtype=tf.int32)\n",
        "embed_char_out=TimeDistributed(Embedding(input_dim = len(char2Idx),\n",
        "                                         output_dim=10,\n",
        "                                         embeddings_initializer=RandomUniform(minval=-0.5, maxval=0.5),\n",
        "                                         input_length=max_sentence_length,),\n",
        "                                         name='char_embedding')(character_input)\n",
        "dropout = Dropout(0.5)(embed_char_out)\n",
        "conv1d_out= TimeDistributed(Conv1D(kernel_size=3,\n",
        "                                   filters=10,\n",
        "                                   padding='same',activation='tanh', strides=1))(dropout)\n",
        "maxpool_out=TimeDistributed(MaxPooling1D(max_word_len))(conv1d_out)\n",
        "char = TimeDistributed(Flatten())(maxpool_out)\n",
        "char = Dropout(0.5)(char)"
      ],
      "metadata": {
        "id": "tyRcA1GgCZD7"
      },
      "execution_count": 21,
      "outputs": []
    },
    {
      "cell_type": "code",
      "source": [
        "## Caps feature\n",
        "casing_input = Input(shape=(max_sentence_length,), dtype='int32', name='casing_input')\n",
        "casing_embed = Embedding(input_dim=len(case2id),\n",
        "                        output_dim=len(case2id),\n",
        "                        input_length=max_sentence_length,\n",
        "                        trainable=False)\n",
        "\n",
        "casing = casing_embed(casing_input)"
      ],
      "metadata": {
        "id": "iOBLEbzQHhIK"
      },
      "execution_count": 22,
      "outputs": []
    },
    {
      "cell_type": "code",
      "source": [
        "combined = concatenate([words, char, casing])\n",
        "# combined = words\n",
        "# Bi-LSTM\n",
        "output = Bidirectional(LSTM(200, return_sequences=True, dropout=0.50, recurrent_dropout=0.25))(combined)\n",
        "\n",
        "# # Output -> Tag Scoring -> Tag\n",
        "output = TimeDistributed(Dense(len(label2id), activation='softmax'))(output)\n",
        "model = Model(inputs=[word_input, character_input, casing], outputs=[output])\n"
      ],
      "metadata": {
        "id": "ADNF46AJCc2W",
        "colab": {
          "base_uri": "https://localhost:8080/"
        },
        "outputId": "00ef02ec-5fb4-4744-9113-82afe679a752"
      },
      "execution_count": 23,
      "outputs": [
        {
          "output_type": "stream",
          "name": "stderr",
          "text": [
            "WARNING:tensorflow:Layer lstm will not use cuDNN kernels since it doesn't meet the criteria. It will use a generic GPU kernel as fallback when running on GPU.\n",
            "WARNING:tensorflow:Layer lstm will not use cuDNN kernels since it doesn't meet the criteria. It will use a generic GPU kernel as fallback when running on GPU.\n",
            "WARNING:tensorflow:Layer lstm will not use cuDNN kernels since it doesn't meet the criteria. It will use a generic GPU kernel as fallback when running on GPU.\n"
          ]
        }
      ]
    },
    {
      "cell_type": "code",
      "source": [
        "model.compile(loss=\"binary_crossentropy\",\n",
        "              optimizer=Adam(),\n",
        "              metrics=[\"accuracy\"])"
      ],
      "metadata": {
        "id": "sEyUbsyIqdUR"
      },
      "execution_count": 24,
      "outputs": []
    },
    {
      "cell_type": "code",
      "source": [
        "model.summary()"
      ],
      "metadata": {
        "id": "dAbBlYVmrJHr",
        "outputId": "ab2a6973-5381-47df-d18c-cefe868c8361",
        "colab": {
          "base_uri": "https://localhost:8080/"
        }
      },
      "execution_count": 25,
      "outputs": [
        {
          "output_type": "stream",
          "name": "stdout",
          "text": [
            "Model: \"model\"\n",
            "__________________________________________________________________________________________________\n",
            " Layer (type)                Output Shape                 Param #   Connected to                  \n",
            "==================================================================================================\n",
            " char_input (InputLayer)     [(None, None, 20)]           0         []                            \n",
            "                                                                                                  \n",
            " char_embedding (TimeDistri  (None, None, 20, 10)         950       ['char_input[0][0]']          \n",
            " buted)                                                                                           \n",
            "                                                                                                  \n",
            " dropout (Dropout)           (None, None, 20, 10)         0         ['char_embedding[1][0]']      \n",
            "                                                                                                  \n",
            " time_distributed (TimeDist  (None, None, 20, 10)         310       ['dropout[1][0]']             \n",
            " ributed)                                                                                         \n",
            "                                                                                                  \n",
            " word_input (InputLayer)     [(None, 1)]                  0         []                            \n",
            "                                                                                                  \n",
            " time_distributed_1 (TimeDi  (None, None, 1, 10)          0         ['time_distributed[1][0]']    \n",
            " stributed)                                                                                       \n",
            "                                                                                                  \n",
            " text_vectorization (TextVe  (None, 50)                   0         ['word_input[0][0]']          \n",
            " ctorization)                                                                                     \n",
            "                                                                                                  \n",
            " time_distributed_2 (TimeDi  (None, None, 10)             0         ['time_distributed_1[1][0]']  \n",
            " stributed)                                                                                       \n",
            "                                                                                                  \n",
            " embedding (Embedding)       (None, 50, 128)              3072000   ['text_vectorization[1][0]']  \n",
            "                                                                                                  \n",
            " dropout_1 (Dropout)         (None, None, 10)             0         ['time_distributed_2[1][0]']  \n",
            "                                                                                                  \n",
            " input_1 (InputLayer)        [(None, 50, 5)]              0         []                            \n",
            "                                                                                                  \n",
            " concatenate (Concatenate)   (None, 50, 143)              0         ['embedding[1][0]',           \n",
            "                                                                     'dropout_1[1][0]',           \n",
            "                                                                     'input_1[0][0]']             \n",
            "                                                                                                  \n",
            " bidirectional (Bidirection  (None, 50, 400)              550400    ['concatenate[1][0]']         \n",
            " al)                                                                                              \n",
            "                                                                                                  \n",
            " time_distributed_3 (TimeDi  (None, 50, 9)                3609      ['bidirectional[1][0]']       \n",
            " stributed)                                                                                       \n",
            "                                                                                                  \n",
            "==================================================================================================\n",
            "Total params: 3627269 (13.84 MB)\n",
            "Trainable params: 3627269 (13.84 MB)\n",
            "Non-trainable params: 0 (0.00 Byte)\n",
            "__________________________________________________________________________________________________\n"
          ]
        }
      ]
    },
    {
      "cell_type": "code",
      "source": [
        "history = model.fit([X_train_word,X_train_char, X_train_case],\n",
        "                    y_train,\n",
        "                    epochs=100,\n",
        "                    batch_size=64,\n",
        "                    validation_data=([X_val_word,X_val_char,X_val_case], y_val))"
      ],
      "metadata": {
        "id": "iaXHRDfQHOi0",
        "colab": {
          "base_uri": "https://localhost:8080/"
        },
        "outputId": "9ae836a1-dac2-4679-9e7d-2f27bce90542"
      },
      "execution_count": 26,
      "outputs": [
        {
          "output_type": "stream",
          "name": "stdout",
          "text": [
            "Epoch 1/100\n",
            "220/220 [==============================] - 99s 395ms/step - loss: 0.0355 - accuracy: 0.9482 - val_loss: 0.0256 - val_accuracy: 0.9540\n",
            "Epoch 2/100\n",
            "220/220 [==============================] - 75s 343ms/step - loss: 0.0192 - accuracy: 0.9655 - val_loss: 0.0147 - val_accuracy: 0.9749\n",
            "Epoch 3/100\n",
            "220/220 [==============================] - 75s 342ms/step - loss: 0.0111 - accuracy: 0.9820 - val_loss: 0.0098 - val_accuracy: 0.9849\n",
            "Epoch 4/100\n",
            "220/220 [==============================] - 72s 328ms/step - loss: 0.0071 - accuracy: 0.9890 - val_loss: 0.0084 - val_accuracy: 0.9871\n",
            "Epoch 5/100\n",
            "220/220 [==============================] - 74s 337ms/step - loss: 0.0052 - accuracy: 0.9923 - val_loss: 0.0081 - val_accuracy: 0.9872\n",
            "Epoch 6/100\n",
            "220/220 [==============================] - 73s 332ms/step - loss: 0.0040 - accuracy: 0.9940 - val_loss: 0.0082 - val_accuracy: 0.9875\n",
            "Epoch 7/100\n",
            "220/220 [==============================] - 73s 331ms/step - loss: 0.0031 - accuracy: 0.9953 - val_loss: 0.0079 - val_accuracy: 0.9883\n",
            "Epoch 8/100\n",
            "220/220 [==============================] - 71s 321ms/step - loss: 0.0026 - accuracy: 0.9962 - val_loss: 0.0078 - val_accuracy: 0.9889\n",
            "Epoch 9/100\n",
            "220/220 [==============================] - 73s 332ms/step - loss: 0.0021 - accuracy: 0.9969 - val_loss: 0.0083 - val_accuracy: 0.9885\n",
            "Epoch 10/100\n",
            "220/220 [==============================] - 73s 330ms/step - loss: 0.0017 - accuracy: 0.9975 - val_loss: 0.0079 - val_accuracy: 0.9891\n",
            "Epoch 11/100\n",
            "220/220 [==============================] - 74s 337ms/step - loss: 0.0014 - accuracy: 0.9979 - val_loss: 0.0084 - val_accuracy: 0.9895\n",
            "Epoch 12/100\n",
            "220/220 [==============================] - 72s 328ms/step - loss: 0.0013 - accuracy: 0.9981 - val_loss: 0.0091 - val_accuracy: 0.9884\n",
            "Epoch 13/100\n",
            "220/220 [==============================] - 72s 327ms/step - loss: 0.0011 - accuracy: 0.9984 - val_loss: 0.0086 - val_accuracy: 0.9893\n",
            "Epoch 14/100\n",
            "220/220 [==============================] - 70s 319ms/step - loss: 0.0010 - accuracy: 0.9985 - val_loss: 0.0091 - val_accuracy: 0.9888\n",
            "Epoch 15/100\n",
            "220/220 [==============================] - 73s 329ms/step - loss: 8.7678e-04 - accuracy: 0.9987 - val_loss: 0.0089 - val_accuracy: 0.9889\n",
            "Epoch 16/100\n",
            "220/220 [==============================] - 71s 325ms/step - loss: 7.5328e-04 - accuracy: 0.9989 - val_loss: 0.0096 - val_accuracy: 0.9885\n",
            "Epoch 17/100\n",
            "220/220 [==============================] - 73s 334ms/step - loss: 6.4192e-04 - accuracy: 0.9991 - val_loss: 0.0097 - val_accuracy: 0.9888\n",
            "Epoch 18/100\n",
            "220/220 [==============================] - 72s 326ms/step - loss: 5.9493e-04 - accuracy: 0.9991 - val_loss: 0.0094 - val_accuracy: 0.9894\n",
            "Epoch 19/100\n",
            "220/220 [==============================] - 72s 329ms/step - loss: 5.4874e-04 - accuracy: 0.9992 - val_loss: 0.0099 - val_accuracy: 0.9889\n",
            "Epoch 20/100\n",
            "220/220 [==============================] - 72s 329ms/step - loss: 5.1410e-04 - accuracy: 0.9992 - val_loss: 0.0098 - val_accuracy: 0.9892\n",
            "Epoch 21/100\n",
            "220/220 [==============================] - 73s 333ms/step - loss: 4.5330e-04 - accuracy: 0.9993 - val_loss: 0.0099 - val_accuracy: 0.9893\n",
            "Epoch 22/100\n",
            "220/220 [==============================] - 72s 328ms/step - loss: 4.5189e-04 - accuracy: 0.9993 - val_loss: 0.0099 - val_accuracy: 0.9893\n",
            "Epoch 23/100\n",
            "220/220 [==============================] - 73s 330ms/step - loss: 3.8438e-04 - accuracy: 0.9995 - val_loss: 0.0105 - val_accuracy: 0.9888\n",
            "Epoch 24/100\n",
            "220/220 [==============================] - 71s 323ms/step - loss: 3.6299e-04 - accuracy: 0.9995 - val_loss: 0.0107 - val_accuracy: 0.9886\n",
            "Epoch 25/100\n",
            "220/220 [==============================] - 73s 334ms/step - loss: 3.4952e-04 - accuracy: 0.9995 - val_loss: 0.0105 - val_accuracy: 0.9893\n",
            "Epoch 26/100\n",
            "220/220 [==============================] - 70s 320ms/step - loss: 3.0069e-04 - accuracy: 0.9996 - val_loss: 0.0104 - val_accuracy: 0.9891\n",
            "Epoch 27/100\n",
            "220/220 [==============================] - 73s 333ms/step - loss: 3.0934e-04 - accuracy: 0.9995 - val_loss: 0.0113 - val_accuracy: 0.9884\n",
            "Epoch 28/100\n",
            "220/220 [==============================] - 74s 339ms/step - loss: 2.7823e-04 - accuracy: 0.9996 - val_loss: 0.0109 - val_accuracy: 0.9889\n",
            "Epoch 29/100\n",
            "220/220 [==============================] - 75s 340ms/step - loss: 2.6505e-04 - accuracy: 0.9996 - val_loss: 0.0112 - val_accuracy: 0.9884\n",
            "Epoch 30/100\n",
            "220/220 [==============================] - 74s 339ms/step - loss: 2.7261e-04 - accuracy: 0.9996 - val_loss: 0.0110 - val_accuracy: 0.9889\n",
            "Epoch 31/100\n",
            "220/220 [==============================] - 74s 336ms/step - loss: 2.2440e-04 - accuracy: 0.9997 - val_loss: 0.0113 - val_accuracy: 0.9888\n",
            "Epoch 32/100\n",
            "220/220 [==============================] - 73s 332ms/step - loss: 2.2334e-04 - accuracy: 0.9997 - val_loss: 0.0111 - val_accuracy: 0.9893\n",
            "Epoch 33/100\n",
            "220/220 [==============================] - 75s 342ms/step - loss: 1.9235e-04 - accuracy: 0.9997 - val_loss: 0.0111 - val_accuracy: 0.9894\n",
            "Epoch 34/100\n",
            "220/220 [==============================] - 72s 329ms/step - loss: 1.9357e-04 - accuracy: 0.9997 - val_loss: 0.0113 - val_accuracy: 0.9892\n",
            "Epoch 35/100\n",
            "220/220 [==============================] - 70s 318ms/step - loss: 1.7744e-04 - accuracy: 0.9997 - val_loss: 0.0117 - val_accuracy: 0.9891\n",
            "Epoch 36/100\n",
            "220/220 [==============================] - 69s 312ms/step - loss: 1.7756e-04 - accuracy: 0.9998 - val_loss: 0.0119 - val_accuracy: 0.9889\n",
            "Epoch 37/100\n",
            "220/220 [==============================] - 71s 321ms/step - loss: 1.7183e-04 - accuracy: 0.9998 - val_loss: 0.0118 - val_accuracy: 0.9886\n",
            "Epoch 38/100\n",
            "220/220 [==============================] - 69s 313ms/step - loss: 1.5714e-04 - accuracy: 0.9998 - val_loss: 0.0115 - val_accuracy: 0.9894\n",
            "Epoch 39/100\n",
            "220/220 [==============================] - 69s 316ms/step - loss: 1.7343e-04 - accuracy: 0.9998 - val_loss: 0.0113 - val_accuracy: 0.9893\n",
            "Epoch 40/100\n",
            "220/220 [==============================] - 69s 313ms/step - loss: 1.5134e-04 - accuracy: 0.9998 - val_loss: 0.0118 - val_accuracy: 0.9889\n",
            "Epoch 41/100\n",
            "220/220 [==============================] - 69s 312ms/step - loss: 1.6393e-04 - accuracy: 0.9998 - val_loss: 0.0116 - val_accuracy: 0.9894\n",
            "Epoch 42/100\n",
            "220/220 [==============================] - 69s 313ms/step - loss: 1.5249e-04 - accuracy: 0.9998 - val_loss: 0.0118 - val_accuracy: 0.9893\n",
            "Epoch 43/100\n",
            "220/220 [==============================] - 70s 316ms/step - loss: 1.4434e-04 - accuracy: 0.9998 - val_loss: 0.0127 - val_accuracy: 0.9883\n",
            "Epoch 44/100\n",
            "220/220 [==============================] - 69s 313ms/step - loss: 1.2149e-04 - accuracy: 0.9998 - val_loss: 0.0119 - val_accuracy: 0.9892\n",
            "Epoch 45/100\n",
            "220/220 [==============================] - 70s 318ms/step - loss: 1.4195e-04 - accuracy: 0.9998 - val_loss: 0.0117 - val_accuracy: 0.9896\n",
            "Epoch 46/100\n",
            "220/220 [==============================] - 69s 315ms/step - loss: 1.0386e-04 - accuracy: 0.9998 - val_loss: 0.0123 - val_accuracy: 0.9893\n",
            "Epoch 47/100\n",
            "220/220 [==============================] - 70s 317ms/step - loss: 1.0344e-04 - accuracy: 0.9998 - val_loss: 0.0125 - val_accuracy: 0.9893\n",
            "Epoch 48/100\n",
            "220/220 [==============================] - 69s 314ms/step - loss: 1.0012e-04 - accuracy: 0.9999 - val_loss: 0.0128 - val_accuracy: 0.9890\n",
            "Epoch 49/100\n",
            "220/220 [==============================] - 68s 308ms/step - loss: 1.1691e-04 - accuracy: 0.9998 - val_loss: 0.0126 - val_accuracy: 0.9888\n",
            "Epoch 50/100\n",
            "220/220 [==============================] - 70s 315ms/step - loss: 1.1603e-04 - accuracy: 0.9998 - val_loss: 0.0124 - val_accuracy: 0.9893\n",
            "Epoch 51/100\n",
            "220/220 [==============================] - 70s 319ms/step - loss: 8.9631e-05 - accuracy: 0.9999 - val_loss: 0.0128 - val_accuracy: 0.9890\n",
            "Epoch 52/100\n",
            "220/220 [==============================] - 72s 326ms/step - loss: 1.1448e-04 - accuracy: 0.9998 - val_loss: 0.0124 - val_accuracy: 0.9893\n",
            "Epoch 53/100\n",
            "220/220 [==============================] - 71s 324ms/step - loss: 1.0996e-04 - accuracy: 0.9998 - val_loss: 0.0132 - val_accuracy: 0.9886\n",
            "Epoch 54/100\n",
            "220/220 [==============================] - 70s 315ms/step - loss: 9.5686e-05 - accuracy: 0.9999 - val_loss: 0.0126 - val_accuracy: 0.9891\n",
            "Epoch 55/100\n",
            "220/220 [==============================] - 69s 313ms/step - loss: 8.8694e-05 - accuracy: 0.9999 - val_loss: 0.0125 - val_accuracy: 0.9894\n",
            "Epoch 56/100\n",
            "220/220 [==============================] - 70s 318ms/step - loss: 7.9917e-05 - accuracy: 0.9999 - val_loss: 0.0128 - val_accuracy: 0.9889\n",
            "Epoch 57/100\n",
            "220/220 [==============================] - 70s 319ms/step - loss: 9.7037e-05 - accuracy: 0.9999 - val_loss: 0.0131 - val_accuracy: 0.9890\n",
            "Epoch 58/100\n",
            "220/220 [==============================] - 72s 327ms/step - loss: 7.8220e-05 - accuracy: 0.9999 - val_loss: 0.0128 - val_accuracy: 0.9891\n",
            "Epoch 59/100\n",
            "220/220 [==============================] - 71s 324ms/step - loss: 7.5433e-05 - accuracy: 0.9999 - val_loss: 0.0125 - val_accuracy: 0.9895\n",
            "Epoch 60/100\n",
            "220/220 [==============================] - 70s 317ms/step - loss: 8.4425e-05 - accuracy: 0.9999 - val_loss: 0.0134 - val_accuracy: 0.9890\n",
            "Epoch 61/100\n",
            "220/220 [==============================] - 69s 312ms/step - loss: 8.3501e-05 - accuracy: 0.9999 - val_loss: 0.0128 - val_accuracy: 0.9894\n",
            "Epoch 62/100\n",
            "220/220 [==============================] - 70s 316ms/step - loss: 6.3610e-05 - accuracy: 0.9999 - val_loss: 0.0128 - val_accuracy: 0.9894\n",
            "Epoch 63/100\n",
            "220/220 [==============================] - 69s 313ms/step - loss: 6.3767e-05 - accuracy: 0.9999 - val_loss: 0.0128 - val_accuracy: 0.9896\n",
            "Epoch 64/100\n",
            "220/220 [==============================] - 69s 314ms/step - loss: 6.5917e-05 - accuracy: 0.9999 - val_loss: 0.0129 - val_accuracy: 0.9894\n",
            "Epoch 65/100\n",
            "220/220 [==============================] - 70s 317ms/step - loss: 6.0699e-05 - accuracy: 0.9999 - val_loss: 0.0132 - val_accuracy: 0.9892\n",
            "Epoch 66/100\n",
            "220/220 [==============================] - 68s 309ms/step - loss: 8.0181e-05 - accuracy: 0.9999 - val_loss: 0.0127 - val_accuracy: 0.9895\n",
            "Epoch 67/100\n",
            "220/220 [==============================] - 71s 322ms/step - loss: 6.8911e-05 - accuracy: 0.9999 - val_loss: 0.0129 - val_accuracy: 0.9895\n",
            "Epoch 68/100\n",
            "220/220 [==============================] - 69s 313ms/step - loss: 7.9778e-05 - accuracy: 0.9999 - val_loss: 0.0134 - val_accuracy: 0.9891\n",
            "Epoch 69/100\n",
            "220/220 [==============================] - 70s 320ms/step - loss: 8.0307e-05 - accuracy: 0.9999 - val_loss: 0.0129 - val_accuracy: 0.9896\n",
            "Epoch 70/100\n",
            "220/220 [==============================] - 69s 312ms/step - loss: 6.0867e-05 - accuracy: 0.9999 - val_loss: 0.0131 - val_accuracy: 0.9892\n",
            "Epoch 71/100\n",
            "220/220 [==============================] - 70s 316ms/step - loss: 5.8717e-05 - accuracy: 0.9999 - val_loss: 0.0131 - val_accuracy: 0.9894\n",
            "Epoch 72/100\n",
            "220/220 [==============================] - 68s 311ms/step - loss: 7.5402e-05 - accuracy: 0.9999 - val_loss: 0.0129 - val_accuracy: 0.9897\n",
            "Epoch 73/100\n",
            "220/220 [==============================] - 69s 315ms/step - loss: 8.9879e-05 - accuracy: 0.9999 - val_loss: 0.0132 - val_accuracy: 0.9893\n",
            "Epoch 74/100\n",
            "220/220 [==============================] - 68s 308ms/step - loss: 6.9110e-05 - accuracy: 0.9999 - val_loss: 0.0129 - val_accuracy: 0.9897\n",
            "Epoch 75/100\n",
            "220/220 [==============================] - 71s 320ms/step - loss: 5.9425e-05 - accuracy: 0.9999 - val_loss: 0.0133 - val_accuracy: 0.9894\n",
            "Epoch 76/100\n",
            "220/220 [==============================] - 73s 332ms/step - loss: 4.7538e-05 - accuracy: 0.9999 - val_loss: 0.0135 - val_accuracy: 0.9892\n",
            "Epoch 77/100\n",
            "220/220 [==============================] - 72s 326ms/step - loss: 5.3838e-05 - accuracy: 0.9999 - val_loss: 0.0130 - val_accuracy: 0.9897\n",
            "Epoch 78/100\n",
            "220/220 [==============================] - 73s 331ms/step - loss: 4.6619e-05 - accuracy: 0.9999 - val_loss: 0.0131 - val_accuracy: 0.9895\n",
            "Epoch 79/100\n",
            "220/220 [==============================] - 72s 329ms/step - loss: 5.2093e-05 - accuracy: 0.9999 - val_loss: 0.0136 - val_accuracy: 0.9895\n",
            "Epoch 80/100\n",
            "220/220 [==============================] - 72s 327ms/step - loss: 4.0921e-05 - accuracy: 0.9999 - val_loss: 0.0140 - val_accuracy: 0.9888\n",
            "Epoch 81/100\n",
            "220/220 [==============================] - 71s 323ms/step - loss: 5.4058e-05 - accuracy: 0.9999 - val_loss: 0.0133 - val_accuracy: 0.9895\n",
            "Epoch 82/100\n",
            "220/220 [==============================] - 72s 329ms/step - loss: 5.1339e-05 - accuracy: 0.9999 - val_loss: 0.0131 - val_accuracy: 0.9898\n",
            "Epoch 83/100\n",
            "220/220 [==============================] - 70s 319ms/step - loss: 3.8366e-05 - accuracy: 0.9999 - val_loss: 0.0134 - val_accuracy: 0.9894\n",
            "Epoch 84/100\n",
            "220/220 [==============================] - 72s 327ms/step - loss: 3.9724e-05 - accuracy: 1.0000 - val_loss: 0.0136 - val_accuracy: 0.9895\n",
            "Epoch 85/100\n",
            "220/220 [==============================] - 71s 324ms/step - loss: 3.6055e-05 - accuracy: 1.0000 - val_loss: 0.0139 - val_accuracy: 0.9894\n",
            "Epoch 86/100\n",
            "220/220 [==============================] - 72s 328ms/step - loss: 5.2450e-05 - accuracy: 0.9999 - val_loss: 0.0138 - val_accuracy: 0.9893\n",
            "Epoch 87/100\n",
            "220/220 [==============================] - 71s 322ms/step - loss: 5.0159e-05 - accuracy: 0.9999 - val_loss: 0.0135 - val_accuracy: 0.9899\n",
            "Epoch 88/100\n",
            "220/220 [==============================] - 72s 327ms/step - loss: 5.4400e-05 - accuracy: 0.9999 - val_loss: 0.0137 - val_accuracy: 0.9893\n",
            "Epoch 89/100\n",
            "220/220 [==============================] - 70s 319ms/step - loss: 5.3542e-05 - accuracy: 0.9999 - val_loss: 0.0140 - val_accuracy: 0.9893\n",
            "Epoch 90/100\n",
            "220/220 [==============================] - 70s 320ms/step - loss: 4.3561e-05 - accuracy: 0.9999 - val_loss: 0.0141 - val_accuracy: 0.9891\n",
            "Epoch 91/100\n",
            "220/220 [==============================] - 70s 317ms/step - loss: 4.6634e-05 - accuracy: 0.9999 - val_loss: 0.0142 - val_accuracy: 0.9892\n",
            "Epoch 92/100\n",
            "220/220 [==============================] - 71s 324ms/step - loss: 3.5431e-05 - accuracy: 1.0000 - val_loss: 0.0134 - val_accuracy: 0.9897\n",
            "Epoch 93/100\n",
            "220/220 [==============================] - 73s 332ms/step - loss: 5.3829e-05 - accuracy: 0.9999 - val_loss: 0.0137 - val_accuracy: 0.9893\n",
            "Epoch 94/100\n",
            "220/220 [==============================] - 72s 329ms/step - loss: 4.1710e-05 - accuracy: 0.9999 - val_loss: 0.0147 - val_accuracy: 0.9888\n",
            "Epoch 95/100\n",
            "220/220 [==============================] - 72s 328ms/step - loss: 4.0203e-05 - accuracy: 0.9999 - val_loss: 0.0140 - val_accuracy: 0.9894\n",
            "Epoch 96/100\n",
            "220/220 [==============================] - 71s 324ms/step - loss: 3.9344e-05 - accuracy: 1.0000 - val_loss: 0.0137 - val_accuracy: 0.9896\n",
            "Epoch 97/100\n",
            "220/220 [==============================] - 73s 330ms/step - loss: 5.0636e-05 - accuracy: 0.9999 - val_loss: 0.0136 - val_accuracy: 0.9896\n",
            "Epoch 98/100\n",
            "220/220 [==============================] - 70s 320ms/step - loss: 5.5475e-05 - accuracy: 0.9999 - val_loss: 0.0136 - val_accuracy: 0.9898\n",
            "Epoch 99/100\n",
            "220/220 [==============================] - 71s 325ms/step - loss: 2.9838e-05 - accuracy: 1.0000 - val_loss: 0.0135 - val_accuracy: 0.9897\n",
            "Epoch 100/100\n",
            "220/220 [==============================] - 71s 325ms/step - loss: 4.2137e-05 - accuracy: 0.9999 - val_loss: 0.0134 - val_accuracy: 0.9897\n"
          ]
        }
      ]
    },
    {
      "cell_type": "code",
      "source": [
        "model.save('bilstm-cnn.keras')"
      ],
      "metadata": {
        "id": "In-MXro5HrHk"
      },
      "execution_count": 28,
      "outputs": []
    },
    {
      "cell_type": "code",
      "source": [
        "# summarize history for accuracy\n",
        "plt.plot(history.history['accuracy'])\n",
        "plt.plot(history.history['val_accuracy'])\n",
        "plt.title('model accuracy')\n",
        "plt.ylabel('accuracy')\n",
        "plt.xlabel('epoch')\n",
        "plt.legend(['train', 'validation'], loc='lower right')\n",
        "plt.show()\n",
        "# summarize history for loss\n",
        "plt.plot(history.history['loss'])\n",
        "plt.plot(history.history['val_loss'])\n",
        "plt.title('model loss')\n",
        "plt.ylabel('loss')\n",
        "plt.xlabel('epoch')\n",
        "plt.legend(['train', 'validation'], loc='upper right')\n",
        "plt.show()"
      ],
      "metadata": {
        "id": "C_JQkfmmzrCv",
        "outputId": "5a79e857-b5bd-4656-e6c1-a30e2c96f8bc",
        "colab": {
          "base_uri": "https://localhost:8080/",
          "height": 927
        }
      },
      "execution_count": 45,
      "outputs": [
        {
          "output_type": "display_data",
          "data": {
            "text/plain": [
              "<Figure size 640x480 with 1 Axes>"
            ],
            "image/png": "[encoded data removed]"
          },
          "metadata": {}
        },
        {
          "output_type": "display_data",
          "data": {
            "text/plain": [
              "<Figure size 640x480 with 1 Axes>"
            ],
            "image/png": "[encoded data removed]"
          },
          "metadata": {}
        }
      ]
    },
    {
      "cell_type": "code",
      "source": [],
      "metadata": {
        "id": "ITd5RkxpzrKX"
      },
      "execution_count": null,
      "outputs": []
    },
    {
      "cell_type": "code",
      "source": [],
      "metadata": {
        "id": "OuzZAPWDzrO-"
      },
      "execution_count": null,
      "outputs": []
    },
    {
      "cell_type": "code",
      "source": [],
      "metadata": {
        "id": "dGio4jR8zrU7"
      },
      "execution_count": null,
      "outputs": []
    },
    {
      "cell_type": "markdown",
      "source": [
        "# Predictions"
      ],
      "metadata": {
        "id": "NmowfD8zHPh6"
      }
    },
    {
      "cell_type": "code",
      "source": [
        "%%capture\n",
        "!wget https://github.com/truongthuanr/self-project/raw/main/11_Named_Entity_Recognition/bilstm-cnn.keras"
      ],
      "metadata": {
        "id": "A9lAPaMlL8nd"
      },
      "execution_count": 7,
      "outputs": []
    },
    {
      "cell_type": "code",
      "source": [
        "loaded_model = load_model('bilstm-cnn.keras')"
      ],
      "metadata": {
        "id": "aMi0gMXIIumu",
        "outputId": "47a41736-0e3b-4dbc-ace5-3a50ad214f1b",
        "colab": {
          "base_uri": "https://localhost:8080/"
        }
      },
      "execution_count": 29,
      "outputs": [
        {
          "output_type": "stream",
          "name": "stderr",
          "text": [
            "WARNING:tensorflow:Layer lstm will not use cuDNN kernels since it doesn't meet the criteria. It will use a generic GPU kernel as fallback when running on GPU.\n",
            "WARNING:tensorflow:Layer lstm will not use cuDNN kernels since it doesn't meet the criteria. It will use a generic GPU kernel as fallback when running on GPU.\n",
            "WARNING:tensorflow:Layer lstm will not use cuDNN kernels since it doesn't meet the criteria. It will use a generic GPU kernel as fallback when running on GPU.\n"
          ]
        }
      ]
    },
    {
      "cell_type": "code",
      "source": [
        "def make_prediction(model, input_string):\n",
        "  X_words = np.asarray([input_string])\n",
        "  X_input_list = [input_string.split()]\n",
        "  X_chars = char_preprocessing(X_input_list)\n",
        "  X_case = case_preprocesing(X_input_list)\n",
        "  predictions = model.predict([X_words,X_chars,X_case])\n",
        "\n",
        "\n",
        "  # predictions = np.argmax()\n",
        "\n",
        "  return predictions"
      ],
      "metadata": {
        "id": "JGFfbP-_HPy8"
      },
      "execution_count": 30,
      "outputs": []
    },
    {
      "cell_type": "code",
      "source": [
        "example = \"Connie Palmer's cat Ralphie was way, way up in a tree in the family's backyard in Ohio\"\n",
        "predictions = make_prediction(loaded_model, example)"
      ],
      "metadata": {
        "id": "YYUZwW6_HP-e",
        "colab": {
          "base_uri": "https://localhost:8080/"
        },
        "outputId": "0eac2530-de5b-4f1a-e1e4-52f65e5a8913"
      },
      "execution_count": 31,
      "outputs": [
        {
          "output_type": "stream",
          "name": "stdout",
          "text": [
            "1/1 [==============================] - 1s 564ms/step\n"
          ]
        }
      ]
    },
    {
      "cell_type": "code",
      "source": [],
      "metadata": {
        "id": "PJloIj0jlSrS"
      },
      "execution_count": 87,
      "outputs": []
    },
    {
      "cell_type": "code",
      "source": [],
      "metadata": {
        "id": "6rEiejSTm___"
      },
      "execution_count": null,
      "outputs": []
    },
    {
      "cell_type": "code",
      "source": [
        "temp = np.squeeze(np.argmax(predictions,axis=2))\n",
        "temp = [id2label[word] for word in temp]\n",
        "print(\"\".join([f\"{word:10}\" for word in example.split()]))\n",
        "print(\"\".join([f\"{word:10}\" for word in temp[:len(example.split())]]))\n"
      ],
      "metadata": {
        "id": "ySytMGcvO0Ys",
        "outputId": "b9b02a0a-afc5-46b5-e3e5-3db501043f47",
        "colab": {
          "base_uri": "https://localhost:8080/"
        }
      },
      "execution_count": 32,
      "outputs": [
        {
          "output_type": "stream",
          "name": "stdout",
          "text": [
            "Connie    Palmer's  cat       Ralphie   was       way,      way       up        in        a         tree      in        the       family's  backyard  in        Ohio      \n",
            "B-PER     I-PER     O         B-LOC     O         O         O         O         O         O         O         O         O         O         O         O         B-LOC     \n"
          ]
        }
      ]
    },
    {
      "cell_type": "code",
      "source": [],
      "metadata": {
        "id": "mjW3pz9DnBEH"
      },
      "execution_count": null,
      "outputs": []
    },
    {
      "cell_type": "markdown",
      "source": [
        "# Test - F1 Score metrics"
      ],
      "metadata": {
        "id": "To3rfptlnBJd"
      }
    },
    {
      "cell_type": "code",
      "source": [
        "np.set_printoptions(suppress=True,linewidth=90)\n"
      ],
      "metadata": {
        "id": "T6KCFQEOskIX"
      },
      "execution_count": 33,
      "outputs": []
    },
    {
      "cell_type": "code",
      "source": [
        "test_predictions = loaded_model.predict([X_test_word,X_test_char, X_test_case])"
      ],
      "metadata": {
        "id": "3R1vcTXCnBOU",
        "outputId": "2570fe4e-cc5b-415f-f5ba-92c4fd55d31c",
        "colab": {
          "base_uri": "https://localhost:8080/"
        }
      },
      "execution_count": 34,
      "outputs": [
        {
          "output_type": "stream",
          "name": "stdout",
          "text": [
            "108/108 [==============================] - 3s 30ms/step\n"
          ]
        }
      ]
    },
    {
      "cell_type": "code",
      "source": [
        "np.squeeze(np.argmax(test_predictions,axis=2))[0]"
      ],
      "metadata": {
        "id": "-BXCL_DGp0pK",
        "outputId": "474e526a-cbd3-4dcb-eb1b-a3c7d59046f0",
        "colab": {
          "base_uri": "https://localhost:8080/"
        }
      },
      "execution_count": 35,
      "outputs": [
        {
          "output_type": "execute_result",
          "data": {
            "text/plain": [
              "array([0, 0, 5, 0, 3, 0, 0, 0, 0, 0, 0, 0, 0, 0, 0, 0, 0, 0, 0, 0, 0, 0, 0, 0, 0, 0, 0,\n",
              "       0, 0, 0, 0, 0, 0, 0, 0, 0, 0, 0, 0, 0, 0, 0, 0, 0, 0, 0, 0, 0, 0, 0])"
            ]
          },
          "metadata": {},
          "execution_count": 35
        }
      ]
    },
    {
      "cell_type": "code",
      "source": [
        "test_predictions[0][2]"
      ],
      "metadata": {
        "id": "N_vpy0qppPMv",
        "outputId": "04672ca9-2f03-4139-e56e-fb4058cd265c",
        "colab": {
          "base_uri": "https://localhost:8080/"
        }
      },
      "execution_count": 36,
      "outputs": [
        {
          "output_type": "execute_result",
          "data": {
            "text/plain": [
              "array([0.00000028, 0.00000193, 0.        , 0.00009726, 0.        , 0.99977416,\n",
              "       0.        , 0.00012634, 0.        ], dtype=float32)"
            ]
          },
          "metadata": {},
          "execution_count": 36
        }
      ]
    },
    {
      "cell_type": "code",
      "source": [],
      "metadata": {
        "id": "AZmmsoq0qHyV"
      },
      "execution_count": 36,
      "outputs": []
    },
    {
      "cell_type": "code",
      "source": [
        "def compute_f1score(prediction, actual):\n",
        "  prediction = np.squeeze(np.argmax(prediction,axis=2))\n",
        "  actual = np.squeeze(np.argmax(actual,axis=2))\n",
        "\n",
        "  # count_arr[predict-label][actual-label]\n",
        "  count_arr = np.zeros([len(label2id),len(label2id)])\n",
        "  for rownum in range(actual.shape[0]):\n",
        "    for wordnum in range(actual.shape[1]):\n",
        "      pred_label = prediction[rownum][wordnum]\n",
        "      actual_label = actual[rownum][wordnum]\n",
        "      count_arr[pred_label][actual_label] += 1\n",
        "\n",
        "  precision = [count_arr[i][i]/(np.sum(count_arr,axis=1))[i] for i in range(len(label2id))]\n",
        "  recall = [count_arr[i][i]/(np.sum(count_arr,axis=0))[i] for i in range(len(label2id))]\n",
        "  f1score = [2*recall[i]*precision[i]/(recall[i]+precision[i]) for i in range(len(label2id))]\n",
        "\n",
        "\n",
        "\n",
        "\n",
        "\n",
        "  return count_arr,precision,recall,f1score"
      ],
      "metadata": {
        "id": "QTfy3NYHnatp"
      },
      "execution_count": 37,
      "outputs": []
    },
    {
      "cell_type": "code",
      "source": [
        "countarr,precision,recall,f1score = compute_f1score(test_predictions,y_test)\n",
        "countarr"
      ],
      "metadata": {
        "id": "nMe6Pqgkrz77",
        "outputId": "e3bdc182-fa2b-40c4-b5d8-7bb586728f02",
        "colab": {
          "base_uri": "https://localhost:8080/"
        }
      },
      "execution_count": 38,
      "outputs": [
        {
          "output_type": "execute_result",
          "data": {
            "text/plain": [
              "array([[164143.,     96.,     10.,     96.,     72.,     28.,     13.,     54.,     28.],\n",
              "       [    47.,   1044.,     19.,     60.,      5.,     25.,      0.,      6.,      2.],\n",
              "       [    22.,     15.,    881.,      1.,     18.,      2.,      9.,      0.,      5.],\n",
              "       [    87.,    247.,      2.,   1205.,     26.,    114.,      1.,     56.,      3.],\n",
              "       [   119.,      7.,    166.,     29.,    625.,      4.,     32.,      3.,     18.],\n",
              "       [    73.,    113.,      2.,    196.,      8.,   1422.,      7.,     46.,      2.],\n",
              "       [    15.,      2.,     22.,      2.,     54.,      6.,    185.,      0.,      9.],\n",
              "       [    75.,     52.,      0.,     69.,      7.,     55.,      0.,    526.,     13.],\n",
              "       [    65.,      4.,      9.,      0.,     12.,      0.,      8.,     10.,    136.]])"
            ]
          },
          "metadata": {},
          "execution_count": 38
        }
      ]
    },
    {
      "cell_type": "code",
      "source": [
        "f1score"
      ],
      "metadata": {
        "id": "hI7Gr81fuvml",
        "outputId": "a3089418-3633-4cac-abd4-0dc2968e3ca7",
        "colab": {
          "base_uri": "https://localhost:8080/"
        }
      },
      "execution_count": 39,
      "outputs": [
        {
          "output_type": "execute_result",
          "data": {
            "text/plain": [
              "[0.9972659833650276,\n",
              " 0.7489239598278337,\n",
              " 0.8536821705426356,\n",
              " 0.7090320682553692,\n",
              " 0.6830601092896175,\n",
              " 0.806808510638298,\n",
              " 0.6727272727272727,\n",
              " 0.7022696929238986,\n",
              " 0.591304347826087]"
            ]
          },
          "metadata": {},
          "execution_count": 39
        }
      ]
    },
    {
      "cell_type": "code",
      "source": [],
      "metadata": {
        "id": "zG6gEArgrz0Y",
        "outputId": "fd63814f-57c8-476e-b28a-dc7d6a9f8984",
        "colab": {
          "base_uri": "https://localhost:8080/"
        }
      },
      "execution_count": 40,
      "outputs": [
        {
          "output_type": "execute_result",
          "data": {
            "text/plain": [
              "0.7516749017106711"
            ]
          },
          "metadata": {},
          "execution_count": 40
        }
      ]
    },
    {
      "cell_type": "markdown",
      "source": [
        "# References"
      ],
      "metadata": {
        "id": "EvJmuiIiHQJy"
      }
    },
    {
      "cell_type": "markdown",
      "source": [
        "https://keras.io/examples/nlp/ner_transformers/"
      ],
      "metadata": {
        "id": "by174qhpHT_2"
      }
    },
    {
      "cell_type": "markdown",
      "source": [],
      "metadata": {
        "id": "urASKXuLHZSz"
      }
    }
  ]
}