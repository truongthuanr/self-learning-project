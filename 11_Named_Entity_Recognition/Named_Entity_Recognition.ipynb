{
  "nbformat": 4,
  "nbformat_minor": 0,
  "metadata": {
    "colab": {
      "provenance": [],
      "authorship_tag": "ABX9TyOa3hEzvvDpYtoNDCHFQPKm",
      "include_colab_link": true
    },
    "kernelspec": {
      "name": "python3",
      "display_name": "Python 3"
    },
    "language_info": {
      "name": "python"
    }
  },
  "cells": [
    {
      "cell_type": "markdown",
      "metadata": {
        "id": "view-in-github",
        "colab_type": "text"
      },
      "source": [
        "<a href=\"https://colab.research.google.com/github/truongthuanr/self-project/blob/dev/11_Named_Entity_Recognition/Named_Entity_Recognition.ipynb\" target=\"_parent\"><img src=\"https://colab.research.google.com/assets/colab-badge.svg\" alt=\"Open In Colab\"/></a>"
      ]
    },
    {
      "cell_type": "code",
      "execution_count": 1,
      "metadata": {
        "id": "GQ4EHIZSuKoy"
      },
      "outputs": [],
      "source": [
        "\n",
        "%%capture\n",
        "!pip3 install datasets\n"
      ]
    },
    {
      "cell_type": "code",
      "source": [
        "\n",
        "import numpy as np\n",
        "import pandas as pd\n",
        "import tensorflow as tf\n",
        "from keras.preprocessing.sequence import pad_sequences\n",
        "from datasets import load_dataset\n",
        "import os\n"
      ],
      "metadata": {
        "id": "77nCH9814O5t"
      },
      "execution_count": 2,
      "outputs": []
    },
    {
      "cell_type": "code",
      "source": [
        "from keras.models import Model\n",
        "from keras.layers import Input,Embedding,TimeDistributed,\\\n",
        "                         Dropout,Conv1D,MaxPooling1D,\\\n",
        "                         Flatten,Bidirectional,LSTM,Dense,\\\n",
        "                         concatenate\n",
        "\n",
        "from keras.initializers import RandomUniform\n",
        "\n",
        "from keras.optimizers import Adam\n",
        "\n",
        "\n",
        "\n"
      ],
      "metadata": {
        "id": "RiTU7d_YHfc9"
      },
      "execution_count": 3,
      "outputs": []
    },
    {
      "cell_type": "code",
      "source": [
        "# For vetorization\n",
        "max_word_tokens = 24000\n",
        "max_sentence_length = 30\n",
        "max_word_len = 20\n"
      ],
      "metadata": {
        "id": "xjhrsmahYN2x"
      },
      "execution_count": 4,
      "outputs": []
    },
    {
      "cell_type": "markdown",
      "source": [
        "# Dataset"
      ],
      "metadata": {
        "id": "sxvsybnTHfi4"
      }
    },
    {
      "cell_type": "markdown",
      "source": [
        "Used dataset:\n",
        "\n",
        "https://huggingface.co/datasets/conll2003"
      ],
      "metadata": {
        "id": "jV1nsHAAHo_L"
      }
    },
    {
      "cell_type": "code",
      "source": [
        "conll_data = load_dataset(\"conll2003\")"
      ],
      "metadata": {
        "colab": {
          "base_uri": "https://localhost:8080/"
        },
        "id": "MSK4n-lEHfsw",
        "outputId": "6ec41c02-7e18-4e85-dd17-548d19eb4805"
      },
      "execution_count": 5,
      "outputs": [
        {
          "output_type": "stream",
          "name": "stderr",
          "text": [
            "/usr/local/lib/python3.10/dist-packages/huggingface_hub/utils/_token.py:88: UserWarning: \n",
            "The secret `HF_TOKEN` does not exist in your Colab secrets.\n",
            "To authenticate with the Hugging Face Hub, create a token in your settings tab (https://huggingface.co/settings/tokens), set it as secret in your Google Colab and restart your session.\n",
            "You will be able to reuse this secret in all of your notebooks.\n",
            "Please note that authentication is recommended but still optional to access public models or datasets.\n",
            "  warnings.warn(\n"
          ]
        }
      ]
    },
    {
      "cell_type": "code",
      "source": [],
      "metadata": {
        "id": "v4xeBd3WHqEA"
      },
      "execution_count": 5,
      "outputs": []
    },
    {
      "cell_type": "markdown",
      "source": [
        "# Data preprocessing\n"
      ],
      "metadata": {
        "id": "XGNsJro-pu9E"
      }
    },
    {
      "cell_type": "markdown",
      "source": [
        "## Character processing"
      ],
      "metadata": {
        "id": "Nz0msAOcCEzr"
      }
    },
    {
      "cell_type": "code",
      "source": [
        "char2Idx = {\"PADDING\":0, \"UNKNOWN\":1}\n",
        "for c in \" 0123456789abcdefghijklmnopqrstuvwxyzABCDEFGHIJKLMNOPQRSTUVWXYZ.,-_()[]{}!?:;#'\\\"/\\\\%$`&=*+@^~|\":\n",
        "    char2Idx[c] = len(char2Idx)\n",
        "len(char2Idx)"
      ],
      "metadata": {
        "id": "NgJ97l1FCKxt",
        "outputId": "0ae6a86d-fdb1-4391-b54a-80ae314934f2",
        "colab": {
          "base_uri": "https://localhost:8080/"
        }
      },
      "execution_count": 6,
      "outputs": [
        {
          "output_type": "execute_result",
          "data": {
            "text/plain": [
              "95"
            ]
          },
          "metadata": {},
          "execution_count": 6
        }
      ]
    },
    {
      "cell_type": "code",
      "source": [
        "def character_vectorize(X):\n",
        "  data_vec = []\n",
        "  for sentence in X:\n",
        "    # print(f\"Sentence: {sentence}\")\n",
        "    padchar = char2Idx['PADDING']\n",
        "    sentence_vec=[]\n",
        "    for word in sentence:\n",
        "      # print(word)\n",
        "      chars = []\n",
        "      if len(word) >= max_word_len:\n",
        "\n",
        "        chars=[char2Idx[c] for c in word[:max_word_len]]\n",
        "      else:\n",
        "        prepad=int((max_word_len-len(word))/2)\n",
        "        postpad=max_word_len-(len(word)+prepad)\n",
        "        chars.extend([padchar]*prepad)\n",
        "        chars.extend([char2Idx[c] for c in word])\n",
        "        chars.extend([padchar]*postpad)\n",
        "      sentence_vec.append(chars)\n",
        "\n",
        "    data_vec.append(sentence_vec)\n",
        "  data_vec = np.asarray(data_vec, dtype=object)\n",
        "  return data_vec\n",
        "\n",
        "\n",
        "\n",
        "\n",
        "# X_train_char = conll_data['train']['tokens']\n",
        "\n",
        "# X_train_char = character_vectorize(X_train_char)\n",
        "# X_train_char = pad_sequences(sequences = X_train_char,\n",
        "#                              maxlen=max_sentence_length,\n",
        "#                              dtype=object,\n",
        "#                              padding=\"post\",\n",
        "#                              truncating=\"post\",\n",
        "#                              value=0)\n",
        "# X_train_char = np.asarray(X_train_char,\n",
        "#                           dtype=np.float32)"
      ],
      "metadata": {
        "id": "Zl7amGnoCdGI"
      },
      "execution_count": 30,
      "outputs": []
    },
    {
      "cell_type": "code",
      "source": [],
      "metadata": {
        "id": "XNzREn97D2p9"
      },
      "execution_count": 30,
      "outputs": []
    },
    {
      "cell_type": "code",
      "source": [
        "def char_preprocessing(char_input):\n",
        "  X_chars = character_vectorize(char_input)\n",
        "  X_chars = pad_sequences(sequences = X_chars,\n",
        "                          maxlen=max_sentence_length,\n",
        "                          dtype=object,\n",
        "                          padding=\"post\",\n",
        "                          truncating=\"post\",\n",
        "                          value=0)\n",
        "\n",
        "  X_chars = np.asarray(X_chars,\n",
        "                       dtype=np.float32)\n",
        "\n",
        "  return X_chars"
      ],
      "metadata": {
        "id": "cAxOgd3o_Qev"
      },
      "execution_count": 35,
      "outputs": []
    },
    {
      "cell_type": "code",
      "source": [
        "X_train_char = conll_data['train']['tokens']\n",
        "X_train_char = char_preprocessing(X_train_char)"
      ],
      "metadata": {
        "id": "xBniP-LcEiPy"
      },
      "execution_count": 36,
      "outputs": []
    },
    {
      "cell_type": "code",
      "source": [
        "X_train_char.shape"
      ],
      "metadata": {
        "id": "Ybl8gS3IFAeX",
        "outputId": "c9b12456-c029-4a70-d678-06c013ea54b9",
        "colab": {
          "base_uri": "https://localhost:8080/"
        }
      },
      "execution_count": 39,
      "outputs": [
        {
          "output_type": "execute_result",
          "data": {
            "text/plain": [
              "(14041, 30, 20)"
            ]
          },
          "metadata": {},
          "execution_count": 39
        }
      ]
    },
    {
      "cell_type": "markdown",
      "source": [
        "## Word preprocessing"
      ],
      "metadata": {
        "id": "kQ4au8k9_Qoh"
      }
    },
    {
      "cell_type": "code",
      "source": [],
      "metadata": {
        "id": "r6Uz_LNHExdc"
      },
      "execution_count": null,
      "outputs": []
    },
    {
      "cell_type": "code",
      "source": [
        "# X_train_word = conll_data['train']['tokens']\n",
        "X_train_word = np.array([ \" \".join(row) for row in conll_data['train']['tokens']])\n",
        "# X_train_word"
      ],
      "metadata": {
        "id": "koLZZUqEpuuW"
      },
      "execution_count": 8,
      "outputs": []
    },
    {
      "cell_type": "markdown",
      "source": [
        "## Targer preprocessing"
      ],
      "metadata": {
        "id": "0RCk62pk5XNF"
      }
    },
    {
      "cell_type": "code",
      "source": [
        "label2id = {'O': 0, 'B-PER': 1, 'I-PER': 2, 'B-ORG': 3, 'I-ORG': 4, 'B-LOC': 5, 'I-LOC': 6, 'B-MISC': 7, 'I-MISC': 8}\n",
        "id2label = {v: k for k, v in label2id.items()}\n"
      ],
      "metadata": {
        "id": "Tj3bYTnK5cmF"
      },
      "execution_count": 9,
      "outputs": []
    },
    {
      "cell_type": "code",
      "source": [
        "y_train = pad_sequences(conll_data['train']['ner_tags'],\n",
        "                        dtype='int32',\n",
        "                        maxlen=max_sentence_length,\n",
        "                        padding='post',\n",
        "                        truncating='post',\n",
        "                        value=0,)"
      ],
      "metadata": {
        "id": "z1-uPMmlHqP3"
      },
      "execution_count": 10,
      "outputs": []
    },
    {
      "cell_type": "code",
      "source": [
        "def encoding_ytrain(y_train):\n",
        "  n=len(label2id)\n",
        "  nrow=len(y_train)\n",
        "  encoded = np.zeros(shape=(nrow,max_sentence_length,n))\n",
        "  for iy, y in enumerate(y_train):\n",
        "    senvec = np.zeros(shape=(max_sentence_length,n))\n",
        "    for ichar, char in enumerate(y):\n",
        "      charvec = np.zeros(n)\n",
        "      charvec[char] = 1\n",
        "      # print(f\"{char=}\")\n",
        "      # print(f\"{charvec=}\")\n",
        "      senvec[ichar]=charvec\n",
        "\n",
        "    encoded[iy] = senvec\n",
        "  return encoded\n",
        "\n",
        "y_train = encoding_ytrain(y_train)\n"
      ],
      "metadata": {
        "id": "RS_SAOoHvOlO"
      },
      "execution_count": 11,
      "outputs": []
    },
    {
      "cell_type": "code",
      "source": [],
      "metadata": {
        "id": "1f_tX1VJr8pH"
      },
      "execution_count": 11,
      "outputs": []
    },
    {
      "cell_type": "markdown",
      "source": [
        "# Model"
      ],
      "metadata": {
        "id": "d0235Xcz4fcZ"
      }
    },
    {
      "cell_type": "code",
      "source": [
        "from keras.layers import TextVectorization"
      ],
      "metadata": {
        "id": "fD4Ep_Vzigl2"
      },
      "execution_count": 12,
      "outputs": []
    },
    {
      "cell_type": "code",
      "source": [
        "text_vectorizer = TextVectorization(max_tokens=max_word_tokens,   # how many word in the vocab lib\n",
        "                                    standardize='lower_and_strip_punctuation', # process the tab\n",
        "                                    split='whitespace', # split the token\n",
        "                                    ngrams=None,\n",
        "                                    output_mode='int', # map token to number\n",
        "                                    output_sequence_length=max_sentence_length,\n",
        "                                    pad_to_max_tokens=False,\n",
        "                                    vocabulary=None,)\n",
        "text_vectorizer.adapt(np.array([ \" \".join(row) for row in conll_data['train']['tokens']]))"
      ],
      "metadata": {
        "id": "zhWd1_g8Cx4I"
      },
      "execution_count": 14,
      "outputs": []
    },
    {
      "cell_type": "code",
      "source": [
        "# Word level\n",
        "word_input = Input(shape=(1,),dtype=tf.string,name='word_input')\n",
        "# Tokenize\n",
        "\n",
        "words_vectorize = text_vectorizer(word_input)\n",
        "\n",
        "# Embedding\n",
        "embedding = Embedding(input_dim=max_word_tokens,\n",
        "                      output_dim=128,\n",
        "                      embeddings_initializer=\"uniform\",\n",
        "                      input_length=None)\n",
        "words = embedding(words_vectorize)\n"
      ],
      "metadata": {
        "id": "HQQ5xyyOoIcP"
      },
      "execution_count": 15,
      "outputs": []
    },
    {
      "cell_type": "code",
      "source": [
        "words"
      ],
      "metadata": {
        "colab": {
          "base_uri": "https://localhost:8080/"
        },
        "id": "NIWASngzFq1a",
        "outputId": "ed2783a4-1301-4245-b862-aad9b1628184"
      },
      "execution_count": 16,
      "outputs": [
        {
          "output_type": "execute_result",
          "data": {
            "text/plain": [
              "<KerasTensor: shape=(None, 30, 128) dtype=float32 (created by layer 'embedding')>"
            ]
          },
          "metadata": {},
          "execution_count": 16
        }
      ]
    },
    {
      "cell_type": "code",
      "source": [],
      "metadata": {
        "id": "VNNeD2c2FsyQ"
      },
      "execution_count": 16,
      "outputs": []
    },
    {
      "cell_type": "code",
      "source": [
        "# Character level\n",
        "character_input=Input(shape=(None,max_word_len,),\n",
        "                      name='char_input',\n",
        "                      dtype=tf.int32)\n",
        "embed_char_out=TimeDistributed(Embedding(input_dim = len(char2Idx),\n",
        "                                         output_dim=10,\n",
        "                                         embeddings_initializer=RandomUniform(minval=-0.5, maxval=0.5),\n",
        "                                         input_length=max_sentence_length,),\n",
        "                                         name='char_embedding')(character_input)\n",
        "dropout = Dropout(0.5)(embed_char_out)\n",
        "conv1d_out= TimeDistributed(Conv1D(kernel_size=3,\n",
        "                                   filters=10,\n",
        "                                   padding='same',activation='tanh', strides=1))(dropout)\n",
        "maxpool_out=TimeDistributed(MaxPooling1D(max_word_len))(conv1d_out)\n",
        "char = TimeDistributed(Flatten())(maxpool_out)\n",
        "char = Dropout(0.5)(char)"
      ],
      "metadata": {
        "id": "tyRcA1GgCZD7"
      },
      "execution_count": 17,
      "outputs": []
    },
    {
      "cell_type": "code",
      "source": [
        "print(character_input.shape)\n",
        "print(embed_char_out.shape)\n",
        "print(dropout.shape)\n",
        "print(conv1d_out.shape)\n",
        "print(maxpool_out.shape)\n",
        "print(char.shape)"
      ],
      "metadata": {
        "colab": {
          "base_uri": "https://localhost:8080/"
        },
        "id": "iOBLEbzQHhIK",
        "outputId": "0766c57a-f52d-44b0-bb43-72e76c3ebba1"
      },
      "execution_count": 18,
      "outputs": [
        {
          "output_type": "stream",
          "name": "stdout",
          "text": [
            "(None, None, 20)\n",
            "(None, None, 20, 10)\n",
            "(None, None, 20, 10)\n",
            "(None, None, 20, 10)\n",
            "(None, None, 1, 10)\n",
            "(None, None, 10)\n"
          ]
        }
      ]
    },
    {
      "cell_type": "code",
      "source": [
        "\n",
        "combined = concatenate([words, char])\n",
        "# combined = words\n",
        "# Bi-LSTM\n",
        "output = Bidirectional(LSTM(200, return_sequences=True, dropout=0.50, recurrent_dropout=0.25))(combined)\n",
        "\n",
        "# # Output -> Tag Scoring -> Tag\n",
        "output = TimeDistributed(Dense(len(label2id), activation='softmax'))(output)\n",
        "model = Model(inputs=[word_input, character_input], outputs=[output])\n"
      ],
      "metadata": {
        "id": "ADNF46AJCc2W"
      },
      "execution_count": 19,
      "outputs": []
    },
    {
      "cell_type": "code",
      "source": [
        "model.compile(loss=\"binary_crossentropy\",\n",
        "              optimizer=Adam(),\n",
        "              metrics=[\"accuracy\"])"
      ],
      "metadata": {
        "id": "sEyUbsyIqdUR"
      },
      "execution_count": 20,
      "outputs": []
    },
    {
      "cell_type": "code",
      "source": [
        "model.summary()"
      ],
      "metadata": {
        "id": "dAbBlYVmrJHr",
        "outputId": "f8d4b4f1-8ede-4ee3-8a4d-a9c49818c83d",
        "colab": {
          "base_uri": "https://localhost:8080/"
        }
      },
      "execution_count": 21,
      "outputs": [
        {
          "output_type": "stream",
          "name": "stdout",
          "text": [
            "Model: \"model\"\n",
            "__________________________________________________________________________________________________\n",
            " Layer (type)                Output Shape                 Param #   Connected to                  \n",
            "==================================================================================================\n",
            " char_input (InputLayer)     [(None, None, 20)]           0         []                            \n",
            "                                                                                                  \n",
            " char_embedding (TimeDistri  (None, None, 20, 10)         950       ['char_input[0][0]']          \n",
            " buted)                                                                                           \n",
            "                                                                                                  \n",
            " dropout (Dropout)           (None, None, 20, 10)         0         ['char_embedding[0][0]']      \n",
            "                                                                                                  \n",
            " time_distributed (TimeDist  (None, None, 20, 10)         310       ['dropout[0][0]']             \n",
            " ributed)                                                                                         \n",
            "                                                                                                  \n",
            " word_input (InputLayer)     [(None, 1)]                  0         []                            \n",
            "                                                                                                  \n",
            " time_distributed_1 (TimeDi  (None, None, 1, 10)          0         ['time_distributed[0][0]']    \n",
            " stributed)                                                                                       \n",
            "                                                                                                  \n",
            " text_vectorization (TextVe  (None, 30)                   0         ['word_input[0][0]']          \n",
            " ctorization)                                                                                     \n",
            "                                                                                                  \n",
            " time_distributed_2 (TimeDi  (None, None, 10)             0         ['time_distributed_1[0][0]']  \n",
            " stributed)                                                                                       \n",
            "                                                                                                  \n",
            " embedding (Embedding)       (None, 30, 128)              3072000   ['text_vectorization[0][0]']  \n",
            "                                                                                                  \n",
            " dropout_1 (Dropout)         (None, None, 10)             0         ['time_distributed_2[0][0]']  \n",
            "                                                                                                  \n",
            " concatenate (Concatenate)   (None, 30, 138)              0         ['embedding[0][0]',           \n",
            "                                                                     'dropout_1[0][0]']           \n",
            "                                                                                                  \n",
            " bidirectional (Bidirection  (None, 30, 400)              542400    ['concatenate[0][0]']         \n",
            " al)                                                                                              \n",
            "                                                                                                  \n",
            " time_distributed_3 (TimeDi  (None, 30, 9)                3609      ['bidirectional[0][0]']       \n",
            " stributed)                                                                                       \n",
            "                                                                                                  \n",
            "==================================================================================================\n",
            "Total params: 3619269 (13.81 MB)\n",
            "Trainable params: 3619269 (13.81 MB)\n",
            "Non-trainable params: 0 (0.00 Byte)\n",
            "__________________________________________________________________________________________________\n"
          ]
        }
      ]
    },
    {
      "cell_type": "code",
      "source": [
        "model.fit([X_train_word[:1000],X_train_char[:1000]],\n",
        "          y_train[:1000],\n",
        "          epochs=2,\n",
        "          validation_data=([X_train_word[1000:1100],X_train_char[1000:1100]], y_train[1000:1100]))"
      ],
      "metadata": {
        "id": "iaXHRDfQHOi0",
        "colab": {
          "base_uri": "https://localhost:8080/"
        },
        "outputId": "202e5a3b-02f3-4d0e-9fe0-5cb48ac526e0"
      },
      "execution_count": 22,
      "outputs": [
        {
          "output_type": "stream",
          "name": "stdout",
          "text": [
            "Epoch 1/2\n",
            "32/32 [==============================] - 38s 702ms/step - loss: 0.1078 - accuracy: 0.8810 - val_loss: 0.0678 - val_accuracy: 0.9443\n",
            "Epoch 2/2\n",
            "32/32 [==============================] - 23s 707ms/step - loss: 0.0708 - accuracy: 0.9083 - val_loss: 0.0611 - val_accuracy: 0.9443\n"
          ]
        },
        {
          "output_type": "execute_result",
          "data": {
            "text/plain": [
              "<keras.src.callbacks.History at 0x7d4990543d30>"
            ]
          },
          "metadata": {},
          "execution_count": 22
        }
      ]
    },
    {
      "cell_type": "markdown",
      "source": [
        "# Predictions"
      ],
      "metadata": {
        "id": "NmowfD8zHPh6"
      }
    },
    {
      "cell_type": "code",
      "source": [
        "X_train_word[0:2].shape"
      ],
      "metadata": {
        "id": "q6IkBWv5FvwT",
        "outputId": "1fc73252-fcf1-442f-a6f0-d20b500832b2",
        "colab": {
          "base_uri": "https://localhost:8080/"
        }
      },
      "execution_count": 60,
      "outputs": [
        {
          "output_type": "execute_result",
          "data": {
            "text/plain": [
              "(2,)"
            ]
          },
          "metadata": {},
          "execution_count": 60
        }
      ]
    },
    {
      "cell_type": "code",
      "source": [
        "def make_prediction(input_string):\n",
        "  X_words = np.asarray([input_string])\n",
        "  X_chars = [input_string.split()]\n",
        "  X_chars = char_preprocessing(X_chars)\n",
        "  predictions = model.predict([X_words,X_chars])\n",
        "\n",
        "\n",
        "  predictions = np.argmax()\n",
        "\n",
        "  return predictions"
      ],
      "metadata": {
        "id": "JGFfbP-_HPy8"
      },
      "execution_count": 67,
      "outputs": []
    },
    {
      "cell_type": "code",
      "source": [
        "predictions = make_prediction(\"I go to Newyork University by bus tomorrow with Jane !\")"
      ],
      "metadata": {
        "id": "YYUZwW6_HP-e",
        "outputId": "a682fb34-80ee-4e14-e228-6494b59685c9",
        "colab": {
          "base_uri": "https://localhost:8080/"
        }
      },
      "execution_count": 69,
      "outputs": [
        {
          "output_type": "stream",
          "name": "stdout",
          "text": [
            "X_words=array(['I go to Newyork University by bus tomorrow with Jane !'],\n",
            "      dtype='<U54')\n",
            "(1,)\n",
            "1/1 [==============================] - 0s 81ms/step\n"
          ]
        }
      ]
    },
    {
      "cell_type": "code",
      "source": [
        "np.squeeze(predictions)"
      ],
      "metadata": {
        "id": "b3_KuGh0FJyV",
        "outputId": "94a1697d-333b-485f-c768-00fb1f938eb6",
        "colab": {
          "base_uri": "https://localhost:8080/"
        }
      },
      "execution_count": 74,
      "outputs": [
        {
          "output_type": "execute_result",
          "data": {
            "text/plain": [
              "array([[4.99420255e-01, 1.07654929e-01, 8.99580792e-02, 7.00183511e-02,\n",
              "        3.01276352e-02, 1.19042061e-01, 2.35960502e-02, 3.57021615e-02,\n",
              "        2.44805217e-02],\n",
              "       [5.64083457e-01, 9.64860022e-02, 7.90900365e-02, 5.95216677e-02,\n",
              "        2.67935023e-02, 1.03119478e-01, 1.97756588e-02, 3.03929765e-02,\n",
              "        2.07372662e-02],\n",
              "       [6.20477378e-01, 8.49094242e-02, 6.85721859e-02, 5.09579256e-02,\n",
              "        2.35803016e-02, 9.13395733e-02, 1.64031610e-02, 2.60652509e-02,\n",
              "        1.76947284e-02],\n",
              "       [6.62624478e-01, 7.58566409e-02, 6.13858066e-02, 4.42904420e-02,\n",
              "        2.10682601e-02, 8.24737772e-02, 1.40722850e-02, 2.30091978e-02,\n",
              "        1.52191790e-02],\n",
              "       [6.85760200e-01, 7.09251463e-02, 5.77574559e-02, 4.01702970e-02,\n",
              "        1.97679494e-02, 7.80261979e-02, 1.25833303e-02, 2.12454051e-02,\n",
              "        1.37639800e-02],\n",
              "       [6.74552619e-01, 7.21246973e-02, 6.13345727e-02, 4.10474613e-02,\n",
              "        2.06942502e-02, 8.20617676e-02, 1.26036322e-02, 2.17717309e-02,\n",
              "        1.38092311e-02],\n",
              "       [7.01922953e-01, 6.64083362e-02, 5.79160601e-02, 3.68685424e-02,\n",
              "        1.84660219e-02, 7.52856061e-02, 1.11643225e-02, 1.98814720e-02,\n",
              "        1.20867342e-02],\n",
              "       [7.10081816e-01, 6.41057640e-02, 5.65741472e-02, 3.57459113e-02,\n",
              "        1.77821461e-02, 7.47919306e-02, 1.05878441e-02, 1.88629832e-02,\n",
              "        1.14674969e-02],\n",
              "       [7.40806937e-01, 5.75334430e-02, 5.16131409e-02, 3.11966389e-02,\n",
              "        1.54445637e-02, 6.72372282e-02, 9.17866174e-03, 1.70078781e-02,\n",
              "        9.98156518e-03],\n",
              "       [7.41046011e-01, 5.72961941e-02, 5.21041416e-02, 3.10472474e-02,\n",
              "        1.48965856e-02, 6.73649386e-02, 9.11444332e-03, 1.72050688e-02,\n",
              "        9.92522202e-03],\n",
              "       [8.60373735e-01, 3.29489633e-02, 2.76126191e-02, 1.64118856e-02,\n",
              "        7.99366366e-03, 3.53639983e-02, 4.73778555e-03, 9.38885380e-03,\n",
              "        5.16854506e-03],\n",
              "       [9.00953114e-01, 2.34618746e-02, 1.95642486e-02, 1.15764504e-02,\n",
              "        5.86130004e-03, 2.46132053e-02, 3.40589741e-03, 6.85210573e-03,\n",
              "        3.71169252e-03],\n",
              "       [9.33100700e-01, 1.58800334e-02, 1.30869551e-02, 7.80689390e-03,\n",
              "        4.07753466e-03, 1.65455677e-02, 2.31277547e-03, 4.70151240e-03,\n",
              "        2.48803338e-03],\n",
              "       [9.54731047e-01, 1.07289869e-02, 8.75763688e-03, 5.27596287e-03,\n",
              "        2.84489314e-03, 1.11898659e-02, 1.56870147e-03, 3.22618848e-03,\n",
              "        1.67673279e-03],\n",
              "       [9.69001293e-01, 7.31747504e-03, 5.91485342e-03, 3.61391227e-03,\n",
              "        2.01221742e-03, 7.67278066e-03, 1.07698631e-03, 2.24056351e-03,\n",
              "        1.14999234e-03],\n",
              "       [9.78350759e-01, 5.08152787e-03, 4.06157738e-03, 2.52955290e-03,\n",
              "        1.45484740e-03, 5.36661036e-03, 7.55877118e-04, 1.58924027e-03,\n",
              "        8.09929916e-04],\n",
              "       [9.84485567e-01, 3.61666339e-03, 2.85304920e-03, 1.81991712e-03,\n",
              "        1.08203338e-03, 3.84729402e-03, 5.46399155e-04, 1.15941069e-03,\n",
              "        5.89605072e-04],\n",
              "       [9.88536894e-01, 2.65122904e-03, 2.06075143e-03, 1.35169283e-03,\n",
              "        8.31868441e-04, 2.83776131e-03, 4.09181055e-04, 8.74770456e-04,\n",
              "        4.45789890e-04],\n",
              "       [9.91235971e-01, 2.00870703e-03, 1.53681042e-03, 1.03963341e-03,\n",
              "        6.63488812e-04, 2.15969980e-03, 3.18887614e-04, 6.85485022e-04,\n",
              "        3.51293973e-04],\n",
              "       [9.93049443e-01, 1.57621282e-03, 1.18675758e-03, 8.29781173e-04,\n",
              "        5.50416822e-04, 1.69900036e-03, 2.59516411e-04, 5.59594540e-04,\n",
              "        2.89217307e-04],\n",
              "       [9.94273841e-01, 1.28201616e-03, 9.50576621e-04, 6.88045344e-04,\n",
              "        4.75732057e-04, 1.38266745e-03, 2.21075548e-04, 4.76823974e-04,\n",
              "        2.49141216e-04],\n",
              "       [9.95096028e-01, 1.08077901e-03, 7.90337101e-04, 5.92989498e-04,\n",
              "        4.28933214e-04, 1.16412865e-03, 1.97469373e-04, 4.24547732e-04,\n",
              "        2.24791118e-04],\n",
              "       [9.95630920e-01, 9.44178784e-04, 6.82291749e-04, 5.31381229e-04,\n",
              "        4.04023653e-04, 1.01398968e-03, 1.85219382e-04, 3.95271432e-04,\n",
              "        2.12670406e-04],\n",
              "       [9.95944917e-01, 8.55217862e-04, 6.12014672e-04, 4.95596672e-04,\n",
              "        3.98559205e-04, 9.14428616e-04, 1.82790696e-04, 3.85208434e-04,\n",
              "        2.11377061e-04],\n",
              "       [9.96066034e-01, 8.05010321e-04, 5.71570534e-04, 4.82272531e-04,\n",
              "        4.13538975e-04, 8.55999184e-04, 1.90387262e-04, 3.93669499e-04,\n",
              "        2.21452501e-04],\n",
              "       [9.95988905e-01, 7.91380880e-04, 5.58121537e-04, 4.91959392e-04,\n",
              "        4.54283465e-04, 8.36237625e-04, 2.10221973e-04, 4.23188059e-04,\n",
              "        2.45801581e-04],\n",
              "       [9.95666027e-01, 8.19014793e-04, 5.73709200e-04, 5.29759796e-04,\n",
              "        5.32768783e-04, 8.59874825e-04, 2.47381191e-04, 4.80429822e-04,\n",
              "        2.90886179e-04],\n",
              "       [9.94992554e-01, 9.01413499e-04, 6.26280496e-04, 6.07329130e-04,\n",
              "        6.72414957e-04, 9.41110076e-04, 3.11558339e-04, 5.78112667e-04,\n",
              "        3.69190762e-04],\n",
              "       [9.93769228e-01, 1.06505048e-03, 7.32199522e-04, 7.46855221e-04,\n",
              "        9.16467456e-04, 1.10889669e-03, 4.19826945e-04, 7.37955968e-04,\n",
              "        5.03580028e-04],\n",
              "       [9.91655231e-01, 1.35531428e-03, 9.20278195e-04, 9.87522071e-04,\n",
              "        1.33880787e-03, 1.41634047e-03, 5.99553052e-04, 9.93524212e-04,\n",
              "        7.33354012e-04]], dtype=float32)"
            ]
          },
          "metadata": {},
          "execution_count": 74
        }
      ]
    },
    {
      "cell_type": "markdown",
      "source": [
        "# References"
      ],
      "metadata": {
        "id": "EvJmuiIiHQJy"
      }
    },
    {
      "cell_type": "markdown",
      "source": [
        "https://keras.io/examples/nlp/ner_transformers/"
      ],
      "metadata": {
        "id": "by174qhpHT_2"
      }
    },
    {
      "cell_type": "markdown",
      "source": [],
      "metadata": {
        "id": "urASKXuLHZSz"
      }
    }
  ]
}