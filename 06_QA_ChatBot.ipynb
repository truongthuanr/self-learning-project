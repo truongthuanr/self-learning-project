{
  "nbformat": 4,
  "nbformat_minor": 0,
  "metadata": {
    "colab": {
      "name": "06_QA_ChatBot.ipynb",
      "provenance": [],
      "mount_file_id": "https://github.com/truongthuanr/self-project/blob/main/06_QA_ChatBot.ipynb",
      "authorship_tag": "ABX9TyPQ0Pxh/PPZ8cwtr0TIdJT0",
      "include_colab_link": true
    },
    "kernelspec": {
      "name": "python3",
      "display_name": "Python 3"
    },
    "language_info": {
      "name": "python"
    }
  },
  "cells": [
    {
      "cell_type": "markdown",
      "metadata": {
        "id": "view-in-github",
        "colab_type": "text"
      },
      "source": [
        "<a href=\"https://colab.research.google.com/github/truongthuanr/self-project/blob/main/06_QA_ChatBot.ipynb\" target=\"_parent\"><img src=\"https://colab.research.google.com/assets/colab-badge.svg\" alt=\"Open In Colab\"/></a>"
      ]
    },
    {
      "cell_type": "markdown",
      "metadata": {
        "id": "hmqEJ03IWNW6"
      },
      "source": [
        "# Information"
      ]
    },
    {
      "cell_type": "markdown",
      "metadata": {
        "id": "26q629jLUKIr"
      },
      "source": [
        "Reference: \n",
        "* [End-To-End Memory Networks](https://arxiv.org/pdf/1503.08895.pdf)"
      ]
    },
    {
      "cell_type": "markdown",
      "metadata": {
        "id": "z1Ie4ox6WO1C"
      },
      "source": [
        "# import data"
      ]
    },
    {
      "cell_type": "code",
      "metadata": {
        "id": "MbZ3fB8Eze0q"
      },
      "source": [
        "import numpy as np\n",
        "import pickle"
      ],
      "execution_count": 4,
      "outputs": []
    },
    {
      "cell_type": "code",
      "metadata": {
        "id": "vvLzr8HZy1oO"
      },
      "source": [
        "with open(\"/content/drive/MyDrive/01_Personal/01_Study/01_ML/04_QAChatBot/train_qa.txt\", \"rb\") as f:\n",
        "  train_data = pickle.load(f)\n",
        "\n",
        "with open(\"/content/drive/MyDrive/01_Personal/01_Study/01_ML/04_QAChatBot/test_qa.txt\", \"rb\") as f:\n",
        "  test_data = pickle.load(f)"
      ],
      "execution_count": 23,
      "outputs": []
    },
    {
      "cell_type": "code",
      "metadata": {
        "id": "HGdecLspH5Dg",
        "outputId": "02b41720-95c5-48a4-f2ca-f6f7a888614c",
        "colab": {
          "base_uri": "https://localhost:8080/"
        }
      },
      "source": [
        "print(train_data[506][0])\n",
        "print(train_data[506][1])\n",
        "print(train_data[506][2])\n"
      ],
      "execution_count": 37,
      "outputs": [
        {
          "output_type": "stream",
          "name": "stdout",
          "text": [
            "['Daniel', 'took', 'the', 'milk', 'there', '.', 'Sandra', 'journeyed', 'to', 'the', 'bedroom', '.', 'Daniel', 'discarded', 'the', 'milk', '.', 'Mary', 'went', 'to', 'the', 'bathroom', '.']\n",
            "['Is', 'Mary', 'in', 'the', 'bathroom', '?']\n",
            "yes\n"
          ]
        }
      ]
    },
    {
      "cell_type": "code",
      "metadata": {
        "id": "_MtCkceaGfSl"
      },
      "source": [
        "all_data = train_data + test_data"
      ],
      "execution_count": 25,
      "outputs": []
    },
    {
      "cell_type": "code",
      "metadata": {
        "colab": {
          "base_uri": "https://localhost:8080/"
        },
        "id": "KF42gtM0zbNb",
        "outputId": "d11e02db-346a-4160-cc40-df4f1fdcf8d2"
      },
      "source": [
        "len(train_data), len(test_data), len(all_data)"
      ],
      "execution_count": 26,
      "outputs": [
        {
          "output_type": "execute_result",
          "data": {
            "text/plain": [
              "(10000, 1000, 11000)"
            ]
          },
          "metadata": {},
          "execution_count": 26
        }
      ]
    },
    {
      "cell_type": "code",
      "metadata": {
        "id": "eyZ8yMJdFvIr"
      },
      "source": [
        "vocab = set()\n",
        "\n",
        "for story, question, answer in all_data:\n",
        "  vocab = vocab.union(set(story))\n",
        "  vocab = vocab.union(set(question))"
      ],
      "execution_count": 28,
      "outputs": []
    },
    {
      "cell_type": "code",
      "metadata": {
        "id": "F0G5eNaXHb9S"
      },
      "source": [
        "vocab.add('no')\n",
        "vocab.add('yes')"
      ],
      "execution_count": 29,
      "outputs": []
    },
    {
      "cell_type": "code",
      "metadata": {
        "id": "8RZVspeHHnnJ",
        "outputId": "f25cf035-f658-4c40-fc8c-d40717549c65",
        "colab": {
          "base_uri": "https://localhost:8080/"
        }
      },
      "source": [
        "len(vocab)"
      ],
      "execution_count": 31,
      "outputs": [
        {
          "output_type": "execute_result",
          "data": {
            "text/plain": [
              "37"
            ]
          },
          "metadata": {},
          "execution_count": 31
        }
      ]
    },
    {
      "cell_type": "code",
      "metadata": {
        "id": "OH8_3aSYLPck",
        "outputId": "fd398c45-a3f9-42bb-ba79-d7f52c3ba1c9",
        "colab": {
          "base_uri": "https://localhost:8080/"
        }
      },
      "source": [
        "vocab"
      ],
      "execution_count": 59,
      "outputs": [
        {
          "output_type": "execute_result",
          "data": {
            "text/plain": [
              "{'.',\n",
              " '?',\n",
              " 'Daniel',\n",
              " 'Is',\n",
              " 'John',\n",
              " 'Mary',\n",
              " 'Sandra',\n",
              " 'apple',\n",
              " 'back',\n",
              " 'bathroom',\n",
              " 'bedroom',\n",
              " 'discarded',\n",
              " 'down',\n",
              " 'dropped',\n",
              " 'football',\n",
              " 'garden',\n",
              " 'got',\n",
              " 'grabbed',\n",
              " 'hallway',\n",
              " 'in',\n",
              " 'journeyed',\n",
              " 'kitchen',\n",
              " 'left',\n",
              " 'milk',\n",
              " 'moved',\n",
              " 'no',\n",
              " 'office',\n",
              " 'picked',\n",
              " 'put',\n",
              " 'the',\n",
              " 'there',\n",
              " 'to',\n",
              " 'took',\n",
              " 'travelled',\n",
              " 'up',\n",
              " 'went',\n",
              " 'yes'}"
            ]
          },
          "metadata": {},
          "execution_count": 59
        }
      ]
    },
    {
      "cell_type": "code",
      "metadata": {
        "id": "UWxdyf9UHo0C",
        "outputId": "fc2bd05f-7d59-4294-fe3a-d11ec8e9dc1e",
        "colab": {
          "base_uri": "https://localhost:8080/"
        }
      },
      "source": [
        "all_story_lens = [len(data[0]) for data in all_data]\n",
        "max_story_len = max(all_story_lens)\n",
        "max_story_len"
      ],
      "execution_count": 39,
      "outputs": [
        {
          "output_type": "execute_result",
          "data": {
            "text/plain": [
              "156"
            ]
          },
          "metadata": {},
          "execution_count": 39
        }
      ]
    },
    {
      "cell_type": "code",
      "metadata": {
        "id": "9AWrOI-iIzhp",
        "outputId": "32d52cbc-f6f1-4d9b-de52-2071e6934cae",
        "colab": {
          "base_uri": "https://localhost:8080/"
        }
      },
      "source": [
        "all_ques_lens = [len(data[1]) for data in all_data]\n",
        "max_ques_len = max(all_ques_lens)\n",
        "max_ques_len"
      ],
      "execution_count": 40,
      "outputs": [
        {
          "output_type": "execute_result",
          "data": {
            "text/plain": [
              "6"
            ]
          },
          "metadata": {},
          "execution_count": 40
        }
      ]
    },
    {
      "cell_type": "markdown",
      "metadata": {
        "id": "g4qAJZ3NJDm_"
      },
      "source": [
        "# Vetorize data"
      ]
    },
    {
      "cell_type": "code",
      "metadata": {
        "id": "5ikI4FAtJIPr"
      },
      "source": [
        "from keras.preprocessing.sequence import pad_sequences\n",
        "from keras.preprocessing.text import Tokenizer"
      ],
      "execution_count": 41,
      "outputs": []
    },
    {
      "cell_type": "code",
      "metadata": {
        "id": "bI3DQuvKJg6M"
      },
      "source": [
        "tokenizer = Tokenizer(filters=[])\n",
        "tokenizer.fit_on_texts(vocab)"
      ],
      "execution_count": 42,
      "outputs": []
    },
    {
      "cell_type": "code",
      "metadata": {
        "id": "RlsSrdl7JpGV",
        "outputId": "35496ea6-55bb-4216-9fc3-38546fd00ffb",
        "colab": {
          "base_uri": "https://localhost:8080/"
        }
      },
      "source": [
        "tokenizer.word_index"
      ],
      "execution_count": 62,
      "outputs": [
        {
          "output_type": "execute_result",
          "data": {
            "text/plain": [
              "{'.': 8,\n",
              " '?': 10,\n",
              " 'apple': 3,\n",
              " 'back': 24,\n",
              " 'bathroom': 34,\n",
              " 'bedroom': 16,\n",
              " 'daniel': 22,\n",
              " 'discarded': 18,\n",
              " 'down': 5,\n",
              " 'dropped': 17,\n",
              " 'football': 14,\n",
              " 'garden': 9,\n",
              " 'got': 19,\n",
              " 'grabbed': 13,\n",
              " 'hallway': 35,\n",
              " 'in': 26,\n",
              " 'is': 20,\n",
              " 'john': 12,\n",
              " 'journeyed': 21,\n",
              " 'kitchen': 2,\n",
              " 'left': 29,\n",
              " 'mary': 33,\n",
              " 'milk': 7,\n",
              " 'moved': 25,\n",
              " 'no': 31,\n",
              " 'office': 23,\n",
              " 'picked': 32,\n",
              " 'put': 15,\n",
              " 'sandra': 4,\n",
              " 'the': 1,\n",
              " 'there': 27,\n",
              " 'to': 30,\n",
              " 'took': 11,\n",
              " 'travelled': 6,\n",
              " 'up': 28,\n",
              " 'went': 36,\n",
              " 'yes': 37}"
            ]
          },
          "metadata": {},
          "execution_count": 62
        }
      ]
    },
    {
      "cell_type": "code",
      "metadata": {
        "id": "t858S3jpKAin"
      },
      "source": [
        "train_story_text = []\n",
        "train_ques_text = []\n",
        "train_ans_text = []"
      ],
      "execution_count": 49,
      "outputs": []
    },
    {
      "cell_type": "code",
      "metadata": {
        "id": "X1vF5Wd6KHul"
      },
      "source": [
        "for story,ques,ans in train_data:\n",
        "  train_story_text.append(story)\n",
        "  train_ques_text.append(ques)\n",
        "  train_ans_text.append(ans)"
      ],
      "execution_count": 50,
      "outputs": []
    },
    {
      "cell_type": "code",
      "metadata": {
        "id": "xhgKoQ9xKzCq",
        "outputId": "aa087eda-b2f9-4fc7-a68b-21044950f784",
        "colab": {
          "base_uri": "https://localhost:8080/"
        }
      },
      "source": [
        "train_story_text[0]"
      ],
      "execution_count": 56,
      "outputs": [
        {
          "output_type": "execute_result",
          "data": {
            "text/plain": [
              "['Mary',\n",
              " 'moved',\n",
              " 'to',\n",
              " 'the',\n",
              " 'bathroom',\n",
              " '.',\n",
              " 'Sandra',\n",
              " 'journeyed',\n",
              " 'to',\n",
              " 'the',\n",
              " 'bedroom',\n",
              " '.']"
            ]
          },
          "metadata": {},
          "execution_count": 56
        }
      ]
    },
    {
      "cell_type": "code",
      "metadata": {
        "id": "q3_Kk60JKX85"
      },
      "source": [
        "train_story_seq = tokenizer.texts_to_sequences(train_story_text)"
      ],
      "execution_count": 51,
      "outputs": []
    },
    {
      "cell_type": "code",
      "metadata": {
        "id": "wxGBRD0NK-pd",
        "outputId": "fce00d34-56e6-4598-e0dc-9cfa483c8d24",
        "colab": {
          "base_uri": "https://localhost:8080/"
        }
      },
      "source": [
        "len(train_story_seq)"
      ],
      "execution_count": 58,
      "outputs": [
        {
          "output_type": "execute_result",
          "data": {
            "text/plain": [
              "10000"
            ]
          },
          "metadata": {},
          "execution_count": 58
        }
      ]
    },
    {
      "cell_type": "code",
      "metadata": {
        "id": "JJe53E24KwnL",
        "outputId": "cbc0d50f-2d90-416d-b604-c47b57c8b3ee",
        "colab": {
          "base_uri": "https://localhost:8080/"
        }
      },
      "source": [
        "train_story_seq[0]"
      ],
      "execution_count": 57,
      "outputs": [
        {
          "output_type": "execute_result",
          "data": {
            "text/plain": [
              "[33, 25, 30, 1, 34, 8, 4, 21, 30, 1, 16, 8]"
            ]
          },
          "metadata": {},
          "execution_count": 57
        }
      ]
    },
    {
      "cell_type": "code",
      "metadata": {
        "id": "4gW4dCkMKylP"
      },
      "source": [
        ""
      ],
      "execution_count": null,
      "outputs": []
    }
  ]
}