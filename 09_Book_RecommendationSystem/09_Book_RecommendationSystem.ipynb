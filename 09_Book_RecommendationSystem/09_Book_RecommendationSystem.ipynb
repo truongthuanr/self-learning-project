{
 "cells": [
  {
   "cell_type": "markdown",
   "id": "66b3423f",
   "metadata": {},
   "source": [
    "# Information\n",
    "\n",
    "**This notebook is about creating a simple book recommendation system.**\n",
    "\n",
    "Dataset: https://www.kaggle.com/datasets/ruchi798/bookcrossing-dataset"
   ]
  },
  {
   "cell_type": "markdown",
   "id": "39b2466a",
   "metadata": {},
   "source": [
    "**Content**\n",
    "\n",
    "1. Data\n",
    "2. Preprocess data\n",
    "3. Exploratory Data Analysis\n",
    "4. Content based Recommendation\n",
    "5. Collaborative Filtering\n",
    "6. Hybrid Recommenders"
   ]
  },
  {
   "cell_type": "markdown",
   "id": "c06691ba",
   "metadata": {},
   "source": [
    "## Data"
   ]
  },
  {
   "cell_type": "code",
   "execution_count": 1,
   "id": "d02c3dff",
   "metadata": {},
   "outputs": [],
   "source": [
    "import pandas as pd\n",
    "import matplotlib.pyplot as plt\n",
    "import seaborn as sns\n",
    "import numpy as np"
   ]
  },
  {
   "cell_type": "code",
   "execution_count": 2,
   "id": "12b2eca4",
   "metadata": {},
   "outputs": [],
   "source": [
    "pd.options.display.max_colwidth = 60"
   ]
  },
  {
   "cell_type": "code",
   "execution_count": 3,
   "id": "7af5a1d9",
   "metadata": {},
   "outputs": [],
   "source": [
    "df = pd.read_csv('filtered_ratings.csv')"
   ]
  },
  {
   "cell_type": "code",
   "execution_count": 4,
   "id": "676db619",
   "metadata": {},
   "outputs": [
    {
     "name": "stdout",
     "output_type": "stream",
     "text": [
      "<class 'pandas.core.frame.DataFrame'>\n",
      "RangeIndex: 70171 entries, 0 to 70170\n",
      "Data columns (total 18 columns):\n",
      " #   Column               Non-Null Count  Dtype  \n",
      "---  ------               --------------  -----  \n",
      " 0   user_id              70171 non-null  int64  \n",
      " 1   location             70171 non-null  object \n",
      " 2   age                  70171 non-null  float64\n",
      " 3   isbn                 70171 non-null  object \n",
      " 4   rating               70171 non-null  int64  \n",
      " 5   book_title           70171 non-null  object \n",
      " 6   book_author          70171 non-null  object \n",
      " 7   year_of_publication  70171 non-null  float64\n",
      " 8   publisher            70171 non-null  object \n",
      " 9   img_s                70171 non-null  object \n",
      " 10  img_m                70171 non-null  object \n",
      " 11  img_l                70171 non-null  object \n",
      " 12  Summary              70171 non-null  object \n",
      " 13  Language             70171 non-null  object \n",
      " 14  Category             70171 non-null  object \n",
      " 15  city                 69909 non-null  object \n",
      " 16  state                69360 non-null  object \n",
      " 17  country              68016 non-null  object \n",
      "dtypes: float64(2), int64(2), object(14)\n",
      "memory usage: 9.6+ MB\n"
     ]
    }
   ],
   "source": [
    "df.info()"
   ]
  },
  {
   "cell_type": "code",
   "execution_count": 5,
   "id": "0e1fe9fb",
   "metadata": {},
   "outputs": [
    {
     "data": {
      "text/html": [
       "<div>\n",
       "<style scoped>\n",
       "    .dataframe tbody tr th:only-of-type {\n",
       "        vertical-align: middle;\n",
       "    }\n",
       "\n",
       "    .dataframe tbody tr th {\n",
       "        vertical-align: top;\n",
       "    }\n",
       "\n",
       "    .dataframe thead th {\n",
       "        text-align: right;\n",
       "    }\n",
       "</style>\n",
       "<table border=\"1\" class=\"dataframe\">\n",
       "  <thead>\n",
       "    <tr style=\"text-align: right;\">\n",
       "      <th></th>\n",
       "      <th>user_id</th>\n",
       "      <th>location</th>\n",
       "      <th>age</th>\n",
       "      <th>isbn</th>\n",
       "      <th>rating</th>\n",
       "      <th>book_title</th>\n",
       "      <th>book_author</th>\n",
       "      <th>year_of_publication</th>\n",
       "      <th>publisher</th>\n",
       "      <th>img_s</th>\n",
       "      <th>img_m</th>\n",
       "      <th>img_l</th>\n",
       "      <th>Summary</th>\n",
       "      <th>Language</th>\n",
       "      <th>Category</th>\n",
       "      <th>city</th>\n",
       "      <th>state</th>\n",
       "      <th>country</th>\n",
       "    </tr>\n",
       "  </thead>\n",
       "  <tbody>\n",
       "    <tr>\n",
       "      <th>0</th>\n",
       "      <td>116866</td>\n",
       "      <td>ottawa, ,</td>\n",
       "      <td>34.7439</td>\n",
       "      <td>0002005018</td>\n",
       "      <td>9</td>\n",
       "      <td>Clara Callan</td>\n",
       "      <td>Richard Bruce Wright</td>\n",
       "      <td>2001.0</td>\n",
       "      <td>HarperFlamingo Canada</td>\n",
       "      <td>http://images.amazon.com/images/P/0002005018.01.THUMBZZZ...</td>\n",
       "      <td>http://images.amazon.com/images/P/0002005018.01.MZZZZZZZ...</td>\n",
       "      <td>http://images.amazon.com/images/P/0002005018.01.LZZZZZZZ...</td>\n",
       "      <td>In a small town in Canada, Clara Callan reluctantly take...</td>\n",
       "      <td>en</td>\n",
       "      <td>['Actresses']</td>\n",
       "      <td>ottawa</td>\n",
       "      <td>,</td>\n",
       "      <td>NaN</td>\n",
       "    </tr>\n",
       "    <tr>\n",
       "      <th>1</th>\n",
       "      <td>219008</td>\n",
       "      <td>halifax, nova scotia, canada</td>\n",
       "      <td>60.0000</td>\n",
       "      <td>0002005018</td>\n",
       "      <td>7</td>\n",
       "      <td>Clara Callan</td>\n",
       "      <td>Richard Bruce Wright</td>\n",
       "      <td>2001.0</td>\n",
       "      <td>HarperFlamingo Canada</td>\n",
       "      <td>http://images.amazon.com/images/P/0002005018.01.THUMBZZZ...</td>\n",
       "      <td>http://images.amazon.com/images/P/0002005018.01.MZZZZZZZ...</td>\n",
       "      <td>http://images.amazon.com/images/P/0002005018.01.LZZZZZZZ...</td>\n",
       "      <td>In a small town in Canada, Clara Callan reluctantly take...</td>\n",
       "      <td>en</td>\n",
       "      <td>['Actresses']</td>\n",
       "      <td>halifax</td>\n",
       "      <td>nova scotia</td>\n",
       "      <td>canada</td>\n",
       "    </tr>\n",
       "    <tr>\n",
       "      <th>2</th>\n",
       "      <td>263325</td>\n",
       "      <td>fredericton, new brunswick, canada</td>\n",
       "      <td>27.0000</td>\n",
       "      <td>0002005018</td>\n",
       "      <td>6</td>\n",
       "      <td>Clara Callan</td>\n",
       "      <td>Richard Bruce Wright</td>\n",
       "      <td>2001.0</td>\n",
       "      <td>HarperFlamingo Canada</td>\n",
       "      <td>http://images.amazon.com/images/P/0002005018.01.THUMBZZZ...</td>\n",
       "      <td>http://images.amazon.com/images/P/0002005018.01.MZZZZZZZ...</td>\n",
       "      <td>http://images.amazon.com/images/P/0002005018.01.LZZZZZZZ...</td>\n",
       "      <td>In a small town in Canada, Clara Callan reluctantly take...</td>\n",
       "      <td>en</td>\n",
       "      <td>['Actresses']</td>\n",
       "      <td>fredericton</td>\n",
       "      <td>new brunswick</td>\n",
       "      <td>canada</td>\n",
       "    </tr>\n",
       "    <tr>\n",
       "      <th>3</th>\n",
       "      <td>35704</td>\n",
       "      <td>kansas city, missouri, usa</td>\n",
       "      <td>53.0000</td>\n",
       "      <td>0374157065</td>\n",
       "      <td>6</td>\n",
       "      <td>Flu: The Story of the Great Influenza Pandemic of 1918 a...</td>\n",
       "      <td>Gina Bari Kolata</td>\n",
       "      <td>1999.0</td>\n",
       "      <td>Farrar Straus Giroux</td>\n",
       "      <td>http://images.amazon.com/images/P/0374157065.01.THUMBZZZ...</td>\n",
       "      <td>http://images.amazon.com/images/P/0374157065.01.MZZZZZZZ...</td>\n",
       "      <td>http://images.amazon.com/images/P/0374157065.01.LZZZZZZZ...</td>\n",
       "      <td>Describes the great flu epidemic of 1918, an outbreak th...</td>\n",
       "      <td>en</td>\n",
       "      <td>['Medical']</td>\n",
       "      <td>kansas city</td>\n",
       "      <td>missouri</td>\n",
       "      <td>usa</td>\n",
       "    </tr>\n",
       "    <tr>\n",
       "      <th>4</th>\n",
       "      <td>110912</td>\n",
       "      <td>milpitas, california, usa</td>\n",
       "      <td>36.0000</td>\n",
       "      <td>0374157065</td>\n",
       "      <td>10</td>\n",
       "      <td>Flu: The Story of the Great Influenza Pandemic of 1918 a...</td>\n",
       "      <td>Gina Bari Kolata</td>\n",
       "      <td>1999.0</td>\n",
       "      <td>Farrar Straus Giroux</td>\n",
       "      <td>http://images.amazon.com/images/P/0374157065.01.THUMBZZZ...</td>\n",
       "      <td>http://images.amazon.com/images/P/0374157065.01.MZZZZZZZ...</td>\n",
       "      <td>http://images.amazon.com/images/P/0374157065.01.LZZZZZZZ...</td>\n",
       "      <td>Describes the great flu epidemic of 1918, an outbreak th...</td>\n",
       "      <td>en</td>\n",
       "      <td>['Medical']</td>\n",
       "      <td>milpitas</td>\n",
       "      <td>california</td>\n",
       "      <td>usa</td>\n",
       "    </tr>\n",
       "  </tbody>\n",
       "</table>\n",
       "</div>"
      ],
      "text/plain": [
       "   user_id                            location      age        isbn  rating  \\\n",
       "0   116866                           ottawa, ,  34.7439  0002005018       9   \n",
       "1   219008        halifax, nova scotia, canada  60.0000  0002005018       7   \n",
       "2   263325  fredericton, new brunswick, canada  27.0000  0002005018       6   \n",
       "3    35704          kansas city, missouri, usa  53.0000  0374157065       6   \n",
       "4   110912           milpitas, california, usa  36.0000  0374157065      10   \n",
       "\n",
       "                                                    book_title  \\\n",
       "0                                                 Clara Callan   \n",
       "1                                                 Clara Callan   \n",
       "2                                                 Clara Callan   \n",
       "3  Flu: The Story of the Great Influenza Pandemic of 1918 a...   \n",
       "4  Flu: The Story of the Great Influenza Pandemic of 1918 a...   \n",
       "\n",
       "            book_author  year_of_publication              publisher  \\\n",
       "0  Richard Bruce Wright               2001.0  HarperFlamingo Canada   \n",
       "1  Richard Bruce Wright               2001.0  HarperFlamingo Canada   \n",
       "2  Richard Bruce Wright               2001.0  HarperFlamingo Canada   \n",
       "3      Gina Bari Kolata               1999.0   Farrar Straus Giroux   \n",
       "4      Gina Bari Kolata               1999.0   Farrar Straus Giroux   \n",
       "\n",
       "                                                         img_s  \\\n",
       "0  http://images.amazon.com/images/P/0002005018.01.THUMBZZZ...   \n",
       "1  http://images.amazon.com/images/P/0002005018.01.THUMBZZZ...   \n",
       "2  http://images.amazon.com/images/P/0002005018.01.THUMBZZZ...   \n",
       "3  http://images.amazon.com/images/P/0374157065.01.THUMBZZZ...   \n",
       "4  http://images.amazon.com/images/P/0374157065.01.THUMBZZZ...   \n",
       "\n",
       "                                                         img_m  \\\n",
       "0  http://images.amazon.com/images/P/0002005018.01.MZZZZZZZ...   \n",
       "1  http://images.amazon.com/images/P/0002005018.01.MZZZZZZZ...   \n",
       "2  http://images.amazon.com/images/P/0002005018.01.MZZZZZZZ...   \n",
       "3  http://images.amazon.com/images/P/0374157065.01.MZZZZZZZ...   \n",
       "4  http://images.amazon.com/images/P/0374157065.01.MZZZZZZZ...   \n",
       "\n",
       "                                                         img_l  \\\n",
       "0  http://images.amazon.com/images/P/0002005018.01.LZZZZZZZ...   \n",
       "1  http://images.amazon.com/images/P/0002005018.01.LZZZZZZZ...   \n",
       "2  http://images.amazon.com/images/P/0002005018.01.LZZZZZZZ...   \n",
       "3  http://images.amazon.com/images/P/0374157065.01.LZZZZZZZ...   \n",
       "4  http://images.amazon.com/images/P/0374157065.01.LZZZZZZZ...   \n",
       "\n",
       "                                                       Summary Language  \\\n",
       "0  In a small town in Canada, Clara Callan reluctantly take...       en   \n",
       "1  In a small town in Canada, Clara Callan reluctantly take...       en   \n",
       "2  In a small town in Canada, Clara Callan reluctantly take...       en   \n",
       "3  Describes the great flu epidemic of 1918, an outbreak th...       en   \n",
       "4  Describes the great flu epidemic of 1918, an outbreak th...       en   \n",
       "\n",
       "        Category         city          state country  \n",
       "0  ['Actresses']       ottawa              ,     NaN  \n",
       "1  ['Actresses']      halifax    nova scotia  canada  \n",
       "2  ['Actresses']  fredericton  new brunswick  canada  \n",
       "3    ['Medical']  kansas city       missouri     usa  \n",
       "4    ['Medical']     milpitas     california     usa  "
      ]
     },
     "execution_count": 5,
     "metadata": {},
     "output_type": "execute_result"
    }
   ],
   "source": [
    "df.head()"
   ]
  },
  {
   "cell_type": "markdown",
   "id": "913fb5d8",
   "metadata": {},
   "source": [
    "## Preprocess data"
   ]
  },
  {
   "cell_type": "code",
   "execution_count": 6,
   "id": "446d89a6",
   "metadata": {},
   "outputs": [],
   "source": [
    "# Datatype of the Category is string\n",
    "# Remove the bracket in the Category column\n",
    "df['Category'] = df['Category'].apply(lambda x: x.replace('[\\\"','').replace('\\\"]',\"\").replace('[\\'','').replace('\\']',\"\"))"
   ]
  },
  {
   "cell_type": "code",
   "execution_count": 7,
   "id": "d013cdc9",
   "metadata": {},
   "outputs": [],
   "source": [
    "# Change data type of year_of_publication to int\n",
    "df['year_of_publication'] = df['year_of_publication'].astype('int')"
   ]
  },
  {
   "cell_type": "code",
   "execution_count": null,
   "id": "b9d164ae",
   "metadata": {},
   "outputs": [],
   "source": []
  },
  {
   "cell_type": "code",
   "execution_count": null,
   "id": "598b763e",
   "metadata": {},
   "outputs": [],
   "source": []
  },
  {
   "cell_type": "code",
   "execution_count": 8,
   "id": "6213f17d",
   "metadata": {},
   "outputs": [],
   "source": [
    "df_books = df.groupby(['isbn'], as_index=False)[['book_title',\n",
    "                                'book_author',\n",
    "                                'year_of_publication',\n",
    "                                'publisher',\n",
    "                                'Summary',\n",
    "                                'Language',\n",
    "                                'Category']].agg({\n",
    "                                        'book_title':   lambda x: ''.join(x.unique()),\n",
    "                                        'book_author':  lambda x: ''.join(x.unique()),\n",
    "                                        'year_of_publication': lambda x: x.unique()[0],\n",
    "                                        'publisher' :   lambda x: ''.join(x.unique()),\n",
    "                                        'Summary':lambda x: ''.join(x.unique()),\n",
    "                                        'Language':lambda x: ''.join(x.unique()),\n",
    "                                        'Category':lambda x: ''.join(x.unique())\n",
    "                                        }\n",
    "                                       )\n",
    "# 0002005018"
   ]
  },
  {
   "cell_type": "code",
   "execution_count": 9,
   "id": "eec286e1",
   "metadata": {},
   "outputs": [
    {
     "data": {
      "text/html": [
       "<div>\n",
       "<style scoped>\n",
       "    .dataframe tbody tr th:only-of-type {\n",
       "        vertical-align: middle;\n",
       "    }\n",
       "\n",
       "    .dataframe tbody tr th {\n",
       "        vertical-align: top;\n",
       "    }\n",
       "\n",
       "    .dataframe thead th {\n",
       "        text-align: right;\n",
       "    }\n",
       "</style>\n",
       "<table border=\"1\" class=\"dataframe\">\n",
       "  <thead>\n",
       "    <tr style=\"text-align: right;\">\n",
       "      <th></th>\n",
       "      <th>isbn</th>\n",
       "      <th>book_title</th>\n",
       "      <th>book_author</th>\n",
       "      <th>year_of_publication</th>\n",
       "      <th>publisher</th>\n",
       "      <th>Summary</th>\n",
       "      <th>Language</th>\n",
       "      <th>Category</th>\n",
       "    </tr>\n",
       "  </thead>\n",
       "  <tbody>\n",
       "    <tr>\n",
       "      <th>0</th>\n",
       "      <td>0002005018</td>\n",
       "      <td>Clara Callan</td>\n",
       "      <td>Richard Bruce Wright</td>\n",
       "      <td>2001</td>\n",
       "      <td>HarperFlamingo Canada</td>\n",
       "      <td>In a small town in Canada, Clara Callan reluctantly take...</td>\n",
       "      <td>en</td>\n",
       "      <td>Actresses</td>\n",
       "    </tr>\n",
       "    <tr>\n",
       "      <th>1</th>\n",
       "      <td>0002251760</td>\n",
       "      <td>The Forgetting Room: A Fiction (Byzantium Book)</td>\n",
       "      <td>Nick Bantock</td>\n",
       "      <td>1997</td>\n",
       "      <td>Harpercollins</td>\n",
       "      <td>Captivatingly imagined and genuinely memorable in its de...</td>\n",
       "      <td>en</td>\n",
       "      <td>Fiction</td>\n",
       "    </tr>\n",
       "    <tr>\n",
       "      <th>2</th>\n",
       "      <td>0006485200</td>\n",
       "      <td>The Piano Man's Daughter</td>\n",
       "      <td>Timothy Findley</td>\n",
       "      <td>1999</td>\n",
       "      <td>Britnell Book Wholesalers</td>\n",
       "      <td>Set at the turn of the century and inspired by the histo...</td>\n",
       "      <td>en</td>\n",
       "      <td>Piano technicians</td>\n",
       "    </tr>\n",
       "    <tr>\n",
       "      <th>3</th>\n",
       "      <td>0006543545</td>\n",
       "      <td>The bookshop</td>\n",
       "      <td>Penelope Fitzgerald</td>\n",
       "      <td>1989</td>\n",
       "      <td>Flamingo</td>\n",
       "      <td>&amp;quot;Penelope Fitzgerald&amp;#39;s resources of odd people ...</td>\n",
       "      <td>en</td>\n",
       "      <td>Booksellers and bookselling</td>\n",
       "    </tr>\n",
       "    <tr>\n",
       "      <th>4</th>\n",
       "      <td>0006550576</td>\n",
       "      <td>Red Leaves</td>\n",
       "      <td>Paullina Simons</td>\n",
       "      <td>1994</td>\n",
       "      <td>Flamingo</td>\n",
       "      <td>When beautiful, star basketball player Kristina Kim is f...</td>\n",
       "      <td>en</td>\n",
       "      <td>Fiction</td>\n",
       "    </tr>\n",
       "  </tbody>\n",
       "</table>\n",
       "</div>"
      ],
      "text/plain": [
       "         isbn                                       book_title  \\\n",
       "0  0002005018                                     Clara Callan   \n",
       "1  0002251760  The Forgetting Room: A Fiction (Byzantium Book)   \n",
       "2  0006485200                         The Piano Man's Daughter   \n",
       "3  0006543545                                     The bookshop   \n",
       "4  0006550576                                       Red Leaves   \n",
       "\n",
       "            book_author  year_of_publication                  publisher  \\\n",
       "0  Richard Bruce Wright                 2001      HarperFlamingo Canada   \n",
       "1          Nick Bantock                 1997              Harpercollins   \n",
       "2       Timothy Findley                 1999  Britnell Book Wholesalers   \n",
       "3   Penelope Fitzgerald                 1989                   Flamingo   \n",
       "4       Paullina Simons                 1994                   Flamingo   \n",
       "\n",
       "                                                       Summary Language  \\\n",
       "0  In a small town in Canada, Clara Callan reluctantly take...       en   \n",
       "1  Captivatingly imagined and genuinely memorable in its de...       en   \n",
       "2  Set at the turn of the century and inspired by the histo...       en   \n",
       "3  &quot;Penelope Fitzgerald&#39;s resources of odd people ...       en   \n",
       "4  When beautiful, star basketball player Kristina Kim is f...       en   \n",
       "\n",
       "                      Category  \n",
       "0                    Actresses  \n",
       "1                      Fiction  \n",
       "2            Piano technicians  \n",
       "3  Booksellers and bookselling  \n",
       "4                      Fiction  "
      ]
     },
     "execution_count": 9,
     "metadata": {},
     "output_type": "execute_result"
    }
   ],
   "source": [
    "df_books.head()"
   ]
  },
  {
   "cell_type": "code",
   "execution_count": 10,
   "id": "2dc2e4ff",
   "metadata": {},
   "outputs": [
    {
     "name": "stdout",
     "output_type": "stream",
     "text": [
      "<class 'pandas.core.frame.DataFrame'>\n",
      "RangeIndex: 9546 entries, 0 to 9545\n",
      "Data columns (total 8 columns):\n",
      " #   Column               Non-Null Count  Dtype \n",
      "---  ------               --------------  ----- \n",
      " 0   isbn                 9546 non-null   object\n",
      " 1   book_title           9546 non-null   object\n",
      " 2   book_author          9546 non-null   object\n",
      " 3   year_of_publication  9546 non-null   int32 \n",
      " 4   publisher            9546 non-null   object\n",
      " 5   Summary              9546 non-null   object\n",
      " 6   Language             9546 non-null   object\n",
      " 7   Category             9546 non-null   object\n",
      "dtypes: int32(1), object(7)\n",
      "memory usage: 559.5+ KB\n"
     ]
    }
   ],
   "source": [
    "df_books.info()"
   ]
  },
  {
   "cell_type": "code",
   "execution_count": 11,
   "id": "546efb58",
   "metadata": {},
   "outputs": [],
   "source": [
    "df_books.to_csv('books.csv',index=False)"
   ]
  },
  {
   "cell_type": "code",
   "execution_count": null,
   "id": "d30d9758",
   "metadata": {},
   "outputs": [],
   "source": []
  },
  {
   "cell_type": "code",
   "execution_count": null,
   "id": "87581ab0",
   "metadata": {},
   "outputs": [],
   "source": []
  },
  {
   "cell_type": "code",
   "execution_count": 12,
   "id": "97a26804",
   "metadata": {},
   "outputs": [
    {
     "data": {
      "text/html": [
       "<div>\n",
       "<style scoped>\n",
       "    .dataframe tbody tr th:only-of-type {\n",
       "        vertical-align: middle;\n",
       "    }\n",
       "\n",
       "    .dataframe tbody tr th {\n",
       "        vertical-align: top;\n",
       "    }\n",
       "\n",
       "    .dataframe thead th {\n",
       "        text-align: right;\n",
       "    }\n",
       "</style>\n",
       "<table border=\"1\" class=\"dataframe\">\n",
       "  <thead>\n",
       "    <tr style=\"text-align: right;\">\n",
       "      <th></th>\n",
       "      <th>user_id</th>\n",
       "      <th>location</th>\n",
       "      <th>age</th>\n",
       "      <th>isbn</th>\n",
       "      <th>rating</th>\n",
       "      <th>book_title</th>\n",
       "      <th>book_author</th>\n",
       "      <th>year_of_publication</th>\n",
       "      <th>publisher</th>\n",
       "      <th>img_s</th>\n",
       "      <th>img_m</th>\n",
       "      <th>img_l</th>\n",
       "      <th>Summary</th>\n",
       "      <th>Language</th>\n",
       "      <th>Category</th>\n",
       "      <th>city</th>\n",
       "      <th>state</th>\n",
       "      <th>country</th>\n",
       "    </tr>\n",
       "  </thead>\n",
       "  <tbody>\n",
       "    <tr>\n",
       "      <th>0</th>\n",
       "      <td>116866</td>\n",
       "      <td>ottawa, ,</td>\n",
       "      <td>34.7439</td>\n",
       "      <td>0002005018</td>\n",
       "      <td>9</td>\n",
       "      <td>Clara Callan</td>\n",
       "      <td>Richard Bruce Wright</td>\n",
       "      <td>2001</td>\n",
       "      <td>HarperFlamingo Canada</td>\n",
       "      <td>http://images.amazon.com/images/P/0002005018.01.THUMBZZZ...</td>\n",
       "      <td>http://images.amazon.com/images/P/0002005018.01.MZZZZZZZ...</td>\n",
       "      <td>http://images.amazon.com/images/P/0002005018.01.LZZZZZZZ...</td>\n",
       "      <td>In a small town in Canada, Clara Callan reluctantly take...</td>\n",
       "      <td>en</td>\n",
       "      <td>Actresses</td>\n",
       "      <td>ottawa</td>\n",
       "      <td>,</td>\n",
       "      <td>NaN</td>\n",
       "    </tr>\n",
       "    <tr>\n",
       "      <th>1</th>\n",
       "      <td>219008</td>\n",
       "      <td>halifax, nova scotia, canada</td>\n",
       "      <td>60.0000</td>\n",
       "      <td>0002005018</td>\n",
       "      <td>7</td>\n",
       "      <td>Clara Callan</td>\n",
       "      <td>Richard Bruce Wright</td>\n",
       "      <td>2001</td>\n",
       "      <td>HarperFlamingo Canada</td>\n",
       "      <td>http://images.amazon.com/images/P/0002005018.01.THUMBZZZ...</td>\n",
       "      <td>http://images.amazon.com/images/P/0002005018.01.MZZZZZZZ...</td>\n",
       "      <td>http://images.amazon.com/images/P/0002005018.01.LZZZZZZZ...</td>\n",
       "      <td>In a small town in Canada, Clara Callan reluctantly take...</td>\n",
       "      <td>en</td>\n",
       "      <td>Actresses</td>\n",
       "      <td>halifax</td>\n",
       "      <td>nova scotia</td>\n",
       "      <td>canada</td>\n",
       "    </tr>\n",
       "    <tr>\n",
       "      <th>2</th>\n",
       "      <td>263325</td>\n",
       "      <td>fredericton, new brunswick, canada</td>\n",
       "      <td>27.0000</td>\n",
       "      <td>0002005018</td>\n",
       "      <td>6</td>\n",
       "      <td>Clara Callan</td>\n",
       "      <td>Richard Bruce Wright</td>\n",
       "      <td>2001</td>\n",
       "      <td>HarperFlamingo Canada</td>\n",
       "      <td>http://images.amazon.com/images/P/0002005018.01.THUMBZZZ...</td>\n",
       "      <td>http://images.amazon.com/images/P/0002005018.01.MZZZZZZZ...</td>\n",
       "      <td>http://images.amazon.com/images/P/0002005018.01.LZZZZZZZ...</td>\n",
       "      <td>In a small town in Canada, Clara Callan reluctantly take...</td>\n",
       "      <td>en</td>\n",
       "      <td>Actresses</td>\n",
       "      <td>fredericton</td>\n",
       "      <td>new brunswick</td>\n",
       "      <td>canada</td>\n",
       "    </tr>\n",
       "    <tr>\n",
       "      <th>3</th>\n",
       "      <td>35704</td>\n",
       "      <td>kansas city, missouri, usa</td>\n",
       "      <td>53.0000</td>\n",
       "      <td>0374157065</td>\n",
       "      <td>6</td>\n",
       "      <td>Flu: The Story of the Great Influenza Pandemic of 1918 a...</td>\n",
       "      <td>Gina Bari Kolata</td>\n",
       "      <td>1999</td>\n",
       "      <td>Farrar Straus Giroux</td>\n",
       "      <td>http://images.amazon.com/images/P/0374157065.01.THUMBZZZ...</td>\n",
       "      <td>http://images.amazon.com/images/P/0374157065.01.MZZZZZZZ...</td>\n",
       "      <td>http://images.amazon.com/images/P/0374157065.01.LZZZZZZZ...</td>\n",
       "      <td>Describes the great flu epidemic of 1918, an outbreak th...</td>\n",
       "      <td>en</td>\n",
       "      <td>Medical</td>\n",
       "      <td>kansas city</td>\n",
       "      <td>missouri</td>\n",
       "      <td>usa</td>\n",
       "    </tr>\n",
       "    <tr>\n",
       "      <th>4</th>\n",
       "      <td>110912</td>\n",
       "      <td>milpitas, california, usa</td>\n",
       "      <td>36.0000</td>\n",
       "      <td>0374157065</td>\n",
       "      <td>10</td>\n",
       "      <td>Flu: The Story of the Great Influenza Pandemic of 1918 a...</td>\n",
       "      <td>Gina Bari Kolata</td>\n",
       "      <td>1999</td>\n",
       "      <td>Farrar Straus Giroux</td>\n",
       "      <td>http://images.amazon.com/images/P/0374157065.01.THUMBZZZ...</td>\n",
       "      <td>http://images.amazon.com/images/P/0374157065.01.MZZZZZZZ...</td>\n",
       "      <td>http://images.amazon.com/images/P/0374157065.01.LZZZZZZZ...</td>\n",
       "      <td>Describes the great flu epidemic of 1918, an outbreak th...</td>\n",
       "      <td>en</td>\n",
       "      <td>Medical</td>\n",
       "      <td>milpitas</td>\n",
       "      <td>california</td>\n",
       "      <td>usa</td>\n",
       "    </tr>\n",
       "  </tbody>\n",
       "</table>\n",
       "</div>"
      ],
      "text/plain": [
       "   user_id                            location      age        isbn  rating  \\\n",
       "0   116866                           ottawa, ,  34.7439  0002005018       9   \n",
       "1   219008        halifax, nova scotia, canada  60.0000  0002005018       7   \n",
       "2   263325  fredericton, new brunswick, canada  27.0000  0002005018       6   \n",
       "3    35704          kansas city, missouri, usa  53.0000  0374157065       6   \n",
       "4   110912           milpitas, california, usa  36.0000  0374157065      10   \n",
       "\n",
       "                                                    book_title  \\\n",
       "0                                                 Clara Callan   \n",
       "1                                                 Clara Callan   \n",
       "2                                                 Clara Callan   \n",
       "3  Flu: The Story of the Great Influenza Pandemic of 1918 a...   \n",
       "4  Flu: The Story of the Great Influenza Pandemic of 1918 a...   \n",
       "\n",
       "            book_author  year_of_publication              publisher  \\\n",
       "0  Richard Bruce Wright                 2001  HarperFlamingo Canada   \n",
       "1  Richard Bruce Wright                 2001  HarperFlamingo Canada   \n",
       "2  Richard Bruce Wright                 2001  HarperFlamingo Canada   \n",
       "3      Gina Bari Kolata                 1999   Farrar Straus Giroux   \n",
       "4      Gina Bari Kolata                 1999   Farrar Straus Giroux   \n",
       "\n",
       "                                                         img_s  \\\n",
       "0  http://images.amazon.com/images/P/0002005018.01.THUMBZZZ...   \n",
       "1  http://images.amazon.com/images/P/0002005018.01.THUMBZZZ...   \n",
       "2  http://images.amazon.com/images/P/0002005018.01.THUMBZZZ...   \n",
       "3  http://images.amazon.com/images/P/0374157065.01.THUMBZZZ...   \n",
       "4  http://images.amazon.com/images/P/0374157065.01.THUMBZZZ...   \n",
       "\n",
       "                                                         img_m  \\\n",
       "0  http://images.amazon.com/images/P/0002005018.01.MZZZZZZZ...   \n",
       "1  http://images.amazon.com/images/P/0002005018.01.MZZZZZZZ...   \n",
       "2  http://images.amazon.com/images/P/0002005018.01.MZZZZZZZ...   \n",
       "3  http://images.amazon.com/images/P/0374157065.01.MZZZZZZZ...   \n",
       "4  http://images.amazon.com/images/P/0374157065.01.MZZZZZZZ...   \n",
       "\n",
       "                                                         img_l  \\\n",
       "0  http://images.amazon.com/images/P/0002005018.01.LZZZZZZZ...   \n",
       "1  http://images.amazon.com/images/P/0002005018.01.LZZZZZZZ...   \n",
       "2  http://images.amazon.com/images/P/0002005018.01.LZZZZZZZ...   \n",
       "3  http://images.amazon.com/images/P/0374157065.01.LZZZZZZZ...   \n",
       "4  http://images.amazon.com/images/P/0374157065.01.LZZZZZZZ...   \n",
       "\n",
       "                                                       Summary Language  \\\n",
       "0  In a small town in Canada, Clara Callan reluctantly take...       en   \n",
       "1  In a small town in Canada, Clara Callan reluctantly take...       en   \n",
       "2  In a small town in Canada, Clara Callan reluctantly take...       en   \n",
       "3  Describes the great flu epidemic of 1918, an outbreak th...       en   \n",
       "4  Describes the great flu epidemic of 1918, an outbreak th...       en   \n",
       "\n",
       "    Category         city          state country  \n",
       "0  Actresses       ottawa              ,     NaN  \n",
       "1  Actresses      halifax    nova scotia  canada  \n",
       "2  Actresses  fredericton  new brunswick  canada  \n",
       "3    Medical  kansas city       missouri     usa  \n",
       "4    Medical     milpitas     california     usa  "
      ]
     },
     "execution_count": 12,
     "metadata": {},
     "output_type": "execute_result"
    }
   ],
   "source": [
    "df.head()"
   ]
  },
  {
   "cell_type": "code",
   "execution_count": null,
   "id": "6834f8d6",
   "metadata": {},
   "outputs": [],
   "source": []
  },
  {
   "cell_type": "code",
   "execution_count": 13,
   "id": "38e77767",
   "metadata": {},
   "outputs": [
    {
     "data": {
      "text/html": [
       "<div>\n",
       "<style scoped>\n",
       "    .dataframe tbody tr th:only-of-type {\n",
       "        vertical-align: middle;\n",
       "    }\n",
       "\n",
       "    .dataframe tbody tr th {\n",
       "        vertical-align: top;\n",
       "    }\n",
       "\n",
       "    .dataframe thead th {\n",
       "        text-align: right;\n",
       "    }\n",
       "</style>\n",
       "<table border=\"1\" class=\"dataframe\">\n",
       "  <thead>\n",
       "    <tr style=\"text-align: right;\">\n",
       "      <th></th>\n",
       "      <th>user_id</th>\n",
       "      <th>isbn</th>\n",
       "      <th>rating</th>\n",
       "    </tr>\n",
       "  </thead>\n",
       "  <tbody>\n",
       "    <tr>\n",
       "      <th>0</th>\n",
       "      <td>116866</td>\n",
       "      <td>0002005018</td>\n",
       "      <td>9</td>\n",
       "    </tr>\n",
       "    <tr>\n",
       "      <th>1</th>\n",
       "      <td>219008</td>\n",
       "      <td>0002005018</td>\n",
       "      <td>7</td>\n",
       "    </tr>\n",
       "    <tr>\n",
       "      <th>2</th>\n",
       "      <td>263325</td>\n",
       "      <td>0002005018</td>\n",
       "      <td>6</td>\n",
       "    </tr>\n",
       "    <tr>\n",
       "      <th>3</th>\n",
       "      <td>35704</td>\n",
       "      <td>0374157065</td>\n",
       "      <td>6</td>\n",
       "    </tr>\n",
       "    <tr>\n",
       "      <th>4</th>\n",
       "      <td>110912</td>\n",
       "      <td>0374157065</td>\n",
       "      <td>10</td>\n",
       "    </tr>\n",
       "  </tbody>\n",
       "</table>\n",
       "</div>"
      ],
      "text/plain": [
       "   user_id        isbn  rating\n",
       "0   116866  0002005018       9\n",
       "1   219008  0002005018       7\n",
       "2   263325  0002005018       6\n",
       "3    35704  0374157065       6\n",
       "4   110912  0374157065      10"
      ]
     },
     "execution_count": 13,
     "metadata": {},
     "output_type": "execute_result"
    }
   ],
   "source": [
    "rating_cols = ['user_id','isbn','rating']\n",
    "rating_df = df[rating_cols].copy()\n",
    "rating_df.head()"
   ]
  },
  {
   "cell_type": "markdown",
   "id": "e1767356",
   "metadata": {},
   "source": [
    "## Exploratory Data Analysis"
   ]
  },
  {
   "cell_type": "markdown",
   "id": "85749266",
   "metadata": {},
   "source": [
    "### 1. Books "
   ]
  },
  {
   "cell_type": "code",
   "execution_count": 14,
   "id": "1d0e0cd9",
   "metadata": {},
   "outputs": [
    {
     "name": "stdout",
     "output_type": "stream",
     "text": [
      "Number of books: 9546\n"
     ]
    }
   ],
   "source": [
    "# Number of books\n",
    "no_books = df_books['isbn'].nunique()\n",
    "print(f'Number of books: {no_books}')"
   ]
  },
  {
   "cell_type": "code",
   "execution_count": 15,
   "id": "70e2333c",
   "metadata": {},
   "outputs": [],
   "source": [
    "_mostreadbooks = df.isbn.value_counts()[0:15]\n",
    "mostreadbooks = pd.DataFrame({'isbn':_mostreadbooks.index,'count':_mostreadbooks.values})\n",
    "mostreadbooks['book_title'] = mostreadbooks.isbn.apply(lambda x: df_books[df_books['isbn']==x]['book_title'].item())"
   ]
  },
  {
   "cell_type": "code",
   "execution_count": 16,
   "id": "5fb9c61a",
   "metadata": {},
   "outputs": [
    {
     "data": {
      "image/png": "[encoded data removed]",
      "text/plain": [
       "<Figure size 576x432 with 1 Axes>"
      ]
     },
     "metadata": {
      "needs_background": "light"
     },
     "output_type": "display_data"
    }
   ],
   "source": [
    "#\n",
    "fig = plt.figure(figsize=(8,6))\n",
    "ax = sns.barplot(y=mostreadbooks.book_title, x=mostreadbooks['count'], palette='bone')\n",
    "ax.set_title('Most read books');\n",
    "ax.set_xlabel('Count')\n",
    "ax.set_ylabel('Books');"
   ]
  },
  {
   "cell_type": "code",
   "execution_count": 17,
   "id": "7045276a",
   "metadata": {},
   "outputs": [
    {
     "data": {
      "image/png": "[encoded data removed]",
      "text/plain": [
       "<Figure size 504x360 with 1 Axes>"
      ]
     },
     "metadata": {
      "needs_background": "light"
     },
     "output_type": "display_data"
    }
   ],
   "source": [
    "top_authors = df_books.book_author.value_counts()[0:15]\n",
    "fig = plt.figure(figsize=(7,5))\n",
    "ax = sns.barplot(y=top_authors.index, x=top_authors.values, palette='bone')\n",
    "ax.set_title('Top Authors');\n",
    "ax.set_xlabel('num of books');"
   ]
  },
  {
   "cell_type": "code",
   "execution_count": 18,
   "id": "3a44cef4",
   "metadata": {},
   "outputs": [
    {
     "data": {
      "image/png": "[encoded data removed]",
      "text/plain": [
       "<Figure size 1080x360 with 1 Axes>"
      ]
     },
     "metadata": {
      "needs_background": "light"
     },
     "output_type": "display_data"
    }
   ],
   "source": [
    "fig = plt.figure(figsize=(15,5))\n",
    "top_years = df_books['year_of_publication'].value_counts().head(20)\n",
    "ax = sns.barplot(x=top_years.index,y=top_years.values, palette='bone')\n",
    "ax.set_title('Top most publication year of book');"
   ]
  },
  {
   "cell_type": "code",
   "execution_count": 19,
   "id": "72578d35",
   "metadata": {},
   "outputs": [
    {
     "data": {
      "text/plain": [
       "0385504209    258\n",
       "0312195516    189\n",
       "0142001740    171\n",
       "059035342X    170\n",
       "0060928336    169\n",
       "             ... \n",
       "0060280921      1\n",
       "0385499728      1\n",
       "0385510187      1\n",
       "0441003451      1\n",
       "0451168380      1\n",
       "Name: isbn, Length: 9546, dtype: int64"
      ]
     },
     "execution_count": 19,
     "metadata": {},
     "output_type": "execute_result"
    }
   ],
   "source": [
    "df.isbn.value_counts()"
   ]
  },
  {
   "cell_type": "code",
   "execution_count": null,
   "id": "eb7d70ad",
   "metadata": {},
   "outputs": [],
   "source": []
  },
  {
   "cell_type": "code",
   "execution_count": 20,
   "id": "ecb17a6e",
   "metadata": {},
   "outputs": [
    {
     "data": {
      "text/plain": [
       "870"
      ]
     },
     "execution_count": 20,
     "metadata": {},
     "output_type": "execute_result"
    }
   ],
   "source": [
    "_leastreadbooks = df.isbn.value_counts()\n",
    "(_leastreadbooks.values>15).sum()\n",
    "# _leastreadbooks"
   ]
  },
  {
   "cell_type": "code",
   "execution_count": null,
   "id": "350ed2eb",
   "metadata": {},
   "outputs": [],
   "source": []
  },
  {
   "cell_type": "code",
   "execution_count": 21,
   "id": "5c5042e1",
   "metadata": {},
   "outputs": [
    {
     "data": {
      "text/plain": [
       "8     17178\n",
       "10    14024\n",
       "9     12136\n",
       "7     11838\n",
       "5      6857\n",
       "6      5494\n",
       "4      1222\n",
       "3       822\n",
       "2       380\n",
       "1       220\n",
       "Name: rating, dtype: int64"
      ]
     },
     "execution_count": 21,
     "metadata": {},
     "output_type": "execute_result"
    }
   ],
   "source": [
    "df['rating'].value_counts()"
   ]
  },
  {
   "cell_type": "code",
   "execution_count": null,
   "id": "6d5016ef",
   "metadata": {},
   "outputs": [],
   "source": []
  },
  {
   "cell_type": "markdown",
   "id": "336849ca",
   "metadata": {},
   "source": [
    "## Content based Recommendation"
   ]
  },
  {
   "cell_type": "code",
   "execution_count": 22,
   "id": "eb983500",
   "metadata": {},
   "outputs": [],
   "source": [
    "from sklearn.metrics.pairwise import cosine_similarity"
   ]
  },
  {
   "cell_type": "markdown",
   "id": "7986a97d",
   "metadata": {},
   "source": [
    "### Recommend by book's feature"
   ]
  },
  {
   "cell_type": "markdown",
   "id": "8ef29689",
   "metadata": {},
   "source": [
    "Based on book's feature: \n",
    "* book_title\n",
    "* book_author\n",
    "* year_of_publication\n",
    "* publisher\n",
    "* Language\n",
    "* Category        "
   ]
  },
  {
   "cell_type": "code",
   "execution_count": 23,
   "id": "95e94e44",
   "metadata": {},
   "outputs": [],
   "source": [
    "# create a data which combine all the features.\n",
    "cbfeats = ['book_title','book_author','year_of_publication','publisher','Language','Category']\n",
    "df_cbfeat = pd.DataFrame()\n",
    "df_cbfeat['isbn'] = df_books.isbn\n",
    "df_cbfeat['Combined_Features'] = [' '.join(str(y) \n",
    "                                        for y in df_books[cbfeats].iloc[i,].values) \n",
    "                                              for i in range(df_books[cbfeats].shape[0])]\n"
   ]
  },
  {
   "cell_type": "code",
   "execution_count": 24,
   "id": "35e8ae92",
   "metadata": {},
   "outputs": [
    {
     "data": {
      "text/html": [
       "<div>\n",
       "<style scoped>\n",
       "    .dataframe tbody tr th:only-of-type {\n",
       "        vertical-align: middle;\n",
       "    }\n",
       "\n",
       "    .dataframe tbody tr th {\n",
       "        vertical-align: top;\n",
       "    }\n",
       "\n",
       "    .dataframe thead th {\n",
       "        text-align: right;\n",
       "    }\n",
       "</style>\n",
       "<table border=\"1\" class=\"dataframe\">\n",
       "  <thead>\n",
       "    <tr style=\"text-align: right;\">\n",
       "      <th></th>\n",
       "      <th>isbn</th>\n",
       "      <th>Combined_Features</th>\n",
       "    </tr>\n",
       "  </thead>\n",
       "  <tbody>\n",
       "    <tr>\n",
       "      <th>0</th>\n",
       "      <td>0002005018</td>\n",
       "      <td>Clara Callan Richard Bruce Wright 2001 HarperFlamingo Ca...</td>\n",
       "    </tr>\n",
       "    <tr>\n",
       "      <th>1</th>\n",
       "      <td>0002251760</td>\n",
       "      <td>The Forgetting Room: A Fiction (Byzantium Book) Nick Ban...</td>\n",
       "    </tr>\n",
       "    <tr>\n",
       "      <th>2</th>\n",
       "      <td>0006485200</td>\n",
       "      <td>The Piano Man's Daughter Timothy Findley 1999 Britnell B...</td>\n",
       "    </tr>\n",
       "    <tr>\n",
       "      <th>3</th>\n",
       "      <td>0006543545</td>\n",
       "      <td>The bookshop Penelope Fitzgerald 1989 Flamingo en Bookse...</td>\n",
       "    </tr>\n",
       "    <tr>\n",
       "      <th>4</th>\n",
       "      <td>0006550576</td>\n",
       "      <td>Red Leaves Paullina Simons 1994 Flamingo en Fiction</td>\n",
       "    </tr>\n",
       "    <tr>\n",
       "      <th>...</th>\n",
       "      <td>...</td>\n",
       "      <td>...</td>\n",
       "    </tr>\n",
       "    <tr>\n",
       "      <th>9541</th>\n",
       "      <td>2290308285</td>\n",
       "      <td>Le Cycle d'Ender, tome 1 : La StratÃ?Â©gie Ender Scott C...</td>\n",
       "    </tr>\n",
       "    <tr>\n",
       "      <th>9542</th>\n",
       "      <td>3612275127</td>\n",
       "      <td>Die Musik Der Wale Wally Lamb 1994 Econ-Verlag GmbH en P...</td>\n",
       "    </tr>\n",
       "    <tr>\n",
       "      <th>9543</th>\n",
       "      <td>8251800811</td>\n",
       "      <td>A Time for Trolls: Fairy Tales from Norway Peter C. Asbj...</td>\n",
       "    </tr>\n",
       "    <tr>\n",
       "      <th>9544</th>\n",
       "      <td>846630679X</td>\n",
       "      <td>La caverna = A caverna Jose Saramago 2002 Punto de Lectu...</td>\n",
       "    </tr>\n",
       "    <tr>\n",
       "      <th>9545</th>\n",
       "      <td>8495501090</td>\n",
       "      <td>El ocho Katherine Neville 2001 Punto de Lectura en Fiction</td>\n",
       "    </tr>\n",
       "  </tbody>\n",
       "</table>\n",
       "<p>9546 rows × 2 columns</p>\n",
       "</div>"
      ],
      "text/plain": [
       "            isbn                                            Combined_Features\n",
       "0     0002005018  Clara Callan Richard Bruce Wright 2001 HarperFlamingo Ca...\n",
       "1     0002251760  The Forgetting Room: A Fiction (Byzantium Book) Nick Ban...\n",
       "2     0006485200  The Piano Man's Daughter Timothy Findley 1999 Britnell B...\n",
       "3     0006543545  The bookshop Penelope Fitzgerald 1989 Flamingo en Bookse...\n",
       "4     0006550576          Red Leaves Paullina Simons 1994 Flamingo en Fiction\n",
       "...          ...                                                          ...\n",
       "9541  2290308285  Le Cycle d'Ender, tome 1 : La StratÃ?Â©gie Ender Scott C...\n",
       "9542  3612275127  Die Musik Der Wale Wally Lamb 1994 Econ-Verlag GmbH en P...\n",
       "9543  8251800811  A Time for Trolls: Fairy Tales from Norway Peter C. Asbj...\n",
       "9544  846630679X  La caverna = A caverna Jose Saramago 2002 Punto de Lectu...\n",
       "9545  8495501090   El ocho Katherine Neville 2001 Punto de Lectura en Fiction\n",
       "\n",
       "[9546 rows x 2 columns]"
      ]
     },
     "execution_count": 24,
     "metadata": {},
     "output_type": "execute_result"
    }
   ],
   "source": [
    "df_cbfeat"
   ]
  },
  {
   "cell_type": "code",
   "execution_count": 25,
   "id": "9afdd94d",
   "metadata": {},
   "outputs": [],
   "source": [
    "df_cbfeat.to_csv('combined_feats_data.csv',index=False)"
   ]
  },
  {
   "cell_type": "code",
   "execution_count": 26,
   "id": "18683d09",
   "metadata": {},
   "outputs": [],
   "source": [
    "from sklearn.feature_extraction.text import CountVectorizer"
   ]
  },
  {
   "cell_type": "code",
   "execution_count": 27,
   "id": "48dcb3c0",
   "metadata": {},
   "outputs": [
    {
     "data": {
      "text/plain": [
       "(9546, 9546)"
      ]
     },
     "execution_count": 27,
     "metadata": {},
     "output_type": "execute_result"
    }
   ],
   "source": [
    "# Create a CountVectorizer\n",
    "cv = CountVectorizer()\n",
    "count_matrix = cv.fit_transform(df_cbfeat['Combined_Features'])\n",
    "cosine_sim = cosine_similarity(count_matrix)\n",
    "cosine_sim.shape\n"
   ]
  },
  {
   "cell_type": "code",
   "execution_count": 28,
   "id": "0ff283e5",
   "metadata": {},
   "outputs": [],
   "source": [
    "# define a function to get the similar books\n",
    "# the book is identified by its isbn\n",
    "\n",
    "def content_based_recommender(isbn, n=10):\n",
    "    # find the index of the book in the matrix\n",
    "    index = df_books[df_books['isbn']==isbn].index[0]\n",
    "    \n",
    "    # Get the similarity score \n",
    "    sims_score = enumerate(cosine_sim[index])\n",
    "    sims_score = sorted(sims_score, key=lambda x: x[1],reverse=True)[1:n]\n",
    "    sims_books_index = [x[0] for x in sims_score]\n",
    "    return sims_books_index"
   ]
  },
  {
   "cell_type": "code",
   "execution_count": 29,
   "id": "26f5122a",
   "metadata": {},
   "outputs": [
    {
     "data": {
      "text/plain": [
       "'0060256672'"
      ]
     },
     "execution_count": 29,
     "metadata": {},
     "output_type": "execute_result"
    }
   ],
   "source": [
    "isbn = df_books.isbn.iloc[134,]\n",
    "isbn"
   ]
  },
  {
   "cell_type": "code",
   "execution_count": 30,
   "id": "ffa9d1da",
   "metadata": {
    "scrolled": true
   },
   "outputs": [
    {
     "data": {
      "text/html": [
       "<div>\n",
       "<style scoped>\n",
       "    .dataframe tbody tr th:only-of-type {\n",
       "        vertical-align: middle;\n",
       "    }\n",
       "\n",
       "    .dataframe tbody tr th {\n",
       "        vertical-align: top;\n",
       "    }\n",
       "\n",
       "    .dataframe thead th {\n",
       "        text-align: right;\n",
       "    }\n",
       "</style>\n",
       "<table border=\"1\" class=\"dataframe\">\n",
       "  <thead>\n",
       "    <tr style=\"text-align: right;\">\n",
       "      <th></th>\n",
       "      <th>isbn</th>\n",
       "      <th>book_title</th>\n",
       "      <th>book_author</th>\n",
       "      <th>year_of_publication</th>\n",
       "      <th>publisher</th>\n",
       "      <th>Summary</th>\n",
       "      <th>Language</th>\n",
       "      <th>Category</th>\n",
       "    </tr>\n",
       "  </thead>\n",
       "  <tbody>\n",
       "    <tr>\n",
       "      <th>134</th>\n",
       "      <td>0060256672</td>\n",
       "      <td>Where the Sidewalk Ends : Poems and Drawings</td>\n",
       "      <td>Shel Silverstein</td>\n",
       "      <td>1974</td>\n",
       "      <td>HarperCollins</td>\n",
       "      <td>If you are a dreamer, come in, If you are a dreamer, A w...</td>\n",
       "      <td>en</td>\n",
       "      <td>Juvenile Nonfiction</td>\n",
       "    </tr>\n",
       "  </tbody>\n",
       "</table>\n",
       "</div>"
      ],
      "text/plain": [
       "           isbn                                    book_title  \\\n",
       "134  0060256672  Where the Sidewalk Ends : Poems and Drawings   \n",
       "\n",
       "          book_author  year_of_publication      publisher  \\\n",
       "134  Shel Silverstein                 1974  HarperCollins   \n",
       "\n",
       "                                                         Summary Language  \\\n",
       "134  If you are a dreamer, come in, If you are a dreamer, A w...       en   \n",
       "\n",
       "                Category  \n",
       "134  Juvenile Nonfiction  "
      ]
     },
     "execution_count": 30,
     "metadata": {},
     "output_type": "execute_result"
    }
   ],
   "source": [
    "df_books[df_books['isbn']==isbn]"
   ]
  },
  {
   "cell_type": "code",
   "execution_count": 31,
   "id": "3c1e848e",
   "metadata": {},
   "outputs": [],
   "source": [
    "example = content_based_recommender(isbn)"
   ]
  },
  {
   "cell_type": "code",
   "execution_count": 32,
   "id": "7fc60e68",
   "metadata": {},
   "outputs": [
    {
     "data": {
      "text/html": [
       "<div>\n",
       "<style scoped>\n",
       "    .dataframe tbody tr th:only-of-type {\n",
       "        vertical-align: middle;\n",
       "    }\n",
       "\n",
       "    .dataframe tbody tr th {\n",
       "        vertical-align: top;\n",
       "    }\n",
       "\n",
       "    .dataframe thead th {\n",
       "        text-align: right;\n",
       "    }\n",
       "</style>\n",
       "<table border=\"1\" class=\"dataframe\">\n",
       "  <thead>\n",
       "    <tr style=\"text-align: right;\">\n",
       "      <th></th>\n",
       "      <th>isbn</th>\n",
       "      <th>book_title</th>\n",
       "      <th>book_author</th>\n",
       "      <th>year_of_publication</th>\n",
       "      <th>publisher</th>\n",
       "      <th>Summary</th>\n",
       "      <th>Language</th>\n",
       "      <th>Category</th>\n",
       "    </tr>\n",
       "  </thead>\n",
       "  <tbody>\n",
       "    <tr>\n",
       "      <th>131</th>\n",
       "      <td>0060248025</td>\n",
       "      <td>Falling Up</td>\n",
       "      <td>Shel Silverstein</td>\n",
       "      <td>1996</td>\n",
       "      <td>HarperCollins</td>\n",
       "      <td>Poor Screamin&amp;#39; Millie is just one of the unforgettab...</td>\n",
       "      <td>en</td>\n",
       "      <td>Juvenile Nonfiction</td>\n",
       "    </tr>\n",
       "    <tr>\n",
       "      <th>133</th>\n",
       "      <td>0060256656</td>\n",
       "      <td>The Giving Tree</td>\n",
       "      <td>Shel Silverstein</td>\n",
       "      <td>1964</td>\n",
       "      <td>HarperCollins Publishers</td>\n",
       "      <td>But as the boy grew older he began to want more from the...</td>\n",
       "      <td>en</td>\n",
       "      <td>Juvenile Fiction</td>\n",
       "    </tr>\n",
       "    <tr>\n",
       "      <th>608</th>\n",
       "      <td>0064471063</td>\n",
       "      <td>The Horse and His Boy</td>\n",
       "      <td>C. S. Lewis</td>\n",
       "      <td>1994</td>\n",
       "      <td>HarperCollins</td>\n",
       "      <td>An orphaned boy and a kidnapped horse gallop for Narnia....</td>\n",
       "      <td>en</td>\n",
       "      <td>Juvenile Fiction</td>\n",
       "    </tr>\n",
       "    <tr>\n",
       "      <th>130</th>\n",
       "      <td>0060234814</td>\n",
       "      <td>The Lion, the Witch and the Wardrobe (The Chronicles of ...</td>\n",
       "      <td>C. S. Lewis</td>\n",
       "      <td>1994</td>\n",
       "      <td>HarperCollins</td>\n",
       "      <td>Now considered a classic, The Lion, The Witch, and The W...</td>\n",
       "      <td>en</td>\n",
       "      <td>Juvenile Fiction</td>\n",
       "    </tr>\n",
       "    <tr>\n",
       "      <th>606</th>\n",
       "      <td>0064471047</td>\n",
       "      <td>The Lion, the Witch, and the Wardrobe (The Chronicles of...</td>\n",
       "      <td>C. S. Lewis</td>\n",
       "      <td>1994</td>\n",
       "      <td>HarperCollins</td>\n",
       "      <td>Four English schoolchildren find their way through the b...</td>\n",
       "      <td>en</td>\n",
       "      <td>Juvenile Fiction</td>\n",
       "    </tr>\n",
       "    <tr>\n",
       "      <th>132</th>\n",
       "      <td>0060254920</td>\n",
       "      <td>Where the Wild Things Are</td>\n",
       "      <td>Maurice Sendak</td>\n",
       "      <td>1988</td>\n",
       "      <td>HarperCollins</td>\n",
       "      <td>Max is sent to bed without supper and imagines sailing a...</td>\n",
       "      <td>en</td>\n",
       "      <td>JUVENILE FICTION</td>\n",
       "    </tr>\n",
       "    <tr>\n",
       "      <th>2617</th>\n",
       "      <td>0380761319</td>\n",
       "      <td>The Shadow and the Star</td>\n",
       "      <td>Laura Kinsale</td>\n",
       "      <td>1991</td>\n",
       "      <td>Harpercollins</td>\n",
       "      <td>From nationally acclaimed bestselling author Laura Kinsa...</td>\n",
       "      <td>en</td>\n",
       "      <td>Fiction</td>\n",
       "    </tr>\n",
       "    <tr>\n",
       "      <th>2471</th>\n",
       "      <td>0380709244</td>\n",
       "      <td>The Mouse and the Motorcycle</td>\n",
       "      <td>Beverly Cleary</td>\n",
       "      <td>1990</td>\n",
       "      <td>HarperTrophy</td>\n",
       "      <td>Ralph the mouse ventures out from behind the piney knoth...</td>\n",
       "      <td>en</td>\n",
       "      <td>Juvenile Fiction</td>\n",
       "    </tr>\n",
       "    <tr>\n",
       "      <th>609</th>\n",
       "      <td>006447108X</td>\n",
       "      <td>The Last Battle</td>\n",
       "      <td>C. S. Lewis</td>\n",
       "      <td>1994</td>\n",
       "      <td>HarperCollins</td>\n",
       "      <td>The last battle is the greatest of all battles Narnia .....</td>\n",
       "      <td>en</td>\n",
       "      <td>Juvenile Fiction</td>\n",
       "    </tr>\n",
       "  </tbody>\n",
       "</table>\n",
       "</div>"
      ],
      "text/plain": [
       "            isbn                                                   book_title  \\\n",
       "131   0060248025                                                   Falling Up   \n",
       "133   0060256656                                              The Giving Tree   \n",
       "608   0064471063                                        The Horse and His Boy   \n",
       "130   0060234814  The Lion, the Witch and the Wardrobe (The Chronicles of ...   \n",
       "606   0064471047  The Lion, the Witch, and the Wardrobe (The Chronicles of...   \n",
       "132   0060254920                                    Where the Wild Things Are   \n",
       "2617  0380761319                                      The Shadow and the Star   \n",
       "2471  0380709244                                 The Mouse and the Motorcycle   \n",
       "609   006447108X                                              The Last Battle   \n",
       "\n",
       "           book_author  year_of_publication                 publisher  \\\n",
       "131   Shel Silverstein                 1996             HarperCollins   \n",
       "133   Shel Silverstein                 1964  HarperCollins Publishers   \n",
       "608        C. S. Lewis                 1994             HarperCollins   \n",
       "130        C. S. Lewis                 1994             HarperCollins   \n",
       "606        C. S. Lewis                 1994             HarperCollins   \n",
       "132     Maurice Sendak                 1988             HarperCollins   \n",
       "2617     Laura Kinsale                 1991             Harpercollins   \n",
       "2471    Beverly Cleary                 1990              HarperTrophy   \n",
       "609        C. S. Lewis                 1994             HarperCollins   \n",
       "\n",
       "                                                          Summary Language  \\\n",
       "131   Poor Screamin&#39; Millie is just one of the unforgettab...       en   \n",
       "133   But as the boy grew older he began to want more from the...       en   \n",
       "608   An orphaned boy and a kidnapped horse gallop for Narnia....       en   \n",
       "130   Now considered a classic, The Lion, The Witch, and The W...       en   \n",
       "606   Four English schoolchildren find their way through the b...       en   \n",
       "132   Max is sent to bed without supper and imagines sailing a...       en   \n",
       "2617  From nationally acclaimed bestselling author Laura Kinsa...       en   \n",
       "2471  Ralph the mouse ventures out from behind the piney knoth...       en   \n",
       "609   The last battle is the greatest of all battles Narnia .....       en   \n",
       "\n",
       "                 Category  \n",
       "131   Juvenile Nonfiction  \n",
       "133      Juvenile Fiction  \n",
       "608      Juvenile Fiction  \n",
       "130      Juvenile Fiction  \n",
       "606      Juvenile Fiction  \n",
       "132      JUVENILE FICTION  \n",
       "2617              Fiction  \n",
       "2471     Juvenile Fiction  \n",
       "609      Juvenile Fiction  "
      ]
     },
     "execution_count": 32,
     "metadata": {},
     "output_type": "execute_result"
    }
   ],
   "source": [
    "df_books.iloc[example]"
   ]
  },
  {
   "cell_type": "code",
   "execution_count": null,
   "id": "75bbb95b",
   "metadata": {},
   "outputs": [],
   "source": []
  },
  {
   "cell_type": "markdown",
   "id": "e2927c49",
   "metadata": {},
   "source": [
    "### Recommend by the book's summary"
   ]
  },
  {
   "cell_type": "code",
   "execution_count": 33,
   "id": "30396168",
   "metadata": {},
   "outputs": [],
   "source": [
    "from sklearn.feature_extraction.text import TfidfVectorizer"
   ]
  },
  {
   "cell_type": "code",
   "execution_count": 34,
   "id": "6fa853dd",
   "metadata": {},
   "outputs": [
    {
     "name": "stdout",
     "output_type": "stream",
     "text": [
      "Number of N.A value: 0\n"
     ]
    }
   ],
   "source": [
    "# Check again if there is any N.A value in summary collumn\n",
    "print(f'Number of N.A value: {df_books.Summary.isna().sum()}')"
   ]
  },
  {
   "cell_type": "code",
   "execution_count": 35,
   "id": "858c21ec",
   "metadata": {},
   "outputs": [
    {
     "data": {
      "text/plain": [
       "(9546, 22726)"
      ]
     },
     "execution_count": 35,
     "metadata": {},
     "output_type": "execute_result"
    }
   ],
   "source": [
    "\n",
    "tfidf = TfidfVectorizer(stop_words='english')\n",
    "\n",
    "tfidf_matrix = tfidf.fit_transform(df_books['Summary'])\n",
    "tfidf_matrix.shape"
   ]
  },
  {
   "cell_type": "code",
   "execution_count": 36,
   "id": "eab333d9",
   "metadata": {},
   "outputs": [],
   "source": [
    "# Using cosine similarity \n",
    "from sklearn.metrics.pairwise import cosine_similarity"
   ]
  },
  {
   "cell_type": "code",
   "execution_count": 37,
   "id": "3087e348",
   "metadata": {},
   "outputs": [],
   "source": [
    "cosine_sim_sum = cosine_similarity(tfidf_matrix)"
   ]
  },
  {
   "cell_type": "code",
   "execution_count": 38,
   "id": "f9f7b214",
   "metadata": {},
   "outputs": [
    {
     "data": {
      "text/plain": [
       "'0060256672'"
      ]
     },
     "execution_count": 38,
     "metadata": {},
     "output_type": "execute_result"
    }
   ],
   "source": [
    "isbn"
   ]
  },
  {
   "cell_type": "code",
   "execution_count": null,
   "id": "20db7d19",
   "metadata": {},
   "outputs": [],
   "source": []
  },
  {
   "cell_type": "code",
   "execution_count": 39,
   "id": "ad7b9dd6",
   "metadata": {},
   "outputs": [
    {
     "data": {
      "text/html": [
       "<div>\n",
       "<style scoped>\n",
       "    .dataframe tbody tr th:only-of-type {\n",
       "        vertical-align: middle;\n",
       "    }\n",
       "\n",
       "    .dataframe tbody tr th {\n",
       "        vertical-align: top;\n",
       "    }\n",
       "\n",
       "    .dataframe thead th {\n",
       "        text-align: right;\n",
       "    }\n",
       "</style>\n",
       "<table border=\"1\" class=\"dataframe\">\n",
       "  <thead>\n",
       "    <tr style=\"text-align: right;\">\n",
       "      <th></th>\n",
       "      <th>isbn</th>\n",
       "      <th>book_title</th>\n",
       "      <th>book_author</th>\n",
       "      <th>year_of_publication</th>\n",
       "      <th>publisher</th>\n",
       "      <th>Summary</th>\n",
       "      <th>Language</th>\n",
       "      <th>Category</th>\n",
       "    </tr>\n",
       "  </thead>\n",
       "  <tbody>\n",
       "    <tr>\n",
       "      <th>134</th>\n",
       "      <td>0060256672</td>\n",
       "      <td>Where the Sidewalk Ends : Poems and Drawings</td>\n",
       "      <td>Shel Silverstein</td>\n",
       "      <td>1974</td>\n",
       "      <td>HarperCollins</td>\n",
       "      <td>If you are a dreamer, come in, If you are a dreamer, A w...</td>\n",
       "      <td>en</td>\n",
       "      <td>Juvenile Nonfiction</td>\n",
       "    </tr>\n",
       "  </tbody>\n",
       "</table>\n",
       "</div>"
      ],
      "text/plain": [
       "           isbn                                    book_title  \\\n",
       "134  0060256672  Where the Sidewalk Ends : Poems and Drawings   \n",
       "\n",
       "          book_author  year_of_publication      publisher  \\\n",
       "134  Shel Silverstein                 1974  HarperCollins   \n",
       "\n",
       "                                                         Summary Language  \\\n",
       "134  If you are a dreamer, come in, If you are a dreamer, A w...       en   \n",
       "\n",
       "                Category  \n",
       "134  Juvenile Nonfiction  "
      ]
     },
     "execution_count": 39,
     "metadata": {},
     "output_type": "execute_result"
    }
   ],
   "source": [
    "df_books[df_books['isbn']==isbn]"
   ]
  },
  {
   "cell_type": "code",
   "execution_count": 40,
   "id": "ad206c58",
   "metadata": {},
   "outputs": [],
   "source": [
    "def summary_based_recommender(isbn, n=10):\n",
    "    # find the index of the book in the matrix\n",
    "    index = df_books[df_books['isbn']==isbn].index[0]\n",
    "    \n",
    "    # Get the similarity score \n",
    "    sims_score = enumerate(cosine_sim_sum[index])\n",
    "    sims_score = sorted(sims_score, key=lambda x: x[1],reverse=True)[:n]\n",
    "    sims_books_index = [x[0] for x in sims_score]\n",
    "    return sims_books_index"
   ]
  },
  {
   "cell_type": "code",
   "execution_count": 41,
   "id": "777cf682",
   "metadata": {},
   "outputs": [],
   "source": [
    "example1 = summary_based_recommender(isbn)"
   ]
  },
  {
   "cell_type": "code",
   "execution_count": 42,
   "id": "55b4feff",
   "metadata": {},
   "outputs": [
    {
     "data": {
      "text/html": [
       "<div>\n",
       "<style scoped>\n",
       "    .dataframe tbody tr th:only-of-type {\n",
       "        vertical-align: middle;\n",
       "    }\n",
       "\n",
       "    .dataframe tbody tr th {\n",
       "        vertical-align: top;\n",
       "    }\n",
       "\n",
       "    .dataframe thead th {\n",
       "        text-align: right;\n",
       "    }\n",
       "</style>\n",
       "<table border=\"1\" class=\"dataframe\">\n",
       "  <thead>\n",
       "    <tr style=\"text-align: right;\">\n",
       "      <th></th>\n",
       "      <th>isbn</th>\n",
       "      <th>book_title</th>\n",
       "      <th>book_author</th>\n",
       "      <th>year_of_publication</th>\n",
       "      <th>publisher</th>\n",
       "      <th>Summary</th>\n",
       "      <th>Language</th>\n",
       "      <th>Category</th>\n",
       "    </tr>\n",
       "  </thead>\n",
       "  <tbody>\n",
       "    <tr>\n",
       "      <th>134</th>\n",
       "      <td>0060256672</td>\n",
       "      <td>Where the Sidewalk Ends : Poems and Drawings</td>\n",
       "      <td>Shel Silverstein</td>\n",
       "      <td>1974</td>\n",
       "      <td>HarperCollins</td>\n",
       "      <td>If you are a dreamer, come in, If you are a dreamer, A w...</td>\n",
       "      <td>en</td>\n",
       "      <td>Juvenile Nonfiction</td>\n",
       "    </tr>\n",
       "    <tr>\n",
       "      <th>8533</th>\n",
       "      <td>0812521331</td>\n",
       "      <td>People of the Wolf (The First North Americans series, Bo...</td>\n",
       "      <td>W. Michael Gear</td>\n",
       "      <td>1992</td>\n",
       "      <td>Tor Books</td>\n",
       "      <td>Before the dawn of history, a brave people found a new w...</td>\n",
       "      <td>en</td>\n",
       "      <td>Fiction</td>\n",
       "    </tr>\n",
       "    <tr>\n",
       "      <th>8536</th>\n",
       "      <td>0812521501</td>\n",
       "      <td>People of the Fire (The First North Americans series, Bo...</td>\n",
       "      <td>Kathleen O'Neal Gear</td>\n",
       "      <td>1991</td>\n",
       "      <td>Tor Books</td>\n",
       "      <td>A heroic young dreamer and a fearless female warrior uni...</td>\n",
       "      <td>en</td>\n",
       "      <td>Fiction</td>\n",
       "    </tr>\n",
       "    <tr>\n",
       "      <th>7010</th>\n",
       "      <td>0671553038</td>\n",
       "      <td>LIFE SUPPORT</td>\n",
       "      <td>Tess Gerritsen</td>\n",
       "      <td>1997</td>\n",
       "      <td>Atria</td>\n",
       "      <td>The overnight ER rotation at Springer Hospital is a calm...</td>\n",
       "      <td>en</td>\n",
       "      <td>Fiction</td>\n",
       "    </tr>\n",
       "    <tr>\n",
       "      <th>8505</th>\n",
       "      <td>0812507371</td>\n",
       "      <td>People of the Wolf</td>\n",
       "      <td>W. Michael Gear</td>\n",
       "      <td>1990</td>\n",
       "      <td>St Martins Press</td>\n",
       "      <td>Following a vision of a wolf, a valiant dreamer leads a ...</td>\n",
       "      <td>en</td>\n",
       "      <td>Fiction</td>\n",
       "    </tr>\n",
       "    <tr>\n",
       "      <th>3435</th>\n",
       "      <td>0425097269</td>\n",
       "      <td>Shadowland</td>\n",
       "      <td>Peter Straub</td>\n",
       "      <td>1994</td>\n",
       "      <td>Berkley Publishing Group</td>\n",
       "      <td>Twenty years ago two friends spent a vacation in a remot...</td>\n",
       "      <td>en</td>\n",
       "      <td>Fiction</td>\n",
       "    </tr>\n",
       "    <tr>\n",
       "      <th>9102</th>\n",
       "      <td>1551665336</td>\n",
       "      <td>Moon Over Water</td>\n",
       "      <td>Debbie Macomber</td>\n",
       "      <td>1999</td>\n",
       "      <td>Mira</td>\n",
       "      <td>Lorraine Dancy has always been a dreamer, but she couldn...</td>\n",
       "      <td>en</td>\n",
       "      <td>Fiction</td>\n",
       "    </tr>\n",
       "    <tr>\n",
       "      <th>131</th>\n",
       "      <td>0060248025</td>\n",
       "      <td>Falling Up</td>\n",
       "      <td>Shel Silverstein</td>\n",
       "      <td>1996</td>\n",
       "      <td>HarperCollins</td>\n",
       "      <td>Poor Screamin&amp;#39; Millie is just one of the unforgettab...</td>\n",
       "      <td>en</td>\n",
       "      <td>Juvenile Nonfiction</td>\n",
       "    </tr>\n",
       "    <tr>\n",
       "      <th>4385</th>\n",
       "      <td>0446364797</td>\n",
       "      <td>The Silken Web</td>\n",
       "      <td>Sandra Brown</td>\n",
       "      <td>1993</td>\n",
       "      <td>Warner Books</td>\n",
       "      <td>A beautiful fashion buyer is still in love with someone ...</td>\n",
       "      <td>en</td>\n",
       "      <td>Fiction</td>\n",
       "    </tr>\n",
       "    <tr>\n",
       "      <th>40</th>\n",
       "      <td>0060008865</td>\n",
       "      <td>Do No Harm</td>\n",
       "      <td>Gregg Hurwitz</td>\n",
       "      <td>2002</td>\n",
       "      <td>William Morrow</td>\n",
       "      <td>When an unknown attacker is injured in the process of hi...</td>\n",
       "      <td>en</td>\n",
       "      <td>Fiction</td>\n",
       "    </tr>\n",
       "  </tbody>\n",
       "</table>\n",
       "</div>"
      ],
      "text/plain": [
       "            isbn                                                   book_title  \\\n",
       "134   0060256672                 Where the Sidewalk Ends : Poems and Drawings   \n",
       "8533  0812521331  People of the Wolf (The First North Americans series, Bo...   \n",
       "8536  0812521501  People of the Fire (The First North Americans series, Bo...   \n",
       "7010  0671553038                                                 LIFE SUPPORT   \n",
       "8505  0812507371                                           People of the Wolf   \n",
       "3435  0425097269                                                   Shadowland   \n",
       "9102  1551665336                                              Moon Over Water   \n",
       "131   0060248025                                                   Falling Up   \n",
       "4385  0446364797                                               The Silken Web   \n",
       "40    0060008865                                                   Do No Harm   \n",
       "\n",
       "               book_author  year_of_publication                 publisher  \\\n",
       "134       Shel Silverstein                 1974             HarperCollins   \n",
       "8533       W. Michael Gear                 1992                 Tor Books   \n",
       "8536  Kathleen O'Neal Gear                 1991                 Tor Books   \n",
       "7010        Tess Gerritsen                 1997                     Atria   \n",
       "8505       W. Michael Gear                 1990          St Martins Press   \n",
       "3435          Peter Straub                 1994  Berkley Publishing Group   \n",
       "9102       Debbie Macomber                 1999                      Mira   \n",
       "131       Shel Silverstein                 1996             HarperCollins   \n",
       "4385          Sandra Brown                 1993              Warner Books   \n",
       "40           Gregg Hurwitz                 2002            William Morrow   \n",
       "\n",
       "                                                          Summary Language  \\\n",
       "134   If you are a dreamer, come in, If you are a dreamer, A w...       en   \n",
       "8533  Before the dawn of history, a brave people found a new w...       en   \n",
       "8536  A heroic young dreamer and a fearless female warrior uni...       en   \n",
       "7010  The overnight ER rotation at Springer Hospital is a calm...       en   \n",
       "8505  Following a vision of a wolf, a valiant dreamer leads a ...       en   \n",
       "3435  Twenty years ago two friends spent a vacation in a remot...       en   \n",
       "9102  Lorraine Dancy has always been a dreamer, but she couldn...       en   \n",
       "131   Poor Screamin&#39; Millie is just one of the unforgettab...       en   \n",
       "4385  A beautiful fashion buyer is still in love with someone ...       en   \n",
       "40    When an unknown attacker is injured in the process of hi...       en   \n",
       "\n",
       "                 Category  \n",
       "134   Juvenile Nonfiction  \n",
       "8533              Fiction  \n",
       "8536              Fiction  \n",
       "7010              Fiction  \n",
       "8505              Fiction  \n",
       "3435              Fiction  \n",
       "9102              Fiction  \n",
       "131   Juvenile Nonfiction  \n",
       "4385              Fiction  \n",
       "40                Fiction  "
      ]
     },
     "execution_count": 42,
     "metadata": {},
     "output_type": "execute_result"
    }
   ],
   "source": [
    "df_books.iloc[example1]"
   ]
  },
  {
   "cell_type": "code",
   "execution_count": null,
   "id": "ab7b210f",
   "metadata": {},
   "outputs": [],
   "source": []
  },
  {
   "cell_type": "markdown",
   "id": "04ef17db",
   "metadata": {},
   "source": [
    "## Collaborative Filtering"
   ]
  },
  {
   "cell_type": "markdown",
   "id": "09a221c4",
   "metadata": {},
   "source": [
    "### Item-based Collaborative Filtering "
   ]
  },
  {
   "cell_type": "code",
   "execution_count": 43,
   "id": "e7ed721c",
   "metadata": {},
   "outputs": [],
   "source": [
    "ratings_matrix = pd.pivot_table(data=df, index=['user_id'],columns=['isbn'],values='rating',fill_value=None)"
   ]
  },
  {
   "cell_type": "code",
   "execution_count": 44,
   "id": "7fca6401",
   "metadata": {},
   "outputs": [],
   "source": [
    "# Recommender \n",
    "def itembase_recommeder(isbn,n=10):\n",
    "    book = ratings_matrix[isbn]\n",
    "    recomm_data = pd.DataFrame(ratings_matrix.corrwith(book).sort_values(ascending=False)).reset_index(drop=False)\n",
    "    recomm_data = recomm_data.iloc[0:n]\n",
    "    return recomm_data"
   ]
  },
  {
   "cell_type": "code",
   "execution_count": 45,
   "id": "b26d6dec",
   "metadata": {},
   "outputs": [
    {
     "name": "stderr",
     "output_type": "stream",
     "text": [
      "C:\\Users\\tnguyen\\Anaconda3\\lib\\site-packages\\numpy\\lib\\function_base.py:2683: RuntimeWarning: Degrees of freedom <= 0 for slice\n",
      "  c = cov(x, y, rowvar, dtype=dtype)\n",
      "C:\\Users\\tnguyen\\Anaconda3\\lib\\site-packages\\numpy\\lib\\function_base.py:2542: RuntimeWarning: divide by zero encountered in true_divide\n",
      "  c *= np.true_divide(1, fact)\n"
     ]
    }
   ],
   "source": [
    "recomm_books = itembase_recommeder(isbn)"
   ]
  },
  {
   "cell_type": "code",
   "execution_count": 46,
   "id": "1c7cc366",
   "metadata": {},
   "outputs": [
    {
     "data": {
      "text/html": [
       "<div>\n",
       "<style scoped>\n",
       "    .dataframe tbody tr th:only-of-type {\n",
       "        vertical-align: middle;\n",
       "    }\n",
       "\n",
       "    .dataframe tbody tr th {\n",
       "        vertical-align: top;\n",
       "    }\n",
       "\n",
       "    .dataframe thead th {\n",
       "        text-align: right;\n",
       "    }\n",
       "</style>\n",
       "<table border=\"1\" class=\"dataframe\">\n",
       "  <thead>\n",
       "    <tr style=\"text-align: right;\">\n",
       "      <th></th>\n",
       "      <th>isbn</th>\n",
       "      <th>0</th>\n",
       "    </tr>\n",
       "  </thead>\n",
       "  <tbody>\n",
       "    <tr>\n",
       "      <th>0</th>\n",
       "      <td>0060248025</td>\n",
       "      <td>1.000000</td>\n",
       "    </tr>\n",
       "    <tr>\n",
       "      <th>1</th>\n",
       "      <td>0446611085</td>\n",
       "      <td>1.000000</td>\n",
       "    </tr>\n",
       "    <tr>\n",
       "      <th>2</th>\n",
       "      <td>0894716905</td>\n",
       "      <td>1.000000</td>\n",
       "    </tr>\n",
       "    <tr>\n",
       "      <th>3</th>\n",
       "      <td>1558746099</td>\n",
       "      <td>1.000000</td>\n",
       "    </tr>\n",
       "    <tr>\n",
       "      <th>4</th>\n",
       "      <td>0060256672</td>\n",
       "      <td>1.000000</td>\n",
       "    </tr>\n",
       "    <tr>\n",
       "      <th>5</th>\n",
       "      <td>0439064864</td>\n",
       "      <td>1.000000</td>\n",
       "    </tr>\n",
       "    <tr>\n",
       "      <th>6</th>\n",
       "      <td>0439136350</td>\n",
       "      <td>1.000000</td>\n",
       "    </tr>\n",
       "    <tr>\n",
       "      <th>7</th>\n",
       "      <td>0446600253</td>\n",
       "      <td>1.000000</td>\n",
       "    </tr>\n",
       "    <tr>\n",
       "      <th>8</th>\n",
       "      <td>0590353403</td>\n",
       "      <td>1.000000</td>\n",
       "    </tr>\n",
       "    <tr>\n",
       "      <th>9</th>\n",
       "      <td>043935806X</td>\n",
       "      <td>0.174078</td>\n",
       "    </tr>\n",
       "  </tbody>\n",
       "</table>\n",
       "</div>"
      ],
      "text/plain": [
       "         isbn         0\n",
       "0  0060248025  1.000000\n",
       "1  0446611085  1.000000\n",
       "2  0894716905  1.000000\n",
       "3  1558746099  1.000000\n",
       "4  0060256672  1.000000\n",
       "5  0439064864  1.000000\n",
       "6  0439136350  1.000000\n",
       "7  0446600253  1.000000\n",
       "8  0590353403  1.000000\n",
       "9  043935806X  0.174078"
      ]
     },
     "execution_count": 46,
     "metadata": {},
     "output_type": "execute_result"
    }
   ],
   "source": [
    "recomm_books"
   ]
  },
  {
   "cell_type": "code",
   "execution_count": 47,
   "id": "8918d443",
   "metadata": {},
   "outputs": [
    {
     "data": {
      "text/html": [
       "<div>\n",
       "<style scoped>\n",
       "    .dataframe tbody tr th:only-of-type {\n",
       "        vertical-align: middle;\n",
       "    }\n",
       "\n",
       "    .dataframe tbody tr th {\n",
       "        vertical-align: top;\n",
       "    }\n",
       "\n",
       "    .dataframe thead th {\n",
       "        text-align: right;\n",
       "    }\n",
       "</style>\n",
       "<table border=\"1\" class=\"dataframe\">\n",
       "  <thead>\n",
       "    <tr style=\"text-align: right;\">\n",
       "      <th></th>\n",
       "      <th>isbn</th>\n",
       "      <th>book_title</th>\n",
       "      <th>book_author</th>\n",
       "      <th>year_of_publication</th>\n",
       "      <th>publisher</th>\n",
       "      <th>Summary</th>\n",
       "      <th>Language</th>\n",
       "      <th>Category</th>\n",
       "    </tr>\n",
       "  </thead>\n",
       "  <tbody>\n",
       "    <tr>\n",
       "      <th>134</th>\n",
       "      <td>0060256672</td>\n",
       "      <td>Where the Sidewalk Ends : Poems and Drawings</td>\n",
       "      <td>Shel Silverstein</td>\n",
       "      <td>1974</td>\n",
       "      <td>HarperCollins</td>\n",
       "      <td>If you are a dreamer, come in, If you are a dreamer, A wisher, a liar,\\nA hope-er, a pray-er, A magic bean buyer … Come in … for where the\\nsidewalk ends, Shel Silverstein’s world begins.</td>\n",
       "      <td>en</td>\n",
       "      <td>Juvenile Nonfiction</td>\n",
       "    </tr>\n",
       "  </tbody>\n",
       "</table>\n",
       "</div>"
      ],
      "text/plain": [
       "           isbn                                    book_title  \\\n",
       "134  0060256672  Where the Sidewalk Ends : Poems and Drawings   \n",
       "\n",
       "          book_author  year_of_publication      publisher  \\\n",
       "134  Shel Silverstein                 1974  HarperCollins   \n",
       "\n",
       "                                                                                                                                                                                         Summary  \\\n",
       "134  If you are a dreamer, come in, If you are a dreamer, A wisher, a liar,\\nA hope-er, a pray-er, A magic bean buyer … Come in … for where the\\nsidewalk ends, Shel Silverstein’s world begins.   \n",
       "\n",
       "    Language             Category  \n",
       "134       en  Juvenile Nonfiction  "
      ]
     },
     "execution_count": 47,
     "metadata": {},
     "output_type": "execute_result"
    }
   ],
   "source": [
    "pd.options.display.max_colwidth = 500\n",
    "df_books[df_books['isbn']==isbn]"
   ]
  },
  {
   "cell_type": "code",
   "execution_count": 48,
   "id": "86bcc23a",
   "metadata": {},
   "outputs": [
    {
     "data": {
      "text/html": [
       "<div>\n",
       "<style scoped>\n",
       "    .dataframe tbody tr th:only-of-type {\n",
       "        vertical-align: middle;\n",
       "    }\n",
       "\n",
       "    .dataframe tbody tr th {\n",
       "        vertical-align: top;\n",
       "    }\n",
       "\n",
       "    .dataframe thead th {\n",
       "        text-align: right;\n",
       "    }\n",
       "</style>\n",
       "<table border=\"1\" class=\"dataframe\">\n",
       "  <thead>\n",
       "    <tr style=\"text-align: right;\">\n",
       "      <th></th>\n",
       "      <th>isbn</th>\n",
       "      <th>book_title</th>\n",
       "      <th>book_author</th>\n",
       "      <th>year_of_publication</th>\n",
       "      <th>publisher</th>\n",
       "      <th>Summary</th>\n",
       "      <th>Language</th>\n",
       "      <th>Category</th>\n",
       "    </tr>\n",
       "  </thead>\n",
       "  <tbody>\n",
       "    <tr>\n",
       "      <th>131</th>\n",
       "      <td>0060248025</td>\n",
       "      <td>Falling Up</td>\n",
       "      <td>Shel Silverstein</td>\n",
       "      <td>1996</td>\n",
       "      <td>HarperCollins</td>\n",
       "      <td>Poor Screamin&amp;#39; Millie is just one of the unforgettable characters\\nin this wondrous new book of poems and drawings by the creator of\\nWhere the Sidewalk Ends and A Light in the Attic.</td>\n",
       "      <td>en</td>\n",
       "      <td>Juvenile Nonfiction</td>\n",
       "    </tr>\n",
       "    <tr>\n",
       "      <th>134</th>\n",
       "      <td>0060256672</td>\n",
       "      <td>Where the Sidewalk Ends : Poems and Drawings</td>\n",
       "      <td>Shel Silverstein</td>\n",
       "      <td>1974</td>\n",
       "      <td>HarperCollins</td>\n",
       "      <td>If you are a dreamer, come in, If you are a dreamer, A wisher, a liar,\\nA hope-er, a pray-er, A magic bean buyer … Come in … for where the\\nsidewalk ends, Shel Silverstein’s world begins.</td>\n",
       "      <td>en</td>\n",
       "      <td>Juvenile Nonfiction</td>\n",
       "    </tr>\n",
       "    <tr>\n",
       "      <th>3782</th>\n",
       "      <td>0439064864</td>\n",
       "      <td>Harry Potter and the Chamber of Secrets (Book 2)</td>\n",
       "      <td>J. K. Rowling</td>\n",
       "      <td>1999</td>\n",
       "      <td>Scholastic</td>\n",
       "      <td>In Harry Potter and the Chamber of Secrets, the summer after Harry’s\\nfirst year at Hogwarts has been his worst summer ever… the Dursleys\\nmore distant and horrible than ever before.</td>\n",
       "      <td>en</td>\n",
       "      <td>Juvenile Fiction</td>\n",
       "    </tr>\n",
       "    <tr>\n",
       "      <th>3787</th>\n",
       "      <td>0439136350</td>\n",
       "      <td>Harry Potter and the Prisoner of Azkaban (Book 3)</td>\n",
       "      <td>J. K. Rowling</td>\n",
       "      <td>1999</td>\n",
       "      <td>Scholastic</td>\n",
       "      <td>During his third year at Hogwarts School for witchcraft and wizardry,\\nHarry Potter must confront the devious and dangerous wizard\\nresponsable for his parents death.</td>\n",
       "      <td>en</td>\n",
       "      <td>Juvenile Fiction</td>\n",
       "    </tr>\n",
       "    <tr>\n",
       "      <th>3802</th>\n",
       "      <td>043935806X</td>\n",
       "      <td>Harry Potter and the Order of the Phoenix (Book 5)</td>\n",
       "      <td>J. K. Rowling</td>\n",
       "      <td>2003</td>\n",
       "      <td>Scholastic</td>\n",
       "      <td>Collects the complete series that relates the adventures of young\\nHarry Potter, who attends Hogwarts School of Witchcraft and Wizardry,\\nwhere he and others of his kind learn their craft.</td>\n",
       "      <td>en</td>\n",
       "      <td>Juvenile Fiction</td>\n",
       "    </tr>\n",
       "    <tr>\n",
       "      <th>4454</th>\n",
       "      <td>0446600253</td>\n",
       "      <td>Bless Me, Ultima</td>\n",
       "      <td>Rudolfo Anaya</td>\n",
       "      <td>1994</td>\n",
       "      <td>Warner Books</td>\n",
       "      <td>This coming-of-age classic and the bestselling Chicano novel of all\\ntime follows a young boy as he questions his faith and beliefs -- now\\none of PBS&amp;#39;s &amp;quot;100 Great American Reads.</td>\n",
       "      <td>en</td>\n",
       "      <td>Fiction</td>\n",
       "    </tr>\n",
       "    <tr>\n",
       "      <th>4544</th>\n",
       "      <td>0446611085</td>\n",
       "      <td>Suzanne's Diary for Nicholas</td>\n",
       "      <td>James Patterson</td>\n",
       "      <td>2003</td>\n",
       "      <td>Warner Books</td>\n",
       "      <td>Katie Wilkinson has finally found the perfect man - but one day he\\nsuddenly disappears, leaving behind only a diary written by a new\\nmother named Suzanne for her baby, Nicholas.</td>\n",
       "      <td>en</td>\n",
       "      <td>Fiction</td>\n",
       "    </tr>\n",
       "    <tr>\n",
       "      <th>6474</th>\n",
       "      <td>0590353403</td>\n",
       "      <td>Harry Potter and the Sorcerer's Stone (Book 1)</td>\n",
       "      <td>J. K. Rowling</td>\n",
       "      <td>1998</td>\n",
       "      <td>Scholastic</td>\n",
       "      <td>Rescued from the outrageous neglect of his aunt and uncle, a young boy\\nwith a great destiny proves his worth while attending Hogwarts School\\nof Witchcraft and Wizardry.</td>\n",
       "      <td>en</td>\n",
       "      <td>Juvenile Fiction</td>\n",
       "    </tr>\n",
       "    <tr>\n",
       "      <th>8977</th>\n",
       "      <td>0894716905</td>\n",
       "      <td>Five Minute Mysteries: 37 Challenging Cases of Murder and Mayhem for You to Solve</td>\n",
       "      <td>Ken Weber</td>\n",
       "      <td>1989</td>\n",
       "      <td>Running Press Book Publishers</td>\n",
       "      <td>Thirty-seven cases of murder and mayhem you can solve in under five\\nminutes!</td>\n",
       "      <td>en</td>\n",
       "      <td>Fiction</td>\n",
       "    </tr>\n",
       "    <tr>\n",
       "      <th>9268</th>\n",
       "      <td>1558746099</td>\n",
       "      <td>Chicken Soup for the Kid's Soul : 101 Stories of Courage, Hope and Laughter (Chicken Soup for the Soul (Paperback Health Communications))</td>\n",
       "      <td>Jack Canfield</td>\n",
       "      <td>1998</td>\n",
       "      <td>HCI</td>\n",
       "      <td>A collection of short stories, anecdotes, poems, and cartoons which\\npresent a positive outlook on life.</td>\n",
       "      <td>en</td>\n",
       "      <td>Juvenile Nonfiction</td>\n",
       "    </tr>\n",
       "  </tbody>\n",
       "</table>\n",
       "</div>"
      ],
      "text/plain": [
       "            isbn  \\\n",
       "131   0060248025   \n",
       "134   0060256672   \n",
       "3782  0439064864   \n",
       "3787  0439136350   \n",
       "3802  043935806X   \n",
       "4454  0446600253   \n",
       "4544  0446611085   \n",
       "6474  0590353403   \n",
       "8977  0894716905   \n",
       "9268  1558746099   \n",
       "\n",
       "                                                                                                                                     book_title  \\\n",
       "131                                                                                                                                  Falling Up   \n",
       "134                                                                                                Where the Sidewalk Ends : Poems and Drawings   \n",
       "3782                                                                                           Harry Potter and the Chamber of Secrets (Book 2)   \n",
       "3787                                                                                          Harry Potter and the Prisoner of Azkaban (Book 3)   \n",
       "3802                                                                                         Harry Potter and the Order of the Phoenix (Book 5)   \n",
       "4454                                                                                                                           Bless Me, Ultima   \n",
       "4544                                                                                                               Suzanne's Diary for Nicholas   \n",
       "6474                                                                                             Harry Potter and the Sorcerer's Stone (Book 1)   \n",
       "8977                                                          Five Minute Mysteries: 37 Challenging Cases of Murder and Mayhem for You to Solve   \n",
       "9268  Chicken Soup for the Kid's Soul : 101 Stories of Courage, Hope and Laughter (Chicken Soup for the Soul (Paperback Health Communications))   \n",
       "\n",
       "           book_author  year_of_publication                      publisher  \\\n",
       "131   Shel Silverstein                 1996                  HarperCollins   \n",
       "134   Shel Silverstein                 1974                  HarperCollins   \n",
       "3782     J. K. Rowling                 1999                     Scholastic   \n",
       "3787     J. K. Rowling                 1999                     Scholastic   \n",
       "3802     J. K. Rowling                 2003                     Scholastic   \n",
       "4454     Rudolfo Anaya                 1994                   Warner Books   \n",
       "4544   James Patterson                 2003                   Warner Books   \n",
       "6474     J. K. Rowling                 1998                     Scholastic   \n",
       "8977         Ken Weber                 1989  Running Press Book Publishers   \n",
       "9268     Jack Canfield                 1998                            HCI   \n",
       "\n",
       "                                                                                                                                                                                           Summary  \\\n",
       "131    Poor Screamin&#39; Millie is just one of the unforgettable characters\\nin this wondrous new book of poems and drawings by the creator of\\nWhere the Sidewalk Ends and A Light in the Attic.   \n",
       "134    If you are a dreamer, come in, If you are a dreamer, A wisher, a liar,\\nA hope-er, a pray-er, A magic bean buyer … Come in … for where the\\nsidewalk ends, Shel Silverstein’s world begins.   \n",
       "3782        In Harry Potter and the Chamber of Secrets, the summer after Harry’s\\nfirst year at Hogwarts has been his worst summer ever… the Dursleys\\nmore distant and horrible than ever before.   \n",
       "3787                        During his third year at Hogwarts School for witchcraft and wizardry,\\nHarry Potter must confront the devious and dangerous wizard\\nresponsable for his parents death.   \n",
       "3802  Collects the complete series that relates the adventures of young\\nHarry Potter, who attends Hogwarts School of Witchcraft and Wizardry,\\nwhere he and others of his kind learn their craft.   \n",
       "4454  This coming-of-age classic and the bestselling Chicano novel of all\\ntime follows a young boy as he questions his faith and beliefs -- now\\none of PBS&#39;s &quot;100 Great American Reads.   \n",
       "4544           Katie Wilkinson has finally found the perfect man - but one day he\\nsuddenly disappears, leaving behind only a diary written by a new\\nmother named Suzanne for her baby, Nicholas.   \n",
       "6474                    Rescued from the outrageous neglect of his aunt and uncle, a young boy\\nwith a great destiny proves his worth while attending Hogwarts School\\nof Witchcraft and Wizardry.   \n",
       "8977                                                                                                                 Thirty-seven cases of murder and mayhem you can solve in under five\\nminutes!   \n",
       "9268                                                                                      A collection of short stories, anecdotes, poems, and cartoons which\\npresent a positive outlook on life.   \n",
       "\n",
       "     Language             Category  \n",
       "131        en  Juvenile Nonfiction  \n",
       "134        en  Juvenile Nonfiction  \n",
       "3782       en     Juvenile Fiction  \n",
       "3787       en     Juvenile Fiction  \n",
       "3802       en     Juvenile Fiction  \n",
       "4454       en              Fiction  \n",
       "4544       en              Fiction  \n",
       "6474       en     Juvenile Fiction  \n",
       "8977       en              Fiction  \n",
       "9268       en  Juvenile Nonfiction  "
      ]
     },
     "execution_count": 48,
     "metadata": {},
     "output_type": "execute_result"
    }
   ],
   "source": [
    "df_books[df_books['isbn'].isin(recomm_books.isbn)]"
   ]
  },
  {
   "cell_type": "code",
   "execution_count": null,
   "id": "d73a46ca",
   "metadata": {},
   "outputs": [],
   "source": []
  },
  {
   "cell_type": "markdown",
   "id": "fcce1c94",
   "metadata": {},
   "source": [
    "### Train-Test"
   ]
  },
  {
   "cell_type": "code",
   "execution_count": 49,
   "id": "cd35c8c9",
   "metadata": {},
   "outputs": [],
   "source": [
    "from sklearn.model_selection import train_test_split"
   ]
  },
  {
   "cell_type": "code",
   "execution_count": 51,
   "id": "e9e6810f",
   "metadata": {},
   "outputs": [],
   "source": [
    "#Assign X as the original ratings dataframe and y as the user_id column of ratings.\n",
    "X = df[['user_id','rating','isbn']].copy()\n",
    "y = df['user_id']\n",
    "\n",
    "#Split into training and test datasets, stratified along user_id\n",
    "X_train, X_test, y_train, y_test = train_test_split(X, y, test_size = 0.25, stratify=y, random_state=42,)"
   ]
  },
  {
   "cell_type": "code",
   "execution_count": null,
   "id": "ccf481c4",
   "metadata": {},
   "outputs": [],
   "source": []
  },
  {
   "cell_type": "markdown",
   "id": "ab6656ef",
   "metadata": {},
   "source": [
    "### Baseline model"
   ]
  },
  {
   "cell_type": "code",
   "execution_count": 52,
   "id": "57f0825c",
   "metadata": {},
   "outputs": [],
   "source": [
    "#Define the baseline model to always return 5.\n",
    "def baseline(user_id, movie_id):\n",
    "    return 5.0"
   ]
  },
  {
   "cell_type": "code",
   "execution_count": 53,
   "id": "3c6bc9fd",
   "metadata": {},
   "outputs": [],
   "source": [
    "#Import the mean_squared_error function\n",
    "from sklearn.metrics import mean_squared_error\n",
    "\n",
    "#Function that computes the root mean squared error (or RMSE)\n",
    "def rmse(y_true, y_pred):\n",
    "    return np.sqrt(mean_squared_error(y_true, y_pred))"
   ]
  },
  {
   "cell_type": "code",
   "execution_count": 54,
   "id": "bfb7f40c",
   "metadata": {},
   "outputs": [],
   "source": [
    "#Function to compute the RMSE score obtained on the testing set by a model\n",
    "def score(model):\n",
    "    \n",
    "    #Construct a list of user-movie tuples from the testing dataset\n",
    "    id_pairs = zip(X_test['user_id'], X_test['isbn'])\n",
    "    \n",
    "    #Predict the rating for every user-movie tuple\n",
    "    y_pred = np.array([model(user, isbn) for (user, isbn) in id_pairs])\n",
    "    \n",
    "    #Extract the actual ratings given by the users in the test data\n",
    "    y_true = np.array(X_test['rating'])\n",
    "    \n",
    "    #Return the final RMSE score\n",
    "    return rmse(y_true, y_pred)"
   ]
  },
  {
   "cell_type": "code",
   "execution_count": 55,
   "id": "ad21fbdb",
   "metadata": {},
   "outputs": [
    {
     "data": {
      "text/plain": [
       "3.300412208091047"
      ]
     },
     "execution_count": 55,
     "metadata": {},
     "output_type": "execute_result"
    }
   ],
   "source": [
    "score(baseline)"
   ]
  },
  {
   "cell_type": "code",
   "execution_count": null,
   "id": "89561a47",
   "metadata": {},
   "outputs": [],
   "source": []
  },
  {
   "cell_type": "markdown",
   "id": "018d471a",
   "metadata": {},
   "source": [
    "### Mean"
   ]
  },
  {
   "cell_type": "code",
   "execution_count": 56,
   "id": "94dc6e1d",
   "metadata": {},
   "outputs": [],
   "source": [
    "#User Based Collaborative Filter using Mean Ratings\n",
    "def cf_user_mean(user_id, isbn):\n",
    "    \n",
    "    #Check if movie_id exists in r_matrix\n",
    "    if isbn in X:\n",
    "        #Compute the mean of all the ratings given to the movie\n",
    "        mean_rating = X[isbn].mean()\n",
    "    \n",
    "    else:\n",
    "        #Default to a rating of 5.0 in the absence of any information\n",
    "        mean_rating = 5.0\n",
    "    \n",
    "    return mean_rating"
   ]
  },
  {
   "cell_type": "code",
   "execution_count": 57,
   "id": "2f7d4a2b",
   "metadata": {},
   "outputs": [
    {
     "data": {
      "text/plain": [
       "3.300412208091047"
      ]
     },
     "execution_count": 57,
     "metadata": {},
     "output_type": "execute_result"
    }
   ],
   "source": [
    "score(cf_user_mean)"
   ]
  },
  {
   "cell_type": "code",
   "execution_count": null,
   "id": "da0c0727",
   "metadata": {},
   "outputs": [],
   "source": []
  },
  {
   "cell_type": "markdown",
   "id": "10b678c2",
   "metadata": {},
   "source": [
    "### Model Based"
   ]
  },
  {
   "cell_type": "code",
   "execution_count": null,
   "id": "e10b1d92",
   "metadata": {},
   "outputs": [],
   "source": []
  },
  {
   "cell_type": "code",
   "execution_count": 58,
   "id": "bd49d8a1",
   "metadata": {},
   "outputs": [
    {
     "data": {
      "text/html": [
       "<div>\n",
       "<style scoped>\n",
       "    .dataframe tbody tr th:only-of-type {\n",
       "        vertical-align: middle;\n",
       "    }\n",
       "\n",
       "    .dataframe tbody tr th {\n",
       "        vertical-align: top;\n",
       "    }\n",
       "\n",
       "    .dataframe thead th {\n",
       "        text-align: right;\n",
       "    }\n",
       "</style>\n",
       "<table border=\"1\" class=\"dataframe\">\n",
       "  <thead>\n",
       "    <tr style=\"text-align: right;\">\n",
       "      <th></th>\n",
       "      <th>user_id</th>\n",
       "      <th>isbn</th>\n",
       "      <th>rating</th>\n",
       "    </tr>\n",
       "  </thead>\n",
       "  <tbody>\n",
       "    <tr>\n",
       "      <th>0</th>\n",
       "      <td>116866</td>\n",
       "      <td>0002005018</td>\n",
       "      <td>9</td>\n",
       "    </tr>\n",
       "    <tr>\n",
       "      <th>1</th>\n",
       "      <td>219008</td>\n",
       "      <td>0002005018</td>\n",
       "      <td>7</td>\n",
       "    </tr>\n",
       "    <tr>\n",
       "      <th>2</th>\n",
       "      <td>263325</td>\n",
       "      <td>0002005018</td>\n",
       "      <td>6</td>\n",
       "    </tr>\n",
       "    <tr>\n",
       "      <th>3</th>\n",
       "      <td>35704</td>\n",
       "      <td>0374157065</td>\n",
       "      <td>6</td>\n",
       "    </tr>\n",
       "    <tr>\n",
       "      <th>4</th>\n",
       "      <td>110912</td>\n",
       "      <td>0374157065</td>\n",
       "      <td>10</td>\n",
       "    </tr>\n",
       "    <tr>\n",
       "      <th>...</th>\n",
       "      <td>...</td>\n",
       "      <td>...</td>\n",
       "      <td>...</td>\n",
       "    </tr>\n",
       "    <tr>\n",
       "      <th>70166</th>\n",
       "      <td>264082</td>\n",
       "      <td>0373706197</td>\n",
       "      <td>5</td>\n",
       "    </tr>\n",
       "    <tr>\n",
       "      <th>70167</th>\n",
       "      <td>147752</td>\n",
       "      <td>0671003119</td>\n",
       "      <td>7</td>\n",
       "    </tr>\n",
       "    <tr>\n",
       "      <th>70168</th>\n",
       "      <td>152186</td>\n",
       "      <td>0671003119</td>\n",
       "      <td>8</td>\n",
       "    </tr>\n",
       "    <tr>\n",
       "      <th>70169</th>\n",
       "      <td>201768</td>\n",
       "      <td>0671003119</td>\n",
       "      <td>10</td>\n",
       "    </tr>\n",
       "    <tr>\n",
       "      <th>70170</th>\n",
       "      <td>208829</td>\n",
       "      <td>0671003119</td>\n",
       "      <td>10</td>\n",
       "    </tr>\n",
       "  </tbody>\n",
       "</table>\n",
       "<p>70171 rows × 3 columns</p>\n",
       "</div>"
      ],
      "text/plain": [
       "       user_id        isbn  rating\n",
       "0       116866  0002005018       9\n",
       "1       219008  0002005018       7\n",
       "2       263325  0002005018       6\n",
       "3        35704  0374157065       6\n",
       "4       110912  0374157065      10\n",
       "...        ...         ...     ...\n",
       "70166   264082  0373706197       5\n",
       "70167   147752  0671003119       7\n",
       "70168   152186  0671003119       8\n",
       "70169   201768  0671003119      10\n",
       "70170   208829  0671003119      10\n",
       "\n",
       "[70171 rows x 3 columns]"
      ]
     },
     "execution_count": 58,
     "metadata": {},
     "output_type": "execute_result"
    }
   ],
   "source": [
    "rating_df"
   ]
  },
  {
   "cell_type": "code",
   "execution_count": 59,
   "id": "681edf0d",
   "metadata": {},
   "outputs": [
    {
     "data": {
      "text/plain": [
       "{'test_rmse': array([3.2923368 , 3.31342933, 3.29007507]),\n",
       " 'fit_time': (3.812502384185791, 3.5460686683654785, 3.7648727893829346),\n",
       " 'test_time': (0.19390082359313965, 0.3026456832885742, 0.315258264541626)}"
      ]
     },
     "execution_count": 59,
     "metadata": {},
     "output_type": "execute_result"
    }
   ],
   "source": [
    "#Import SVD\n",
    "from surprise import SVD, Dataset, Reader\n",
    "from surprise.model_selection import cross_validate\n",
    "\n",
    "reader = Reader()\n",
    "data = Dataset.load_from_df(rating_df, reader)\n",
    "\n",
    "#Define the SVD algorithm object\n",
    "svd = SVD()\n",
    "\n",
    "cross_validate(svd, data, cv=3, measures = ['rmse'])"
   ]
  },
  {
   "cell_type": "code",
   "execution_count": 60,
   "id": "d35c91ba",
   "metadata": {},
   "outputs": [
    {
     "data": {
      "text/plain": [
       "<surprise.prediction_algorithms.matrix_factorization.SVD at 0x1ea9ecc4cd0>"
      ]
     },
     "execution_count": 60,
     "metadata": {},
     "output_type": "execute_result"
    }
   ],
   "source": [
    "trainset = data.build_full_trainset()\n",
    "svd.fit(trainset)"
   ]
  },
  {
   "cell_type": "code",
   "execution_count": 61,
   "id": "00456aaf",
   "metadata": {},
   "outputs": [
    {
     "data": {
      "text/plain": [
       "Prediction(uid='11224', iid='1880418568', r_ui=None, est=5, details={'was_impossible': False})"
      ]
     },
     "execution_count": 61,
     "metadata": {},
     "output_type": "execute_result"
    }
   ],
   "source": [
    "svd.predict('11224','1880418568')"
   ]
  },
  {
   "cell_type": "markdown",
   "id": "708a417a",
   "metadata": {},
   "source": [
    "\n",
    "## Hybrid Recommenders"
   ]
  },
  {
   "cell_type": "markdown",
   "id": "a4a325a3",
   "metadata": {},
   "source": [
    "1. Use content-based to get the most similar books\n",
    "\n",
    "2. Compute the predicted ratings using a collaborative filter\n",
    "\n",
    "3. Return the top books with highest rating."
   ]
  },
  {
   "cell_type": "code",
   "execution_count": 62,
   "id": "247b89d4",
   "metadata": {},
   "outputs": [],
   "source": [
    "def hibridRecommender(userID, isbn):\n",
    "    \n",
    "    # Use the cosine-sim to get the first 30 books that most relevant.\n",
    "    sim_books = content_based_recommender(isbn, n=31) # sim_books is the list of book's index in df_book\n",
    "    predict_books = df_books.iloc[sim_books[1:]]\n",
    "        \n",
    "    predict_books['est'] = predict_books.isbn.apply(lambda x: svd.predict(userID, x).est)\n",
    "    \n",
    "    # Sort by 'est'\n",
    "    predict_books = predict_books.sort_values('est',ascending=False).iloc[:10]\n",
    "        \n",
    "    return predict_books"
   ]
  },
  {
   "cell_type": "code",
   "execution_count": 63,
   "id": "d59a0651",
   "metadata": {},
   "outputs": [
    {
     "name": "stderr",
     "output_type": "stream",
     "text": [
      "C:\\Users\\tnguyen\\AppData\\Local\\Temp\\ipykernel_21260\\789792437.py:7: SettingWithCopyWarning: \n",
      "A value is trying to be set on a copy of a slice from a DataFrame.\n",
      "Try using .loc[row_indexer,col_indexer] = value instead\n",
      "\n",
      "See the caveats in the documentation: https://pandas.pydata.org/pandas-docs/stable/user_guide/indexing.html#returning-a-view-versus-a-copy\n",
      "  predict_books['est'] = predict_books.isbn.apply(lambda x: svd.predict(userID, x).est)\n"
     ]
    }
   ],
   "source": [
    "temp = hibridRecommender('30533','0440234743')"
   ]
  },
  {
   "cell_type": "code",
   "execution_count": 64,
   "id": "0ddf0486",
   "metadata": {},
   "outputs": [
    {
     "data": {
      "text/html": [
       "<div>\n",
       "<style scoped>\n",
       "    .dataframe tbody tr th:only-of-type {\n",
       "        vertical-align: middle;\n",
       "    }\n",
       "\n",
       "    .dataframe tbody tr th {\n",
       "        vertical-align: top;\n",
       "    }\n",
       "\n",
       "    .dataframe thead th {\n",
       "        text-align: right;\n",
       "    }\n",
       "</style>\n",
       "<table border=\"1\" class=\"dataframe\">\n",
       "  <thead>\n",
       "    <tr style=\"text-align: right;\">\n",
       "      <th></th>\n",
       "      <th>isbn</th>\n",
       "      <th>book_title</th>\n",
       "      <th>book_author</th>\n",
       "      <th>year_of_publication</th>\n",
       "      <th>publisher</th>\n",
       "      <th>Summary</th>\n",
       "      <th>Language</th>\n",
       "      <th>Category</th>\n",
       "      <th>est</th>\n",
       "    </tr>\n",
       "  </thead>\n",
       "  <tbody>\n",
       "    <tr>\n",
       "      <th>3054</th>\n",
       "      <td>0385493800</td>\n",
       "      <td>The Testament</td>\n",
       "      <td>John Grisham</td>\n",
       "      <td>1999</td>\n",
       "      <td>Doubleday Books</td>\n",
       "      <td>A suicidal billionaire, a burnt-out Washington litigator, and a woman\\nwho has forsaken technology to work in the wilds of Brazil are all\\nbrought together by an astounding mystery of the testament</td>\n",
       "      <td>en</td>\n",
       "      <td>Fiction</td>\n",
       "      <td>5</td>\n",
       "    </tr>\n",
       "    <tr>\n",
       "      <th>3922</th>\n",
       "      <td>0440211727</td>\n",
       "      <td>A Time to Kill</td>\n",
       "      <td>JOHN GRISHAM</td>\n",
       "      <td>1992</td>\n",
       "      <td>Dell</td>\n",
       "      <td>Here is the Story that Introduced Readers to this Unforgettable Place\\nand the People Who Live There, in One of his Most Beloved Novels...\\nThe life of a ten-year-old girl is shattered by two drunken and\\nremorseless young men.</td>\n",
       "      <td>en</td>\n",
       "      <td>Fiction</td>\n",
       "      <td>5</td>\n",
       "    </tr>\n",
       "    <tr>\n",
       "      <th>3097</th>\n",
       "      <td>0385511612</td>\n",
       "      <td>Bleachers</td>\n",
       "      <td>John Grisham</td>\n",
       "      <td>2003</td>\n",
       "      <td>Doubleday</td>\n",
       "      <td>From the best-selling author of The Painted House, Skipping Christmas,\\nand The Firm comes a nostalgic novel about high school football in a\\nsmall Texas town, a place in which football has become a religion.\\n2,000,000 first printing.</td>\n",
       "      <td>en</td>\n",
       "      <td>Fiction</td>\n",
       "      <td>5</td>\n",
       "    </tr>\n",
       "    <tr>\n",
       "      <th>4138</th>\n",
       "      <td>0440351626</td>\n",
       "      <td>The Magus</td>\n",
       "      <td>John Fowles</td>\n",
       "      <td>1985</td>\n",
       "      <td>Dell Publishing Company</td>\n",
       "      <td>A controlling millionaire plays mind games with the teacher recently\\nhired to teach on a small Greek island.</td>\n",
       "      <td>en</td>\n",
       "      <td>Fiction</td>\n",
       "      <td>5</td>\n",
       "    </tr>\n",
       "    <tr>\n",
       "      <th>4117</th>\n",
       "      <td>044023722X</td>\n",
       "      <td>A Painted House</td>\n",
       "      <td>John Grisham</td>\n",
       "      <td>2001</td>\n",
       "      <td>Dell Publishing Company</td>\n",
       "      <td>Racial tension, a forbidden love affair, and murder are seen through\\nthe eyes of a seven-year-old boy in a 1950s Southern cotton-farming\\ncommunity.</td>\n",
       "      <td>en</td>\n",
       "      <td>Fiction</td>\n",
       "      <td>5</td>\n",
       "    </tr>\n",
       "    <tr>\n",
       "      <th>4031</th>\n",
       "      <td>0440224624</td>\n",
       "      <td>The Loop</td>\n",
       "      <td>Nicholas Evans</td>\n",
       "      <td>1999</td>\n",
       "      <td>Dell Publishing Company</td>\n",
       "      <td>The author of the number-one best-seller, The Horse Whisperer,\\nnarrates the story of a biologist who struggles to protect endangered\\nwolves and her love affair with the son of her most powerful opponent,\\na local rancher. Reprint.</td>\n",
       "      <td>en</td>\n",
       "      <td>Fiction</td>\n",
       "      <td>5</td>\n",
       "    </tr>\n",
       "    <tr>\n",
       "      <th>3913</th>\n",
       "      <td>0440209862</td>\n",
       "      <td>The Vig</td>\n",
       "      <td>John T. Lescroart</td>\n",
       "      <td>1992</td>\n",
       "      <td>Dell Publishing Company</td>\n",
       "      <td>Former police officer and prosecutor Dismas Hardy must match wits and\\nbullets with killers and conmen on both sides of the law in search of\\nthe truth behind a friend&amp;#39;s disappearance--a man who owed money to\\nthe mafia. Reprint.</td>\n",
       "      <td>en</td>\n",
       "      <td>Fiction</td>\n",
       "      <td>5</td>\n",
       "    </tr>\n",
       "    <tr>\n",
       "      <th>3823</th>\n",
       "      <td>0440118700</td>\n",
       "      <td>Cry for the Strangers</td>\n",
       "      <td>John Saul</td>\n",
       "      <td>1986</td>\n",
       "      <td>Dell</td>\n",
       "      <td>A family of outsiders settles in the small, close-knit coastal village\\nof Clark&amp;#39;s Harbor and is suddenly plagued by strange deaths and\\nfearful visions, leading them to believe sinister forces are at work.</td>\n",
       "      <td>en</td>\n",
       "      <td>Fiction</td>\n",
       "      <td>5</td>\n",
       "    </tr>\n",
       "    <tr>\n",
       "      <th>3818</th>\n",
       "      <td>0440114756</td>\n",
       "      <td>Comes the Blind Fury</td>\n",
       "      <td>John Saul</td>\n",
       "      <td>1990</td>\n",
       "      <td>Dell</td>\n",
       "      <td>A blind girl led to her death by taunting children a hundred years\\nago, Amanda&amp;#39;s ghost returns to use Michele Pendleton to exact her\\nrevenge.</td>\n",
       "      <td>en</td>\n",
       "      <td>Fiction</td>\n",
       "      <td>5</td>\n",
       "    </tr>\n",
       "    <tr>\n",
       "      <th>3041</th>\n",
       "      <td>0385490992</td>\n",
       "      <td>The Street Lawyer</td>\n",
       "      <td>John Grisham</td>\n",
       "      <td>1998</td>\n",
       "      <td>Doubleday Books</td>\n",
       "      <td>After a violent encouanter with a homeless man, talented corporate\\nlawyer Michael finds himself out on the streets, lucky to be alive,\\nand holding a top-secret file belonging to his former employer</td>\n",
       "      <td>en</td>\n",
       "      <td>Fiction</td>\n",
       "      <td>5</td>\n",
       "    </tr>\n",
       "  </tbody>\n",
       "</table>\n",
       "</div>"
      ],
      "text/plain": [
       "            isbn             book_title        book_author  \\\n",
       "3054  0385493800          The Testament       John Grisham   \n",
       "3922  0440211727         A Time to Kill       JOHN GRISHAM   \n",
       "3097  0385511612              Bleachers       John Grisham   \n",
       "4138  0440351626              The Magus        John Fowles   \n",
       "4117  044023722X        A Painted House       John Grisham   \n",
       "4031  0440224624               The Loop     Nicholas Evans   \n",
       "3913  0440209862                The Vig  John T. Lescroart   \n",
       "3823  0440118700  Cry for the Strangers          John Saul   \n",
       "3818  0440114756   Comes the Blind Fury          John Saul   \n",
       "3041  0385490992      The Street Lawyer       John Grisham   \n",
       "\n",
       "      year_of_publication                publisher  \\\n",
       "3054                 1999          Doubleday Books   \n",
       "3922                 1992                     Dell   \n",
       "3097                 2003                Doubleday   \n",
       "4138                 1985  Dell Publishing Company   \n",
       "4117                 2001  Dell Publishing Company   \n",
       "4031                 1999  Dell Publishing Company   \n",
       "3913                 1992  Dell Publishing Company   \n",
       "3823                 1986                     Dell   \n",
       "3818                 1990                     Dell   \n",
       "3041                 1998          Doubleday Books   \n",
       "\n",
       "                                                                                                                                                                                                                                          Summary  \\\n",
       "3054                                        A suicidal billionaire, a burnt-out Washington litigator, and a woman\\nwho has forsaken technology to work in the wilds of Brazil are all\\nbrought together by an astounding mystery of the testament   \n",
       "3922          Here is the Story that Introduced Readers to this Unforgettable Place\\nand the People Who Live There, in One of his Most Beloved Novels...\\nThe life of a ten-year-old girl is shattered by two drunken and\\nremorseless young men.   \n",
       "3097  From the best-selling author of The Painted House, Skipping Christmas,\\nand The Firm comes a nostalgic novel about high school football in a\\nsmall Texas town, a place in which football has become a religion.\\n2,000,000 first printing.   \n",
       "4138                                                                                                                                A controlling millionaire plays mind games with the teacher recently\\nhired to teach on a small Greek island.   \n",
       "4117                                                                                        Racial tension, a forbidden love affair, and murder are seen through\\nthe eyes of a seven-year-old boy in a 1950s Southern cotton-farming\\ncommunity.   \n",
       "4031     The author of the number-one best-seller, The Horse Whisperer,\\nnarrates the story of a biologist who struggles to protect endangered\\nwolves and her love affair with the son of her most powerful opponent,\\na local rancher. Reprint.   \n",
       "3913    Former police officer and prosecutor Dismas Hardy must match wits and\\nbullets with killers and conmen on both sides of the law in search of\\nthe truth behind a friend&#39;s disappearance--a man who owed money to\\nthe mafia. Reprint.   \n",
       "3823                           A family of outsiders settles in the small, close-knit coastal village\\nof Clark&#39;s Harbor and is suddenly plagued by strange deaths and\\nfearful visions, leading them to believe sinister forces are at work.   \n",
       "3818                                                                                          A blind girl led to her death by taunting children a hundred years\\nago, Amanda&#39;s ghost returns to use Michele Pendleton to exact her\\nrevenge.   \n",
       "3041                                      After a violent encouanter with a homeless man, talented corporate\\nlawyer Michael finds himself out on the streets, lucky to be alive,\\nand holding a top-secret file belonging to his former employer   \n",
       "\n",
       "     Language Category  est  \n",
       "3054       en  Fiction    5  \n",
       "3922       en  Fiction    5  \n",
       "3097       en  Fiction    5  \n",
       "4138       en  Fiction    5  \n",
       "4117       en  Fiction    5  \n",
       "4031       en  Fiction    5  \n",
       "3913       en  Fiction    5  \n",
       "3823       en  Fiction    5  \n",
       "3818       en  Fiction    5  \n",
       "3041       en  Fiction    5  "
      ]
     },
     "execution_count": 64,
     "metadata": {},
     "output_type": "execute_result"
    }
   ],
   "source": [
    "temp"
   ]
  },
  {
   "cell_type": "code",
   "execution_count": null,
   "id": "328794a6",
   "metadata": {},
   "outputs": [],
   "source": []
  }
 ],
 "metadata": {
  "kernelspec": {
   "display_name": "Python 3 (ipykernel)",
   "language": "python",
   "name": "python3"
  },
  "language_info": {
   "codemirror_mode": {
    "name": "ipython",
    "version": 3
   },
   "file_extension": ".py",
   "mimetype": "text/x-python",
   "name": "python",
   "nbconvert_exporter": "python",
   "pygments_lexer": "ipython3",
   "version": "3.9.12"
  }
 },
 "nbformat": 4,
 "nbformat_minor": 5
}
