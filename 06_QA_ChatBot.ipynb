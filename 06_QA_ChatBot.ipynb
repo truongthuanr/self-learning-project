{
  "nbformat": 4,
  "nbformat_minor": 0,
  "metadata": {
    "colab": {
      "name": "06_QA_ChatBot.ipynb",
      "provenance": [],
      "authorship_tag": "ABX9TyObjD+ZfcvjX2HjNHPqf3uh",
      "include_colab_link": true
    },
    "kernelspec": {
      "name": "python3",
      "display_name": "Python 3"
    },
    "language_info": {
      "name": "python"
    }
  },
  "cells": [
    {
      "cell_type": "markdown",
      "metadata": {
        "id": "view-in-github",
        "colab_type": "text"
      },
      "source": [
        "<a href=\"https://colab.research.google.com/github/truongthuanr/self-project/blob/main/06_QA_ChatBot.ipynb\" target=\"_parent\"><img src=\"https://colab.research.google.com/assets/colab-badge.svg\" alt=\"Open In Colab\"/></a>"
      ]
    },
    {
      "cell_type": "markdown",
      "metadata": {
        "id": "hmqEJ03IWNW6"
      },
      "source": [
        "# Information"
      ]
    },
    {
      "cell_type": "markdown",
      "metadata": {
        "id": "26q629jLUKIr"
      },
      "source": [
        "Reference: \n",
        "* [End-To-End Memory Networks](https://arxiv.org/pdf/1503.08895.pdf)"
      ]
    },
    {
      "cell_type": "code",
      "metadata": {
        "id": "z1Ie4ox6WO1C"
      },
      "source": [
        ""
      ],
      "execution_count": null,
      "outputs": []
    }
  ]
}